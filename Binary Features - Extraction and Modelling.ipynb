{
 "cells": [
  {
   "cell_type": "code",
   "execution_count": 1,
   "metadata": {},
   "outputs": [
    {
     "name": "stderr",
     "output_type": "stream",
     "text": [
      "Using TensorFlow backend.\n"
     ]
    }
   ],
   "source": [
    "#imports\n",
    "import os\n",
    "from os import listdir\n",
    "from os.path import isfile, join\n",
    "from pydub import AudioSegment, silence\n",
    "from pydub.silence import split_on_silence\n",
    "from pydub.playback import play\n",
    "import librosa\n",
    "import pandas as pd\n",
    "import numpy as np\n",
    "import matplotlib.pyplot as plt\n",
    "import librosa.display\n",
    "import datetime\n",
    "from sklearn.model_selection import train_test_split\n",
    "from sklearn.svm import SVC\n",
    "from sklearn.model_selection import KFold, ShuffleSplit\n",
    "from sklearn.model_selection import cross_val_score\n",
    "from sklearn.ensemble import ExtraTreesClassifier\n",
    "from sklearn.preprocessing import MinMaxScaler\n",
    "from sklearn.model_selection import cross_val_score, cross_validate\n",
    "from sklearn.model_selection import StratifiedKFold\n",
    "from sklearn.model_selection import GridSearchCV\n",
    "\n",
    "import keras\n",
    "from keras.models import Model\n",
    "from keras.models import Sequential\n",
    "from keras.layers import Dense, Conv1D , MaxPool1D , Flatten , Dropout, Activation, BatchNormalization, MaxPooling1D\n",
    "from keras.preprocessing.image import ImageDataGenerator\n",
    "from keras.optimizers import Adam\n",
    "from keras.callbacks import TensorBoard\n",
    "from keras.optimizers import SGD, RMSprop\n",
    "from keras.optimizers import schedules\n",
    "import time\n",
    "\n",
    "import warnings\n",
    "warnings.filterwarnings(\"ignore\")\n",
    "\n",
    "# pd.set_option('expand_frame_repr', False)\n",
    "# pd.set_option('display.max_columns', None)\n",
    "pd.reset_option('max_columns')"
   ]
  },
  {
   "cell_type": "markdown",
   "metadata": {},
   "source": [
    "#### Reading and Processing Audio File"
   ]
  },
  {
   "cell_type": "code",
   "execution_count": 2,
   "metadata": {},
   "outputs": [
    {
     "name": "stdout",
     "output_type": "stream",
     "text": [
      "/home/akshayrauthan0806/Research - PD\n"
     ]
    }
   ],
   "source": [
    "current_directory = os.getcwd()\n",
    "print(current_directory)"
   ]
  },
  {
   "cell_type": "code",
   "execution_count": 3,
   "metadata": {},
   "outputs": [],
   "source": [
    "def create_Folder_Str(parentDir):\n",
    "    \n",
    "    # get the current working directory\n",
    "    current_directory = os.getcwd()\n",
    "    print(current_directory)\n",
    "\n",
    "    # chunks directory\n",
    "    parent_directory = current_directory + \"/\" + parentDir\n",
    "    parent_read_directory = parent_directory + \"/\" + \"Read Text\"\n",
    "    parent_read_hc_directory = parent_read_directory + \"/\" + \"HC\"\n",
    "    parent_read_pd_directory = parent_read_directory + \"/\" + \"PD\"\n",
    "    parent_sp_directory = parent_directory + \"/\" + \"Spontaneous\"\n",
    "    parent_sp_hc_directory = parent_sp_directory + \"/\" + \"HC\"\n",
    "    parent_sp_pd_directory = parent_sp_directory + \"/\" + \"PD\"\n",
    "\n",
    "\n",
    "    # creating forlder for chunks.\n",
    "    MYDIR = (parentDir)\n",
    "    CHECK_FOLDER = os.path.isdir(MYDIR)\n",
    "\n",
    "    # If folder doesn't exist, then create it.\n",
    "    if not CHECK_FOLDER:\n",
    "        #os.makedirs(MYDIR)\n",
    "        os.makedirs(os.path.join(parentDir, 'Read Text', 'HC'))\n",
    "        os.chdir(parent_read_directory)\n",
    "        os.makedirs('PD')\n",
    "        os.chdir(parent_directory)\n",
    "        os.makedirs(os.path.join('Spontaneous', 'HC'))\n",
    "        os.chdir(parent_sp_directory)\n",
    "        os.makedirs('PD')\n",
    "        os.chdir(current_directory)\n",
    "        print(\"Folders Created\")\n",
    "    else:\n",
    "        print(MYDIR, \"folder already exists.\")"
   ]
  },
  {
   "cell_type": "code",
   "execution_count": 4,
   "metadata": {},
   "outputs": [
    {
     "name": "stdout",
     "output_type": "stream",
     "text": [
      "/home/akshayrauthan0806/Research - PD\n",
      "Chunks folder already exists.\n",
      "/home/akshayrauthan0806/Research - PD\n",
      "ProcessedAudio folder already exists.\n"
     ]
    }
   ],
   "source": [
    "# call to create folders for initial filtered chunks & noise reduced audios \n",
    "create_Folder_Str('Chunks')\n",
    "create_Folder_Str('ProcessedAudio')"
   ]
  },
  {
   "cell_type": "code",
   "execution_count": 5,
   "metadata": {},
   "outputs": [],
   "source": [
    "def sound_properties(sound):\n",
    "    \n",
    "    #loudness\n",
    "    loudness = sound.dBFS\n",
    "    \n",
    "    #number of frames in sound\n",
    "    number_of_frames_in_sound = sound.frame_count()\n",
    "    \n",
    "    #number of frames in .5 secs\n",
    "    number_of_frames_in_200ms_of_sound = sound.frame_count(ms=500)\n",
    "    \n",
    "    #nummber of frames in 1 milliseconds    \n",
    "    number_of_frames_in_1ms_of_sound = sound.frame_count(ms=1)\n",
    "    \n",
    "    #frame rate\n",
    "    frame_rate = sound.frame_rate\n",
    "    \n",
    "    #number of channels\n",
    "    num_of_channels = sound.channels\n",
    "    \n",
    "    #number of bytes per sample\n",
    "    sample_width = sound.sample_width\n",
    "    \n",
    "    #max amplitude\n",
    "    max_amplitude = sound.max\n",
    "    \n",
    "#     print(loudness, number_of_frames_in_sound, number_of_frames_in_200ms_of_sound, number_of_frames_in_1ms_of_sound)\n",
    "    print(\"Loudness - \", loudness )\n",
    "    print(\"Frame Count - \", number_of_frames_in_sound)\n",
    "    print(\"Frame Rate - \", frame_rate)\n",
    "    print(\"Channels - \", num_of_channels)\n",
    "    print(\"Sample Width - \", sample_width)\n",
    "    print(\"Max Amplitude - \", max_amplitude)"
   ]
  },
  {
   "cell_type": "code",
   "execution_count": 60,
   "metadata": {},
   "outputs": [
    {
     "name": "stdout",
     "output_type": "stream",
     "text": [
      "Loudness -  -34.69384996746698\n",
      "Frame Count -  5099326.0\n",
      "Frame Rate -  44100\n",
      "Channels -  1\n",
      "Sample Width -  4\n",
      "Max Amplitude -  539295489\n"
     ]
    }
   ],
   "source": [
    "# read a sample audio file and print basic properties\n",
    "# sound = AudioSegment.from_wav(\"./ProcessedAudio/Read Text/PD/ID02_pd_2_0_0.wav\")\n",
    "# sound_properties(sound)"
   ]
  },
  {
   "cell_type": "code",
   "execution_count": 61,
   "metadata": {},
   "outputs": [],
   "source": [
    "# def loadAudio(soundPath):\n",
    "#     x, sr = librosa.load(soundPath)\n",
    "#     return x, sr"
   ]
  },
  {
   "cell_type": "code",
   "execution_count": 65,
   "metadata": {},
   "outputs": [],
   "source": [
    "# def disaplayWavePlot(x, sr):\n",
    "#     %matplotlib inline\n",
    "#     plt.figure(figsize=(14,5))\n",
    "#     plt.title(\"Wave Plot\")\n",
    "#     # plt.figure(dpi=800)\n",
    "#     plt.rcParams[\"figure.dpi\"]=300\n",
    "#     librosa.display.waveplot(x, sr)"
   ]
  },
  {
   "cell_type": "code",
   "execution_count": 67,
   "metadata": {},
   "outputs": [],
   "source": [
    "# def displaySpectrogram(x, sr):\n",
    "#     X = librosa.stft(x)\n",
    "#     Xdb = librosa.amplitude_to_db(abs(X))\n",
    "#     plt.figure(figsize=(14,5))\n",
    "#     plt.rcParams[\"figure.dpi\"]=300\n",
    "#     librosa.display.specshow(Xdb, sr=sr, x_axis='time', y_axis='hz')\n",
    "#     plt.title(\"Spectrogram\")\n",
    "#     plt.colorbar()"
   ]
  },
  {
   "cell_type": "code",
   "execution_count": 71,
   "metadata": {},
   "outputs": [
    {
     "data": {
      "image/png": "[encoded data removed]",
      "text/plain": [
       "<Figure size 4200x1500 with 2 Axes>"
      ]
     },
     "metadata": {
      "needs_background": "light"
     },
     "output_type": "display_data"
    }
   ],
   "source": [
    "# #plot the wave and spectrogram\n",
    "# #load audio using librosa\n",
    "# # x, sr = librosa.load(\"./Voice Samples/Read Text/PD/ID02_pd_2_0_0.wav\")\n",
    "# # x, sr = loadAudio(\"./Voice Samples/Read Text/PD/ID02_pd_2_0_0.wav\"\n",
    "# x, sr = loadAudio(\"./Spectograms/Read Text/PD/Audio/ID02_1_1283.wav\")\n",
    "# # disaplayWavePlot(x, sr)\n",
    "# displaySpectrogram(x, sr)"
   ]
  },
  {
   "cell_type": "code",
   "execution_count": 6,
   "metadata": {},
   "outputs": [],
   "source": [
    "def getDir(type_of_text, parentDir):\n",
    "    current_directory = os.getcwd()\n",
    "    parent_directory = current_directory + \"/\" + parentDir\n",
    "    parent_read_directory = parent_directory + \"/\" + \"Read Text\"\n",
    "    parent_read_hc_directory = parent_read_directory + \"/\" + \"HC\"\n",
    "    parent_read_pd_directory = parent_read_directory + \"/\" + \"PD\"\n",
    "    parent_sp_directory = parent_directory + \"/\" + \"Spontaneous\"\n",
    "    parent_sp_hc_directory = parent_sp_directory + \"/\" + \"HC\"\n",
    "    parent_sp_pd_directory = parent_sp_directory + \"/\" + \"PD\"\n",
    "    \n",
    "    return {\n",
    "        'ReadText_HC': parent_read_hc_directory,\n",
    "        'ReadText_PD': parent_read_pd_directory,\n",
    "        'Spontaneous_HC': parent_sp_hc_directory,\n",
    "        'Spontaneous_PD': parent_sp_pd_directory,\n",
    "    }[type_of_text]"
   ]
  },
  {
   "cell_type": "code",
   "execution_count": 7,
   "metadata": {},
   "outputs": [],
   "source": [
    "def chunk_sound(filePath, type_of_text, parentDir):\n",
    "    current_directory = os.getcwd()    \n",
    "    \n",
    "    files = [f for f in listdir(filePath) if isfile(join(filePath, f))]    \n",
    "    \n",
    "    destination_folder = getDir(type_of_text, parentDir)    \n",
    "\n",
    "    cnt=0\n",
    "    for file in files:\n",
    "        os.chdir(current_directory)\n",
    "        soundpath = filePath + \"/\" + file\n",
    "#         soundpath = os.path.join(filePath, file)\n",
    "        print(soundpath)\n",
    "#         sound = AudioSegment.from_file(soundpath)\n",
    "        sound = AudioSegment.from_wav(soundpath)\n",
    "    \n",
    "        os.chdir(destination_folder)\n",
    "        \n",
    "        sound_folder = file.split('.')[0]\n",
    "        check_file_folder = os.path.isdir(sound_folder)\n",
    "        \n",
    "        if check_file_folder:\n",
    "            print(\"Folder already exists\")\n",
    "        else:\n",
    "            os.makedirs(sound_folder)\n",
    "            print(\"Folder created - \", sound_folder)\n",
    "        \n",
    "        working_folder = destination_folder+\"/\"+sound_folder\n",
    "        \n",
    "        os.chdir(working_folder)\n",
    "        \n",
    "        #printing sound properties\n",
    "        sound_properties(sound)\n",
    "        \n",
    "        #get the chunks by splitting on silence of 500ms and threshold of -53\n",
    "        chunks = split_on_silence(sound, min_silence_len = 500, silence_thresh = -53)\n",
    "        complete_audio = None\n",
    "        \n",
    "        for i, chunk in enumerate(chunks):\n",
    "            chunk_name = \"chunk{0}.wav\".format(i)\n",
    "            chunk.export(chunk_name, format=\"wav\")\n",
    "            if complete_audio:\n",
    "                complete_audio = complete_audio + chunk\n",
    "            else:\n",
    "                complete_audio = chunk\n",
    "            \n",
    "        os.chdir(current_directory)\n",
    "        \n",
    "        save_processed_audio(complete_audio, type_of_text, file)\n",
    "        \n",
    "#         os.chdir(destination_folder)\n",
    "        \n",
    "    os.chdir(current_directory)"
   ]
  },
  {
   "cell_type": "code",
   "execution_count": 8,
   "metadata": {},
   "outputs": [],
   "source": [
    "def save_processed_audio(processedAudio, type_of_text, file):\n",
    "    destination_folder = getDir(type_of_text, 'ProcessedAudio')\n",
    "    print(destination_folder)\n",
    "    \n",
    "    os.chdir(destination_folder)\n",
    "    processedAudio.export(file, format=\"wav\")"
   ]
  },
  {
   "cell_type": "markdown",
   "metadata": {},
   "source": [
    "###### Chunking sound based on silence to cut off all the background noises"
   ]
  },
  {
   "cell_type": "code",
   "execution_count": 9,
   "metadata": {
    "scrolled": true
   },
   "outputs": [
    {
     "name": "stdout",
     "output_type": "stream",
     "text": [
      "./Voice Samples/Read Text/HC/ID05_hc_0_0_0.wav\n",
      "Folder already exists\n",
      "-38.61543057469739 4891877.0 8820.0 44.1\n",
      "/home/akshayrauthan0806/Research - PD/ProcessedAudio/Read Text/HC\n",
      "./Voice Samples/Read Text/HC/ID35_hc_0_0_0.wav\n",
      "Folder already exists\n",
      "-39.951424948130416 4111804.0 8820.0 44.1\n",
      "/home/akshayrauthan0806/Research - PD/ProcessedAudio/Read Text/HC\n",
      "./Voice Samples/Read Text/HC/ID26_hc_0_0_0.wav\n",
      "Folder already exists\n",
      "-40.19153905580496 6779966.0 8820.0 44.1\n"
     ]
    },
    {
     "name": "stderr",
     "output_type": "stream",
     "text": [
      "ERROR:root:Internal Python error in the inspect module.\n",
      "Below is the traceback from this internal error.\n",
      "\n"
     ]
    },
    {
     "name": "stdout",
     "output_type": "stream",
     "text": [
      "Traceback (most recent call last):\n",
      "  File \"/opt/conda/lib/python3.7/site-packages/IPython/core/interactiveshell.py\", line 3441, in run_code\n",
      "    exec(code_obj, self.user_global_ns, self.user_ns)\n",
      "  File \"<ipython-input-9-7cc82c593fed>\", line 6, in <module>\n",
      "    chunk_sound(\"./Voice Samples/Read Text/HC\", \"ReadText_HC\", \"Chunks\")\n",
      "  File \"<ipython-input-7-d91059ab5b76>\", line 43, in chunk_sound\n",
      "    chunks = split_on_silence(sound, min_silence_len = 500, silence_thresh = -53)\n",
      "  File \"/opt/conda/lib/python3.7/site-packages/pydub/silence.py\", line 150, in split_on_silence\n",
      "    in detect_nonsilent(audio_segment, min_silence_len, silence_thresh, seek_step)\n",
      "  File \"/opt/conda/lib/python3.7/site-packages/pydub/silence.py\", line 86, in detect_nonsilent\n",
      "    silent_ranges = detect_silence(audio_segment, min_silence_len, silence_thresh, seek_step)\n",
      "  File \"/opt/conda/lib/python3.7/site-packages/pydub/silence.py\", line 43, in detect_silence\n",
      "    if audio_slice.rms <= silence_thresh:\n",
      "  File \"/opt/conda/lib/python3.7/site-packages/pydub/audio_segment.py\", line 1086, in rms\n",
      "    return audioop.rms(self._data, self.sample_width)\n",
      "KeyboardInterrupt\n",
      "\n",
      "During handling of the above exception, another exception occurred:\n",
      "\n",
      "Traceback (most recent call last):\n",
      "  File \"/opt/conda/lib/python3.7/site-packages/IPython/core/interactiveshell.py\", line 2061, in showtraceback\n",
      "    stb = value._render_traceback_()\n",
      "AttributeError: 'KeyboardInterrupt' object has no attribute '_render_traceback_'\n",
      "\n",
      "During handling of the above exception, another exception occurred:\n",
      "\n",
      "Traceback (most recent call last):\n",
      "  File \"/opt/conda/lib/python3.7/site-packages/IPython/core/ultratb.py\", line 1101, in get_records\n",
      "    return _fixed_getinnerframes(etb, number_of_lines_of_context, tb_offset)\n",
      "  File \"/opt/conda/lib/python3.7/site-packages/IPython/core/ultratb.py\", line 248, in wrapped\n",
      "    return f(*args, **kwargs)\n",
      "  File \"/opt/conda/lib/python3.7/site-packages/IPython/core/ultratb.py\", line 281, in _fixed_getinnerframes\n",
      "    records = fix_frame_records_filenames(inspect.getinnerframes(etb, context))\n",
      "  File \"/opt/conda/lib/python3.7/inspect.py\", line 1502, in getinnerframes\n",
      "    frameinfo = (tb.tb_frame,) + getframeinfo(tb, context)\n",
      "  File \"/opt/conda/lib/python3.7/inspect.py\", line 1460, in getframeinfo\n",
      "    filename = getsourcefile(frame) or getfile(frame)\n",
      "  File \"/opt/conda/lib/python3.7/inspect.py\", line 696, in getsourcefile\n",
      "    if getattr(getmodule(object, filename), '__loader__', None) is not None:\n",
      "  File \"/opt/conda/lib/python3.7/inspect.py\", line 742, in getmodule\n",
      "    os.path.realpath(f)] = module.__name__\n",
      "  File \"/opt/conda/lib/python3.7/posixpath.py\", line 395, in realpath\n",
      "    path, ok = _joinrealpath(filename[:0], filename, {})\n",
      "  File \"/opt/conda/lib/python3.7/posixpath.py\", line 429, in _joinrealpath\n",
      "    if not islink(newpath):\n",
      "  File \"/opt/conda/lib/python3.7/posixpath.py\", line 171, in islink\n",
      "    st = os.lstat(path)\n",
      "KeyboardInterrupt\n"
     ]
    },
    {
     "ename": "TypeError",
     "evalue": "object of type 'NoneType' has no len()",
     "output_type": "error",
     "traceback": [
      "\u001b[0;31m---------------------------------------------------------------------------\u001b[0m",
      "\u001b[0;31mKeyboardInterrupt\u001b[0m                         Traceback (most recent call last)",
      "    \u001b[0;31m[... skipping hidden 1 frame]\u001b[0m\n",
      "\u001b[0;32m<ipython-input-9-7cc82c593fed>\u001b[0m in \u001b[0;36m<module>\u001b[0;34m\u001b[0m\n\u001b[1;32m      5\u001b[0m \u001b[0;34m\u001b[0m\u001b[0m\n\u001b[0;32m----> 6\u001b[0;31m \u001b[0mchunk_sound\u001b[0m\u001b[0;34m(\u001b[0m\u001b[0;34m\"./Voice Samples/Read Text/HC\"\u001b[0m\u001b[0;34m,\u001b[0m \u001b[0;34m\"ReadText_HC\"\u001b[0m\u001b[0;34m,\u001b[0m \u001b[0;34m\"Chunks\"\u001b[0m\u001b[0;34m)\u001b[0m\u001b[0;34m\u001b[0m\u001b[0;34m\u001b[0m\u001b[0m\n\u001b[0m\u001b[1;32m      7\u001b[0m \u001b[0mchunk_sound\u001b[0m\u001b[0;34m(\u001b[0m\u001b[0;34m\"./Voice Samples/Read Text/PD\"\u001b[0m\u001b[0;34m,\u001b[0m \u001b[0;34m\"ReadText_PD\"\u001b[0m\u001b[0;34m,\u001b[0m \u001b[0;34m\"Chunks\"\u001b[0m\u001b[0;34m)\u001b[0m\u001b[0;34m\u001b[0m\u001b[0;34m\u001b[0m\u001b[0m\n",
      "\u001b[0;32m<ipython-input-7-d91059ab5b76>\u001b[0m in \u001b[0;36mchunk_sound\u001b[0;34m(filePath, type_of_text, parentDir)\u001b[0m\n\u001b[1;32m     42\u001b[0m         \u001b[0;31m#get the chunks by splitting on silence of 500ms and threshold of -53\u001b[0m\u001b[0;34m\u001b[0m\u001b[0;34m\u001b[0m\u001b[0;34m\u001b[0m\u001b[0m\n\u001b[0;32m---> 43\u001b[0;31m         \u001b[0mchunks\u001b[0m \u001b[0;34m=\u001b[0m \u001b[0msplit_on_silence\u001b[0m\u001b[0;34m(\u001b[0m\u001b[0msound\u001b[0m\u001b[0;34m,\u001b[0m \u001b[0mmin_silence_len\u001b[0m \u001b[0;34m=\u001b[0m \u001b[0;36m500\u001b[0m\u001b[0;34m,\u001b[0m \u001b[0msilence_thresh\u001b[0m \u001b[0;34m=\u001b[0m \u001b[0;34m-\u001b[0m\u001b[0;36m53\u001b[0m\u001b[0;34m)\u001b[0m\u001b[0;34m\u001b[0m\u001b[0;34m\u001b[0m\u001b[0m\n\u001b[0m\u001b[1;32m     44\u001b[0m         \u001b[0mcomplete_audio\u001b[0m \u001b[0;34m=\u001b[0m \u001b[0;32mNone\u001b[0m\u001b[0;34m\u001b[0m\u001b[0;34m\u001b[0m\u001b[0m\n",
      "\u001b[0;32m/opt/conda/lib/python3.7/site-packages/pydub/silence.py\u001b[0m in \u001b[0;36msplit_on_silence\u001b[0;34m(audio_segment, min_silence_len, silence_thresh, keep_silence, seek_step)\u001b[0m\n\u001b[1;32m    149\u001b[0m         \u001b[0;32mfor\u001b[0m \u001b[0;34m(\u001b[0m\u001b[0mstart\u001b[0m\u001b[0;34m,\u001b[0m\u001b[0mend\u001b[0m\u001b[0;34m)\u001b[0m\u001b[0;34m\u001b[0m\u001b[0;34m\u001b[0m\u001b[0m\n\u001b[0;32m--> 150\u001b[0;31m             \u001b[0;32min\u001b[0m \u001b[0mdetect_nonsilent\u001b[0m\u001b[0;34m(\u001b[0m\u001b[0maudio_segment\u001b[0m\u001b[0;34m,\u001b[0m \u001b[0mmin_silence_len\u001b[0m\u001b[0;34m,\u001b[0m \u001b[0msilence_thresh\u001b[0m\u001b[0;34m,\u001b[0m \u001b[0mseek_step\u001b[0m\u001b[0;34m)\u001b[0m\u001b[0;34m\u001b[0m\u001b[0;34m\u001b[0m\u001b[0m\n\u001b[0m\u001b[1;32m    151\u001b[0m     ]\n",
      "\u001b[0;32m/opt/conda/lib/python3.7/site-packages/pydub/silence.py\u001b[0m in \u001b[0;36mdetect_nonsilent\u001b[0;34m(audio_segment, min_silence_len, silence_thresh, seek_step)\u001b[0m\n\u001b[1;32m     85\u001b[0m     \"\"\"\n\u001b[0;32m---> 86\u001b[0;31m     \u001b[0msilent_ranges\u001b[0m \u001b[0;34m=\u001b[0m \u001b[0mdetect_silence\u001b[0m\u001b[0;34m(\u001b[0m\u001b[0maudio_segment\u001b[0m\u001b[0;34m,\u001b[0m \u001b[0mmin_silence_len\u001b[0m\u001b[0;34m,\u001b[0m \u001b[0msilence_thresh\u001b[0m\u001b[0;34m,\u001b[0m \u001b[0mseek_step\u001b[0m\u001b[0;34m)\u001b[0m\u001b[0;34m\u001b[0m\u001b[0;34m\u001b[0m\u001b[0m\n\u001b[0m\u001b[1;32m     87\u001b[0m     \u001b[0mlen_seg\u001b[0m \u001b[0;34m=\u001b[0m \u001b[0mlen\u001b[0m\u001b[0;34m(\u001b[0m\u001b[0maudio_segment\u001b[0m\u001b[0;34m)\u001b[0m\u001b[0;34m\u001b[0m\u001b[0;34m\u001b[0m\u001b[0m\n",
      "\u001b[0;32m/opt/conda/lib/python3.7/site-packages/pydub/silence.py\u001b[0m in \u001b[0;36mdetect_silence\u001b[0;34m(audio_segment, min_silence_len, silence_thresh, seek_step)\u001b[0m\n\u001b[1;32m     42\u001b[0m         \u001b[0maudio_slice\u001b[0m \u001b[0;34m=\u001b[0m \u001b[0maudio_segment\u001b[0m\u001b[0;34m[\u001b[0m\u001b[0mi\u001b[0m\u001b[0;34m:\u001b[0m\u001b[0mi\u001b[0m \u001b[0;34m+\u001b[0m \u001b[0mmin_silence_len\u001b[0m\u001b[0;34m]\u001b[0m\u001b[0;34m\u001b[0m\u001b[0;34m\u001b[0m\u001b[0m\n\u001b[0;32m---> 43\u001b[0;31m         \u001b[0;32mif\u001b[0m \u001b[0maudio_slice\u001b[0m\u001b[0;34m.\u001b[0m\u001b[0mrms\u001b[0m \u001b[0;34m<=\u001b[0m \u001b[0msilence_thresh\u001b[0m\u001b[0;34m:\u001b[0m\u001b[0;34m\u001b[0m\u001b[0;34m\u001b[0m\u001b[0m\n\u001b[0m\u001b[1;32m     44\u001b[0m             \u001b[0msilence_starts\u001b[0m\u001b[0;34m.\u001b[0m\u001b[0mappend\u001b[0m\u001b[0;34m(\u001b[0m\u001b[0mi\u001b[0m\u001b[0;34m)\u001b[0m\u001b[0;34m\u001b[0m\u001b[0;34m\u001b[0m\u001b[0m\n",
      "\u001b[0;32m/opt/conda/lib/python3.7/site-packages/pydub/audio_segment.py\u001b[0m in \u001b[0;36mrms\u001b[0;34m(self)\u001b[0m\n\u001b[1;32m   1085\u001b[0m     \u001b[0;32mdef\u001b[0m \u001b[0mrms\u001b[0m\u001b[0;34m(\u001b[0m\u001b[0mself\u001b[0m\u001b[0;34m)\u001b[0m\u001b[0;34m:\u001b[0m\u001b[0;34m\u001b[0m\u001b[0;34m\u001b[0m\u001b[0m\n\u001b[0;32m-> 1086\u001b[0;31m         \u001b[0;32mreturn\u001b[0m \u001b[0maudioop\u001b[0m\u001b[0;34m.\u001b[0m\u001b[0mrms\u001b[0m\u001b[0;34m(\u001b[0m\u001b[0mself\u001b[0m\u001b[0;34m.\u001b[0m\u001b[0m_data\u001b[0m\u001b[0;34m,\u001b[0m \u001b[0mself\u001b[0m\u001b[0;34m.\u001b[0m\u001b[0msample_width\u001b[0m\u001b[0;34m)\u001b[0m\u001b[0;34m\u001b[0m\u001b[0;34m\u001b[0m\u001b[0m\n\u001b[0m\u001b[1;32m   1087\u001b[0m \u001b[0;34m\u001b[0m\u001b[0m\n",
      "\u001b[0;31mKeyboardInterrupt\u001b[0m: ",
      "\nDuring handling of the above exception, another exception occurred:\n",
      "\u001b[0;31mAttributeError\u001b[0m                            Traceback (most recent call last)",
      "\u001b[0;32m/opt/conda/lib/python3.7/site-packages/IPython/core/interactiveshell.py\u001b[0m in \u001b[0;36mshowtraceback\u001b[0;34m(self, exc_tuple, filename, tb_offset, exception_only, running_compiled_code)\u001b[0m\n\u001b[1;32m   2060\u001b[0m                         \u001b[0;31m# in the engines. This should return a list of strings.\u001b[0m\u001b[0;34m\u001b[0m\u001b[0;34m\u001b[0m\u001b[0;34m\u001b[0m\u001b[0m\n\u001b[0;32m-> 2061\u001b[0;31m                         \u001b[0mstb\u001b[0m \u001b[0;34m=\u001b[0m \u001b[0mvalue\u001b[0m\u001b[0;34m.\u001b[0m\u001b[0m_render_traceback_\u001b[0m\u001b[0;34m(\u001b[0m\u001b[0;34m)\u001b[0m\u001b[0;34m\u001b[0m\u001b[0;34m\u001b[0m\u001b[0m\n\u001b[0m\u001b[1;32m   2062\u001b[0m                     \u001b[0;32mexcept\u001b[0m \u001b[0mException\u001b[0m\u001b[0;34m:\u001b[0m\u001b[0;34m\u001b[0m\u001b[0;34m\u001b[0m\u001b[0m\n",
      "\u001b[0;31mAttributeError\u001b[0m: 'KeyboardInterrupt' object has no attribute '_render_traceback_'",
      "\nDuring handling of the above exception, another exception occurred:\n",
      "\u001b[0;31mTypeError\u001b[0m                                 Traceback (most recent call last)",
      "    \u001b[0;31m[... skipping hidden 1 frame]\u001b[0m\n",
      "\u001b[0;32m/opt/conda/lib/python3.7/site-packages/IPython/core/interactiveshell.py\u001b[0m in \u001b[0;36mshowtraceback\u001b[0;34m(self, exc_tuple, filename, tb_offset, exception_only, running_compiled_code)\u001b[0m\n\u001b[1;32m   2062\u001b[0m                     \u001b[0;32mexcept\u001b[0m \u001b[0mException\u001b[0m\u001b[0;34m:\u001b[0m\u001b[0;34m\u001b[0m\u001b[0;34m\u001b[0m\u001b[0m\n\u001b[1;32m   2063\u001b[0m                         stb = self.InteractiveTB.structured_traceback(etype,\n\u001b[0;32m-> 2064\u001b[0;31m                                             value, tb, tb_offset=tb_offset)\n\u001b[0m\u001b[1;32m   2065\u001b[0m \u001b[0;34m\u001b[0m\u001b[0m\n\u001b[1;32m   2066\u001b[0m                     \u001b[0mself\u001b[0m\u001b[0;34m.\u001b[0m\u001b[0m_showtraceback\u001b[0m\u001b[0;34m(\u001b[0m\u001b[0metype\u001b[0m\u001b[0;34m,\u001b[0m \u001b[0mvalue\u001b[0m\u001b[0;34m,\u001b[0m \u001b[0mstb\u001b[0m\u001b[0;34m)\u001b[0m\u001b[0;34m\u001b[0m\u001b[0;34m\u001b[0m\u001b[0m\n",
      "\u001b[0;32m/opt/conda/lib/python3.7/site-packages/IPython/core/ultratb.py\u001b[0m in \u001b[0;36mstructured_traceback\u001b[0;34m(self, etype, value, tb, tb_offset, number_of_lines_of_context)\u001b[0m\n\u001b[1;32m   1366\u001b[0m             \u001b[0mself\u001b[0m\u001b[0;34m.\u001b[0m\u001b[0mtb\u001b[0m \u001b[0;34m=\u001b[0m \u001b[0mtb\u001b[0m\u001b[0;34m\u001b[0m\u001b[0;34m\u001b[0m\u001b[0m\n\u001b[1;32m   1367\u001b[0m         return FormattedTB.structured_traceback(\n\u001b[0;32m-> 1368\u001b[0;31m             self, etype, value, tb, tb_offset, number_of_lines_of_context)\n\u001b[0m\u001b[1;32m   1369\u001b[0m \u001b[0;34m\u001b[0m\u001b[0m\n\u001b[1;32m   1370\u001b[0m \u001b[0;34m\u001b[0m\u001b[0m\n",
      "\u001b[0;32m/opt/conda/lib/python3.7/site-packages/IPython/core/ultratb.py\u001b[0m in \u001b[0;36mstructured_traceback\u001b[0;34m(self, etype, value, tb, tb_offset, number_of_lines_of_context)\u001b[0m\n\u001b[1;32m   1266\u001b[0m             \u001b[0;31m# Verbose modes need a full traceback\u001b[0m\u001b[0;34m\u001b[0m\u001b[0;34m\u001b[0m\u001b[0;34m\u001b[0m\u001b[0m\n\u001b[1;32m   1267\u001b[0m             return VerboseTB.structured_traceback(\n\u001b[0;32m-> 1268\u001b[0;31m                 \u001b[0mself\u001b[0m\u001b[0;34m,\u001b[0m \u001b[0metype\u001b[0m\u001b[0;34m,\u001b[0m \u001b[0mvalue\u001b[0m\u001b[0;34m,\u001b[0m \u001b[0mtb\u001b[0m\u001b[0;34m,\u001b[0m \u001b[0mtb_offset\u001b[0m\u001b[0;34m,\u001b[0m \u001b[0mnumber_of_lines_of_context\u001b[0m\u001b[0;34m\u001b[0m\u001b[0;34m\u001b[0m\u001b[0m\n\u001b[0m\u001b[1;32m   1269\u001b[0m             )\n\u001b[1;32m   1270\u001b[0m         \u001b[0;32melif\u001b[0m \u001b[0mmode\u001b[0m \u001b[0;34m==\u001b[0m \u001b[0;34m'Minimal'\u001b[0m\u001b[0;34m:\u001b[0m\u001b[0;34m\u001b[0m\u001b[0;34m\u001b[0m\u001b[0m\n",
      "\u001b[0;32m/opt/conda/lib/python3.7/site-packages/IPython/core/ultratb.py\u001b[0m in \u001b[0;36mstructured_traceback\u001b[0;34m(self, etype, evalue, etb, tb_offset, number_of_lines_of_context)\u001b[0m\n\u001b[1;32m   1123\u001b[0m \u001b[0;34m\u001b[0m\u001b[0m\n\u001b[1;32m   1124\u001b[0m         formatted_exception = self.format_exception_as_a_whole(etype, evalue, etb, number_of_lines_of_context,\n\u001b[0;32m-> 1125\u001b[0;31m                                                                tb_offset)\n\u001b[0m\u001b[1;32m   1126\u001b[0m \u001b[0;34m\u001b[0m\u001b[0m\n\u001b[1;32m   1127\u001b[0m         \u001b[0mcolors\u001b[0m \u001b[0;34m=\u001b[0m \u001b[0mself\u001b[0m\u001b[0;34m.\u001b[0m\u001b[0mColors\u001b[0m  \u001b[0;31m# just a shorthand + quicker name lookup\u001b[0m\u001b[0;34m\u001b[0m\u001b[0;34m\u001b[0m\u001b[0m\n",
      "\u001b[0;32m/opt/conda/lib/python3.7/site-packages/IPython/core/ultratb.py\u001b[0m in \u001b[0;36mformat_exception_as_a_whole\u001b[0;34m(self, etype, evalue, etb, number_of_lines_of_context, tb_offset)\u001b[0m\n\u001b[1;32m   1080\u001b[0m \u001b[0;34m\u001b[0m\u001b[0m\n\u001b[1;32m   1081\u001b[0m \u001b[0;34m\u001b[0m\u001b[0m\n\u001b[0;32m-> 1082\u001b[0;31m         \u001b[0mlast_unique\u001b[0m\u001b[0;34m,\u001b[0m \u001b[0mrecursion_repeat\u001b[0m \u001b[0;34m=\u001b[0m \u001b[0mfind_recursion\u001b[0m\u001b[0;34m(\u001b[0m\u001b[0morig_etype\u001b[0m\u001b[0;34m,\u001b[0m \u001b[0mevalue\u001b[0m\u001b[0;34m,\u001b[0m \u001b[0mrecords\u001b[0m\u001b[0;34m)\u001b[0m\u001b[0;34m\u001b[0m\u001b[0;34m\u001b[0m\u001b[0m\n\u001b[0m\u001b[1;32m   1083\u001b[0m \u001b[0;34m\u001b[0m\u001b[0m\n\u001b[1;32m   1084\u001b[0m         \u001b[0mframes\u001b[0m \u001b[0;34m=\u001b[0m \u001b[0mself\u001b[0m\u001b[0;34m.\u001b[0m\u001b[0mformat_records\u001b[0m\u001b[0;34m(\u001b[0m\u001b[0mrecords\u001b[0m\u001b[0;34m,\u001b[0m \u001b[0mlast_unique\u001b[0m\u001b[0;34m,\u001b[0m \u001b[0mrecursion_repeat\u001b[0m\u001b[0;34m)\u001b[0m\u001b[0;34m\u001b[0m\u001b[0;34m\u001b[0m\u001b[0m\n",
      "\u001b[0;32m/opt/conda/lib/python3.7/site-packages/IPython/core/ultratb.py\u001b[0m in \u001b[0;36mfind_recursion\u001b[0;34m(etype, value, records)\u001b[0m\n\u001b[1;32m    380\u001b[0m     \u001b[0;31m# first frame (from in to out) that looks different.\u001b[0m\u001b[0;34m\u001b[0m\u001b[0;34m\u001b[0m\u001b[0;34m\u001b[0m\u001b[0m\n\u001b[1;32m    381\u001b[0m     \u001b[0;32mif\u001b[0m \u001b[0;32mnot\u001b[0m \u001b[0mis_recursion_error\u001b[0m\u001b[0;34m(\u001b[0m\u001b[0metype\u001b[0m\u001b[0;34m,\u001b[0m \u001b[0mvalue\u001b[0m\u001b[0;34m,\u001b[0m \u001b[0mrecords\u001b[0m\u001b[0;34m)\u001b[0m\u001b[0;34m:\u001b[0m\u001b[0;34m\u001b[0m\u001b[0;34m\u001b[0m\u001b[0m\n\u001b[0;32m--> 382\u001b[0;31m         \u001b[0;32mreturn\u001b[0m \u001b[0mlen\u001b[0m\u001b[0;34m(\u001b[0m\u001b[0mrecords\u001b[0m\u001b[0;34m)\u001b[0m\u001b[0;34m,\u001b[0m \u001b[0;36m0\u001b[0m\u001b[0;34m\u001b[0m\u001b[0;34m\u001b[0m\u001b[0m\n\u001b[0m\u001b[1;32m    383\u001b[0m \u001b[0;34m\u001b[0m\u001b[0m\n\u001b[1;32m    384\u001b[0m     \u001b[0;31m# Select filename, lineno, func_name to track frames with\u001b[0m\u001b[0;34m\u001b[0m\u001b[0;34m\u001b[0m\u001b[0;34m\u001b[0m\u001b[0m\n",
      "\u001b[0;31mTypeError\u001b[0m: object of type 'NoneType' has no len()"
     ]
    }
   ],
   "source": [
    "# chunk_sound(\"C:\\\\Users\\\\arauthan\\\\Research - PD\\\\Voice Samples\\\\Read Text\\\\HC\", \"ReadText_HC\", \"Chunks\")\n",
    "# chunk_sound(\"C:\\\\Users\\\\arauthan\\\\Research - PD\\\\Voice Samples\\\\Read Text\\\\PD\", \"ReadText_PD\", \"Chunks\")\n",
    "# chunk_sound(\"C:\\\\Users\\\\arauthan\\\\Research - PD\\\\Voice Samples\\\\SpontaneousDialogue\\\\HC\", \"Spontaneous_HC\", \"Chunks\")\n",
    "# chunk_sound(\"C:\\\\Users\\\\arauthan\\\\Research - PD\\\\Voice Samples\\\\SpontaneousDialogue\\\\PD\", \"Spontaneous_PD\", \"Chunks\")\n",
    "\n",
    "chunk_sound(\"./Voice Samples/Read Text/HC\", \"ReadText_HC\", \"Chunks\")\n",
    "chunk_sound(\"./Voice Samples/Read Text/PD\", \"ReadText_PD\", \"Chunks\")\n",
    "chunk_sound(\"./Voice Samples/SpontaneousDialogue/HC\", \"Spontaneous_HC\", \"Chunks\")\n",
    "chunk_sound(\"./Voice Samples/SpontaneousDialogue/PD\", \"Spontaneous_PD\", \"Chunks\")"
   ]
  },
  {
   "cell_type": "code",
   "execution_count": null,
   "metadata": {},
   "outputs": [],
   "source": []
  },
  {
   "cell_type": "markdown",
   "metadata": {},
   "source": [
    "#### Retrieve MFCCS Attributes"
   ]
  },
  {
   "cell_type": "code",
   "execution_count": 9,
   "metadata": {},
   "outputs": [],
   "source": [
    "def getMFCCS(audioTimeSeries,features_to_extract):\n",
    "    mfccs = librosa.feature.mfcc(audioTimeSeries,sr=44100,n_mfcc=features_to_extract)\n",
    "    return mfccs"
   ]
  },
  {
   "cell_type": "code",
   "execution_count": 10,
   "metadata": {},
   "outputs": [],
   "source": [
    "def getDataFrame(feature_set, category):\n",
    "    df=pd.DataFrame(data=feature_set[0:,0:],\n",
    "               index = [i for i in range(feature_set.shape[0])],\n",
    "               columns=['f'+str(i) for i in range(feature_set.shape[1])])\n",
    "    df_T = df.T  \n",
    "    df_T['Category'] = category    \n",
    "    return df_T"
   ]
  },
  {
   "cell_type": "code",
   "execution_count": 11,
   "metadata": {},
   "outputs": [],
   "source": [
    "def getMFCCS_allFiles(type_of_text, parent_folder, category):\n",
    "    #destination_folder = getDir('ReadText_HC', 'ProcessedAudio')\n",
    "    destination_folder = getDir(type_of_text, parent_folder)\n",
    "    print(destination_folder)\n",
    "    files = [f for f in listdir(destination_folder) if isfile(join(destination_folder, f))]\n",
    "    \n",
    "    df_mfccs_all = None\n",
    "    \n",
    "    for file in files:\n",
    "        filedir = destination_folder + \"/\" + file\n",
    "        x , sr = librosa.load(filedir)\n",
    "\n",
    "        mfccs = getMFCCS(x,13)\n",
    "\n",
    "        df_mfccs = getDataFrame(mfccs, category)\n",
    "\n",
    "        if df_mfccs_all is None:\n",
    "            df_mfccs_all = df_mfccs\n",
    "        else:\n",
    "            df_mfccs_all = df_mfccs_all.append(df_mfccs, ignore_index=True)\n",
    "        \n",
    "        #print(df_mfccs.shape)\n",
    "        \n",
    "    #print(df_mfccs_all.shape)\n",
    "    \n",
    "    #display(df_mfccs_all)\n",
    "    return df_mfccs_all"
   ]
  },
  {
   "cell_type": "code",
   "execution_count": 12,
   "metadata": {},
   "outputs": [],
   "source": [
    "def startTime(msg):\n",
    "    start_time = datetime.datetime.now()\n",
    "    print(\" ====Start======= \", msg)\n",
    "    print(\" Start Time \", start_time)\n",
    "    return start_time"
   ]
  },
  {
   "cell_type": "code",
   "execution_count": 13,
   "metadata": {},
   "outputs": [],
   "source": [
    "def endTime(msg):\n",
    "    end_time = datetime.datetime.now()\n",
    "    print(\" ====End======= \", msg)\n",
    "    print(\" End Time \", end_time)\n",
    "    return end_time"
   ]
  },
  {
   "cell_type": "code",
   "execution_count": 14,
   "metadata": {},
   "outputs": [],
   "source": [
    "def totalTime(msg, startTime, endTime):\n",
    "    total_time = endTime - startTime\n",
    "    print(msg, \"=====Total Time=====\", total_time)"
   ]
  },
  {
   "cell_type": "code",
   "execution_count": 15,
   "metadata": {},
   "outputs": [
    {
     "name": "stdout",
     "output_type": "stream",
     "text": [
      " ====Start=======  Get MFCCS Details\n",
      " Start Time  2021-06-12 18:55:04.515416\n",
      "/home/akshayrauthan0806/Research - PD/ProcessedAudio/Read Text/HC\n",
      "/home/akshayrauthan0806/Research - PD/ProcessedAudio/Read Text/PD\n",
      "/home/akshayrauthan0806/Research - PD/ProcessedAudio/Spontaneous/HC\n",
      "/home/akshayrauthan0806/Research - PD/ProcessedAudio/Spontaneous/PD\n",
      " ====End=======  Get MFCCS Details\n",
      " End Time  2021-06-12 18:58:49.977183\n",
      "Get MFCCS Details =====Total Time===== 0:03:45.461767\n",
      "(94832, 14) (56861, 14) (61658, 14) (45836, 14)\n"
     ]
    }
   ],
   "source": [
    "# start_time = datetime.datetime.now()\n",
    "msg = \"Get MFCCS Details\"\n",
    "start_time = startTime(msg)\n",
    "\n",
    "# getting mfccs for all the different categories\n",
    "rt_hc_mfccs = getMFCCS_allFiles('ReadText_HC', 'ProcessedAudio', 0)\n",
    "rt_pd_mfccs = getMFCCS_allFiles('ReadText_PD', 'ProcessedAudio', 1)\n",
    "sp_hc_mfccs = getMFCCS_allFiles('Spontaneous_HC', 'ProcessedAudio', 0)\n",
    "sp_pd_mfccs = getMFCCS_allFiles('Spontaneous_PD', 'ProcessedAudio', 1)\n",
    "\n",
    "# end time\n",
    "end_time = endTime(msg)\n",
    "\n",
    "#total time\n",
    "totalTime(msg, start_time, end_time)\n",
    "# print(total_time)\n",
    "print(rt_hc_mfccs.shape, rt_pd_mfccs.shape, sp_hc_mfccs.shape, sp_pd_mfccs.shape)"
   ]
  },
  {
   "cell_type": "code",
   "execution_count": 16,
   "metadata": {},
   "outputs": [
    {
     "name": "stdout",
     "output_type": "stream",
     "text": [
      "(259187, 14)\n"
     ]
    }
   ],
   "source": [
    "# appending all the mfccs for final DF for mfccs\n",
    "df_final_mfccs = rt_hc_mfccs.append(rt_pd_mfccs, ignore_index=True)\n",
    "df_final_mfccs = df_final_mfccs.append(sp_hc_mfccs, ignore_index=True)\n",
    "df_final_mfccs = df_final_mfccs.append(sp_pd_mfccs, ignore_index=True)\n",
    "print(df_final_mfccs.shape)"
   ]
  },
  {
   "cell_type": "code",
   "execution_count": null,
   "metadata": {},
   "outputs": [],
   "source": []
  },
  {
   "cell_type": "code",
   "execution_count": null,
   "metadata": {},
   "outputs": [],
   "source": []
  },
  {
   "cell_type": "markdown",
   "metadata": {},
   "source": [
    "###### MFCCS - Checking the Imbalance in the data"
   ]
  },
  {
   "cell_type": "code",
   "execution_count": 17,
   "metadata": {},
   "outputs": [
    {
     "name": "stdout",
     "output_type": "stream",
     "text": [
      "Class 0: 156490\n",
      "Class 1: 102697\n",
      "Proportion: 1.52 : 1\n"
     ]
    },
    {
     "data": {
      "text/plain": [
       "Text(0, 0.5, 'Number of Data Points')"
      ]
     },
     "execution_count": 17,
     "metadata": {},
     "output_type": "execute_result"
    },
    {
     "data": {
      "image/png": "[encoded data removed]",
      "text/plain": [
       "<Figure size 432x288 with 1 Axes>"
      ]
     },
     "metadata": {
      "needs_background": "light"
     },
     "output_type": "display_data"
    }
   ],
   "source": [
    "target_count = df_final_mfccs.Category.value_counts()\n",
    "print('Class 0:', target_count[0])\n",
    "print('Class 1:', target_count[1])\n",
    "print('Proportion:', round(target_count[0] / target_count[1], 2), ': 1')\n",
    "\n",
    "target_count.plot(kind='bar', title='MFCCs Class Imbalance');\n",
    "plt.rcParams[\"figure.dpi\"]=300\n",
    "plt.xlabel(\"Classes\")\n",
    "plt.ylabel(\"Number of Data Points\")"
   ]
  },
  {
   "cell_type": "code",
   "execution_count": null,
   "metadata": {},
   "outputs": [],
   "source": []
  },
  {
   "cell_type": "markdown",
   "metadata": {},
   "source": [
    "##### MFCCs - Splitting the Data into train, test and val"
   ]
  },
  {
   "cell_type": "code",
   "execution_count": 18,
   "metadata": {},
   "outputs": [],
   "source": [
    "# Splitting the data in X and Y\n",
    "X = df_final_mfccs.drop('Category', axis=1)\n",
    "y = df_final_mfccs['Category']"
   ]
  },
  {
   "cell_type": "code",
   "execution_count": 19,
   "metadata": {},
   "outputs": [
    {
     "name": "stdout",
     "output_type": "stream",
     "text": [
      "(259187, 13) (259187,)\n"
     ]
    }
   ],
   "source": [
    "print(X.shape, y.shape)"
   ]
  },
  {
   "cell_type": "code",
   "execution_count": 20,
   "metadata": {},
   "outputs": [],
   "source": [
    "X_train, X_val, y_train, y_val = train_test_split(X, y, test_size = 0.10)\n",
    "# X_train, X_test, y_train, y_test = train_test_split(X_train, y_train, test_size = 0.20)"
   ]
  },
  {
   "cell_type": "code",
   "execution_count": 21,
   "metadata": {},
   "outputs": [
    {
     "name": "stdout",
     "output_type": "stream",
     "text": [
      "(233268, 13) (25919, 13) (233268,) (25919,)\n"
     ]
    }
   ],
   "source": [
    "print(X_train.shape, X_val.shape, y_train.shape, y_val.shape)"
   ]
  },
  {
   "cell_type": "markdown",
   "metadata": {},
   "source": [
    "###### MFCCS - Balancing the Data"
   ]
  },
  {
   "cell_type": "code",
   "execution_count": 22,
   "metadata": {},
   "outputs": [
    {
     "name": "stdout",
     "output_type": "stream",
     "text": [
      "(184796, 13) (184796,)\n",
      "<class 'pandas.core.frame.DataFrame'> <class 'pandas.core.series.Series'>\n"
     ]
    }
   ],
   "source": [
    "from imblearn.under_sampling import RandomUnderSampler\n",
    "rus = RandomUnderSampler(random_state=0)\n",
    "X_train_resampled, y_train_resampled = rus.fit_resample(X_train, y_train)\n",
    "print(X_train_resampled.shape, y_train_resampled.shape)\n",
    "print(type(X_train_resampled), type(y_train_resampled))"
   ]
  },
  {
   "cell_type": "code",
   "execution_count": 23,
   "metadata": {},
   "outputs": [],
   "source": [
    "df_train_resampled = X_train_resampled.copy()\n",
    "df_train_resampled['Category'] = y_train_resampled"
   ]
  },
  {
   "cell_type": "code",
   "execution_count": 24,
   "metadata": {},
   "outputs": [
    {
     "name": "stdout",
     "output_type": "stream",
     "text": [
      "Class 0: 92398\n",
      "Class 1: 92398\n",
      "Proportion: 1.0 : 1\n"
     ]
    },
    {
     "data": {
      "image/png": "[encoded data removed]",
      "text/plain": [
       "<Figure size 1800x1200 with 1 Axes>"
      ]
     },
     "metadata": {
      "needs_background": "light"
     },
     "output_type": "display_data"
    }
   ],
   "source": [
    "target_count = df_train_resampled.Category.value_counts()\n",
    "print('Class 0:', target_count[0])\n",
    "print('Class 1:', target_count[1])\n",
    "print('Proportion:', round(target_count[0] / target_count[1], 2), ': 1')\n",
    "\n",
    "target_count.plot(kind='bar', title='Count (target)');"
   ]
  },
  {
   "cell_type": "code",
   "execution_count": 25,
   "metadata": {},
   "outputs": [
    {
     "name": "stdout",
     "output_type": "stream",
     "text": [
      "(259187, 13) (259187,) (184796, 13) (25919, 13) (184796,) (25919,)\n"
     ]
    }
   ],
   "source": [
    "print(X.shape, y.shape, X_train_resampled.shape, X_val.shape, y_train_resampled.shape, y_val.shape)"
   ]
  },
  {
   "cell_type": "code",
   "execution_count": 26,
   "metadata": {},
   "outputs": [
    {
     "data": {
      "text/plain": [
       "3070"
      ]
     },
     "execution_count": 26,
     "metadata": {},
     "output_type": "execute_result"
    }
   ],
   "source": [
    "import gc\n",
    "gc.collect()"
   ]
  },
  {
   "cell_type": "markdown",
   "metadata": {},
   "source": [
    "#### Normalize Datasets - Training and Testing datasets"
   ]
  },
  {
   "cell_type": "code",
   "execution_count": 27,
   "metadata": {},
   "outputs": [],
   "source": [
    "# normalize the train and test dataset - X_train, X_test\n",
    "from sklearn import preprocessing\n",
    "from sklearn.preprocessing import MinMaxScaler\n",
    "def normalizeData(dataset):\n",
    "    scaler = MinMaxScaler()\n",
    "    scaler.fit(dataset)\n",
    "    dataset_scaled = scaler.transform(dataset)\n",
    "    return dataset_scaled"
   ]
  },
  {
   "cell_type": "code",
   "execution_count": null,
   "metadata": {},
   "outputs": [],
   "source": []
  },
  {
   "cell_type": "markdown",
   "metadata": {},
   "source": [
    "##### MFCCS - Normalizing Data"
   ]
  },
  {
   "cell_type": "code",
   "execution_count": 28,
   "metadata": {},
   "outputs": [],
   "source": [
    "X_train_scaled = normalizeData(X_train_resampled)\n",
    "X_val_scaled = normalizeData(X_val)\n",
    "# X_scaled = normalizeData(X)"
   ]
  },
  {
   "cell_type": "code",
   "execution_count": 29,
   "metadata": {},
   "outputs": [
    {
     "name": "stdout",
     "output_type": "stream",
     "text": [
      "(259187, 13) (259187,) (184796, 13) (25919, 13) (233268,) (184796,) (25919,)\n"
     ]
    }
   ],
   "source": [
    "print(X.shape, y.shape, X_train_scaled.shape, X_val_scaled.shape, y_train.shape, y_train_resampled.shape, y_val.shape)"
   ]
  },
  {
   "cell_type": "code",
   "execution_count": null,
   "metadata": {},
   "outputs": [],
   "source": []
  },
  {
   "cell_type": "code",
   "execution_count": null,
   "metadata": {},
   "outputs": [],
   "source": []
  },
  {
   "cell_type": "markdown",
   "metadata": {},
   "source": [
    "#### MFCCS - SVM with 5-fold cross validation"
   ]
  },
  {
   "cell_type": "markdown",
   "metadata": {},
   "source": [
    "###### MFCCS - SVM - Linear"
   ]
  },
  {
   "cell_type": "code",
   "execution_count": 32,
   "metadata": {},
   "outputs": [
    {
     "name": "stdout",
     "output_type": "stream",
     "text": [
      "(184796, 13) (184796,)\n",
      "1.0\n"
     ]
    }
   ],
   "source": [
    "print(X_train_scaled.shape, y_train_resampled.shape)\n",
    "print(X_train_scaled.max())"
   ]
  },
  {
   "cell_type": "code",
   "execution_count": 33,
   "metadata": {},
   "outputs": [],
   "source": [
    "# from imblearn.under_sampling import RandomUnderSampler\n",
    "# rus = RandomUnderSampler(random_state=0)\n",
    "# X_resampled, y_resampled = rus.fit_resample(X, y)\n",
    "# print(X_resampled.shape, y_resampled.shape)\n",
    "# print(type(X_resampled), type(y_resampled))"
   ]
  },
  {
   "cell_type": "code",
   "execution_count": 35,
   "metadata": {},
   "outputs": [
    {
     "name": "stdout",
     "output_type": "stream",
     "text": [
      "(80000, 13) (80000,)\n",
      "<class 'numpy.ndarray'> <class 'pandas.core.series.Series'>\n"
     ]
    }
   ],
   "source": [
    "from imblearn.under_sampling import RandomUnderSampler\n",
    "rus = RandomUnderSampler(random_state=0, sampling_strategy={\n",
    "        0: 40000,\n",
    "        1: 40000\n",
    "    })\n",
    "X_resampled, y_resampled = rus.fit_resample(X_train_scaled, y_train_resampled)\n",
    "print(X_resampled.shape, y_resampled.shape)\n",
    "print(type(X_resampled), type(y_resampled))"
   ]
  },
  {
   "cell_type": "code",
   "execution_count": 39,
   "metadata": {},
   "outputs": [],
   "source": []
  },
  {
   "cell_type": "code",
   "execution_count": 34,
   "metadata": {},
   "outputs": [
    {
     "name": "stdout",
     "output_type": "stream",
     "text": [
      "The best classifier is:  SVC(C=1000.0, gamma=1e-05, kernel='linear')\n"
     ]
    },
    {
     "ename": "AttributeError",
     "evalue": "'GridSearchCV' object has no attribute 'grid_scores_'",
     "output_type": "error",
     "traceback": [
      "\u001b[0;31m---------------------------------------------------------------------------\u001b[0m",
      "\u001b[0;31mAttributeError\u001b[0m                            Traceback (most recent call last)",
      "\u001b[0;32m<ipython-input-34-00e977686cfa>\u001b[0m in \u001b[0;36m<module>\u001b[0;34m\u001b[0m\n\u001b[1;32m     17\u001b[0m \u001b[0;31m# plot the scores of the grid\u001b[0m\u001b[0;34m\u001b[0m\u001b[0;34m\u001b[0m\u001b[0;34m\u001b[0m\u001b[0m\n\u001b[1;32m     18\u001b[0m \u001b[0;31m# grid_scores_ contains parameter settings and scores\u001b[0m\u001b[0;34m\u001b[0m\u001b[0;34m\u001b[0m\u001b[0;34m\u001b[0m\u001b[0m\n\u001b[0;32m---> 19\u001b[0;31m \u001b[0mscore_dict\u001b[0m \u001b[0;34m=\u001b[0m \u001b[0mgrid\u001b[0m\u001b[0;34m.\u001b[0m\u001b[0mgrid_scores_\u001b[0m\u001b[0;34m\u001b[0m\u001b[0;34m\u001b[0m\u001b[0m\n\u001b[0m\u001b[1;32m     20\u001b[0m \u001b[0;34m\u001b[0m\u001b[0m\n\u001b[1;32m     21\u001b[0m \u001b[0;31m# We extract just the scores\u001b[0m\u001b[0;34m\u001b[0m\u001b[0;34m\u001b[0m\u001b[0;34m\u001b[0m\u001b[0m\n",
      "\u001b[0;31mAttributeError\u001b[0m: 'GridSearchCV' object has no attribute 'grid_scores_'"
     ]
    }
   ],
   "source": [
    "C_range = 10. ** np.arange(-3, 8)\n",
    "gamma_range = 10. ** np.arange(-5, 4)\n",
    "\n",
    "param_grid = dict(gamma=gamma_range, C=C_range)\n",
    "svc=SVC(kernel='linear')\n",
    "\n",
    "# kfolds = StratifiedKFold(5)\n",
    "# clf = GridSearchCV(estimator, parameters, scoring=qwk, cv=kfolds.split(xtrain,ytrain))\n",
    "# clf.fit(xtrain, ytrain)\n",
    "\n",
    "grid = GridSearchCV(svc, param_grid=param_grid, cv=StratifiedKFold(5).split(X_resampled,y_resampled))\n",
    "\n",
    "grid.fit(X_resampled, y_resampled)\n",
    "\n",
    "print(\"The best classifier is: \", grid.best_estimator_)"
   ]
  },
  {
   "cell_type": "code",
   "execution_count": 36,
   "metadata": {},
   "outputs": [
    {
     "name": "stdout",
     "output_type": "stream",
     "text": [
      "{'mean_fit_time': array([1.90800667e-02, 1.87711716e-02, 1.82110786e-02, 1.82030678e-02,\n",
      "       1.84350014e-02, 1.81389332e-02, 1.81841850e-02, 1.85191631e-02,\n",
      "       1.83151245e-02, 1.83470726e-02, 1.84264183e-02, 1.83626175e-02,\n",
      "       1.83034897e-02, 1.84194565e-02, 1.82344913e-02, 1.82697296e-02,\n",
      "       1.82609081e-02, 1.82559967e-02, 1.82655334e-02, 1.82608604e-02,\n",
      "       1.83874607e-02, 1.82339191e-02, 1.82225227e-02, 1.84234142e-02,\n",
      "       1.83630943e-02, 1.87371254e-02, 1.86980247e-02, 1.68109894e-02,\n",
      "       1.68810844e-02, 1.68589115e-02, 1.69625759e-02, 1.67764664e-02,\n",
      "       1.68835640e-02, 1.67850971e-02, 1.68107033e-02, 1.71070099e-02,\n",
      "       1.75981045e-02, 1.78184986e-02, 1.77900791e-02, 1.77225113e-02,\n",
      "       1.77365303e-02, 1.76795959e-02, 1.76462173e-02, 1.78299904e-02,\n",
      "       1.76197529e-02, 3.50503922e-02, 3.49241734e-02, 3.49630356e-02,\n",
      "       3.47470284e-02, 3.48579884e-02, 3.47243786e-02, 3.47289562e-02,\n",
      "       3.48726749e-02, 3.47334862e-02, 1.46533775e-01, 1.48898745e-01,\n",
      "       1.47201729e-01, 1.47447014e-01, 1.48042822e-01, 1.46122026e-01,\n",
      "       1.46389341e-01, 1.45507765e-01, 1.46272039e-01, 1.34310846e+00,\n",
      "       1.35504694e+00, 1.34649072e+00, 1.34988542e+00, 1.32991958e+00,\n",
      "       1.34063110e+00, 1.36423135e+00, 1.34829102e+00, 1.34454436e+00,\n",
      "       1.18833664e+01, 1.18032785e+01, 1.17874835e+01, 1.18160214e+01,\n",
      "       1.19511092e+01, 1.19398536e+01, 1.17571051e+01, 1.17475133e+01,\n",
      "       1.17773238e+01, 5.24773119e+01, 5.24497567e+01, 5.24790566e+01,\n",
      "       5.24551788e+01, 5.23811671e+01, 5.23922592e+01, 5.23447027e+01,\n",
      "       5.24461380e+01, 5.23631508e+01, 8.61964694e+01, 8.61769398e+01,\n",
      "       8.61296795e+01, 8.61634945e+01, 8.61339789e+01, 8.61951481e+01,\n",
      "       8.62190182e+01, 8.61938065e+01, 8.61010648e+01]), 'std_fit_time': array([1.16151201e-03, 4.38818524e-04, 1.60292369e-04, 1.14899887e-04,\n",
      "       2.57542526e-04, 3.99097034e-05, 1.72763637e-04, 3.01003357e-04,\n",
      "       1.43104972e-04, 2.20006764e-04, 2.72965055e-04, 1.14427268e-04,\n",
      "       1.94704506e-04, 3.06147593e-04, 1.12262598e-04, 1.28495485e-04,\n",
      "       5.79610032e-05, 9.17912644e-05, 1.67751041e-04, 9.82965539e-05,\n",
      "       1.64671251e-04, 1.45190345e-04, 6.07770813e-05, 1.90747475e-04,\n",
      "       2.65262312e-04, 3.30200398e-04, 5.71888984e-04, 3.57237304e-04,\n",
      "       3.00049554e-04, 3.67505813e-04, 3.10944498e-04, 3.65816359e-04,\n",
      "       3.12528088e-04, 2.24714660e-04, 4.70296814e-04, 3.70139081e-04,\n",
      "       3.75813434e-04, 2.80077821e-04, 3.47379257e-04, 3.19618281e-04,\n",
      "       2.23522655e-04, 2.15674432e-04, 2.65514628e-04, 2.23255066e-04,\n",
      "       2.66325937e-04, 2.15092622e-03, 1.91118878e-03, 1.90367830e-03,\n",
      "       2.11202159e-03, 2.18415861e-03, 2.04181175e-03, 2.00522439e-03,\n",
      "       2.22043631e-03, 2.14875331e-03, 8.45450347e-03, 8.80942635e-03,\n",
      "       8.67054080e-03, 8.34357212e-03, 8.86458978e-03, 8.50095655e-03,\n",
      "       7.80173220e-03, 8.23940459e-03, 8.01223294e-03, 3.47967641e-01,\n",
      "       3.45571667e-01, 3.52152379e-01, 3.55769114e-01, 3.47823536e-01,\n",
      "       3.58017866e-01, 3.44984281e-01, 3.48823033e-01, 3.52871011e-01,\n",
      "       2.82823477e+00, 2.79166084e+00, 2.73983745e+00, 2.72080055e+00,\n",
      "       2.79011356e+00, 2.75333721e+00, 2.74912770e+00, 2.72272958e+00,\n",
      "       2.78074348e+00, 2.59346626e+00, 2.71220332e+00, 2.59641573e+00,\n",
      "       2.67024609e+00, 2.58208381e+00, 2.66214941e+00, 2.57690893e+00,\n",
      "       2.65878614e+00, 2.54900037e+00, 1.63527076e+01, 1.61616424e+01,\n",
      "       1.62029445e+01, 1.62894949e+01, 1.62336933e+01, 1.62478304e+01,\n",
      "       1.62204007e+01, 1.61910228e+01, 1.61785972e+01]), 'mean_score_time': array([0.00405393, 0.00410752, 0.00403233, 0.00403924, 0.00404053,\n",
      "       0.00408068, 0.00399766, 0.00406494, 0.00403948, 0.00405049,\n",
      "       0.0040195 , 0.00399532, 0.00409036, 0.00404301, 0.00405688,\n",
      "       0.00401058, 0.00402303, 0.0040257 , 0.00404167, 0.00401726,\n",
      "       0.0041451 , 0.00397725, 0.00401025, 0.00407248, 0.0040205 ,\n",
      "       0.00412908, 0.00406294, 0.00340295, 0.00349765, 0.00340366,\n",
      "       0.00350432, 0.00353627, 0.00341749, 0.00342045, 0.00352459,\n",
      "       0.00343952, 0.00303593, 0.00297723, 0.00306983, 0.0030005 ,\n",
      "       0.0030149 , 0.0029952 , 0.00302901, 0.00305452, 0.00300555,\n",
      "       0.0029407 , 0.00293264, 0.0029633 , 0.0029017 , 0.00292907,\n",
      "       0.00289702, 0.00294666, 0.00294218, 0.00289154, 0.00302067,\n",
      "       0.00308409, 0.00301032, 0.00307269, 0.00299792, 0.0030839 ,\n",
      "       0.00300417, 0.00295777, 0.00297775, 0.0031971 , 0.00313215,\n",
      "       0.00323539, 0.00309758, 0.00313721, 0.00315952, 0.00317965,\n",
      "       0.00317264, 0.00316982, 0.00321054, 0.00313125, 0.00309663,\n",
      "       0.00314474, 0.0031044 , 0.00312972, 0.00310569, 0.00311232,\n",
      "       0.00310631, 0.00282335, 0.00276489, 0.00277662, 0.0027595 ,\n",
      "       0.00276866, 0.00275335, 0.0027936 , 0.00277648, 0.00272117,\n",
      "       0.00241475, 0.00243268, 0.00246882, 0.00249724, 0.00240021,\n",
      "       0.0025393 , 0.0024837 , 0.00247297, 0.0025044 ]), 'std_score_time': array([5.40260078e-05, 1.29038109e-04, 8.78405232e-05, 9.19899583e-05,\n",
      "       7.35075683e-05, 1.30576490e-04, 5.12187481e-05, 1.45248355e-04,\n",
      "       7.32883976e-05, 6.03514615e-05, 1.05857097e-04, 8.61018718e-05,\n",
      "       3.12862594e-05, 7.77020159e-05, 5.55205975e-05, 4.61098327e-05,\n",
      "       9.58570073e-05, 3.30613592e-05, 5.94036528e-05, 4.83642181e-05,\n",
      "       1.90668774e-04, 4.01604473e-05, 7.46796716e-05, 8.72175962e-05,\n",
      "       5.84926640e-05, 1.02547331e-04, 8.78639458e-05, 5.75943493e-05,\n",
      "       3.79699534e-05, 7.02274461e-05, 1.02657891e-04, 8.54917829e-05,\n",
      "       5.95979687e-05, 3.51531520e-05, 9.27339047e-05, 7.43856185e-05,\n",
      "       9.26080617e-05, 7.00068730e-05, 1.04703647e-04, 8.28572312e-05,\n",
      "       6.90197038e-05, 9.67548773e-05, 8.35214823e-05, 1.34767426e-04,\n",
      "       5.13255787e-05, 7.26065647e-05, 7.99816124e-05, 9.00516789e-05,\n",
      "       7.01694029e-05, 5.89206744e-05, 9.49987198e-05, 1.28801246e-04,\n",
      "       6.54486749e-05, 7.74501571e-05, 1.19963985e-04, 1.43386654e-04,\n",
      "       5.29575700e-05, 1.38846056e-04, 8.05228741e-05, 2.74808142e-04,\n",
      "       9.27252246e-05, 1.22739441e-04, 4.46530948e-05, 2.45227416e-04,\n",
      "       1.09538369e-04, 1.68610010e-04, 9.15363913e-05, 9.51299811e-05,\n",
      "       1.37040959e-04, 8.70776461e-05, 6.96970546e-05, 1.31172468e-04,\n",
      "       1.76852467e-04, 1.18040612e-04, 8.21339236e-05, 6.84373461e-05,\n",
      "       1.02243761e-04, 7.70190177e-05, 8.75016844e-05, 9.02962644e-05,\n",
      "       8.40759245e-05, 1.56836373e-04, 1.20481323e-04, 1.26341332e-04,\n",
      "       2.52473455e-05, 9.86992562e-05, 1.20548979e-04, 8.67965973e-05,\n",
      "       1.87166426e-04, 6.60269855e-05, 7.46708415e-05, 6.98315930e-05,\n",
      "       1.05505326e-04, 9.24727782e-05, 8.09764969e-05, 8.80684281e-05,\n",
      "       7.54688168e-05, 1.58694573e-04, 6.00787192e-05]), 'param_C': masked_array(data=[0.001, 0.001, 0.001, 0.001, 0.001, 0.001, 0.001, 0.001,\n",
      "                   0.001, 0.01, 0.01, 0.01, 0.01, 0.01, 0.01, 0.01, 0.01,\n",
      "                   0.01, 0.1, 0.1, 0.1, 0.1, 0.1, 0.1, 0.1, 0.1, 0.1, 1.0,\n",
      "                   1.0, 1.0, 1.0, 1.0, 1.0, 1.0, 1.0, 1.0, 10.0, 10.0,\n",
      "                   10.0, 10.0, 10.0, 10.0, 10.0, 10.0, 10.0, 100.0, 100.0,\n",
      "                   100.0, 100.0, 100.0, 100.0, 100.0, 100.0, 100.0,\n",
      "                   1000.0, 1000.0, 1000.0, 1000.0, 1000.0, 1000.0, 1000.0,\n",
      "                   1000.0, 1000.0, 10000.0, 10000.0, 10000.0, 10000.0,\n",
      "                   10000.0, 10000.0, 10000.0, 10000.0, 10000.0, 100000.0,\n",
      "                   100000.0, 100000.0, 100000.0, 100000.0, 100000.0,\n",
      "                   100000.0, 100000.0, 100000.0, 1000000.0, 1000000.0,\n",
      "                   1000000.0, 1000000.0, 1000000.0, 1000000.0, 1000000.0,\n",
      "                   1000000.0, 1000000.0, 10000000.0, 10000000.0,\n",
      "                   10000000.0, 10000000.0, 10000000.0, 10000000.0,\n",
      "                   10000000.0, 10000000.0, 10000000.0],\n",
      "             mask=[False, False, False, False, False, False, False, False,\n",
      "                   False, False, False, False, False, False, False, False,\n",
      "                   False, False, False, False, False, False, False, False,\n",
      "                   False, False, False, False, False, False, False, False,\n",
      "                   False, False, False, False, False, False, False, False,\n",
      "                   False, False, False, False, False, False, False, False,\n",
      "                   False, False, False, False, False, False, False, False,\n",
      "                   False, False, False, False, False, False, False, False,\n",
      "                   False, False, False, False, False, False, False, False,\n",
      "                   False, False, False, False, False, False, False, False,\n",
      "                   False, False, False, False, False, False, False, False,\n",
      "                   False, False, False, False, False, False, False, False,\n",
      "                   False, False, False],\n",
      "       fill_value='?',\n",
      "            dtype=object), 'param_gamma': masked_array(data=[1e-05, 0.0001, 0.001, 0.01, 0.1, 1.0, 10.0, 100.0,\n",
      "                   1000.0, 1e-05, 0.0001, 0.001, 0.01, 0.1, 1.0, 10.0,\n",
      "                   100.0, 1000.0, 1e-05, 0.0001, 0.001, 0.01, 0.1, 1.0,\n",
      "                   10.0, 100.0, 1000.0, 1e-05, 0.0001, 0.001, 0.01, 0.1,\n",
      "                   1.0, 10.0, 100.0, 1000.0, 1e-05, 0.0001, 0.001, 0.01,\n",
      "                   0.1, 1.0, 10.0, 100.0, 1000.0, 1e-05, 0.0001, 0.001,\n",
      "                   0.01, 0.1, 1.0, 10.0, 100.0, 1000.0, 1e-05, 0.0001,\n",
      "                   0.001, 0.01, 0.1, 1.0, 10.0, 100.0, 1000.0, 1e-05,\n",
      "                   0.0001, 0.001, 0.01, 0.1, 1.0, 10.0, 100.0, 1000.0,\n",
      "                   1e-05, 0.0001, 0.001, 0.01, 0.1, 1.0, 10.0, 100.0,\n",
      "                   1000.0, 1e-05, 0.0001, 0.001, 0.01, 0.1, 1.0, 10.0,\n",
      "                   100.0, 1000.0, 1e-05, 0.0001, 0.001, 0.01, 0.1, 1.0,\n",
      "                   10.0, 100.0, 1000.0],\n",
      "             mask=[False, False, False, False, False, False, False, False,\n",
      "                   False, False, False, False, False, False, False, False,\n",
      "                   False, False, False, False, False, False, False, False,\n",
      "                   False, False, False, False, False, False, False, False,\n",
      "                   False, False, False, False, False, False, False, False,\n",
      "                   False, False, False, False, False, False, False, False,\n",
      "                   False, False, False, False, False, False, False, False,\n",
      "                   False, False, False, False, False, False, False, False,\n",
      "                   False, False, False, False, False, False, False, False,\n",
      "                   False, False, False, False, False, False, False, False,\n",
      "                   False, False, False, False, False, False, False, False,\n",
      "                   False, False, False, False, False, False, False, False,\n",
      "                   False, False, False],\n",
      "       fill_value='?',\n",
      "            dtype=object), 'params': [{'C': 0.001, 'gamma': 1e-05}, {'C': 0.001, 'gamma': 0.0001}, {'C': 0.001, 'gamma': 0.001}, {'C': 0.001, 'gamma': 0.01}, {'C': 0.001, 'gamma': 0.1}, {'C': 0.001, 'gamma': 1.0}, {'C': 0.001, 'gamma': 10.0}, {'C': 0.001, 'gamma': 100.0}, {'C': 0.001, 'gamma': 1000.0}, {'C': 0.01, 'gamma': 1e-05}, {'C': 0.01, 'gamma': 0.0001}, {'C': 0.01, 'gamma': 0.001}, {'C': 0.01, 'gamma': 0.01}, {'C': 0.01, 'gamma': 0.1}, {'C': 0.01, 'gamma': 1.0}, {'C': 0.01, 'gamma': 10.0}, {'C': 0.01, 'gamma': 100.0}, {'C': 0.01, 'gamma': 1000.0}, {'C': 0.1, 'gamma': 1e-05}, {'C': 0.1, 'gamma': 0.0001}, {'C': 0.1, 'gamma': 0.001}, {'C': 0.1, 'gamma': 0.01}, {'C': 0.1, 'gamma': 0.1}, {'C': 0.1, 'gamma': 1.0}, {'C': 0.1, 'gamma': 10.0}, {'C': 0.1, 'gamma': 100.0}, {'C': 0.1, 'gamma': 1000.0}, {'C': 1.0, 'gamma': 1e-05}, {'C': 1.0, 'gamma': 0.0001}, {'C': 1.0, 'gamma': 0.001}, {'C': 1.0, 'gamma': 0.01}, {'C': 1.0, 'gamma': 0.1}, {'C': 1.0, 'gamma': 1.0}, {'C': 1.0, 'gamma': 10.0}, {'C': 1.0, 'gamma': 100.0}, {'C': 1.0, 'gamma': 1000.0}, {'C': 10.0, 'gamma': 1e-05}, {'C': 10.0, 'gamma': 0.0001}, {'C': 10.0, 'gamma': 0.001}, {'C': 10.0, 'gamma': 0.01}, {'C': 10.0, 'gamma': 0.1}, {'C': 10.0, 'gamma': 1.0}, {'C': 10.0, 'gamma': 10.0}, {'C': 10.0, 'gamma': 100.0}, {'C': 10.0, 'gamma': 1000.0}, {'C': 100.0, 'gamma': 1e-05}, {'C': 100.0, 'gamma': 0.0001}, {'C': 100.0, 'gamma': 0.001}, {'C': 100.0, 'gamma': 0.01}, {'C': 100.0, 'gamma': 0.1}, {'C': 100.0, 'gamma': 1.0}, {'C': 100.0, 'gamma': 10.0}, {'C': 100.0, 'gamma': 100.0}, {'C': 100.0, 'gamma': 1000.0}, {'C': 1000.0, 'gamma': 1e-05}, {'C': 1000.0, 'gamma': 0.0001}, {'C': 1000.0, 'gamma': 0.001}, {'C': 1000.0, 'gamma': 0.01}, {'C': 1000.0, 'gamma': 0.1}, {'C': 1000.0, 'gamma': 1.0}, {'C': 1000.0, 'gamma': 10.0}, {'C': 1000.0, 'gamma': 100.0}, {'C': 1000.0, 'gamma': 1000.0}, {'C': 10000.0, 'gamma': 1e-05}, {'C': 10000.0, 'gamma': 0.0001}, {'C': 10000.0, 'gamma': 0.001}, {'C': 10000.0, 'gamma': 0.01}, {'C': 10000.0, 'gamma': 0.1}, {'C': 10000.0, 'gamma': 1.0}, {'C': 10000.0, 'gamma': 10.0}, {'C': 10000.0, 'gamma': 100.0}, {'C': 10000.0, 'gamma': 1000.0}, {'C': 100000.0, 'gamma': 1e-05}, {'C': 100000.0, 'gamma': 0.0001}, {'C': 100000.0, 'gamma': 0.001}, {'C': 100000.0, 'gamma': 0.01}, {'C': 100000.0, 'gamma': 0.1}, {'C': 100000.0, 'gamma': 1.0}, {'C': 100000.0, 'gamma': 10.0}, {'C': 100000.0, 'gamma': 100.0}, {'C': 100000.0, 'gamma': 1000.0}, {'C': 1000000.0, 'gamma': 1e-05}, {'C': 1000000.0, 'gamma': 0.0001}, {'C': 1000000.0, 'gamma': 0.001}, {'C': 1000000.0, 'gamma': 0.01}, {'C': 1000000.0, 'gamma': 0.1}, {'C': 1000000.0, 'gamma': 1.0}, {'C': 1000000.0, 'gamma': 10.0}, {'C': 1000000.0, 'gamma': 100.0}, {'C': 1000000.0, 'gamma': 1000.0}, {'C': 10000000.0, 'gamma': 1e-05}, {'C': 10000000.0, 'gamma': 0.0001}, {'C': 10000000.0, 'gamma': 0.001}, {'C': 10000000.0, 'gamma': 0.01}, {'C': 10000000.0, 'gamma': 0.1}, {'C': 10000000.0, 'gamma': 1.0}, {'C': 10000000.0, 'gamma': 10.0}, {'C': 10000000.0, 'gamma': 100.0}, {'C': 10000000.0, 'gamma': 1000.0}], 'split0_test_score': array([0.585, 0.585, 0.585, 0.585, 0.585, 0.585, 0.585, 0.585, 0.585,\n",
      "       0.585, 0.585, 0.585, 0.585, 0.585, 0.585, 0.585, 0.585, 0.585,\n",
      "       0.585, 0.585, 0.585, 0.585, 0.585, 0.585, 0.585, 0.585, 0.585,\n",
      "       0.66 , 0.66 , 0.66 , 0.66 , 0.66 , 0.66 , 0.66 , 0.66 , 0.66 ,\n",
      "       0.66 , 0.66 , 0.66 , 0.66 , 0.66 , 0.66 , 0.66 , 0.66 , 0.66 ,\n",
      "       0.665, 0.665, 0.665, 0.665, 0.665, 0.665, 0.665, 0.665, 0.665,\n",
      "       0.68 , 0.68 , 0.68 , 0.68 , 0.68 , 0.68 , 0.68 , 0.68 , 0.68 ,\n",
      "       0.675, 0.675, 0.675, 0.675, 0.675, 0.675, 0.675, 0.675, 0.675,\n",
      "       0.67 , 0.67 , 0.67 , 0.67 , 0.67 , 0.67 , 0.67 , 0.67 , 0.67 ,\n",
      "       0.68 , 0.68 , 0.68 , 0.68 , 0.68 , 0.68 , 0.68 , 0.68 , 0.68 ,\n",
      "       0.645, 0.645, 0.645, 0.645, 0.645, 0.645, 0.645, 0.645, 0.645]), 'split1_test_score': array([0.63 , 0.63 , 0.63 , 0.63 , 0.63 , 0.63 , 0.63 , 0.63 , 0.63 ,\n",
      "       0.63 , 0.63 , 0.63 , 0.63 , 0.63 , 0.63 , 0.63 , 0.63 , 0.63 ,\n",
      "       0.63 , 0.63 , 0.63 , 0.63 , 0.63 , 0.63 , 0.63 , 0.63 , 0.63 ,\n",
      "       0.69 , 0.69 , 0.69 , 0.69 , 0.69 , 0.69 , 0.69 , 0.69 , 0.69 ,\n",
      "       0.68 , 0.68 , 0.68 , 0.68 , 0.68 , 0.68 , 0.68 , 0.68 , 0.68 ,\n",
      "       0.7  , 0.7  , 0.7  , 0.7  , 0.7  , 0.7  , 0.7  , 0.7  , 0.7  ,\n",
      "       0.705, 0.705, 0.705, 0.705, 0.705, 0.705, 0.705, 0.705, 0.705,\n",
      "       0.695, 0.695, 0.695, 0.695, 0.695, 0.695, 0.695, 0.695, 0.695,\n",
      "       0.71 , 0.71 , 0.71 , 0.71 , 0.71 , 0.71 , 0.71 , 0.71 , 0.71 ,\n",
      "       0.69 , 0.69 , 0.69 , 0.69 , 0.69 , 0.69 , 0.69 , 0.69 , 0.69 ,\n",
      "       0.705, 0.705, 0.705, 0.705, 0.705, 0.705, 0.705, 0.705, 0.705]), 'split2_test_score': array([0.61 , 0.61 , 0.61 , 0.61 , 0.61 , 0.61 , 0.61 , 0.61 , 0.61 ,\n",
      "       0.61 , 0.61 , 0.61 , 0.61 , 0.61 , 0.61 , 0.61 , 0.61 , 0.61 ,\n",
      "       0.63 , 0.63 , 0.63 , 0.63 , 0.63 , 0.63 , 0.63 , 0.63 , 0.63 ,\n",
      "       0.69 , 0.69 , 0.69 , 0.69 , 0.69 , 0.69 , 0.69 , 0.69 , 0.69 ,\n",
      "       0.695, 0.695, 0.695, 0.695, 0.695, 0.695, 0.695, 0.695, 0.695,\n",
      "       0.69 , 0.69 , 0.69 , 0.69 , 0.69 , 0.69 , 0.69 , 0.69 , 0.69 ,\n",
      "       0.69 , 0.69 , 0.69 , 0.69 , 0.69 , 0.69 , 0.69 , 0.69 , 0.69 ,\n",
      "       0.69 , 0.69 , 0.69 , 0.69 , 0.69 , 0.69 , 0.69 , 0.69 , 0.69 ,\n",
      "       0.69 , 0.69 , 0.69 , 0.69 , 0.69 , 0.69 , 0.69 , 0.69 , 0.69 ,\n",
      "       0.7  , 0.7  , 0.7  , 0.7  , 0.7  , 0.7  , 0.7  , 0.7  , 0.7  ,\n",
      "       0.69 , 0.69 , 0.69 , 0.69 , 0.69 , 0.69 , 0.69 , 0.69 , 0.69 ]), 'split3_test_score': array([0.64 , 0.64 , 0.64 , 0.64 , 0.64 , 0.64 , 0.64 , 0.64 , 0.64 ,\n",
      "       0.64 , 0.64 , 0.64 , 0.64 , 0.64 , 0.64 , 0.64 , 0.64 , 0.64 ,\n",
      "       0.64 , 0.64 , 0.64 , 0.64 , 0.64 , 0.64 , 0.64 , 0.64 , 0.64 ,\n",
      "       0.685, 0.685, 0.685, 0.685, 0.685, 0.685, 0.685, 0.685, 0.685,\n",
      "       0.7  , 0.7  , 0.7  , 0.7  , 0.7  , 0.7  , 0.7  , 0.7  , 0.7  ,\n",
      "       0.695, 0.695, 0.695, 0.695, 0.695, 0.695, 0.695, 0.695, 0.695,\n",
      "       0.7  , 0.7  , 0.7  , 0.7  , 0.7  , 0.7  , 0.7  , 0.7  , 0.7  ,\n",
      "       0.7  , 0.7  , 0.7  , 0.7  , 0.7  , 0.7  , 0.7  , 0.7  , 0.7  ,\n",
      "       0.69 , 0.69 , 0.69 , 0.69 , 0.69 , 0.69 , 0.69 , 0.69 , 0.69 ,\n",
      "       0.705, 0.705, 0.705, 0.705, 0.705, 0.705, 0.705, 0.705, 0.705,\n",
      "       0.695, 0.695, 0.695, 0.695, 0.695, 0.695, 0.695, 0.695, 0.695]), 'split4_test_score': array([0.605, 0.605, 0.605, 0.605, 0.605, 0.605, 0.605, 0.605, 0.605,\n",
      "       0.605, 0.605, 0.605, 0.605, 0.605, 0.605, 0.605, 0.605, 0.605,\n",
      "       0.605, 0.605, 0.605, 0.605, 0.605, 0.605, 0.605, 0.605, 0.605,\n",
      "       0.7  , 0.7  , 0.7  , 0.7  , 0.7  , 0.7  , 0.7  , 0.7  , 0.7  ,\n",
      "       0.75 , 0.75 , 0.75 , 0.75 , 0.75 , 0.75 , 0.75 , 0.75 , 0.75 ,\n",
      "       0.75 , 0.75 , 0.75 , 0.75 , 0.75 , 0.75 , 0.75 , 0.75 , 0.75 ,\n",
      "       0.745, 0.745, 0.745, 0.745, 0.745, 0.745, 0.745, 0.745, 0.745,\n",
      "       0.75 , 0.75 , 0.75 , 0.75 , 0.75 , 0.75 , 0.75 , 0.75 , 0.75 ,\n",
      "       0.75 , 0.75 , 0.75 , 0.75 , 0.75 , 0.75 , 0.75 , 0.75 , 0.75 ,\n",
      "       0.72 , 0.72 , 0.72 , 0.72 , 0.72 , 0.72 , 0.72 , 0.72 , 0.72 ,\n",
      "       0.715, 0.715, 0.715, 0.715, 0.715, 0.715, 0.715, 0.715, 0.715]), 'mean_test_score': array([0.614, 0.614, 0.614, 0.614, 0.614, 0.614, 0.614, 0.614, 0.614,\n",
      "       0.614, 0.614, 0.614, 0.614, 0.614, 0.614, 0.614, 0.614, 0.614,\n",
      "       0.618, 0.618, 0.618, 0.618, 0.618, 0.618, 0.618, 0.618, 0.618,\n",
      "       0.685, 0.685, 0.685, 0.685, 0.685, 0.685, 0.685, 0.685, 0.685,\n",
      "       0.697, 0.697, 0.697, 0.697, 0.697, 0.697, 0.697, 0.697, 0.697,\n",
      "       0.7  , 0.7  , 0.7  , 0.7  , 0.7  , 0.7  , 0.7  , 0.7  , 0.7  ,\n",
      "       0.704, 0.704, 0.704, 0.704, 0.704, 0.704, 0.704, 0.704, 0.704,\n",
      "       0.702, 0.702, 0.702, 0.702, 0.702, 0.702, 0.702, 0.702, 0.702,\n",
      "       0.702, 0.702, 0.702, 0.702, 0.702, 0.702, 0.702, 0.702, 0.702,\n",
      "       0.699, 0.699, 0.699, 0.699, 0.699, 0.699, 0.699, 0.699, 0.699,\n",
      "       0.69 , 0.69 , 0.69 , 0.69 , 0.69 , 0.69 , 0.69 , 0.69 , 0.69 ]), 'std_test_score': array([0.01933908, 0.01933908, 0.01933908, 0.01933908, 0.01933908,\n",
      "       0.01933908, 0.01933908, 0.01933908, 0.01933908, 0.01933908,\n",
      "       0.01933908, 0.01933908, 0.01933908, 0.01933908, 0.01933908,\n",
      "       0.01933908, 0.01933908, 0.01933908, 0.02014944, 0.02014944,\n",
      "       0.02014944, 0.02014944, 0.02014944, 0.02014944, 0.02014944,\n",
      "       0.02014944, 0.02014944, 0.01341641, 0.01341641, 0.01341641,\n",
      "       0.01341641, 0.01341641, 0.01341641, 0.01341641, 0.01341641,\n",
      "       0.01341641, 0.02993326, 0.02993326, 0.02993326, 0.02993326,\n",
      "       0.02993326, 0.02993326, 0.02993326, 0.02993326, 0.02993326,\n",
      "       0.02774887, 0.02774887, 0.02774887, 0.02774887, 0.02774887,\n",
      "       0.02774887, 0.02774887, 0.02774887, 0.02774887, 0.02222611,\n",
      "       0.02222611, 0.02222611, 0.02222611, 0.02222611, 0.02222611,\n",
      "       0.02222611, 0.02222611, 0.02222611, 0.02541653, 0.02541653,\n",
      "       0.02541653, 0.02541653, 0.02541653, 0.02541653, 0.02541653,\n",
      "       0.02541653, 0.02541653, 0.02712932, 0.02712932, 0.02712932,\n",
      "       0.02712932, 0.02712932, 0.02712932, 0.02712932, 0.02712932,\n",
      "       0.02712932, 0.01356466, 0.01356466, 0.01356466, 0.01356466,\n",
      "       0.01356466, 0.01356466, 0.01356466, 0.01356466, 0.01356466,\n",
      "       0.02408319, 0.02408319, 0.02408319, 0.02408319, 0.02408319,\n",
      "       0.02408319, 0.02408319, 0.02408319, 0.02408319]), 'rank_test_score': array([82, 82, 82, 82, 82, 82, 82, 82, 82, 82, 82, 82, 82, 82, 82, 82, 82,\n",
      "       82, 73, 73, 73, 73, 73, 73, 73, 73, 73, 64, 64, 64, 64, 64, 64, 64,\n",
      "       64, 64, 46, 46, 46, 46, 46, 46, 46, 46, 46, 28, 28, 28, 28, 28, 28,\n",
      "       28, 28, 28,  1,  1,  1,  1,  1,  1,  1,  1,  1, 10, 10, 10, 10, 10,\n",
      "       10, 10, 10, 10, 10, 10, 10, 10, 10, 10, 10, 10, 10, 37, 37, 37, 37,\n",
      "       37, 37, 37, 37, 37, 55, 55, 55, 55, 55, 55, 55, 55, 55],\n",
      "      dtype=int32)}\n"
     ]
    }
   ],
   "source": [
    "print(grid.cv_results_)"
   ]
  },
  {
   "cell_type": "code",
   "execution_count": 37,
   "metadata": {},
   "outputs": [
    {
     "name": "stdout",
     "output_type": "stream",
     "text": [
      "SVC(C=1000.0, gamma=1e-05, kernel='linear')\n"
     ]
    }
   ],
   "source": [
    "print(grid.best_estimator_)"
   ]
  },
  {
   "cell_type": "code",
   "execution_count": 38,
   "metadata": {},
   "outputs": [
    {
     "name": "stdout",
     "output_type": "stream",
     "text": [
      "0.7040000000000001\n"
     ]
    }
   ],
   "source": [
    "print(grid.best_score_)"
   ]
  },
  {
   "cell_type": "code",
   "execution_count": 39,
   "metadata": {},
   "outputs": [
    {
     "name": "stdout",
     "output_type": "stream",
     "text": [
      "{'C': 1000.0, 'gamma': 1e-05}\n"
     ]
    }
   ],
   "source": [
    "print(grid.best_params_)"
   ]
  },
  {
   "cell_type": "code",
   "execution_count": 40,
   "metadata": {},
   "outputs": [
    {
     "name": "stdout",
     "output_type": "stream",
     "text": [
      "54\n"
     ]
    }
   ],
   "source": [
    "print(grid.best_index_)"
   ]
  },
  {
   "cell_type": "code",
   "execution_count": null,
   "metadata": {},
   "outputs": [],
   "source": []
  },
  {
   "cell_type": "code",
   "execution_count": 45,
   "metadata": {},
   "outputs": [
    {
     "name": "stdout",
     "output_type": "stream",
     "text": [
      "The best classifier is:  SVC(C=1000.0, gamma=0.1)\n"
     ]
    },
    {
     "ename": "AttributeError",
     "evalue": "'GridSearchCV' object has no attribute 'grid_scores_'",
     "output_type": "error",
     "traceback": [
      "\u001b[0;31m---------------------------------------------------------------------------\u001b[0m",
      "\u001b[0;31mAttributeError\u001b[0m                            Traceback (most recent call last)",
      "\u001b[0;32m<ipython-input-45-f599b98a7cc9>\u001b[0m in \u001b[0;36m<module>\u001b[0;34m\u001b[0m\n\u001b[1;32m     17\u001b[0m \u001b[0;31m# plot the scores of the grid\u001b[0m\u001b[0;34m\u001b[0m\u001b[0;34m\u001b[0m\u001b[0;34m\u001b[0m\u001b[0m\n\u001b[1;32m     18\u001b[0m \u001b[0;31m# grid_scores_ contains parameter settings and scores\u001b[0m\u001b[0;34m\u001b[0m\u001b[0;34m\u001b[0m\u001b[0;34m\u001b[0m\u001b[0m\n\u001b[0;32m---> 19\u001b[0;31m \u001b[0mscore_dict\u001b[0m \u001b[0;34m=\u001b[0m \u001b[0mgrid\u001b[0m\u001b[0;34m.\u001b[0m\u001b[0mgrid_scores_\u001b[0m\u001b[0;34m\u001b[0m\u001b[0;34m\u001b[0m\u001b[0m\n\u001b[0m\u001b[1;32m     20\u001b[0m \u001b[0;34m\u001b[0m\u001b[0m\n\u001b[1;32m     21\u001b[0m \u001b[0;31m# We extract just the scores\u001b[0m\u001b[0;34m\u001b[0m\u001b[0;34m\u001b[0m\u001b[0;34m\u001b[0m\u001b[0m\n",
      "\u001b[0;31mAttributeError\u001b[0m: 'GridSearchCV' object has no attribute 'grid_scores_'"
     ]
    }
   ],
   "source": [
    "C_range = 10. ** np.arange(-1, 4)\n",
    "gamma_range = 10. ** np.arange(-3, 3)\n",
    "\n",
    "param_grid = dict(gamma=gamma_range, C=C_range)\n",
    "svc=SVC(kernel='rbf')\n",
    "\n",
    "# kfolds = StratifiedKFold(5)\n",
    "# clf = GridSearchCV(estimator, parameters, scoring=qwk, cv=kfolds.split(xtrain,ytrain))\n",
    "# clf.fit(xtrain, ytrain)\n",
    "\n",
    "grid = GridSearchCV(svc, param_grid=param_grid, cv=StratifiedKFold(5).split(X_resampled,y_resampled))\n",
    "\n",
    "grid.fit(X_resampled, y_resampled)\n",
    "\n",
    "print(\"The best classifier is: \", grid.best_estimator_)"
   ]
  },
  {
   "cell_type": "code",
   "execution_count": null,
   "metadata": {},
   "outputs": [],
   "source": []
  },
  {
   "cell_type": "markdown",
   "metadata": {},
   "source": [
    "##### MFCCS - Train SVM Linear Model"
   ]
  },
  {
   "cell_type": "code",
   "execution_count": null,
   "metadata": {},
   "outputs": [],
   "source": [
    "from imblearn.under_sampling import RandomUnderSampler\n",
    "rus = RandomUnderSampler(random_state=0, sampling_strategy={\n",
    "        0: 40000,\n",
    "        1: 40000\n",
    "    })\n",
    "X_resampled, y_resampled = rus.fit_resample(X_train_scaled, y_train_resampled)\n",
    "print(X_resampled.shape, y_resampled.shape)\n",
    "print(type(X_resampled), type(y_resampled))"
   ]
  },
  {
   "cell_type": "code",
   "execution_count": 33,
   "metadata": {},
   "outputs": [
    {
     "name": "stdout",
     "output_type": "stream",
     "text": [
      " ====Start=======  SVM - 5 fold cross validation Linear Training Model\n",
      " Start Time  2021-06-07 20:41:07.141246\n",
      "{'fit_time': array([108.79930735, 107.52987671, 106.99064374, 109.36135912,\n",
      "       106.65539432]), 'score_time': array([16.38522744, 16.27266908, 16.18666959, 16.2809577 , 16.18437767]), 'test_accuracy': array([0.7033125, 0.7104375, 0.706125 , 0.706625 , 0.7068125]), 'train_accuracy': array([0.7054375 , 0.70267187, 0.704     , 0.70404687, 0.70434375]), 'test_precision': array([0.75167187, 0.74918759, 0.74342891, 0.74355151, 0.75593824]), 'train_precision': array([0.74359838, 0.74105615, 0.74210487, 0.74214302, 0.7424214 ]), 'test_recall': array([0.62183428, 0.63344573, 0.62521979, 0.62642884, 0.62562968]), 'train_recall': array([0.62332894, 0.622855  , 0.62638117, 0.62648647, 0.62185744])}\n",
      " ====End=======  SVM - 5 fold cross validation Linear Training Model\n",
      " End Time  2021-06-07 20:56:53.184576\n",
      "SVM - 5 fold cross validation Linear Training Model =====Total Time===== 0:15:46.043330\n"
     ]
    }
   ],
   "source": [
    "msg = \"SVM - 5 fold cross validation Linear Training Model\"\n",
    "start_time = startTime(msg)\n",
    "\n",
    "svc=SVC(kernel='linear')\n",
    "scoring = [\"accuracy\", \"precision\", \"recall\"]\n",
    "cv = ShuffleSplit(n_splits=5, test_size=0.2, random_state=0)\n",
    "# scores = cross_val_score(svc, X_scaled, y, cv=10, scoring=scoring) #cv is cross validation\n",
    "scores = cross_validate(svc, X_resampled, y_resampled, scoring=scoring, cv=cv, return_train_score=True)\n",
    "# svc.fit(X_resampled, y_resampled)\n",
    "print(scores)\n",
    "\n",
    "# end time\n",
    "end_time = endTime(msg)\n",
    "\n",
    "#total time\n",
    "totalTime(msg, start_time, end_time)"
   ]
  },
  {
   "cell_type": "code",
   "execution_count": null,
   "metadata": {},
   "outputs": [],
   "source": []
  },
  {
   "cell_type": "code",
   "execution_count": 34,
   "metadata": {},
   "outputs": [
    {
     "name": "stdout",
     "output_type": "stream",
     "text": [
      "[1 2 3 4 5]\n",
      "[0.7033125 0.7104375 0.706125  0.706625  0.7068125]\n",
      "[0.75167187 0.74918759 0.74342891 0.74355151 0.75593824]\n",
      "[0.62183428 0.63344573 0.62521979 0.62642884 0.62562968]\n"
     ]
    }
   ],
   "source": [
    "X_folds=np.arange(1,6,1)\n",
    "Y_accuracy = scores['test_accuracy']\n",
    "Y_precision = scores['test_precision']\n",
    "Y_recall = scores['test_recall']\n",
    "print(X_folds)\n",
    "print(Y_accuracy)\n",
    "print(Y_precision)\n",
    "print(Y_recall)"
   ]
  },
  {
   "cell_type": "code",
   "execution_count": 35,
   "metadata": {},
   "outputs": [
    {
     "data": {
      "image/png": "[encoded data removed]",
      "text/plain": [
       "<Figure size 1800x1200 with 1 Axes>"
      ]
     },
     "metadata": {
      "needs_background": "light"
     },
     "output_type": "display_data"
    }
   ],
   "source": [
    "plt.plot(X_folds, Y_accuracy, label=\"Accuracy\", linestyle=\"-\", color=\"blue\")\n",
    "plt.plot(X_folds, Y_precision, label=\"Precision\", linestyle=\"--\", color=\"green\")\n",
    "plt.plot(X_folds, Y_recall, label=\"Recall\", linestyle=\"-.\", color=\"red\")\n",
    "plt.legend()\n",
    "plt.title(\"SVM Linear-Accuracy, Precision, Recall\")\n",
    "# plt.figure(dpi=800)\n",
    "plt.rcParams[\"figure.dpi\"]=300\n",
    "plt.show()"
   ]
  },
  {
   "cell_type": "code",
   "execution_count": 36,
   "metadata": {},
   "outputs": [],
   "source": [
    "mean_test_accuracy = np.mean(scores['test_accuracy'])\n",
    "mean_test_precision = np.mean(scores['test_precision'])\n",
    "mean_test_recall = np.mean(scores['test_recall'])"
   ]
  },
  {
   "cell_type": "code",
   "execution_count": 37,
   "metadata": {},
   "outputs": [
    {
     "name": "stdout",
     "output_type": "stream",
     "text": [
      "0.7066625\n",
      "0.7487556257522483\n",
      "0.6265116659433655\n"
     ]
    }
   ],
   "source": [
    "print(mean_test_accuracy)\n",
    "print(mean_test_precision)\n",
    "print(mean_test_recall)"
   ]
  },
  {
   "cell_type": "code",
   "execution_count": null,
   "metadata": {},
   "outputs": [],
   "source": []
  },
  {
   "cell_type": "markdown",
   "metadata": {},
   "source": [
    "##### MFCCS - Testing SVM Linear Model"
   ]
  },
  {
   "cell_type": "code",
   "execution_count": 38,
   "metadata": {},
   "outputs": [
    {
     "name": "stdout",
     "output_type": "stream",
     "text": [
      "(25919, 13) (25919,)\n",
      "(25919, 13) 1.0 (25919,)\n"
     ]
    }
   ],
   "source": [
    "## Normalizing the validation dataset\n",
    "print(X_val.shape, y_val.shape)\n",
    "# X_val_scaled = normalizeData(X_val)\n",
    "print(X_val_scaled.shape, X_val_scaled.max(), y_val.shape)"
   ]
  },
  {
   "cell_type": "code",
   "execution_count": 39,
   "metadata": {},
   "outputs": [
    {
     "name": "stdout",
     "output_type": "stream",
     "text": [
      "0:15:04.670989\n"
     ]
    }
   ],
   "source": [
    "## fitting the svm linear model\n",
    "start_time = datetime.datetime.now()\n",
    "\n",
    "svc.fit(X_train_scaled, y_train_resampled)\n",
    "\n",
    "end_time = datetime.datetime.now()\n",
    "total_time = end_time - start_time\n",
    "print(total_time)"
   ]
  },
  {
   "cell_type": "code",
   "execution_count": 40,
   "metadata": {},
   "outputs": [
    {
     "name": "stdout",
     "output_type": "stream",
     "text": [
      "0:01:16.248698\n"
     ]
    }
   ],
   "source": [
    "## Validating against the validation dataset\n",
    "\n",
    "start_time = datetime.datetime.now()\n",
    "#testing the SVM model\n",
    "y_pred = svc.predict(X_val_scaled)\n",
    "\n",
    "end_time = datetime.datetime.now()\n",
    "total_time = end_time - start_time\n",
    "print(total_time)"
   ]
  },
  {
   "cell_type": "code",
   "execution_count": null,
   "metadata": {},
   "outputs": [],
   "source": []
  },
  {
   "cell_type": "code",
   "execution_count": 41,
   "metadata": {},
   "outputs": [
    {
     "name": "stdout",
     "output_type": "stream",
     "text": [
      "Accuracy: 0.648250\n",
      "Precision: 0.541168\n",
      "Recall: 0.759410\n",
      "F1 score: 0.631978\n",
      "Cohens kappa: 0.312833\n",
      "ROC AUC: 0.667131\n",
      "[[8974 6637]\n",
      " [2480 7828]]\n"
     ]
    }
   ],
   "source": [
    "from sklearn.metrics import accuracy_score\n",
    "from sklearn.metrics import precision_score\n",
    "from sklearn.metrics import recall_score\n",
    "from sklearn.metrics import f1_score\n",
    "from sklearn.metrics import cohen_kappa_score\n",
    "from sklearn.metrics import roc_auc_score\n",
    "from sklearn.metrics import confusion_matrix\n",
    "\n",
    "# accuracy: (tp + tn) / (p + n)\n",
    "accuracy = accuracy_score(y_val, y_pred)\n",
    "print('Accuracy: %f' % accuracy)\n",
    "\n",
    "# precision tp / (tp + fp)\n",
    "precision = precision_score(y_val, y_pred)\n",
    "print('Precision: %f' % precision)\n",
    "\n",
    "# recall: tp / (tp + fn)\n",
    "recall = recall_score(y_val, y_pred)\n",
    "print('Recall: %f' % recall)\n",
    "\n",
    "# f1: 2 tp / (2 tp + fp + fn)\n",
    "f1 = f1_score(y_val, y_pred)\n",
    "print('F1 score: %f' % f1)\n",
    " \n",
    "# kappa\n",
    "kappa = cohen_kappa_score(y_val, y_pred)\n",
    "print('Cohens kappa: %f' % kappa)\n",
    "\n",
    "# ROC AUC\n",
    "auc = roc_auc_score(y_val, y_pred)\n",
    "print('ROC AUC: %f' % auc)\n",
    "\n",
    "# confusion matrix\n",
    "matrix = confusion_matrix(y_val, y_pred)\n",
    "print(matrix)"
   ]
  },
  {
   "cell_type": "code",
   "execution_count": null,
   "metadata": {},
   "outputs": [],
   "source": []
  },
  {
   "cell_type": "markdown",
   "metadata": {},
   "source": [
    "##### MFCCS - Train SVM RBF Model"
   ]
  },
  {
   "cell_type": "code",
   "execution_count": 44,
   "metadata": {},
   "outputs": [
    {
     "name": "stdout",
     "output_type": "stream",
     "text": [
      "(80000, 13) (80000,)\n",
      "<class 'numpy.ndarray'> <class 'pandas.core.series.Series'>\n"
     ]
    }
   ],
   "source": [
    "from imblearn.under_sampling import RandomUnderSampler\n",
    "rus = RandomUnderSampler(random_state=0, sampling_strategy={\n",
    "        0: 40000,\n",
    "        1: 40000\n",
    "    })\n",
    "X_resampled, y_resampled = rus.fit_resample(X_train_scaled, y_train_resampled)\n",
    "print(X_resampled.shape, y_resampled.shape)\n",
    "print(type(X_resampled), type(y_resampled))"
   ]
  },
  {
   "cell_type": "code",
   "execution_count": 45,
   "metadata": {},
   "outputs": [
    {
     "name": "stdout",
     "output_type": "stream",
     "text": [
      "1.0\n"
     ]
    }
   ],
   "source": [
    "print(X_resampled.max())"
   ]
  },
  {
   "cell_type": "code",
   "execution_count": 47,
   "metadata": {},
   "outputs": [
    {
     "name": "stdout",
     "output_type": "stream",
     "text": [
      " ====Start=======  SVM - 5 fold cross validation RBF Training Model\n",
      " Start Time  2021-06-07 21:15:32.101226\n",
      "{'fit_time': array([146.89881587, 142.53197122, 139.50739026, 143.22865105,\n",
      "       141.71344972]), 'score_time': array([30.45824122, 30.21077442, 30.16076064, 30.30497122, 30.08000469]), 'test_accuracy': array([0.8045625, 0.804875 , 0.8024375, 0.801625 , 0.800875 ]), 'train_accuracy': array([0.81003125, 0.81020313, 0.811     , 0.811     , 0.81048438]), 'test_precision': array([0.84469228, 0.83620096, 0.83681774, 0.83036577, 0.83461694]), 'train_precision': array([0.84332102, 0.84276339, 0.84311769, 0.8423691 , 0.84185724]), 'test_recall': array([0.75424146, 0.75871113, 0.74905803, 0.75568396, 0.75893844]), 'train_recall': array([0.75958702, 0.76260432, 0.76474811, 0.76575424, 0.76256238])}\n",
      " ====End=======  SVM - 5 fold cross validation RBF Training Model\n",
      " End Time  2021-06-07 21:40:02.121478\n",
      "SVM - 5 fold cross validation RBF Training Model =====Total Time===== 0:24:30.020252\n"
     ]
    }
   ],
   "source": [
    "msg = \"SVM - 5 fold cross validation RBF Training Model\"\n",
    "start_time = startTime(msg)\n",
    "\n",
    "svc=SVC(kernel='rbf')\n",
    "scoring = [\"accuracy\", \"precision\", \"recall\"]\n",
    "cv = ShuffleSplit(n_splits=5, test_size=0.2, random_state=0)\n",
    "# scores = cross_val_score(svc, X_scaled, y, cv=10, scoring=scoring) #cv is cross validation\n",
    "scores = cross_validate(svc, X_resampled, y_resampled, scoring=scoring, cv=cv, return_train_score=True)\n",
    "# svc.fit(X_resampled, y_resampled)\n",
    "print(scores)\n",
    "\n",
    "# end time\n",
    "end_time = endTime(msg)\n",
    "\n",
    "#total time\n",
    "totalTime(msg, start_time, end_time)"
   ]
  },
  {
   "cell_type": "code",
   "execution_count": 48,
   "metadata": {},
   "outputs": [
    {
     "name": "stdout",
     "output_type": "stream",
     "text": [
      "[1 2 3 4 5]\n",
      "[0.8045625 0.804875  0.8024375 0.801625  0.800875 ]\n",
      "[0.84469228 0.83620096 0.83681774 0.83036577 0.83461694]\n",
      "[0.75424146 0.75871113 0.74905803 0.75568396 0.75893844]\n"
     ]
    }
   ],
   "source": [
    "X_folds=np.arange(1,6,1)\n",
    "Y_accuracy = scores['test_accuracy']\n",
    "Y_precision = scores['test_precision']\n",
    "Y_recall = scores['test_recall']\n",
    "print(X_folds)\n",
    "print(Y_accuracy)\n",
    "print(Y_precision)\n",
    "print(Y_recall)\n"
   ]
  },
  {
   "cell_type": "code",
   "execution_count": 49,
   "metadata": {},
   "outputs": [
    {
     "data": {
      "image/png": "[encoded data removed]",
      "text/plain": [
       "<Figure size 1800x1200 with 1 Axes>"
      ]
     },
     "metadata": {
      "needs_background": "light"
     },
     "output_type": "display_data"
    }
   ],
   "source": [
    "plt.plot(X_folds, Y_accuracy, label=\"Accuracy\", linestyle=\"-\", color=\"blue\")\n",
    "plt.plot(X_folds, Y_precision, label=\"Precision\", linestyle=\"--\", color=\"green\")\n",
    "plt.plot(X_folds, Y_recall, label=\"Recall\", linestyle=\"-.\", color=\"red\")\n",
    "plt.legend()\n",
    "plt.title(\"SVM RBF-Accuracy, Precision, Recall\")\n",
    "# plt.figure(dpi=800)\n",
    "plt.rcParams[\"figure.dpi\"]=300\n",
    "plt.show()"
   ]
  },
  {
   "cell_type": "code",
   "execution_count": null,
   "metadata": {},
   "outputs": [],
   "source": []
  },
  {
   "cell_type": "code",
   "execution_count": 50,
   "metadata": {},
   "outputs": [],
   "source": [
    "mean_test_accuracy = np.mean(scores['test_accuracy'])\n",
    "mean_test_precision = np.mean(scores['test_precision'])\n",
    "mean_test_recall = np.mean(scores['test_recall'])"
   ]
  },
  {
   "cell_type": "code",
   "execution_count": 51,
   "metadata": {},
   "outputs": [
    {
     "name": "stdout",
     "output_type": "stream",
     "text": [
      "0.8028749999999999\n",
      "0.836538737593556\n",
      "0.7553266025662504\n"
     ]
    }
   ],
   "source": [
    "print(mean_test_accuracy)\n",
    "print(mean_test_precision)\n",
    "print(mean_test_recall)"
   ]
  },
  {
   "cell_type": "markdown",
   "metadata": {},
   "source": [
    "##### MFCCS - Testing SVM RBF Model"
   ]
  },
  {
   "cell_type": "code",
   "execution_count": 53,
   "metadata": {},
   "outputs": [
    {
     "name": "stdout",
     "output_type": "stream",
     "text": [
      "0:18:18.402649\n"
     ]
    }
   ],
   "source": [
    "## fitting the svm linear model\n",
    "start_time = datetime.datetime.now()\n",
    "\n",
    "svc.fit(X_train_scaled, y_train_resampled)\n",
    "\n",
    "end_time = datetime.datetime.now()\n",
    "total_time = end_time - start_time\n",
    "print(total_time)"
   ]
  },
  {
   "cell_type": "code",
   "execution_count": 52,
   "metadata": {},
   "outputs": [
    {
     "name": "stdout",
     "output_type": "stream",
     "text": [
      "1.0\n"
     ]
    }
   ],
   "source": [
    "print(X_val_scaled.max())"
   ]
  },
  {
   "cell_type": "code",
   "execution_count": 54,
   "metadata": {},
   "outputs": [
    {
     "name": "stdout",
     "output_type": "stream",
     "text": [
      "0:02:11.154978\n"
     ]
    }
   ],
   "source": [
    "## Validating against the validation dataset\n",
    "\n",
    "start_time = datetime.datetime.now()\n",
    "#testing the SVM model\n",
    "y_pred = svc.predict(X_val_scaled)\n",
    "\n",
    "end_time = datetime.datetime.now()\n",
    "total_time = end_time - start_time\n",
    "print(total_time)"
   ]
  },
  {
   "cell_type": "code",
   "execution_count": 56,
   "metadata": {},
   "outputs": [
    {
     "name": "stdout",
     "output_type": "stream",
     "text": [
      "Accuracy: 0.762877\n",
      "Precision: 0.655600\n",
      "Recall: 0.850601\n",
      "F1 score: 0.740478\n",
      "Cohens kappa: 0.528837\n",
      "ROC AUC: 0.777777\n",
      "[[11005  4606]\n",
      " [ 1540  8768]]\n"
     ]
    }
   ],
   "source": [
    "from sklearn.metrics import accuracy_score\n",
    "from sklearn.metrics import precision_score\n",
    "from sklearn.metrics import recall_score\n",
    "from sklearn.metrics import f1_score\n",
    "from sklearn.metrics import cohen_kappa_score\n",
    "from sklearn.metrics import roc_auc_score\n",
    "from sklearn.metrics import confusion_matrix\n",
    "\n",
    "# accuracy: (tp + tn) / (p + n)\n",
    "accuracy = accuracy_score(y_val, y_pred)\n",
    "print('Accuracy: %f' % accuracy)\n",
    "\n",
    "# precision tp / (tp + fp)\n",
    "precision = precision_score(y_val, y_pred)\n",
    "print('Precision: %f' % precision)\n",
    "\n",
    "# recall: tp / (tp + fn)\n",
    "recall = recall_score(y_val, y_pred)\n",
    "print('Recall: %f' % recall)\n",
    "\n",
    "# f1: 2 tp / (2 tp + fp + fn)\n",
    "f1 = f1_score(y_val, y_pred)\n",
    "print('F1 score: %f' % f1)\n",
    " \n",
    "# kappa\n",
    "kappa = cohen_kappa_score(y_val, y_pred)\n",
    "print('Cohens kappa: %f' % kappa)\n",
    "\n",
    "# ROC AUC\n",
    "auc = roc_auc_score(y_val, y_pred)\n",
    "print('ROC AUC: %f' % auc)\n",
    "\n",
    "# confusion matrix\n",
    "matrix = confusion_matrix(y_val, y_pred)\n",
    "print(matrix)"
   ]
  },
  {
   "cell_type": "code",
   "execution_count": null,
   "metadata": {},
   "outputs": [],
   "source": []
  },
  {
   "cell_type": "markdown",
   "metadata": {},
   "source": [
    "##### MFCCS - Train Extra Tree Classifier"
   ]
  },
  {
   "cell_type": "code",
   "execution_count": 57,
   "metadata": {},
   "outputs": [],
   "source": [
    "seed = 7\n",
    "kfold = KFold(n_splits = 5, random_state = seed, shuffle = True)"
   ]
  },
  {
   "cell_type": "code",
   "execution_count": 58,
   "metadata": {},
   "outputs": [],
   "source": [
    "num_trees = 200\n",
    "max_features = 12"
   ]
  },
  {
   "cell_type": "code",
   "execution_count": 59,
   "metadata": {},
   "outputs": [],
   "source": [
    "model = ExtraTreesClassifier(n_estimators = num_trees, max_features = max_features)"
   ]
  },
  {
   "cell_type": "code",
   "execution_count": 60,
   "metadata": {},
   "outputs": [
    {
     "name": "stdout",
     "output_type": "stream",
     "text": [
      "(80000, 13) (80000,)\n",
      "<class 'numpy.ndarray'> <class 'pandas.core.series.Series'>\n"
     ]
    }
   ],
   "source": [
    "from imblearn.under_sampling import RandomUnderSampler\n",
    "rus = RandomUnderSampler(random_state=0, sampling_strategy={\n",
    "        0: 40000,\n",
    "        1: 40000\n",
    "    })\n",
    "X_resampled, y_resampled = rus.fit_resample(X_train_scaled, y_train_resampled)\n",
    "print(X_resampled.shape, y_resampled.shape)\n",
    "print(type(X_resampled), type(y_resampled))"
   ]
  },
  {
   "cell_type": "code",
   "execution_count": 61,
   "metadata": {},
   "outputs": [
    {
     "name": "stdout",
     "output_type": "stream",
     "text": [
      "1.0\n"
     ]
    }
   ],
   "source": [
    "print(X_resampled.max())"
   ]
  },
  {
   "cell_type": "code",
   "execution_count": 62,
   "metadata": {},
   "outputs": [
    {
     "name": "stdout",
     "output_type": "stream",
     "text": [
      " ====Start=======  Extra Tree Classifier\n",
      " Start Time  2021-06-07 22:08:48.076158\n",
      " ====End=======  Extra Tree Classifier\n",
      " End Time  2021-06-07 22:11:15.308306\n",
      "Extra Tree Classifier =====Total Time===== 0:02:27.232148\n"
     ]
    }
   ],
   "source": [
    "msg = \"Extra Tree Classifier\"\n",
    "start_time = startTime(msg)\n",
    "scoring = [\"accuracy\", \"precision\", \"recall\"]\n",
    "# results = cross_val_score(model, X_scaled, y, cv = kfold, scoring=scoring)\n",
    "results = cross_validate(model, X_resampled, y_resampled, scoring=scoring, cv=kfold, return_train_score=True)\n",
    "\n",
    "# print(results.mean())\n",
    "\n",
    "# end time\n",
    "end_time = endTime(msg)\n",
    "\n",
    "#total time\n",
    "totalTime(msg, start_time, end_time)"
   ]
  },
  {
   "cell_type": "code",
   "execution_count": 63,
   "metadata": {},
   "outputs": [
    {
     "name": "stdout",
     "output_type": "stream",
     "text": [
      "{'fit_time': array([25.42644763, 25.64660835, 25.46817923, 25.52249384, 25.58204079]), 'score_time': array([0.87361121, 0.86931396, 0.87355709, 0.86628795, 0.86930728]), 'test_accuracy': array([0.814875 , 0.819    , 0.816125 , 0.814875 , 0.8183125]), 'train_accuracy': array([1., 1., 1., 1., 1.]), 'test_precision': array([0.83969363, 0.84105249, 0.83951613, 0.83994602, 0.84412082]), 'train_precision': array([1., 1., 1., 1., 1.]), 'test_recall': array([0.77937141, 0.78538298, 0.781336  , 0.778     , 0.78142554]), 'train_recall': array([1., 1., 1., 1., 1.])}\n"
     ]
    }
   ],
   "source": [
    "print(results)"
   ]
  },
  {
   "cell_type": "code",
   "execution_count": null,
   "metadata": {},
   "outputs": [],
   "source": []
  },
  {
   "cell_type": "code",
   "execution_count": 64,
   "metadata": {},
   "outputs": [
    {
     "data": {
      "image/png": "[encoded data removed]",
      "text/plain": [
       "<Figure size 1800x1200 with 1 Axes>"
      ]
     },
     "metadata": {
      "needs_background": "light"
     },
     "output_type": "display_data"
    }
   ],
   "source": [
    "X_folds=np.arange(1,6,1)\n",
    "Y_accuracy = results['test_accuracy']\n",
    "Y_precision = results['test_precision']\n",
    "Y_recall = results['test_recall']\n",
    "plt.plot(X_folds, Y_accuracy, label=\"Accuracy\", linestyle=\"-\", color=\"blue\")\n",
    "plt.plot(X_folds, Y_precision, label=\"Precision\", linestyle=\"--\", color=\"green\")\n",
    "plt.plot(X_folds, Y_recall, label=\"Recall\", linestyle=\"-.\", color=\"red\")\n",
    "plt.legend()\n",
    "plt.title(\"Extra Tree Classifier - Accuracy, Precision, Recall\")\n",
    "# plt.figure(dpi=800)\n",
    "plt.rcParams[\"figure.dpi\"]=300\n",
    "plt.show()"
   ]
  },
  {
   "cell_type": "code",
   "execution_count": null,
   "metadata": {},
   "outputs": [],
   "source": []
  },
  {
   "cell_type": "code",
   "execution_count": 65,
   "metadata": {},
   "outputs": [],
   "source": [
    "mean_test_accuracy = np.mean(results['test_accuracy'])\n",
    "mean_test_precision = np.mean(results['test_precision'])\n",
    "mean_test_recall = np.mean(results['test_recall'])"
   ]
  },
  {
   "cell_type": "code",
   "execution_count": 66,
   "metadata": {},
   "outputs": [
    {
     "name": "stdout",
     "output_type": "stream",
     "text": [
      "0.8166375\n",
      "0.8408658177572388\n",
      "0.7811031864516218\n"
     ]
    }
   ],
   "source": [
    "print(mean_test_accuracy)\n",
    "print(mean_test_precision)\n",
    "print(mean_test_recall)"
   ]
  },
  {
   "cell_type": "code",
   "execution_count": null,
   "metadata": {},
   "outputs": [],
   "source": []
  },
  {
   "cell_type": "markdown",
   "metadata": {},
   "source": [
    "##### MFCCS - Testing Extra Tree Classifier"
   ]
  },
  {
   "cell_type": "code",
   "execution_count": 68,
   "metadata": {},
   "outputs": [
    {
     "name": "stdout",
     "output_type": "stream",
     "text": [
      "1.0 1.0 (184778, 13) (184778,)\n"
     ]
    }
   ],
   "source": [
    "print(X_resampled.max(), X_train_scaled.max(), X_train_scaled.shape, y_train_resampled.shape)"
   ]
  },
  {
   "cell_type": "code",
   "execution_count": 69,
   "metadata": {},
   "outputs": [
    {
     "name": "stdout",
     "output_type": "stream",
     "text": [
      "0:01:19.457234\n"
     ]
    }
   ],
   "source": [
    "## fitting the extra tree classifier  model\n",
    "start_time = datetime.datetime.now()\n",
    "\n",
    "model.fit(X_train_scaled, y_train_resampled)\n",
    "\n",
    "end_time = datetime.datetime.now()\n",
    "total_time = end_time - start_time\n",
    "print(total_time)"
   ]
  },
  {
   "cell_type": "code",
   "execution_count": 70,
   "metadata": {},
   "outputs": [
    {
     "name": "stdout",
     "output_type": "stream",
     "text": [
      "1.0\n"
     ]
    }
   ],
   "source": [
    "print(X_val_scaled.max())"
   ]
  },
  {
   "cell_type": "code",
   "execution_count": 71,
   "metadata": {},
   "outputs": [
    {
     "name": "stdout",
     "output_type": "stream",
     "text": [
      "0:00:01.667583\n"
     ]
    }
   ],
   "source": [
    "## Validating against the validation dataset\n",
    "\n",
    "start_time = datetime.datetime.now()\n",
    "#testing the SVM model\n",
    "y_pred = model.predict(X_val_scaled)\n",
    "\n",
    "end_time = datetime.datetime.now()\n",
    "total_time = end_time - start_time\n",
    "print(total_time)"
   ]
  },
  {
   "cell_type": "code",
   "execution_count": 72,
   "metadata": {},
   "outputs": [
    {
     "name": "stdout",
     "output_type": "stream",
     "text": [
      "Accuracy: 0.783865\n",
      "Precision: 0.684260\n",
      "Recall: 0.847691\n",
      "F1 score: 0.757258\n",
      "Cohens kappa: 0.566433\n",
      "ROC AUC: 0.794706\n",
      "[[11579  4032]\n",
      " [ 1570  8738]]\n"
     ]
    }
   ],
   "source": [
    "from sklearn.metrics import accuracy_score\n",
    "from sklearn.metrics import precision_score\n",
    "from sklearn.metrics import recall_score\n",
    "from sklearn.metrics import f1_score\n",
    "from sklearn.metrics import cohen_kappa_score\n",
    "from sklearn.metrics import roc_auc_score\n",
    "from sklearn.metrics import confusion_matrix\n",
    "\n",
    "# accuracy: (tp + tn) / (p + n)\n",
    "accuracy = accuracy_score(y_val, y_pred)\n",
    "print('Accuracy: %f' % accuracy)\n",
    "\n",
    "# precision tp / (tp + fp)\n",
    "precision = precision_score(y_val, y_pred)\n",
    "print('Precision: %f' % precision)\n",
    "\n",
    "# recall: tp / (tp + fn)\n",
    "recall = recall_score(y_val, y_pred)\n",
    "print('Recall: %f' % recall)\n",
    "\n",
    "# f1: 2 tp / (2 tp + fp + fn)\n",
    "f1 = f1_score(y_val, y_pred)\n",
    "print('F1 score: %f' % f1)\n",
    " \n",
    "# kappa\n",
    "kappa = cohen_kappa_score(y_val, y_pred)\n",
    "print('Cohens kappa: %f' % kappa)\n",
    "\n",
    "# ROC AUC\n",
    "auc = roc_auc_score(y_val, y_pred)\n",
    "print('ROC AUC: %f' % auc)\n",
    "\n",
    "# confusion matrix\n",
    "matrix = confusion_matrix(y_val, y_pred)\n",
    "print(matrix)"
   ]
  },
  {
   "cell_type": "code",
   "execution_count": null,
   "metadata": {},
   "outputs": [],
   "source": []
  },
  {
   "cell_type": "code",
   "execution_count": null,
   "metadata": {},
   "outputs": [],
   "source": []
  },
  {
   "cell_type": "markdown",
   "metadata": {},
   "source": [
    "##### MFCCS - Train Conv 1D Model"
   ]
  },
  {
   "cell_type": "code",
   "execution_count": 32,
   "metadata": {},
   "outputs": [],
   "source": [
    "import keras\n",
    "from keras.models import Model\n",
    "from keras.models import Sequential\n",
    "from keras.layers import Dense, Conv1D , MaxPool1D , Flatten , Dropout, Activation, BatchNormalization, MaxPooling1D\n",
    "from keras.preprocessing.image import ImageDataGenerator\n",
    "from keras.optimizers import Adam\n",
    "from keras.callbacks import TensorBoard\n",
    "from keras.optimizers import SGD, RMSprop\n",
    "import time"
   ]
  },
  {
   "cell_type": "code",
   "execution_count": 39,
   "metadata": {},
   "outputs": [],
   "source": [
    "X_train_conv1D = np.expand_dims(X_train_scaled, axis=2)\n",
    "X_val_conv1D = np.expand_dims(X_val_scaled, axis=2)"
   ]
  },
  {
   "cell_type": "code",
   "execution_count": 40,
   "metadata": {},
   "outputs": [
    {
     "name": "stdout",
     "output_type": "stream",
     "text": [
      "MFCCs - Conv1D Model - 1623534467\n",
      "Model: \"sequential_1\"\n",
      "_________________________________________________________________\n",
      "Layer (type)                 Output Shape              Param #   \n",
      "=================================================================\n",
      "conv1d (Conv1D)              (None, 11, 128)           512       \n",
      "_________________________________________________________________\n",
      "max_pooling1d (MaxPooling1D) (None, 5, 128)            0         \n",
      "_________________________________________________________________\n",
      "conv1d_1 (Conv1D)            (None, 5, 128)            49280     \n",
      "_________________________________________________________________\n",
      "max_pooling1d_1 (MaxPooling1 (None, 2, 128)            0         \n",
      "_________________________________________________________________\n",
      "conv1d_2 (Conv1D)            (None, 2, 128)            49280     \n",
      "_________________________________________________________________\n",
      "max_pooling1d_2 (MaxPooling1 (None, 1, 128)            0         \n",
      "_________________________________________________________________\n",
      "dropout (Dropout)            (None, 1, 128)            0         \n",
      "_________________________________________________________________\n",
      "flatten (Flatten)            (None, 128)               0         \n",
      "_________________________________________________________________\n",
      "dense (Dense)                (None, 128)               16512     \n",
      "_________________________________________________________________\n",
      "dense_1 (Dense)              (None, 1)                 129       \n",
      "=================================================================\n",
      "Total params: 115,713\n",
      "Trainable params: 115,713\n",
      "Non-trainable params: 0\n",
      "_________________________________________________________________\n"
     ]
    }
   ],
   "source": [
    "import keras_metrics\n",
    "dense_layer = 1\n",
    "layer_size = 128\n",
    "conv_layer = 3\n",
    "\n",
    "NAME = \"MFCCs - Conv1D Model - {}\".format(int(time.time()))\n",
    "print(NAME)\n",
    "tensorboard = TensorBoard(log_dir='./logs_dir/{}'.format(NAME))\n",
    "\n",
    "model = Sequential()\n",
    "model.add(Conv1D(layer_size, kernel_size=3, strides=1, padding='valid', activation='relu', input_shape=X_train_conv1D.shape[1:]))\n",
    "model.add(MaxPool1D())\n",
    "\n",
    "for l in range(conv_layer-1):\n",
    "    model.add(Conv1D(layer_size, 3, padding=\"same\", activation=\"relu\"))\n",
    "    model.add(MaxPool1D())\n",
    "\n",
    "model.add(Dropout(0.4))\n",
    "\n",
    "model.add(Flatten())\n",
    "\n",
    "for d in range(dense_layer):\n",
    "    model.add(Dense(layer_size,activation=\"relu\"))\n",
    "\n",
    "model.add(Dense(1, activation=\"sigmoid\"))\n",
    "\n",
    "model.summary()\n",
    "\n",
    "opt = SGD(lr=0.001)\n",
    "model.compile(loss = \"binary_crossentropy\", optimizer = opt, metrics=['accuracy', keras_metrics.precision(), keras_metrics.recall()])"
   ]
  },
  {
   "cell_type": "code",
   "execution_count": 42,
   "metadata": {},
   "outputs": [
    {
     "data": {
      "image/png": "[encoded data removed]",
      "text/plain": [
       "<IPython.core.display.Image object>"
      ]
     },
     "execution_count": 42,
     "metadata": {},
     "output_type": "execute_result"
    }
   ],
   "source": [
    "from keras.utils import plot_model\n",
    "plot_model(model, to_file='CNN-1D-model.png')"
   ]
  },
  {
   "cell_type": "code",
   "execution_count": 39,
   "metadata": {},
   "outputs": [
    {
     "name": "stdout",
     "output_type": "stream",
     "text": [
      "(184682, 13) <class 'numpy.ndarray'> (184682,) <class 'numpy.ndarray'>\n"
     ]
    }
   ],
   "source": [
    "X_CV = np.array(X_train_scaled)\n",
    "y_CV = np.array(y_train_resampled)\n",
    "print(X_CV.shape, type(X_CV), y_CV.shape, type(y_CV))"
   ]
  },
  {
   "cell_type": "code",
   "execution_count": 40,
   "metadata": {},
   "outputs": [
    {
     "name": "stdout",
     "output_type": "stream",
     "text": [
      "1.0\n"
     ]
    }
   ],
   "source": [
    "print(X_CV.max())"
   ]
  },
  {
   "cell_type": "code",
   "execution_count": 41,
   "metadata": {},
   "outputs": [
    {
     "name": "stdout",
     "output_type": "stream",
     "text": [
      "****Modelling Starts*****\n",
      "Epoch 1/20\n",
      "WARNING:tensorflow:`add_update` `inputs` kwarg has been deprecated. You no longer need to pass a value to `inputs` as it is being automatically inferred.\n",
      "WARNING:tensorflow:`add_update` `inputs` kwarg has been deprecated. You no longer need to pass a value to `inputs` as it is being automatically inferred.\n",
      "WARNING:tensorflow:`add_update` `inputs` kwarg has been deprecated. You no longer need to pass a value to `inputs` as it is being automatically inferred.\n",
      "WARNING:tensorflow:`add_update` `inputs` kwarg has been deprecated. You no longer need to pass a value to `inputs` as it is being automatically inferred.\n",
      "WARNING:tensorflow:`add_update` `inputs` kwarg has been deprecated. You no longer need to pass a value to `inputs` as it is being automatically inferred.\n",
      "WARNING:tensorflow:`add_update` `inputs` kwarg has been deprecated. You no longer need to pass a value to `inputs` as it is being automatically inferred.\n",
      "WARNING:tensorflow:`add_update` `inputs` kwarg has been deprecated. You no longer need to pass a value to `inputs` as it is being automatically inferred.\n",
      "WARNING:tensorflow:`add_update` `inputs` kwarg has been deprecated. You no longer need to pass a value to `inputs` as it is being automatically inferred.\n",
      "4618/4618 [==============================] - ETA: 0s - loss: 0.6933 - accuracy: 0.5018 - precision: 0.5018 - recall: 0.1919WARNING:tensorflow:`add_update` `inputs` kwarg has been deprecated. You no longer need to pass a value to `inputs` as it is being automatically inferred.\n",
      "WARNING:tensorflow:`add_update` `inputs` kwarg has been deprecated. You no longer need to pass a value to `inputs` as it is being automatically inferred.\n",
      "WARNING:tensorflow:`add_update` `inputs` kwarg has been deprecated. You no longer need to pass a value to `inputs` as it is being automatically inferred.\n",
      "WARNING:tensorflow:`add_update` `inputs` kwarg has been deprecated. You no longer need to pass a value to `inputs` as it is being automatically inferred.\n",
      "4618/4618 [==============================] - 32s 4ms/step - loss: 0.6933 - accuracy: 0.5018 - precision: 0.5018 - recall: 0.1919 - val_loss: 0.6929 - val_accuracy: 0.5014 - val_precision: 0.1541 - val_recall: 0.5004\n",
      "Epoch 2/20\n",
      "4618/4618 [==============================] - 18s 4ms/step - loss: 0.6929 - accuracy: 0.5107 - precision: 0.5076 - recall: 0.6105 - val_loss: 0.6926 - val_accuracy: 0.5288 - val_precision: 0.1598 - val_recall: 0.4826\n",
      "Epoch 3/20\n",
      "4618/4618 [==============================] - 18s 4ms/step - loss: 0.6927 - accuracy: 0.5244 - precision: 0.5204 - recall: 0.5720 - val_loss: 0.6922 - val_accuracy: 0.5239 - val_precision: 0.1588 - val_recall: 0.4856\n",
      "Epoch 4/20\n",
      "4618/4618 [==============================] - 18s 4ms/step - loss: 0.6923 - accuracy: 0.5356 - precision: 0.5289 - recall: 0.6300 - val_loss: 0.6919 - val_accuracy: 0.5446 - val_precision: 0.1640 - val_recall: 0.4629\n",
      "Epoch 5/20\n",
      "4618/4618 [==============================] - 17s 4ms/step - loss: 0.6919 - accuracy: 0.5432 - precision: 0.5381 - recall: 0.6998 - val_loss: 0.6916 - val_accuracy: 0.6098 - val_precision: 0.2232 - val_recall: 0.2314\n",
      "Epoch 6/20\n",
      "4618/4618 [==============================] - 18s 4ms/step - loss: 0.6916 - accuracy: 0.5555 - precision: 0.5638 - recall: 0.4515 - val_loss: 0.6911 - val_accuracy: 0.5946 - val_precision: 0.1839 - val_recall: 0.3760\n",
      "Epoch 7/20\n",
      "4618/4618 [==============================] - 17s 4ms/step - loss: 0.6912 - accuracy: 0.5626 - precision: 0.5577 - recall: 0.6225 - val_loss: 0.6907 - val_accuracy: 0.6121 - val_precision: 0.1998 - val_recall: 0.3146\n",
      "Epoch 8/20\n",
      "4618/4618 [==============================] - 17s 4ms/step - loss: 0.6907 - accuracy: 0.5700 - precision: 0.5691 - recall: 0.5809 - val_loss: 0.6900 - val_accuracy: 0.5911 - val_precision: 0.1818 - val_recall: 0.3855\n",
      "Epoch 9/20\n",
      "4618/4618 [==============================] - 17s 4ms/step - loss: 0.6901 - accuracy: 0.5730 - precision: 0.5583 - recall: 0.6590 - val_loss: 0.6892 - val_accuracy: 0.6171 - val_precision: 0.2170 - val_recall: 0.2603\n",
      "Epoch 10/20\n",
      "4618/4618 [==============================] - 17s 4ms/step - loss: 0.6894 - accuracy: 0.5832 - precision: 0.5894 - recall: 0.5659 - val_loss: 0.6883 - val_accuracy: 0.6179 - val_precision: 0.2102 - val_recall: 0.2845\n",
      "Epoch 11/20\n",
      "4618/4618 [==============================] - 17s 4ms/step - loss: 0.6884 - accuracy: 0.5926 - precision: 0.6014 - recall: 0.5761 - val_loss: 0.6871 - val_accuracy: 0.6156 - val_precision: 0.2060 - val_recall: 0.2956\n",
      "Epoch 12/20\n",
      "4618/4618 [==============================] - 17s 4ms/step - loss: 0.6872 - accuracy: 0.5984 - precision: 0.6070 - recall: 0.5381 - val_loss: 0.6857 - val_accuracy: 0.6145 - val_precision: 0.2048 - val_recall: 0.2980\n",
      "Epoch 13/20\n",
      "4618/4618 [==============================] - 17s 4ms/step - loss: 0.6856 - accuracy: 0.6029 - precision: 0.6055 - recall: 0.5900 - val_loss: 0.6838 - val_accuracy: 0.6140 - val_precision: 0.2029 - val_recall: 0.3047\n",
      "Epoch 14/20\n",
      "4618/4618 [==============================] - 17s 4ms/step - loss: 0.6838 - accuracy: 0.6019 - precision: 0.6032 - recall: 0.6059 - val_loss: 0.6814 - val_accuracy: 0.6165 - val_precision: 0.2134 - val_recall: 0.2719\n",
      "Epoch 15/20\n",
      "4618/4618 [==============================] - 17s 4ms/step - loss: 0.6811 - accuracy: 0.6063 - precision: 0.6140 - recall: 0.6064 - val_loss: 0.6778 - val_accuracy: 0.6149 - val_precision: 0.2039 - val_recall: 0.3016\n",
      "Epoch 16/20\n",
      "4618/4618 [==============================] - 17s 4ms/step - loss: 0.6775 - accuracy: 0.6120 - precision: 0.6201 - recall: 0.5780 - val_loss: 0.6734 - val_accuracy: 0.6171 - val_precision: 0.2068 - val_recall: 0.2945\n",
      "Epoch 17/20\n",
      "4618/4618 [==============================] - 18s 4ms/step - loss: 0.6736 - accuracy: 0.6090 - precision: 0.6087 - recall: 0.5800 - val_loss: 0.6682 - val_accuracy: 0.6192 - val_precision: 0.2189 - val_recall: 0.2617\n",
      "Epoch 18/20\n",
      "4618/4618 [==============================] - 17s 4ms/step - loss: 0.6678 - accuracy: 0.6147 - precision: 0.6225 - recall: 0.5807 - val_loss: 0.6611 - val_accuracy: 0.6208 - val_precision: 0.2130 - val_recall: 0.2820\n",
      "Epoch 19/20\n",
      "4618/4618 [==============================] - 17s 4ms/step - loss: 0.6609 - accuracy: 0.6180 - precision: 0.6275 - recall: 0.5884 - val_loss: 0.6534 - val_accuracy: 0.6201 - val_precision: 0.2023 - val_recall: 0.3226\n",
      "Epoch 20/20\n",
      "4618/4618 [==============================] - 17s 4ms/step - loss: 0.6533 - accuracy: 0.6232 - precision: 0.6304 - recall: 0.6058 - val_loss: 0.6452 - val_accuracy: 0.6274 - val_precision: 0.2083 - val_recall: 0.3115\n",
      "****Modelling Starts*****\n",
      "Epoch 1/20\n",
      "4618/4618 [==============================] - 18s 4ms/step - loss: 0.6446 - accuracy: 0.6283 - precision: 0.6349 - recall: 0.5985 - val_loss: 0.6351 - val_accuracy: 0.6414 - val_precision: 0.2254 - val_recall: 0.2876\n",
      "Epoch 2/20\n",
      "4618/4618 [==============================] - 17s 4ms/step - loss: 0.6361 - accuracy: 0.6391 - precision: 0.6470 - recall: 0.6010 - val_loss: 0.6266 - val_accuracy: 0.6457 - val_precision: 0.2102 - val_recall: 0.3478\n",
      "Epoch 3/20\n",
      "4618/4618 [==============================] - 17s 4ms/step - loss: 0.6270 - accuracy: 0.6498 - precision: 0.6580 - recall: 0.6113 - val_loss: 0.6178 - val_accuracy: 0.6525 - val_precision: 0.2110 - val_recall: 0.3595\n",
      "Epoch 4/20\n",
      "4618/4618 [==============================] - 17s 4ms/step - loss: 0.6176 - accuracy: 0.6587 - precision: 0.6682 - recall: 0.6236 - val_loss: 0.6062 - val_accuracy: 0.6665 - val_precision: 0.2248 - val_recall: 0.3387\n",
      "Epoch 5/20\n",
      "4618/4618 [==============================] - 17s 4ms/step - loss: 0.6083 - accuracy: 0.6684 - precision: 0.6837 - recall: 0.6202 - val_loss: 0.5980 - val_accuracy: 0.6810 - val_precision: 0.2565 - val_recall: 0.2937\n",
      "Epoch 6/20\n",
      "4618/4618 [==============================] - 17s 4ms/step - loss: 0.6011 - accuracy: 0.6756 - precision: 0.6944 - recall: 0.6233 - val_loss: 0.5972 - val_accuracy: 0.6666 - val_precision: 0.2153 - val_recall: 0.3738\n",
      "Epoch 7/20\n",
      "4618/4618 [==============================] - 17s 4ms/step - loss: 0.5950 - accuracy: 0.6805 - precision: 0.6981 - recall: 0.6280 - val_loss: 0.5901 - val_accuracy: 0.6892 - val_precision: 0.2834 - val_recall: 0.2690\n",
      "Epoch 8/20\n",
      "4618/4618 [==============================] - 17s 4ms/step - loss: 0.5898 - accuracy: 0.6856 - precision: 0.7107 - recall: 0.6230 - val_loss: 0.5827 - val_accuracy: 0.6949 - val_precision: 0.2746 - val_recall: 0.2874\n",
      "Epoch 9/20\n",
      "4618/4618 [==============================] - 17s 4ms/step - loss: 0.5857 - accuracy: 0.6900 - precision: 0.7157 - recall: 0.6264 - val_loss: 0.5792 - val_accuracy: 0.6973 - val_precision: 0.2762 - val_recall: 0.2893\n",
      "Epoch 10/20\n",
      "4618/4618 [==============================] - 17s 4ms/step - loss: 0.5831 - accuracy: 0.6923 - precision: 0.7172 - recall: 0.6275 - val_loss: 0.5865 - val_accuracy: 0.6779 - val_precision: 0.2207 - val_recall: 0.3790\n",
      "Epoch 11/20\n",
      "4618/4618 [==============================] - 17s 4ms/step - loss: 0.5806 - accuracy: 0.6959 - precision: 0.7216 - recall: 0.6272 - val_loss: 0.5967 - val_accuracy: 0.6872 - val_precision: 0.3343 - val_recall: 0.2302\n",
      "Epoch 12/20\n",
      "4618/4618 [==============================] - 17s 4ms/step - loss: 0.5788 - accuracy: 0.6975 - precision: 0.7282 - recall: 0.6278 - val_loss: 0.5722 - val_accuracy: 0.6954 - val_precision: 0.2438 - val_recall: 0.3431\n",
      "Epoch 13/20\n",
      "4618/4618 [==============================] - 17s 4ms/step - loss: 0.5768 - accuracy: 0.6989 - precision: 0.7299 - recall: 0.6320 - val_loss: 0.5912 - val_accuracy: 0.6923 - val_precision: 0.3324 - val_recall: 0.2361\n",
      "Epoch 14/20\n",
      "4618/4618 [==============================] - 17s 4ms/step - loss: 0.5753 - accuracy: 0.7012 - precision: 0.7356 - recall: 0.6290 - val_loss: 0.5703 - val_accuracy: 0.6980 - val_precision: 0.2444 - val_recall: 0.3452\n",
      "Epoch 15/20\n",
      "4618/4618 [==============================] - 17s 4ms/step - loss: 0.5737 - accuracy: 0.7028 - precision: 0.7355 - recall: 0.6282 - val_loss: 0.6222 - val_accuracy: 0.6457 - val_precision: 0.1974 - val_recall: 0.4215\n",
      "Epoch 16/20\n",
      "4618/4618 [==============================] - 17s 4ms/step - loss: 0.5722 - accuracy: 0.7049 - precision: 0.7416 - recall: 0.6383 - val_loss: 0.5914 - val_accuracy: 0.6910 - val_precision: 0.3406 - val_recall: 0.2316\n",
      "Epoch 17/20\n",
      "4618/4618 [==============================] - 17s 4ms/step - loss: 0.5712 - accuracy: 0.7048 - precision: 0.7412 - recall: 0.6283 - val_loss: 0.6090 - val_accuracy: 0.6733 - val_precision: 0.3582 - val_recall: 0.2033\n",
      "Epoch 18/20\n",
      "4618/4618 [==============================] - 17s 4ms/step - loss: 0.5701 - accuracy: 0.7060 - precision: 0.7449 - recall: 0.6269 - val_loss: 0.5741 - val_accuracy: 0.6922 - val_precision: 0.2315 - val_recall: 0.3690\n",
      "Epoch 19/20\n",
      "4618/4618 [==============================] - 17s 4ms/step - loss: 0.5688 - accuracy: 0.7068 - precision: 0.7421 - recall: 0.6293 - val_loss: 0.5659 - val_accuracy: 0.7118 - val_precision: 0.2991 - val_recall: 0.2858\n",
      "Epoch 20/20\n",
      "4618/4618 [==============================] - 17s 4ms/step - loss: 0.5673 - accuracy: 0.7088 - precision: 0.7487 - recall: 0.6324 - val_loss: 0.5809 - val_accuracy: 0.6864 - val_precision: 0.2237 - val_recall: 0.3837\n",
      "****Modelling Starts*****\n",
      "Epoch 1/20\n",
      "4618/4618 [==============================] - 18s 4ms/step - loss: 0.5677 - accuracy: 0.7085 - precision: 0.7446 - recall: 0.6302 - val_loss: 0.5552 - val_accuracy: 0.7167 - val_precision: 0.2698 - val_recall: 0.3240\n",
      "Epoch 2/20\n",
      "4618/4618 [==============================] - 17s 4ms/step - loss: 0.5663 - accuracy: 0.7086 - precision: 0.7482 - recall: 0.6297 - val_loss: 0.5542 - val_accuracy: 0.7179 - val_precision: 0.2692 - val_recall: 0.3266\n",
      "Epoch 3/20\n",
      "4618/4618 [==============================] - 17s 4ms/step - loss: 0.5650 - accuracy: 0.7100 - precision: 0.7496 - recall: 0.6298 - val_loss: 0.5538 - val_accuracy: 0.7170 - val_precision: 0.2644 - val_recall: 0.3330\n",
      "Epoch 4/20\n",
      "4618/4618 [==============================] - 17s 4ms/step - loss: 0.5644 - accuracy: 0.7104 - precision: 0.7497 - recall: 0.6274 - val_loss: 0.5533 - val_accuracy: 0.7171 - val_precision: 0.2631 - val_recall: 0.3353\n",
      "Epoch 5/20\n",
      "4618/4618 [==============================] - 17s 4ms/step - loss: 0.5632 - accuracy: 0.7112 - precision: 0.7486 - recall: 0.6306 - val_loss: 0.5556 - val_accuracy: 0.7192 - val_precision: 0.3044 - val_recall: 0.2869\n",
      "Epoch 6/20\n",
      "4618/4618 [==============================] - 17s 4ms/step - loss: 0.5618 - accuracy: 0.7125 - precision: 0.7531 - recall: 0.6303 - val_loss: 0.5578 - val_accuracy: 0.7095 - val_precision: 0.2456 - val_recall: 0.3567\n",
      "Epoch 7/20\n",
      "4618/4618 [==============================] - 17s 4ms/step - loss: 0.5611 - accuracy: 0.7131 - precision: 0.7539 - recall: 0.6308 - val_loss: 0.5491 - val_accuracy: 0.7237 - val_precision: 0.2805 - val_recall: 0.3194\n",
      "Epoch 8/20\n",
      "4618/4618 [==============================] - 17s 4ms/step - loss: 0.5604 - accuracy: 0.7134 - precision: 0.7538 - recall: 0.6258 - val_loss: 0.5484 - val_accuracy: 0.7243 - val_precision: 0.2792 - val_recall: 0.3220\n",
      "Epoch 9/20\n",
      "4618/4618 [==============================] - 17s 4ms/step - loss: 0.5599 - accuracy: 0.7141 - precision: 0.7556 - recall: 0.6289 - val_loss: 0.5712 - val_accuracy: 0.6958 - val_precision: 0.2268 - val_recall: 0.3846\n",
      "Epoch 10/20\n",
      "4618/4618 [==============================] - 17s 4ms/step - loss: 0.5590 - accuracy: 0.7154 - precision: 0.7567 - recall: 0.6338 - val_loss: 0.5486 - val_accuracy: 0.7195 - val_precision: 0.2626 - val_recall: 0.3399\n",
      "Epoch 11/20\n",
      "4618/4618 [==============================] - 17s 4ms/step - loss: 0.5577 - accuracy: 0.7157 - precision: 0.7579 - recall: 0.6349 - val_loss: 0.5578 - val_accuracy: 0.7163 - val_precision: 0.3242 - val_recall: 0.2666\n",
      "Epoch 12/20\n",
      "4618/4618 [==============================] - 17s 4ms/step - loss: 0.5569 - accuracy: 0.7160 - precision: 0.7587 - recall: 0.6330 - val_loss: 0.5449 - val_accuracy: 0.7260 - val_precision: 0.2800 - val_recall: 0.3230\n",
      "Epoch 13/20\n",
      "4618/4618 [==============================] - 17s 4ms/step - loss: 0.5565 - accuracy: 0.7167 - precision: 0.7576 - recall: 0.6334 - val_loss: 0.5471 - val_accuracy: 0.7253 - val_precision: 0.3038 - val_recall: 0.2950\n",
      "Epoch 14/20\n",
      "4618/4618 [==============================] - 17s 4ms/step - loss: 0.5549 - accuracy: 0.7174 - precision: 0.7598 - recall: 0.6327 - val_loss: 0.5533 - val_accuracy: 0.7125 - val_precision: 0.2442 - val_recall: 0.3656\n",
      "Epoch 15/20\n",
      "4618/4618 [==============================] - 17s 4ms/step - loss: 0.5540 - accuracy: 0.7181 - precision: 0.7583 - recall: 0.6376 - val_loss: 0.5707 - val_accuracy: 0.6957 - val_precision: 0.2252 - val_recall: 0.3893\n",
      "Epoch 16/20\n",
      "4618/4618 [==============================] - 17s 4ms/step - loss: 0.5533 - accuracy: 0.7190 - precision: 0.7599 - recall: 0.6381 - val_loss: 0.5423 - val_accuracy: 0.7287 - val_precision: 0.2818 - val_recall: 0.3244\n",
      "Epoch 17/20\n",
      "4618/4618 [==============================] - 17s 4ms/step - loss: 0.5519 - accuracy: 0.7196 - precision: 0.7611 - recall: 0.6384 - val_loss: 0.5538 - val_accuracy: 0.7118 - val_precision: 0.2418 - val_recall: 0.3692\n",
      "Epoch 18/20\n",
      "4618/4618 [==============================] - 17s 4ms/step - loss: 0.5515 - accuracy: 0.7209 - precision: 0.7629 - recall: 0.6383 - val_loss: 0.5424 - val_accuracy: 0.7248 - val_precision: 0.2626 - val_recall: 0.3478\n",
      "Epoch 19/20\n",
      "4618/4618 [==============================] - 17s 4ms/step - loss: 0.5501 - accuracy: 0.7208 - precision: 0.7635 - recall: 0.6418 - val_loss: 0.5390 - val_accuracy: 0.7299 - val_precision: 0.2889 - val_recall: 0.3167\n",
      "Epoch 20/20\n",
      "4618/4618 [==============================] - 17s 4ms/step - loss: 0.5498 - accuracy: 0.7211 - precision: 0.7655 - recall: 0.6459 - val_loss: 0.5435 - val_accuracy: 0.7272 - val_precision: 0.3106 - val_recall: 0.2905\n",
      "****Modelling Starts*****\n",
      "Epoch 1/20\n",
      "4618/4618 [==============================] - 17s 4ms/step - loss: 0.5459 - accuracy: 0.7246 - precision: 0.7681 - recall: 0.6434 - val_loss: 0.5667 - val_accuracy: 0.6987 - val_precision: 0.2315 - val_recall: 0.3755\n",
      "Epoch 2/20\n",
      "4618/4618 [==============================] - 17s 4ms/step - loss: 0.5451 - accuracy: 0.7248 - precision: 0.7661 - recall: 0.6454 - val_loss: 0.6053 - val_accuracy: 0.6708 - val_precision: 0.3680 - val_recall: 0.1933\n",
      "Epoch 3/20\n",
      "4618/4618 [==============================] - 17s 4ms/step - loss: 0.5444 - accuracy: 0.7251 - precision: 0.7689 - recall: 0.6429 - val_loss: 0.5465 - val_accuracy: 0.7213 - val_precision: 0.2721 - val_recall: 0.3258\n"
     ]
    },
    {
     "name": "stdout",
     "output_type": "stream",
     "text": [
      "Epoch 4/20\n",
      "4618/4618 [==============================] - 17s 4ms/step - loss: 0.5436 - accuracy: 0.7260 - precision: 0.7688 - recall: 0.6488 - val_loss: 0.5467 - val_accuracy: 0.7204 - val_precision: 0.2638 - val_recall: 0.3375\n",
      "Epoch 5/20\n",
      "4618/4618 [==============================] - 17s 4ms/step - loss: 0.5423 - accuracy: 0.7266 - precision: 0.7689 - recall: 0.6456 - val_loss: 0.5439 - val_accuracy: 0.7239 - val_precision: 0.2834 - val_recall: 0.3138\n",
      "Epoch 6/20\n",
      "4618/4618 [==============================] - 17s 4ms/step - loss: 0.5417 - accuracy: 0.7265 - precision: 0.7684 - recall: 0.6452 - val_loss: 0.5440 - val_accuracy: 0.7241 - val_precision: 0.2927 - val_recall: 0.3038\n",
      "Epoch 7/20\n",
      "4618/4618 [==============================] - 17s 4ms/step - loss: 0.5411 - accuracy: 0.7276 - precision: 0.7702 - recall: 0.6451 - val_loss: 0.5424 - val_accuracy: 0.7234 - val_precision: 0.2709 - val_recall: 0.3299\n",
      "Epoch 8/20\n",
      "4618/4618 [==============================] - 17s 4ms/step - loss: 0.5401 - accuracy: 0.7280 - precision: 0.7702 - recall: 0.6499 - val_loss: 0.5444 - val_accuracy: 0.7205 - val_precision: 0.2602 - val_recall: 0.3431\n",
      "Epoch 9/20\n",
      "4618/4618 [==============================] - 17s 4ms/step - loss: 0.5395 - accuracy: 0.7275 - precision: 0.7725 - recall: 0.6512 - val_loss: 0.5404 - val_accuracy: 0.7258 - val_precision: 0.2779 - val_recall: 0.3236\n",
      "Epoch 10/20\n",
      "4618/4618 [==============================] - 17s 4ms/step - loss: 0.5382 - accuracy: 0.7287 - precision: 0.7700 - recall: 0.6503 - val_loss: 0.5411 - val_accuracy: 0.7247 - val_precision: 0.2964 - val_recall: 0.3004\n",
      "Epoch 11/20\n",
      "4618/4618 [==============================] - 17s 4ms/step - loss: 0.5371 - accuracy: 0.7294 - precision: 0.7714 - recall: 0.6511 - val_loss: 0.5410 - val_accuracy: 0.7239 - val_precision: 0.2647 - val_recall: 0.3404\n",
      "Epoch 12/20\n",
      "4618/4618 [==============================] - 17s 4ms/step - loss: 0.5359 - accuracy: 0.7298 - precision: 0.7720 - recall: 0.6529 - val_loss: 0.5377 - val_accuracy: 0.7283 - val_precision: 0.2837 - val_recall: 0.3198\n",
      "Epoch 13/20\n",
      "4618/4618 [==============================] - 17s 4ms/step - loss: 0.5358 - accuracy: 0.7305 - precision: 0.7740 - recall: 0.6524 - val_loss: 0.5375 - val_accuracy: 0.7267 - val_precision: 0.2734 - val_recall: 0.3322\n",
      "Epoch 14/20\n",
      "4618/4618 [==============================] - 17s 4ms/step - loss: 0.5343 - accuracy: 0.7298 - precision: 0.7727 - recall: 0.6533 - val_loss: 0.5426 - val_accuracy: 0.7201 - val_precision: 0.2527 - val_recall: 0.3561\n",
      "Epoch 15/20\n",
      "4618/4618 [==============================] - 17s 4ms/step - loss: 0.5342 - accuracy: 0.7302 - precision: 0.7738 - recall: 0.6531 - val_loss: 0.5418 - val_accuracy: 0.7205 - val_precision: 0.2544 - val_recall: 0.3534\n",
      "Epoch 16/20\n",
      "4618/4618 [==============================] - 17s 4ms/step - loss: 0.5326 - accuracy: 0.7315 - precision: 0.7719 - recall: 0.6530 - val_loss: 0.5620 - val_accuracy: 0.7006 - val_precision: 0.2276 - val_recall: 0.3925\n",
      "Epoch 17/20\n",
      "4618/4618 [==============================] - 17s 4ms/step - loss: 0.5319 - accuracy: 0.7325 - precision: 0.7750 - recall: 0.6581 - val_loss: 0.5347 - val_accuracy: 0.7286 - val_precision: 0.2974 - val_recall: 0.3042\n",
      "Epoch 18/20\n",
      "4618/4618 [==============================] - 17s 4ms/step - loss: 0.5311 - accuracy: 0.7331 - precision: 0.7754 - recall: 0.6521 - val_loss: 0.5446 - val_accuracy: 0.7170 - val_precision: 0.2464 - val_recall: 0.3653\n",
      "Epoch 19/20\n",
      "4618/4618 [==============================] - 17s 4ms/step - loss: 0.5305 - accuracy: 0.7328 - precision: 0.7762 - recall: 0.6515 - val_loss: 0.5363 - val_accuracy: 0.7248 - val_precision: 0.3093 - val_recall: 0.2876\n",
      "Epoch 20/20\n",
      "4618/4618 [==============================] - 17s 4ms/step - loss: 0.5293 - accuracy: 0.7336 - precision: 0.7779 - recall: 0.6583 - val_loss: 0.5624 - val_accuracy: 0.7031 - val_precision: 0.3493 - val_recall: 0.2371\n",
      "****Modelling Starts*****\n",
      "Epoch 1/20\n",
      "4618/4618 [==============================] - 17s 4ms/step - loss: 0.5307 - accuracy: 0.7327 - precision: 0.7760 - recall: 0.6540 - val_loss: 0.5273 - val_accuracy: 0.7307 - val_precision: 0.2634 - val_recall: 0.3551\n",
      "Epoch 2/20\n",
      "4618/4618 [==============================] - 17s 4ms/step - loss: 0.5295 - accuracy: 0.7326 - precision: 0.7764 - recall: 0.6607 - val_loss: 0.5311 - val_accuracy: 0.7290 - val_precision: 0.3225 - val_recall: 0.2858\n",
      "Epoch 3/20\n",
      "4618/4618 [==============================] - 17s 4ms/step - loss: 0.5281 - accuracy: 0.7342 - precision: 0.7767 - recall: 0.6599 - val_loss: 0.5304 - val_accuracy: 0.7273 - val_precision: 0.2547 - val_recall: 0.3659\n",
      "Epoch 4/20\n",
      "4618/4618 [==============================] - 17s 4ms/step - loss: 0.5277 - accuracy: 0.7347 - precision: 0.7762 - recall: 0.6530 - val_loss: 0.5209 - val_accuracy: 0.7370 - val_precision: 0.2796 - val_recall: 0.3394\n",
      "Epoch 5/20\n",
      "4618/4618 [==============================] - 17s 4ms/step - loss: 0.5268 - accuracy: 0.7348 - precision: 0.7756 - recall: 0.6585 - val_loss: 0.5283 - val_accuracy: 0.7284 - val_precision: 0.2557 - val_recall: 0.3660\n",
      "Epoch 6/20\n",
      "4618/4618 [==============================] - 17s 4ms/step - loss: 0.5258 - accuracy: 0.7354 - precision: 0.7777 - recall: 0.6572 - val_loss: 0.5205 - val_accuracy: 0.7369 - val_precision: 0.2764 - val_recall: 0.3440\n",
      "Epoch 7/20\n",
      "4618/4618 [==============================] - 17s 4ms/step - loss: 0.5249 - accuracy: 0.7361 - precision: 0.7784 - recall: 0.6616 - val_loss: 0.5474 - val_accuracy: 0.7101 - val_precision: 0.2312 - val_recall: 0.3964\n",
      "Epoch 8/20\n",
      "4618/4618 [==============================] - 17s 4ms/step - loss: 0.5240 - accuracy: 0.7368 - precision: 0.7798 - recall: 0.6647 - val_loss: 0.6526 - val_accuracy: 0.6434 - val_precision: 0.1924 - val_recall: 0.4527\n",
      "Epoch 9/20\n",
      "4618/4618 [==============================] - 17s 4ms/step - loss: 0.5238 - accuracy: 0.7365 - precision: 0.7743 - recall: 0.6639 - val_loss: 0.5273 - val_accuracy: 0.7302 - val_precision: 0.3268 - val_recall: 0.2841\n",
      "Epoch 10/20\n",
      "4618/4618 [==============================] - 17s 4ms/step - loss: 0.5223 - accuracy: 0.7382 - precision: 0.7803 - recall: 0.6609 - val_loss: 0.5199 - val_accuracy: 0.7358 - val_precision: 0.3131 - val_recall: 0.3016\n",
      "Epoch 11/20\n",
      "4618/4618 [==============================] - 17s 4ms/step - loss: 0.5219 - accuracy: 0.7381 - precision: 0.7804 - recall: 0.6608 - val_loss: 0.5294 - val_accuracy: 0.7253 - val_precision: 0.2488 - val_recall: 0.3756\n",
      "Epoch 12/20\n",
      "4618/4618 [==============================] - 17s 4ms/step - loss: 0.5213 - accuracy: 0.7383 - precision: 0.7799 - recall: 0.6619 - val_loss: 0.5144 - val_accuracy: 0.7413 - val_precision: 0.2972 - val_recall: 0.3240\n",
      "Epoch 13/20\n",
      "4618/4618 [==============================] - 17s 4ms/step - loss: 0.5198 - accuracy: 0.7386 - precision: 0.7767 - recall: 0.6630 - val_loss: 0.5206 - val_accuracy: 0.7386 - val_precision: 0.3157 - val_recall: 0.3022\n",
      "Epoch 14/20\n",
      "4618/4618 [==============================] - 17s 4ms/step - loss: 0.5196 - accuracy: 0.7398 - precision: 0.7796 - recall: 0.6661 - val_loss: 0.5119 - val_accuracy: 0.7437 - val_precision: 0.2904 - val_recall: 0.3354\n",
      "Epoch 15/20\n",
      "4618/4618 [==============================] - 17s 4ms/step - loss: 0.5183 - accuracy: 0.7395 - precision: 0.7807 - recall: 0.6662 - val_loss: 0.5329 - val_accuracy: 0.7223 - val_precision: 0.2413 - val_recall: 0.3906\n",
      "Epoch 16/20\n",
      "4618/4618 [==============================] - 17s 4ms/step - loss: 0.5177 - accuracy: 0.7401 - precision: 0.7813 - recall: 0.6667 - val_loss: 0.5500 - val_accuracy: 0.7084 - val_precision: 0.2271 - val_recall: 0.4083\n",
      "Epoch 17/20\n",
      "4618/4618 [==============================] - 17s 4ms/step - loss: 0.5168 - accuracy: 0.7415 - precision: 0.7814 - recall: 0.6723 - val_loss: 0.5097 - val_accuracy: 0.7455 - val_precision: 0.2922 - val_recall: 0.3352\n",
      "Epoch 18/20\n",
      "4618/4618 [==============================] - 17s 4ms/step - loss: 0.5162 - accuracy: 0.7414 - precision: 0.7826 - recall: 0.6717 - val_loss: 0.5099 - val_accuracy: 0.7444 - val_precision: 0.3003 - val_recall: 0.3241\n",
      "Epoch 19/20\n",
      "4618/4618 [==============================] - 17s 4ms/step - loss: 0.5151 - accuracy: 0.7422 - precision: 0.7829 - recall: 0.6737 - val_loss: 0.5394 - val_accuracy: 0.7172 - val_precision: 0.2344 - val_recall: 0.4011\n"
     ]
    },
    {
     "name": "stdout",
     "output_type": "stream",
     "text": [
      "Epoch 20/20\n",
      "4618/4618 [==============================] - 17s 4ms/step - loss: 0.5139 - accuracy: 0.7427 - precision: 0.7796 - recall: 0.6740 - val_loss: 0.5130 - val_accuracy: 0.7435 - val_precision: 0.2705 - val_recall: 0.3639\n"
     ]
    }
   ],
   "source": [
    "skf = StratifiedKFold(n_splits = 5, random_state = 7, shuffle = True)\n",
    "fold = 1\n",
    "for train_index, val_index in skf.split(np.zeros(len(X_CV)),y_CV):\n",
    "    print(\"****Modelling Starts*****\")\n",
    "\n",
    "    X_train_CV = X_CV[train_index]\n",
    "    X_test_CV = X_CV[val_index]\n",
    "    \n",
    "    y_train_CV = y_CV[train_index]\n",
    "    y_test_CV = y_CV[val_index]\n",
    "    \n",
    "#     rus = RandomUnderSampler(random_state=0)\n",
    "#     X_train_resampled_Conv1D, y_train_resampled_Conv1D = rus.fit_resample(X_train_CV, y_train_CV)\n",
    "    \n",
    "#     X_train_scaled_Conv1D = normalizeData(X_train_resampled)\n",
    "#     X_test_scaled_Conv1D = normalizeData(X_test_CV)\n",
    "#     X_scaled_Conv1D = normalizeData(X_CV)\n",
    "    \n",
    "    X_train_conv1D = np.expand_dims(X_train_CV, axis=2)\n",
    "    X_test_conv1D = np.expand_dims(X_test_CV, axis=2)    \n",
    "\n",
    "    hist = model.fit(X_train_conv1D, y_train_CV, batch_size=32, epochs=20, validation_data=(X_test_conv1D, y_test_CV), callbacks=[tensorboard])\n",
    "    \n",
    "    fold += 1"
   ]
  },
  {
   "cell_type": "code",
   "execution_count": 43,
   "metadata": {},
   "outputs": [],
   "source": [
    "val_acc_mean = np.mean(hist.history['val_accuracy'])\n",
    "val_precision_mean = np.mean(hist.history['val_precision'])\n",
    "val_recall_mean = np.mean(hist.history['val_recall'])"
   ]
  },
  {
   "cell_type": "code",
   "execution_count": 44,
   "metadata": {},
   "outputs": [
    {
     "name": "stdout",
     "output_type": "stream",
     "text": [
      "0.7269466042518615 0.2716794446110725 0.3525670751929283\n"
     ]
    }
   ],
   "source": [
    "print(val_acc_mean, val_precision_mean, val_recall_mean)"
   ]
  },
  {
   "cell_type": "code",
   "execution_count": null,
   "metadata": {},
   "outputs": [],
   "source": []
  },
  {
   "cell_type": "markdown",
   "metadata": {},
   "source": [
    "##### MFCCS - Testing Conv 1D Model"
   ]
  },
  {
   "cell_type": "code",
   "execution_count": 45,
   "metadata": {},
   "outputs": [
    {
     "name": "stdout",
     "output_type": "stream",
     "text": [
      "(25919, 13) 1.0\n",
      "(25919, 13, 1) 1.0\n"
     ]
    }
   ],
   "source": [
    "print(X_val_scaled.shape, X_val_scaled.max())\n",
    "X_val_conv1D = np.expand_dims(X_val_scaled, axis=2)\n",
    "print(X_val_conv1D.shape, X_val_conv1D.max())"
   ]
  },
  {
   "cell_type": "code",
   "execution_count": 46,
   "metadata": {},
   "outputs": [
    {
     "name": "stdout",
     "output_type": "stream",
     "text": [
      "0:00:01.521077\n"
     ]
    }
   ],
   "source": [
    "## Validating against the validation dataset\n",
    "\n",
    "start_time = datetime.datetime.now()\n",
    "#testing the Conv1D model\n",
    "y_pred_prob = model.predict(X_val_conv1D)\n",
    "y_pred_classes = model.predict_classes(X_val_conv1D)\n",
    "\n",
    "end_time = datetime.datetime.now()\n",
    "total_time = end_time - start_time\n",
    "print(total_time)"
   ]
  },
  {
   "cell_type": "code",
   "execution_count": 48,
   "metadata": {},
   "outputs": [
    {
     "name": "stdout",
     "output_type": "stream",
     "text": [
      "[0.31103367 0.1955628  0.49124876 ... 0.39742306 0.47656935 0.25354624]\n",
      "[0 0 0 ... 0 0 0]\n"
     ]
    }
   ],
   "source": [
    "print(y_pred_prob[:,0])\n",
    "print(y_pred_classes[:,0])\n",
    "\n",
    "y_pred_prob = y_pred_prob[:,0]\n",
    "y_pred_classes = y_pred_classes[:,0]"
   ]
  },
  {
   "cell_type": "code",
   "execution_count": 49,
   "metadata": {},
   "outputs": [
    {
     "name": "stdout",
     "output_type": "stream",
     "text": [
      "Accuracy: 0.683051\n",
      "Precision: 0.571495\n",
      "Recall: 0.826284\n",
      "F1 score: 0.675668\n",
      "Cohens kappa: 0.385289\n",
      "ROC AUC: 0.815016\n",
      "[[9147 6416]\n",
      " [1799 8557]]\n"
     ]
    }
   ],
   "source": [
    "from sklearn.metrics import accuracy_score\n",
    "from sklearn.metrics import precision_score\n",
    "from sklearn.metrics import recall_score\n",
    "from sklearn.metrics import f1_score\n",
    "from sklearn.metrics import cohen_kappa_score\n",
    "from sklearn.metrics import roc_auc_score\n",
    "from sklearn.metrics import confusion_matrix\n",
    "\n",
    "# accuracy: (tp + tn) / (p + n)\n",
    "accuracy = accuracy_score(y_val, y_pred_classes)\n",
    "print('Accuracy: %f' % accuracy)\n",
    "\n",
    "# precision tp / (tp + fp)\n",
    "precision = precision_score(y_val, y_pred_classes)\n",
    "print('Precision: %f' % precision)\n",
    "\n",
    "# recall: tp / (tp + fn)\n",
    "recall = recall_score(y_val, y_pred_classes)\n",
    "print('Recall: %f' % recall)\n",
    "\n",
    "# f1: 2 tp / (2 tp + fp + fn)\n",
    "f1 = f1_score(y_val, y_pred_classes)\n",
    "print('F1 score: %f' % f1)\n",
    " \n",
    "# kappa\n",
    "kappa = cohen_kappa_score(y_val, y_pred_classes)\n",
    "print('Cohens kappa: %f' % kappa)\n",
    "\n",
    "# ROC AUC\n",
    "auc = roc_auc_score(y_val, y_pred_prob)\n",
    "print('ROC AUC: %f' % auc)\n",
    "\n",
    "# confusion matrix\n",
    "matrix = confusion_matrix(y_val, y_pred_classes)\n",
    "print(matrix)"
   ]
  },
  {
   "cell_type": "markdown",
   "metadata": {},
   "source": [
    "#### GFCCS - Get GFCCS Feature Set"
   ]
  },
  {
   "cell_type": "code",
   "execution_count": 13,
   "metadata": {},
   "outputs": [],
   "source": [
    "import scipy.io.wavfile\n",
    "from spafe.utils import vis\n",
    "from spafe.features.gfcc import gfcc\n",
    "\n",
    "def getGFCCS(filePath):\n",
    "    print(filePath)\n",
    "    num_ceps = 13\n",
    "    low_freq = 0\n",
    "    high_freq = 2000\n",
    "    nfilts = 24\n",
    "    nfft = 512\n",
    "    dct_type = 2,\n",
    "    use_energy = False,\n",
    "    lifter = 5\n",
    "    normalize = False\n",
    "    \n",
    "    # read wav \n",
    "    fs, sig = scipy.io.wavfile.read(filePath)\n",
    "    \n",
    "    # compute features\n",
    "    gfccs = gfcc(sig=sig,\n",
    "                 fs=44000,\n",
    "                 num_ceps=num_ceps,\n",
    "                 nfilts=nfilts,\n",
    "                 nfft=nfft,\n",
    "                 low_freq=low_freq,\n",
    "                 high_freq=high_freq,\n",
    "                 dct_type=dct_type,\n",
    "                 use_energy=use_energy,\n",
    "                 lifter=lifter,\n",
    "                 normalize=normalize)\n",
    "    \n",
    "    return gfccs"
   ]
  },
  {
   "cell_type": "code",
   "execution_count": 14,
   "metadata": {},
   "outputs": [],
   "source": [
    "def getGFCCSDataFrame(feature_set, category):\n",
    "    df=pd.DataFrame(data=feature_set[0:,0:],\n",
    "               index = [i for i in range(feature_set.shape[0])],\n",
    "               columns=['f'+str(i) for i in range(feature_set.shape[1])])\n",
    "#     df_T = df.T  \n",
    "    df['Category'] = category    \n",
    "    return df"
   ]
  },
  {
   "cell_type": "code",
   "execution_count": 15,
   "metadata": {},
   "outputs": [],
   "source": [
    "def getGFCCS_allFiles(type_of_text, parent_folder, category):\n",
    "    #destination_folder = getDir('ReadText_HC', 'ProcessedAudio')\n",
    "    destination_folder = getDir(type_of_text, parent_folder)\n",
    "#     print(destination_folder)\n",
    "    files = [f for f in listdir(destination_folder) if isfile(join(destination_folder, f))]\n",
    "    \n",
    "    df_gfccs_all = None\n",
    "    \n",
    "    for file in files:\n",
    "        \n",
    "        filedir = destination_folder + \"/\" + file        \n",
    "        gfccs = getGFCCS(filedir)\n",
    "        \n",
    "#         print(gfccs.shape)\n",
    "        \n",
    "        #converting into dataframe\n",
    "        df_gfccs = getGFCCSDataFrame(gfccs, category)\n",
    "\n",
    "        if df_gfccs_all is None:\n",
    "            df_gfccs_all = df_gfccs\n",
    "        else:\n",
    "            df_gfccs_all = df_gfccs_all.append(df_gfccs, ignore_index=True)\n",
    "        \n",
    "#         print(filedir)\n",
    "#         x , sr = librosa.load(filedir)\n",
    "\n",
    "#         mfccs = getMFCCS(x,13)\n",
    "\n",
    "#         df_mfccs = getDataFrame(mfccs, category)\n",
    "\n",
    "#         if df_mfccs_all is None:\n",
    "#             df_mfccs_all = df_mfccs\n",
    "#         else:\n",
    "#             df_mfccs_all = df_mfccs_all.append(df_mfccs, ignore_index=True)\n",
    "        \n",
    "#         print(df_gfccs_all.shape)\n",
    "        \n",
    "#     print(df_gfccs_all.shape)\n",
    "    \n",
    "    #display(df_mfccs_all)\n",
    "    return df_gfccs_all"
   ]
  },
  {
   "cell_type": "code",
   "execution_count": 16,
   "metadata": {},
   "outputs": [
    {
     "name": "stdout",
     "output_type": "stream",
     "text": [
      " ====Start=======  Get GFCCS Details\n",
      " Start Time  2021-06-08 12:22:14.972006\n",
      "/home/akshayrauthan0806/Research - PD/ProcessedAudio/Read Text/HC/ID05_hc_0_0_0.wav\n",
      "/home/akshayrauthan0806/Research - PD/ProcessedAudio/Read Text/HC/ID35_hc_0_0_0.wav\n",
      "/home/akshayrauthan0806/Research - PD/ProcessedAudio/Read Text/HC/ID26_hc_0_0_0.wav\n",
      "/home/akshayrauthan0806/Research - PD/ProcessedAudio/Read Text/HC/ID11_hc_0_0_0.wav\n",
      "/home/akshayrauthan0806/Research - PD/ProcessedAudio/Read Text/HC/ID15_hc_0_0_0.wav\n",
      "/home/akshayrauthan0806/Research - PD/ProcessedAudio/Read Text/HC/ID14_hc_0_0_0.wav\n",
      "/home/akshayrauthan0806/Research - PD/ProcessedAudio/Read Text/HC/ID19_hc_0_0_0.wav\n",
      "/home/akshayrauthan0806/Research - PD/ProcessedAudio/Read Text/HC/ID21_hc_0_0_0.wav\n",
      "/home/akshayrauthan0806/Research - PD/ProcessedAudio/Read Text/HC/ID00_hc_0_0_0.wav\n",
      "/home/akshayrauthan0806/Research - PD/ProcessedAudio/Read Text/HC/ID36_hc_0_0_0.wav\n",
      "/home/akshayrauthan0806/Research - PD/ProcessedAudio/Read Text/HC/ID25_hc_0_0_0.wav\n",
      "/home/akshayrauthan0806/Research - PD/ProcessedAudio/Read Text/HC/ID10_hc_0_0_0.wav\n",
      "/home/akshayrauthan0806/Research - PD/ProcessedAudio/Read Text/HC/ID09_hc_0_0_0.wav\n",
      "/home/akshayrauthan0806/Research - PD/ProcessedAudio/Read Text/HC/ID08_hc_0_0_0.wav\n",
      "/home/akshayrauthan0806/Research - PD/ProcessedAudio/Read Text/HC/ID28_hc_0_0_0.wav\n",
      "/home/akshayrauthan0806/Research - PD/ProcessedAudio/Read Text/HC/ID31_hc_0_1_1.wav\n",
      "/home/akshayrauthan0806/Research - PD/ProcessedAudio/Read Text/HC/ID12_hc_0_0_0.wav\n",
      "/home/akshayrauthan0806/Research - PD/ProcessedAudio/Read Text/HC/ID03_hc_0_0_0.wav\n",
      "/home/akshayrauthan0806/Research - PD/ProcessedAudio/Read Text/HC/ID01_hc_0_0_0.wav\n",
      "/home/akshayrauthan0806/Research - PD/ProcessedAudio/Read Text/HC/ID22_hc_0_0_0.wav\n",
      "/home/akshayrauthan0806/Research - PD/ProcessedAudio/Read Text/HC/ID23_hc_0_0_0.wav\n",
      "/home/akshayrauthan0806/Research - PD/ProcessedAudio/Read Text/PD/ID17_pd_2_1_0.wav\n",
      "/home/akshayrauthan0806/Research - PD/ProcessedAudio/Read Text/PD/ID16_pd_2_0_0.wav\n",
      "/home/akshayrauthan0806/Research - PD/ProcessedAudio/Read Text/PD/ID24_pd_2_0_0.wav\n",
      "/home/akshayrauthan0806/Research - PD/ProcessedAudio/Read Text/PD/ID33_pd_3_2_2.wav\n",
      "/home/akshayrauthan0806/Research - PD/ProcessedAudio/Read Text/PD/ID20_pd_3_0_1.wav\n",
      "/home/akshayrauthan0806/Research - PD/ProcessedAudio/Read Text/PD/ID27_pd_4_1_1.wav\n",
      "/home/akshayrauthan0806/Research - PD/ProcessedAudio/Read Text/PD/ID34_pd_2_0_0.wav\n",
      "/home/akshayrauthan0806/Research - PD/ProcessedAudio/Read Text/PD/ID32_pd_3_1_1.wav\n",
      "/home/akshayrauthan0806/Research - PD/ProcessedAudio/Read Text/PD/ID02_pd_2_0_0.wav\n",
      "/home/akshayrauthan0806/Research - PD/ProcessedAudio/Read Text/PD/ID29_pd_3_1_2.wav\n",
      "/home/akshayrauthan0806/Research - PD/ProcessedAudio/Read Text/PD/ID07_pd_2_0_0.wav\n",
      "/home/akshayrauthan0806/Research - PD/ProcessedAudio/Read Text/PD/ID06_pd_3_1_1.wav\n",
      "/home/akshayrauthan0806/Research - PD/ProcessedAudio/Read Text/PD/ID30_pd_2_1_1.wav\n",
      "/home/akshayrauthan0806/Research - PD/ProcessedAudio/Read Text/PD/ID18_pd_4_3_3.wav\n",
      "/home/akshayrauthan0806/Research - PD/ProcessedAudio/Read Text/PD/ID04_pd_2_0_1.wav\n",
      "/home/akshayrauthan0806/Research - PD/ProcessedAudio/Read Text/PD/ID13_pd_3_2_2.wav\n",
      "/home/akshayrauthan0806/Research - PD/ProcessedAudio/Spontaneous/HC/ID05_hc_0_0_0.wav\n",
      "/home/akshayrauthan0806/Research - PD/ProcessedAudio/Spontaneous/HC/ID35_hc_0_0_0.wav\n",
      "/home/akshayrauthan0806/Research - PD/ProcessedAudio/Spontaneous/HC/ID26_hc_0_0_0.wav\n",
      "/home/akshayrauthan0806/Research - PD/ProcessedAudio/Spontaneous/HC/ID11_hc_0_0_0.wav\n",
      "/home/akshayrauthan0806/Research - PD/ProcessedAudio/Spontaneous/HC/ID15_hc_0_0_0.wav\n",
      "/home/akshayrauthan0806/Research - PD/ProcessedAudio/Spontaneous/HC/ID14_hc_0_0_0.wav\n",
      "/home/akshayrauthan0806/Research - PD/ProcessedAudio/Spontaneous/HC/ID19_hc_0_0_0.wav\n",
      "/home/akshayrauthan0806/Research - PD/ProcessedAudio/Spontaneous/HC/ID21_hc_0_0_0.wav\n",
      "/home/akshayrauthan0806/Research - PD/ProcessedAudio/Spontaneous/HC/ID00_hc_0_0_0.wav\n",
      "/home/akshayrauthan0806/Research - PD/ProcessedAudio/Spontaneous/HC/ID36_hc_0_0_0.wav\n",
      "/home/akshayrauthan0806/Research - PD/ProcessedAudio/Spontaneous/HC/ID25_hc_0_0_0.wav\n",
      "/home/akshayrauthan0806/Research - PD/ProcessedAudio/Spontaneous/HC/ID10_hc_0_0_0.wav\n",
      "/home/akshayrauthan0806/Research - PD/ProcessedAudio/Spontaneous/HC/ID09_hc_0_0_0.wav\n",
      "/home/akshayrauthan0806/Research - PD/ProcessedAudio/Spontaneous/HC/ID08_hc_0_0_0.wav\n",
      "/home/akshayrauthan0806/Research - PD/ProcessedAudio/Spontaneous/HC/ID28_hc_0_0_0.wav\n",
      "/home/akshayrauthan0806/Research - PD/ProcessedAudio/Spontaneous/HC/ID31_hc_0_1_1.wav\n",
      "/home/akshayrauthan0806/Research - PD/ProcessedAudio/Spontaneous/HC/ID12_hc_0_0_0.wav\n",
      "/home/akshayrauthan0806/Research - PD/ProcessedAudio/Spontaneous/HC/ID22hc_0_0_0.wav\n",
      "/home/akshayrauthan0806/Research - PD/ProcessedAudio/Spontaneous/HC/ID03_hc_0_0_0.wav\n",
      "/home/akshayrauthan0806/Research - PD/ProcessedAudio/Spontaneous/HC/ID01_hc_0_0_0.wav\n",
      "/home/akshayrauthan0806/Research - PD/ProcessedAudio/Spontaneous/HC/ID23_hc_0_0_0.wav\n",
      "/home/akshayrauthan0806/Research - PD/ProcessedAudio/Spontaneous/PD/ID17_pd_2_1_0.wav\n",
      "/home/akshayrauthan0806/Research - PD/ProcessedAudio/Spontaneous/PD/ID16_pd_2_0_0.wav\n",
      "/home/akshayrauthan0806/Research - PD/ProcessedAudio/Spontaneous/PD/ID24_pd_2_0_0.wav\n",
      "/home/akshayrauthan0806/Research - PD/ProcessedAudio/Spontaneous/PD/ID33_pd_3_2_2.wav\n",
      "/home/akshayrauthan0806/Research - PD/ProcessedAudio/Spontaneous/PD/ID20_pd_3_0_1.wav\n",
      "/home/akshayrauthan0806/Research - PD/ProcessedAudio/Spontaneous/PD/ID27_pd_4_1_1.wav\n",
      "/home/akshayrauthan0806/Research - PD/ProcessedAudio/Spontaneous/PD/ID34_pd_2_0_0.wav\n",
      "/home/akshayrauthan0806/Research - PD/ProcessedAudio/Spontaneous/PD/ID32_pd_3_1_1.wav\n",
      "/home/akshayrauthan0806/Research - PD/ProcessedAudio/Spontaneous/PD/ID02_pd_2_0_0.wav\n",
      "/home/akshayrauthan0806/Research - PD/ProcessedAudio/Spontaneous/PD/ID29_pd_3_1_2.wav\n",
      "/home/akshayrauthan0806/Research - PD/ProcessedAudio/Spontaneous/PD/ID07_pd_2_0_0.wav\n",
      "/home/akshayrauthan0806/Research - PD/ProcessedAudio/Spontaneous/PD/ID06_pd_3_1_1.wav\n",
      "/home/akshayrauthan0806/Research - PD/ProcessedAudio/Spontaneous/PD/ID30_pd_2_1_1.wav\n",
      "/home/akshayrauthan0806/Research - PD/ProcessedAudio/Spontaneous/PD/ID04_pd_2_0_1.wav\n",
      "/home/akshayrauthan0806/Research - PD/ProcessedAudio/Spontaneous/PD/ID13_pd_3_2_2.wav\n",
      " ====End=======  Get GFCCS Details\n",
      " End Time  2021-06-08 12:22:31.767017\n",
      "Get GFCCS Details =====Total Time===== 0:00:16.795011\n",
      "(220631, 14) (132282, 14) (143427, 14) (106627, 14)\n"
     ]
    }
   ],
   "source": [
    "# start_time = datetime.datetime.now()\n",
    "msg = \"Get GFCCS Details\"\n",
    "start_time = startTime(msg)\n",
    "\n",
    "# getting mfccs for all the different categories\n",
    "rt_hc_gfccs = getGFCCS_allFiles('ReadText_HC', 'ProcessedAudio', 0)\n",
    "rt_pd_gfccs = getGFCCS_allFiles('ReadText_PD', 'ProcessedAudio', 1)\n",
    "sp_hc_gfccs = getGFCCS_allFiles('Spontaneous_HC', 'ProcessedAudio', 0)\n",
    "sp_pd_gfccs = getGFCCS_allFiles('Spontaneous_PD', 'ProcessedAudio', 1)\n",
    "\n",
    "# end time\n",
    "end_time = endTime(msg)\n",
    "\n",
    "#total time\n",
    "totalTime(msg, start_time, end_time)\n",
    "# print(total_time)\n",
    "print(rt_hc_gfccs.shape, rt_pd_gfccs.shape, sp_hc_gfccs.shape, sp_pd_gfccs.shape)"
   ]
  },
  {
   "cell_type": "code",
   "execution_count": 17,
   "metadata": {},
   "outputs": [
    {
     "name": "stdout",
     "output_type": "stream",
     "text": [
      "(220631, 14) (132282, 14) (143427, 14) (106627, 14)\n",
      "(602967, 14)\n"
     ]
    }
   ],
   "source": [
    "print(rt_hc_gfccs.shape, rt_pd_gfccs.shape, sp_hc_gfccs.shape, sp_pd_gfccs.shape)\n",
    "\n",
    "# appending all the gfccs for final DF for mfccs\n",
    "df_final_gfccs = rt_hc_gfccs.append(rt_pd_gfccs, ignore_index=True)\n",
    "df_final_gfccs = df_final_gfccs.append(sp_hc_gfccs, ignore_index=True)\n",
    "df_final_gfccs = df_final_gfccs.append(sp_pd_gfccs, ignore_index=True)\n",
    "print(df_final_gfccs.shape)"
   ]
  },
  {
   "cell_type": "code",
   "execution_count": 18,
   "metadata": {},
   "outputs": [
    {
     "data": {
      "text/html": [
       "<div>\n",
       "<style scoped>\n",
       "    .dataframe tbody tr th:only-of-type {\n",
       "        vertical-align: middle;\n",
       "    }\n",
       "\n",
       "    .dataframe tbody tr th {\n",
       "        vertical-align: top;\n",
       "    }\n",
       "\n",
       "    .dataframe thead th {\n",
       "        text-align: right;\n",
       "    }\n",
       "</style>\n",
       "<table border=\"1\" class=\"dataframe\">\n",
       "  <thead>\n",
       "    <tr style=\"text-align: right;\">\n",
       "      <th></th>\n",
       "      <th>f0</th>\n",
       "      <th>f1</th>\n",
       "      <th>f2</th>\n",
       "      <th>f3</th>\n",
       "      <th>f4</th>\n",
       "      <th>f5</th>\n",
       "      <th>f6</th>\n",
       "      <th>f7</th>\n",
       "      <th>f8</th>\n",
       "      <th>f9</th>\n",
       "      <th>f10</th>\n",
       "      <th>f11</th>\n",
       "      <th>f12</th>\n",
       "      <th>Category</th>\n",
       "    </tr>\n",
       "  </thead>\n",
       "  <tbody>\n",
       "    <tr>\n",
       "      <th>0</th>\n",
       "      <td>33.553725</td>\n",
       "      <td>-327.282134</td>\n",
       "      <td>-537.965626</td>\n",
       "      <td>-540.709299</td>\n",
       "      <td>190.664838</td>\n",
       "      <td>-40.545762</td>\n",
       "      <td>-44.250206</td>\n",
       "      <td>-65.933163</td>\n",
       "      <td>111.558595</td>\n",
       "      <td>25.862517</td>\n",
       "      <td>61.608066</td>\n",
       "      <td>-123.491228</td>\n",
       "      <td>60.721341</td>\n",
       "      <td>0</td>\n",
       "    </tr>\n",
       "    <tr>\n",
       "      <th>1</th>\n",
       "      <td>32.937590</td>\n",
       "      <td>127.393039</td>\n",
       "      <td>-1037.770429</td>\n",
       "      <td>-166.557101</td>\n",
       "      <td>144.008282</td>\n",
       "      <td>-21.294702</td>\n",
       "      <td>-47.003629</td>\n",
       "      <td>16.499201</td>\n",
       "      <td>88.379308</td>\n",
       "      <td>13.119864</td>\n",
       "      <td>12.410824</td>\n",
       "      <td>81.672968</td>\n",
       "      <td>-85.314064</td>\n",
       "      <td>0</td>\n",
       "    </tr>\n",
       "    <tr>\n",
       "      <th>2</th>\n",
       "      <td>32.927673</td>\n",
       "      <td>307.843392</td>\n",
       "      <td>-217.038829</td>\n",
       "      <td>-367.628969</td>\n",
       "      <td>-137.590457</td>\n",
       "      <td>-40.416272</td>\n",
       "      <td>-20.524016</td>\n",
       "      <td>-7.769635</td>\n",
       "      <td>43.733566</td>\n",
       "      <td>-9.107398</td>\n",
       "      <td>-16.302603</td>\n",
       "      <td>-35.371148</td>\n",
       "      <td>0.232501</td>\n",
       "      <td>0</td>\n",
       "    </tr>\n",
       "    <tr>\n",
       "      <th>3</th>\n",
       "      <td>32.773580</td>\n",
       "      <td>428.340636</td>\n",
       "      <td>-48.744099</td>\n",
       "      <td>-166.526442</td>\n",
       "      <td>-124.606552</td>\n",
       "      <td>-45.513312</td>\n",
       "      <td>-14.756438</td>\n",
       "      <td>43.019880</td>\n",
       "      <td>-1.925314</td>\n",
       "      <td>-8.314402</td>\n",
       "      <td>-41.780739</td>\n",
       "      <td>42.407669</td>\n",
       "      <td>127.038360</td>\n",
       "      <td>0</td>\n",
       "    </tr>\n",
       "    <tr>\n",
       "      <th>4</th>\n",
       "      <td>32.721803</td>\n",
       "      <td>214.971019</td>\n",
       "      <td>-391.179252</td>\n",
       "      <td>-190.833275</td>\n",
       "      <td>-63.170231</td>\n",
       "      <td>1.646817</td>\n",
       "      <td>-39.693965</td>\n",
       "      <td>29.747607</td>\n",
       "      <td>47.428966</td>\n",
       "      <td>6.628665</td>\n",
       "      <td>-28.250850</td>\n",
       "      <td>85.909882</td>\n",
       "      <td>47.188737</td>\n",
       "      <td>0</td>\n",
       "    </tr>\n",
       "    <tr>\n",
       "      <th>...</th>\n",
       "      <td>...</td>\n",
       "      <td>...</td>\n",
       "      <td>...</td>\n",
       "      <td>...</td>\n",
       "      <td>...</td>\n",
       "      <td>...</td>\n",
       "      <td>...</td>\n",
       "      <td>...</td>\n",
       "      <td>...</td>\n",
       "      <td>...</td>\n",
       "      <td>...</td>\n",
       "      <td>...</td>\n",
       "      <td>...</td>\n",
       "      <td>...</td>\n",
       "    </tr>\n",
       "    <tr>\n",
       "      <th>602962</th>\n",
       "      <td>36.361998</td>\n",
       "      <td>3216.344417</td>\n",
       "      <td>2253.933780</td>\n",
       "      <td>1445.403321</td>\n",
       "      <td>219.359085</td>\n",
       "      <td>-43.258357</td>\n",
       "      <td>39.742362</td>\n",
       "      <td>184.888394</td>\n",
       "      <td>20.857250</td>\n",
       "      <td>-21.968884</td>\n",
       "      <td>-5.371907</td>\n",
       "      <td>53.454669</td>\n",
       "      <td>-193.129134</td>\n",
       "      <td>1</td>\n",
       "    </tr>\n",
       "    <tr>\n",
       "      <th>602963</th>\n",
       "      <td>34.114350</td>\n",
       "      <td>2069.502685</td>\n",
       "      <td>1026.265780</td>\n",
       "      <td>-337.938362</td>\n",
       "      <td>-7.364164</td>\n",
       "      <td>-5.276819</td>\n",
       "      <td>-35.845963</td>\n",
       "      <td>-31.653945</td>\n",
       "      <td>126.977836</td>\n",
       "      <td>9.108476</td>\n",
       "      <td>-10.034135</td>\n",
       "      <td>-66.909309</td>\n",
       "      <td>19.634265</td>\n",
       "      <td>1</td>\n",
       "    </tr>\n",
       "    <tr>\n",
       "      <th>602964</th>\n",
       "      <td>33.341491</td>\n",
       "      <td>1314.407792</td>\n",
       "      <td>340.235831</td>\n",
       "      <td>-5.616461</td>\n",
       "      <td>92.006486</td>\n",
       "      <td>74.108232</td>\n",
       "      <td>-55.417761</td>\n",
       "      <td>-7.007076</td>\n",
       "      <td>-10.401687</td>\n",
       "      <td>40.165033</td>\n",
       "      <td>-100.105128</td>\n",
       "      <td>-98.170749</td>\n",
       "      <td>-1.649237</td>\n",
       "      <td>1</td>\n",
       "    </tr>\n",
       "    <tr>\n",
       "      <th>602965</th>\n",
       "      <td>33.401556</td>\n",
       "      <td>1607.949531</td>\n",
       "      <td>590.045103</td>\n",
       "      <td>466.023109</td>\n",
       "      <td>221.558115</td>\n",
       "      <td>-17.202676</td>\n",
       "      <td>18.580917</td>\n",
       "      <td>-144.001833</td>\n",
       "      <td>-9.697481</td>\n",
       "      <td>32.230948</td>\n",
       "      <td>-95.143091</td>\n",
       "      <td>-116.333700</td>\n",
       "      <td>45.359464</td>\n",
       "      <td>1</td>\n",
       "    </tr>\n",
       "    <tr>\n",
       "      <th>602966</th>\n",
       "      <td>34.948607</td>\n",
       "      <td>2234.237859</td>\n",
       "      <td>1287.225635</td>\n",
       "      <td>785.017300</td>\n",
       "      <td>171.251885</td>\n",
       "      <td>-91.160224</td>\n",
       "      <td>14.044933</td>\n",
       "      <td>68.646544</td>\n",
       "      <td>89.588749</td>\n",
       "      <td>2.779355</td>\n",
       "      <td>84.159426</td>\n",
       "      <td>-25.218454</td>\n",
       "      <td>-179.398908</td>\n",
       "      <td>1</td>\n",
       "    </tr>\n",
       "  </tbody>\n",
       "</table>\n",
       "<p>602967 rows × 14 columns</p>\n",
       "</div>"
      ],
      "text/plain": [
       "               f0           f1           f2           f3          f4  \\\n",
       "0       33.553725  -327.282134  -537.965626  -540.709299  190.664838   \n",
       "1       32.937590   127.393039 -1037.770429  -166.557101  144.008282   \n",
       "2       32.927673   307.843392  -217.038829  -367.628969 -137.590457   \n",
       "3       32.773580   428.340636   -48.744099  -166.526442 -124.606552   \n",
       "4       32.721803   214.971019  -391.179252  -190.833275  -63.170231   \n",
       "...           ...          ...          ...          ...         ...   \n",
       "602962  36.361998  3216.344417  2253.933780  1445.403321  219.359085   \n",
       "602963  34.114350  2069.502685  1026.265780  -337.938362   -7.364164   \n",
       "602964  33.341491  1314.407792   340.235831    -5.616461   92.006486   \n",
       "602965  33.401556  1607.949531   590.045103   466.023109  221.558115   \n",
       "602966  34.948607  2234.237859  1287.225635   785.017300  171.251885   \n",
       "\n",
       "               f5         f6          f7          f8         f9         f10  \\\n",
       "0      -40.545762 -44.250206  -65.933163  111.558595  25.862517   61.608066   \n",
       "1      -21.294702 -47.003629   16.499201   88.379308  13.119864   12.410824   \n",
       "2      -40.416272 -20.524016   -7.769635   43.733566  -9.107398  -16.302603   \n",
       "3      -45.513312 -14.756438   43.019880   -1.925314  -8.314402  -41.780739   \n",
       "4        1.646817 -39.693965   29.747607   47.428966   6.628665  -28.250850   \n",
       "...           ...        ...         ...         ...        ...         ...   \n",
       "602962 -43.258357  39.742362  184.888394   20.857250 -21.968884   -5.371907   \n",
       "602963  -5.276819 -35.845963  -31.653945  126.977836   9.108476  -10.034135   \n",
       "602964  74.108232 -55.417761   -7.007076  -10.401687  40.165033 -100.105128   \n",
       "602965 -17.202676  18.580917 -144.001833   -9.697481  32.230948  -95.143091   \n",
       "602966 -91.160224  14.044933   68.646544   89.588749   2.779355   84.159426   \n",
       "\n",
       "               f11         f12  Category  \n",
       "0      -123.491228   60.721341         0  \n",
       "1        81.672968  -85.314064         0  \n",
       "2       -35.371148    0.232501         0  \n",
       "3        42.407669  127.038360         0  \n",
       "4        85.909882   47.188737         0  \n",
       "...            ...         ...       ...  \n",
       "602962   53.454669 -193.129134         1  \n",
       "602963  -66.909309   19.634265         1  \n",
       "602964  -98.170749   -1.649237         1  \n",
       "602965 -116.333700   45.359464         1  \n",
       "602966  -25.218454 -179.398908         1  \n",
       "\n",
       "[602967 rows x 14 columns]"
      ]
     },
     "execution_count": 18,
     "metadata": {},
     "output_type": "execute_result"
    }
   ],
   "source": [
    "df_final_gfccs"
   ]
  },
  {
   "cell_type": "code",
   "execution_count": 19,
   "metadata": {},
   "outputs": [],
   "source": [
    "df_final_gfccs.columns = ['gfccs_f0', 'gfccs_f1', 'gfccs_f2', 'gfccs_f3', 'gfccs_f4', 'gfccs_f5', 'gfccs_f6', 'gfccs_f7', 'gfccs_f8', 'gfccs_f9', 'gfccs_f10', 'gfccs_f11', 'gfccs_f12', 'Category']"
   ]
  },
  {
   "cell_type": "code",
   "execution_count": 20,
   "metadata": {},
   "outputs": [
    {
     "data": {
      "text/html": [
       "<div>\n",
       "<style scoped>\n",
       "    .dataframe tbody tr th:only-of-type {\n",
       "        vertical-align: middle;\n",
       "    }\n",
       "\n",
       "    .dataframe tbody tr th {\n",
       "        vertical-align: top;\n",
       "    }\n",
       "\n",
       "    .dataframe thead th {\n",
       "        text-align: right;\n",
       "    }\n",
       "</style>\n",
       "<table border=\"1\" class=\"dataframe\">\n",
       "  <thead>\n",
       "    <tr style=\"text-align: right;\">\n",
       "      <th></th>\n",
       "      <th>gfccs_f0</th>\n",
       "      <th>gfccs_f1</th>\n",
       "      <th>gfccs_f2</th>\n",
       "      <th>gfccs_f3</th>\n",
       "      <th>gfccs_f4</th>\n",
       "      <th>gfccs_f5</th>\n",
       "      <th>gfccs_f6</th>\n",
       "      <th>gfccs_f7</th>\n",
       "      <th>gfccs_f8</th>\n",
       "      <th>gfccs_f9</th>\n",
       "      <th>gfccs_f10</th>\n",
       "      <th>gfccs_f11</th>\n",
       "      <th>gfccs_f12</th>\n",
       "      <th>Category</th>\n",
       "    </tr>\n",
       "  </thead>\n",
       "  <tbody>\n",
       "    <tr>\n",
       "      <th>0</th>\n",
       "      <td>33.553725</td>\n",
       "      <td>-327.282134</td>\n",
       "      <td>-537.965626</td>\n",
       "      <td>-540.709299</td>\n",
       "      <td>190.664838</td>\n",
       "      <td>-40.545762</td>\n",
       "      <td>-44.250206</td>\n",
       "      <td>-65.933163</td>\n",
       "      <td>111.558595</td>\n",
       "      <td>25.862517</td>\n",
       "      <td>61.608066</td>\n",
       "      <td>-123.491228</td>\n",
       "      <td>60.721341</td>\n",
       "      <td>0</td>\n",
       "    </tr>\n",
       "    <tr>\n",
       "      <th>1</th>\n",
       "      <td>32.937590</td>\n",
       "      <td>127.393039</td>\n",
       "      <td>-1037.770429</td>\n",
       "      <td>-166.557101</td>\n",
       "      <td>144.008282</td>\n",
       "      <td>-21.294702</td>\n",
       "      <td>-47.003629</td>\n",
       "      <td>16.499201</td>\n",
       "      <td>88.379308</td>\n",
       "      <td>13.119864</td>\n",
       "      <td>12.410824</td>\n",
       "      <td>81.672968</td>\n",
       "      <td>-85.314064</td>\n",
       "      <td>0</td>\n",
       "    </tr>\n",
       "    <tr>\n",
       "      <th>2</th>\n",
       "      <td>32.927673</td>\n",
       "      <td>307.843392</td>\n",
       "      <td>-217.038829</td>\n",
       "      <td>-367.628969</td>\n",
       "      <td>-137.590457</td>\n",
       "      <td>-40.416272</td>\n",
       "      <td>-20.524016</td>\n",
       "      <td>-7.769635</td>\n",
       "      <td>43.733566</td>\n",
       "      <td>-9.107398</td>\n",
       "      <td>-16.302603</td>\n",
       "      <td>-35.371148</td>\n",
       "      <td>0.232501</td>\n",
       "      <td>0</td>\n",
       "    </tr>\n",
       "    <tr>\n",
       "      <th>3</th>\n",
       "      <td>32.773580</td>\n",
       "      <td>428.340636</td>\n",
       "      <td>-48.744099</td>\n",
       "      <td>-166.526442</td>\n",
       "      <td>-124.606552</td>\n",
       "      <td>-45.513312</td>\n",
       "      <td>-14.756438</td>\n",
       "      <td>43.019880</td>\n",
       "      <td>-1.925314</td>\n",
       "      <td>-8.314402</td>\n",
       "      <td>-41.780739</td>\n",
       "      <td>42.407669</td>\n",
       "      <td>127.038360</td>\n",
       "      <td>0</td>\n",
       "    </tr>\n",
       "    <tr>\n",
       "      <th>4</th>\n",
       "      <td>32.721803</td>\n",
       "      <td>214.971019</td>\n",
       "      <td>-391.179252</td>\n",
       "      <td>-190.833275</td>\n",
       "      <td>-63.170231</td>\n",
       "      <td>1.646817</td>\n",
       "      <td>-39.693965</td>\n",
       "      <td>29.747607</td>\n",
       "      <td>47.428966</td>\n",
       "      <td>6.628665</td>\n",
       "      <td>-28.250850</td>\n",
       "      <td>85.909882</td>\n",
       "      <td>47.188737</td>\n",
       "      <td>0</td>\n",
       "    </tr>\n",
       "    <tr>\n",
       "      <th>...</th>\n",
       "      <td>...</td>\n",
       "      <td>...</td>\n",
       "      <td>...</td>\n",
       "      <td>...</td>\n",
       "      <td>...</td>\n",
       "      <td>...</td>\n",
       "      <td>...</td>\n",
       "      <td>...</td>\n",
       "      <td>...</td>\n",
       "      <td>...</td>\n",
       "      <td>...</td>\n",
       "      <td>...</td>\n",
       "      <td>...</td>\n",
       "      <td>...</td>\n",
       "    </tr>\n",
       "    <tr>\n",
       "      <th>602962</th>\n",
       "      <td>36.361998</td>\n",
       "      <td>3216.344417</td>\n",
       "      <td>2253.933780</td>\n",
       "      <td>1445.403321</td>\n",
       "      <td>219.359085</td>\n",
       "      <td>-43.258357</td>\n",
       "      <td>39.742362</td>\n",
       "      <td>184.888394</td>\n",
       "      <td>20.857250</td>\n",
       "      <td>-21.968884</td>\n",
       "      <td>-5.371907</td>\n",
       "      <td>53.454669</td>\n",
       "      <td>-193.129134</td>\n",
       "      <td>1</td>\n",
       "    </tr>\n",
       "    <tr>\n",
       "      <th>602963</th>\n",
       "      <td>34.114350</td>\n",
       "      <td>2069.502685</td>\n",
       "      <td>1026.265780</td>\n",
       "      <td>-337.938362</td>\n",
       "      <td>-7.364164</td>\n",
       "      <td>-5.276819</td>\n",
       "      <td>-35.845963</td>\n",
       "      <td>-31.653945</td>\n",
       "      <td>126.977836</td>\n",
       "      <td>9.108476</td>\n",
       "      <td>-10.034135</td>\n",
       "      <td>-66.909309</td>\n",
       "      <td>19.634265</td>\n",
       "      <td>1</td>\n",
       "    </tr>\n",
       "    <tr>\n",
       "      <th>602964</th>\n",
       "      <td>33.341491</td>\n",
       "      <td>1314.407792</td>\n",
       "      <td>340.235831</td>\n",
       "      <td>-5.616461</td>\n",
       "      <td>92.006486</td>\n",
       "      <td>74.108232</td>\n",
       "      <td>-55.417761</td>\n",
       "      <td>-7.007076</td>\n",
       "      <td>-10.401687</td>\n",
       "      <td>40.165033</td>\n",
       "      <td>-100.105128</td>\n",
       "      <td>-98.170749</td>\n",
       "      <td>-1.649237</td>\n",
       "      <td>1</td>\n",
       "    </tr>\n",
       "    <tr>\n",
       "      <th>602965</th>\n",
       "      <td>33.401556</td>\n",
       "      <td>1607.949531</td>\n",
       "      <td>590.045103</td>\n",
       "      <td>466.023109</td>\n",
       "      <td>221.558115</td>\n",
       "      <td>-17.202676</td>\n",
       "      <td>18.580917</td>\n",
       "      <td>-144.001833</td>\n",
       "      <td>-9.697481</td>\n",
       "      <td>32.230948</td>\n",
       "      <td>-95.143091</td>\n",
       "      <td>-116.333700</td>\n",
       "      <td>45.359464</td>\n",
       "      <td>1</td>\n",
       "    </tr>\n",
       "    <tr>\n",
       "      <th>602966</th>\n",
       "      <td>34.948607</td>\n",
       "      <td>2234.237859</td>\n",
       "      <td>1287.225635</td>\n",
       "      <td>785.017300</td>\n",
       "      <td>171.251885</td>\n",
       "      <td>-91.160224</td>\n",
       "      <td>14.044933</td>\n",
       "      <td>68.646544</td>\n",
       "      <td>89.588749</td>\n",
       "      <td>2.779355</td>\n",
       "      <td>84.159426</td>\n",
       "      <td>-25.218454</td>\n",
       "      <td>-179.398908</td>\n",
       "      <td>1</td>\n",
       "    </tr>\n",
       "  </tbody>\n",
       "</table>\n",
       "<p>602967 rows × 14 columns</p>\n",
       "</div>"
      ],
      "text/plain": [
       "         gfccs_f0     gfccs_f1     gfccs_f2     gfccs_f3    gfccs_f4  \\\n",
       "0       33.553725  -327.282134  -537.965626  -540.709299  190.664838   \n",
       "1       32.937590   127.393039 -1037.770429  -166.557101  144.008282   \n",
       "2       32.927673   307.843392  -217.038829  -367.628969 -137.590457   \n",
       "3       32.773580   428.340636   -48.744099  -166.526442 -124.606552   \n",
       "4       32.721803   214.971019  -391.179252  -190.833275  -63.170231   \n",
       "...           ...          ...          ...          ...         ...   \n",
       "602962  36.361998  3216.344417  2253.933780  1445.403321  219.359085   \n",
       "602963  34.114350  2069.502685  1026.265780  -337.938362   -7.364164   \n",
       "602964  33.341491  1314.407792   340.235831    -5.616461   92.006486   \n",
       "602965  33.401556  1607.949531   590.045103   466.023109  221.558115   \n",
       "602966  34.948607  2234.237859  1287.225635   785.017300  171.251885   \n",
       "\n",
       "         gfccs_f5   gfccs_f6    gfccs_f7    gfccs_f8   gfccs_f9   gfccs_f10  \\\n",
       "0      -40.545762 -44.250206  -65.933163  111.558595  25.862517   61.608066   \n",
       "1      -21.294702 -47.003629   16.499201   88.379308  13.119864   12.410824   \n",
       "2      -40.416272 -20.524016   -7.769635   43.733566  -9.107398  -16.302603   \n",
       "3      -45.513312 -14.756438   43.019880   -1.925314  -8.314402  -41.780739   \n",
       "4        1.646817 -39.693965   29.747607   47.428966   6.628665  -28.250850   \n",
       "...           ...        ...         ...         ...        ...         ...   \n",
       "602962 -43.258357  39.742362  184.888394   20.857250 -21.968884   -5.371907   \n",
       "602963  -5.276819 -35.845963  -31.653945  126.977836   9.108476  -10.034135   \n",
       "602964  74.108232 -55.417761   -7.007076  -10.401687  40.165033 -100.105128   \n",
       "602965 -17.202676  18.580917 -144.001833   -9.697481  32.230948  -95.143091   \n",
       "602966 -91.160224  14.044933   68.646544   89.588749   2.779355   84.159426   \n",
       "\n",
       "         gfccs_f11   gfccs_f12  Category  \n",
       "0      -123.491228   60.721341         0  \n",
       "1        81.672968  -85.314064         0  \n",
       "2       -35.371148    0.232501         0  \n",
       "3        42.407669  127.038360         0  \n",
       "4        85.909882   47.188737         0  \n",
       "...            ...         ...       ...  \n",
       "602962   53.454669 -193.129134         1  \n",
       "602963  -66.909309   19.634265         1  \n",
       "602964  -98.170749   -1.649237         1  \n",
       "602965 -116.333700   45.359464         1  \n",
       "602966  -25.218454 -179.398908         1  \n",
       "\n",
       "[602967 rows x 14 columns]"
      ]
     },
     "execution_count": 20,
     "metadata": {},
     "output_type": "execute_result"
    }
   ],
   "source": [
    "df_final_gfccs"
   ]
  },
  {
   "cell_type": "code",
   "execution_count": null,
   "metadata": {},
   "outputs": [],
   "source": []
  },
  {
   "cell_type": "code",
   "execution_count": null,
   "metadata": {},
   "outputs": [],
   "source": []
  },
  {
   "cell_type": "markdown",
   "metadata": {},
   "source": [
    "###### GFCCS - Splitting, Balancing and Normalizing Dataset"
   ]
  },
  {
   "cell_type": "code",
   "execution_count": 21,
   "metadata": {},
   "outputs": [],
   "source": [
    "# Splitting the data in X and Y\n",
    "X_gfccs = df_final_gfccs.drop('Category', axis=1)\n",
    "y_gfccs = df_final_gfccs['Category']"
   ]
  },
  {
   "cell_type": "code",
   "execution_count": 22,
   "metadata": {},
   "outputs": [],
   "source": [
    "X_gfccs_train, X_gfccs_test, y_gfccs_train, y_gfccs_test = train_test_split(X_gfccs, y_gfccs, test_size = 0.10)"
   ]
  },
  {
   "cell_type": "code",
   "execution_count": 24,
   "metadata": {},
   "outputs": [
    {
     "name": "stdout",
     "output_type": "stream",
     "text": [
      "Class 0: 364058\n",
      "Class 1: 238909\n",
      "Proportion: 1.52 : 1\n"
     ]
    },
    {
     "data": {
      "text/plain": [
       "Text(0, 0.5, 'Number of Data Points')"
      ]
     },
     "execution_count": 24,
     "metadata": {},
     "output_type": "execute_result"
    },
    {
     "data": {
      "image/png": "[encoded data removed]",
      "text/plain": [
       "<Figure size 432x288 with 1 Axes>"
      ]
     },
     "metadata": {
      "needs_background": "light"
     },
     "output_type": "display_data"
    }
   ],
   "source": [
    "target_count = df_final_gfccs.Category.value_counts()\n",
    "print('Class 0:', target_count[0])\n",
    "print('Class 1:', target_count[1])\n",
    "print('Proportion:', round(target_count[0] / target_count[1], 2), ': 1')\n",
    "\n",
    "target_count.plot(kind='bar', title='GFCCs Class Imbalance');\n",
    "plt.rcParams[\"figure.dpi\"]=300\n",
    "plt.xlabel(\"Classes\")\n",
    "plt.ylabel(\"Number of Data Points\")\n"
   ]
  },
  {
   "cell_type": "code",
   "execution_count": null,
   "metadata": {},
   "outputs": [],
   "source": []
  },
  {
   "cell_type": "code",
   "execution_count": 25,
   "metadata": {},
   "outputs": [
    {
     "name": "stdout",
     "output_type": "stream",
     "text": [
      "(429818, 13) (429818,)\n",
      "<class 'pandas.core.frame.DataFrame'> <class 'pandas.core.series.Series'>\n"
     ]
    }
   ],
   "source": [
    "from imblearn.under_sampling import RandomUnderSampler\n",
    "rus = RandomUnderSampler(random_state=0)\n",
    "X_gfccs_train_resampled, y_gfccs_train_resampled = rus.fit_resample(X_gfccs_train, y_gfccs_train)\n",
    "print(X_gfccs_train_resampled.shape, y_gfccs_train_resampled.shape)\n",
    "print(type(X_gfccs_train_resampled), type(y_gfccs_train_resampled))"
   ]
  },
  {
   "cell_type": "code",
   "execution_count": 26,
   "metadata": {},
   "outputs": [],
   "source": [
    "X_gfccs_train_scaled = normalizeData(X_gfccs_train_resampled)\n",
    "X_gfccs_test_scaled = normalizeData(X_gfccs_test)\n",
    "X_gfccs_scaled = normalizeData(X_gfccs)"
   ]
  },
  {
   "cell_type": "code",
   "execution_count": 27,
   "metadata": {},
   "outputs": [
    {
     "name": "stdout",
     "output_type": "stream",
     "text": [
      "(602967, 13) <class 'numpy.ndarray'> (429818, 13) (60297, 13)\n"
     ]
    }
   ],
   "source": [
    "print(X_gfccs_scaled.shape, type(X_gfccs_scaled), X_gfccs_train_scaled.shape, X_gfccs_test_scaled.shape)"
   ]
  },
  {
   "cell_type": "code",
   "execution_count": null,
   "metadata": {},
   "outputs": [],
   "source": []
  },
  {
   "cell_type": "code",
   "execution_count": null,
   "metadata": {},
   "outputs": [],
   "source": []
  },
  {
   "cell_type": "markdown",
   "metadata": {},
   "source": [
    "##### GFCCS - Train Conv 1D Model"
   ]
  },
  {
   "cell_type": "code",
   "execution_count": 88,
   "metadata": {},
   "outputs": [],
   "source": [
    "X_gfccs_train_conv1D = np.expand_dims(X_gfccs_train_scaled, axis=2)\n",
    "X_gfccs_test_conv1D = np.expand_dims(X_gfccs_test_scaled, axis=2)"
   ]
  },
  {
   "cell_type": "code",
   "execution_count": 117,
   "metadata": {},
   "outputs": [
    {
     "name": "stdout",
     "output_type": "stream",
     "text": [
      "GFCCs - Conv1D Model - 1623111901\n",
      "Model: \"sequential_7\"\n",
      "_________________________________________________________________\n",
      "Layer (type)                 Output Shape              Param #   \n",
      "=================================================================\n",
      "conv1d_21 (Conv1D)           (None, 11, 128)           512       \n",
      "_________________________________________________________________\n",
      "max_pooling1d_21 (MaxPooling (None, 5, 128)            0         \n",
      "_________________________________________________________________\n",
      "conv1d_22 (Conv1D)           (None, 5, 128)            49280     \n",
      "_________________________________________________________________\n",
      "max_pooling1d_22 (MaxPooling (None, 2, 128)            0         \n",
      "_________________________________________________________________\n",
      "conv1d_23 (Conv1D)           (None, 2, 128)            49280     \n",
      "_________________________________________________________________\n",
      "max_pooling1d_23 (MaxPooling (None, 1, 128)            0         \n",
      "_________________________________________________________________\n",
      "dropout_7 (Dropout)          (None, 1, 128)            0         \n",
      "_________________________________________________________________\n",
      "flatten_7 (Flatten)          (None, 128)               0         \n",
      "_________________________________________________________________\n",
      "dense_14 (Dense)             (None, 128)               16512     \n",
      "_________________________________________________________________\n",
      "dense_15 (Dense)             (None, 1)                 129       \n",
      "=================================================================\n",
      "Total params: 115,713\n",
      "Trainable params: 115,713\n",
      "Non-trainable params: 0\n",
      "_________________________________________________________________\n"
     ]
    }
   ],
   "source": [
    "import keras_metrics\n",
    "dense_layer = 1\n",
    "layer_size = 128\n",
    "conv_layer = 3\n",
    "\n",
    "NAME = \"GFCCs - Conv1D Model - {}\".format(int(time.time()))\n",
    "print(NAME)\n",
    "tensorboard = TensorBoard(log_dir='./logs_dir/{}'.format(NAME))\n",
    "model = Sequential()\n",
    "model.add(Conv1D(layer_size, kernel_size=3, strides=1, padding='valid', activation='relu', input_shape=X_gfccs_train_conv1D.shape[1:]))\n",
    "model.add(MaxPool1D())\n",
    "\n",
    "for l in range(conv_layer-1):\n",
    "    model.add(Conv1D(layer_size, 3, padding=\"same\", activation=\"relu\"))\n",
    "    model.add(MaxPool1D())\n",
    "\n",
    "model.add(Dropout(0.4))\n",
    "\n",
    "model.add(Flatten())\n",
    "\n",
    "for d in range(dense_layer):\n",
    "    model.add(Dense(layer_size,activation=\"relu\"))\n",
    "\n",
    "model.add(Dense(1, activation=\"sigmoid\"))\n",
    "\n",
    "model.summary()\n",
    "lr_schedule = schedules.ExponentialDecay(\n",
    "    initial_learning_rate=0.01,\n",
    "    decay_steps=10000,\n",
    "    decay_rate=0.9)\n",
    "opt = SGD(learning_rate=lr_schedule)\n",
    "\n",
    "# opt = SGD(lr=0.01)\n",
    "model.compile(loss = \"binary_crossentropy\", optimizer = opt, metrics=['accuracy', keras_metrics.precision(), keras_metrics.recall()])"
   ]
  },
  {
   "cell_type": "code",
   "execution_count": 92,
   "metadata": {},
   "outputs": [],
   "source": [
    "# X_gfccs_CV = np.array(X_gfccs)\n",
    "# y_gfccs_CV = np.array(y_gfccs)\n",
    "X_gfccs_CV = X_gfccs_train_scaled\n",
    "y_gfccs_CV = y_gfccs_train_resampled"
   ]
  },
  {
   "cell_type": "code",
   "execution_count": 118,
   "metadata": {},
   "outputs": [
    {
     "name": "stdout",
     "output_type": "stream",
     "text": [
      "****Modelling Starts*****\n",
      "Epoch 1/20\n",
      "WARNING:tensorflow:`add_update` `inputs` kwarg has been deprecated. You no longer need to pass a value to `inputs` as it is being automatically inferred.\n",
      "WARNING:tensorflow:`add_update` `inputs` kwarg has been deprecated. You no longer need to pass a value to `inputs` as it is being automatically inferred.\n",
      "WARNING:tensorflow:`add_update` `inputs` kwarg has been deprecated. You no longer need to pass a value to `inputs` as it is being automatically inferred.\n",
      "WARNING:tensorflow:`add_update` `inputs` kwarg has been deprecated. You no longer need to pass a value to `inputs` as it is being automatically inferred.\n",
      "WARNING:tensorflow:`add_update` `inputs` kwarg has been deprecated. You no longer need to pass a value to `inputs` as it is being automatically inferred.\n",
      "WARNING:tensorflow:`add_update` `inputs` kwarg has been deprecated. You no longer need to pass a value to `inputs` as it is being automatically inferred.\n",
      "WARNING:tensorflow:`add_update` `inputs` kwarg has been deprecated. You no longer need to pass a value to `inputs` as it is being automatically inferred.\n",
      "WARNING:tensorflow:`add_update` `inputs` kwarg has been deprecated. You no longer need to pass a value to `inputs` as it is being automatically inferred.\n",
      "10752/10754 [============================>.] - ETA: 0s - loss: 0.6892 - accuracy: 0.5493 - precision: 0.5252 - recall: 0.6851WARNING:tensorflow:`add_update` `inputs` kwarg has been deprecated. You no longer need to pass a value to `inputs` as it is being automatically inferred.\n",
      "WARNING:tensorflow:`add_update` `inputs` kwarg has been deprecated. You no longer need to pass a value to `inputs` as it is being automatically inferred.\n",
      "WARNING:tensorflow:`add_update` `inputs` kwarg has been deprecated. You no longer need to pass a value to `inputs` as it is being automatically inferred.\n",
      "WARNING:tensorflow:`add_update` `inputs` kwarg has been deprecated. You no longer need to pass a value to `inputs` as it is being automatically inferred.\n",
      "10754/10754 [==============================] - 43s 4ms/step - loss: 0.6892 - accuracy: 0.5493 - precision: 0.5252 - recall: 0.6851 - val_loss: 0.6236 - val_accuracy: 0.6283 - val_precision: 0.1944 - val_recall: 0.3895\n",
      "Epoch 2/20\n",
      "10754/10754 [==============================] - 42s 4ms/step - loss: 0.6067 - accuracy: 0.6668 - precision: 0.6789 - recall: 0.5986 - val_loss: 0.5741 - val_accuracy: 0.6935 - val_precision: 0.2929 - val_recall: 0.2635\n",
      "Epoch 3/20\n",
      "10754/10754 [==============================] - 41s 4ms/step - loss: 0.5777 - accuracy: 0.6912 - precision: 0.7505 - recall: 0.5651 - val_loss: 0.5718 - val_accuracy: 0.6953 - val_precision: 0.3148 - val_recall: 0.2484\n",
      "Epoch 4/20\n",
      "10754/10754 [==============================] - 41s 4ms/step - loss: 0.5682 - accuracy: 0.6969 - precision: 0.7600 - recall: 0.5704 - val_loss: 0.5624 - val_accuracy: 0.6982 - val_precision: 0.2544 - val_recall: 0.3223\n",
      "Epoch 5/20\n",
      "10754/10754 [==============================] - 41s 4ms/step - loss: 0.5632 - accuracy: 0.6998 - precision: 0.7611 - recall: 0.5750 - val_loss: 0.5647 - val_accuracy: 0.6985 - val_precision: 0.3242 - val_recall: 0.2461\n",
      "Epoch 6/20\n",
      "10754/10754 [==============================] - 41s 4ms/step - loss: 0.5596 - accuracy: 0.7027 - precision: 0.7708 - recall: 0.5715 - val_loss: 0.5547 - val_accuracy: 0.7045 - val_precision: 0.3028 - val_recall: 0.2692\n",
      "Epoch 7/20\n",
      "10754/10754 [==============================] - 40s 4ms/step - loss: 0.5577 - accuracy: 0.7030 - precision: 0.7710 - recall: 0.5803 - val_loss: 0.5528 - val_accuracy: 0.7052 - val_precision: 0.2677 - val_recall: 0.3104\n",
      "Epoch 8/20\n",
      "10754/10754 [==============================] - 40s 4ms/step - loss: 0.5567 - accuracy: 0.7036 - precision: 0.7687 - recall: 0.5758 - val_loss: 0.5499 - val_accuracy: 0.7082 - val_precision: 0.2798 - val_recall: 0.2994\n",
      "Epoch 9/20\n",
      "10754/10754 [==============================] - 40s 4ms/step - loss: 0.5526 - accuracy: 0.7076 - precision: 0.7790 - recall: 0.5800 - val_loss: 0.5490 - val_accuracy: 0.7090 - val_precision: 0.2878 - val_recall: 0.2912\n",
      "Epoch 10/20\n",
      "10754/10754 [==============================] - 40s 4ms/step - loss: 0.5540 - accuracy: 0.7047 - precision: 0.7685 - recall: 0.5815 - val_loss: 0.5480 - val_accuracy: 0.7083 - val_precision: 0.3012 - val_recall: 0.2758\n",
      "Epoch 11/20\n",
      "10754/10754 [==============================] - 41s 4ms/step - loss: 0.5500 - accuracy: 0.7085 - precision: 0.7799 - recall: 0.5873 - val_loss: 0.5519 - val_accuracy: 0.7047 - val_precision: 0.2597 - val_recall: 0.3227\n",
      "Epoch 12/20\n",
      "10754/10754 [==============================] - 40s 4ms/step - loss: 0.5507 - accuracy: 0.7075 - precision: 0.7735 - recall: 0.5861 - val_loss: 0.5459 - val_accuracy: 0.7108 - val_precision: 0.2849 - val_recall: 0.2958\n",
      "Epoch 13/20\n",
      "10754/10754 [==============================] - 40s 4ms/step - loss: 0.5479 - accuracy: 0.7101 - precision: 0.7779 - recall: 0.5867 - val_loss: 0.5452 - val_accuracy: 0.7117 - val_precision: 0.2760 - val_recall: 0.3091\n",
      "Epoch 14/20\n",
      "10754/10754 [==============================] - 40s 4ms/step - loss: 0.5477 - accuracy: 0.7101 - precision: 0.7804 - recall: 0.5903 - val_loss: 0.5435 - val_accuracy: 0.7113 - val_precision: 0.2924 - val_recall: 0.2885\n",
      "Epoch 15/20\n",
      "10754/10754 [==============================] - 40s 4ms/step - loss: 0.5464 - accuracy: 0.7101 - precision: 0.7810 - recall: 0.5892 - val_loss: 0.5458 - val_accuracy: 0.7097 - val_precision: 0.2704 - val_recall: 0.3136\n",
      "Epoch 16/20\n",
      "10754/10754 [==============================] - 40s 4ms/step - loss: 0.5470 - accuracy: 0.7101 - precision: 0.7791 - recall: 0.5836 - val_loss: 0.5426 - val_accuracy: 0.7131 - val_precision: 0.2879 - val_recall: 0.2957\n",
      "Epoch 17/20\n",
      "10754/10754 [==============================] - 40s 4ms/step - loss: 0.5465 - accuracy: 0.7115 - precision: 0.7832 - recall: 0.5847 - val_loss: 0.5426 - val_accuracy: 0.7123 - val_precision: 0.2891 - val_recall: 0.2928\n",
      "Epoch 18/20\n",
      "10754/10754 [==============================] - 40s 4ms/step - loss: 0.5456 - accuracy: 0.7105 - precision: 0.7774 - recall: 0.5838 - val_loss: 0.5419 - val_accuracy: 0.7126 - val_precision: 0.2904 - val_recall: 0.2919\n",
      "Epoch 19/20\n",
      "10754/10754 [==============================] - 40s 4ms/step - loss: 0.5448 - accuracy: 0.7117 - precision: 0.7823 - recall: 0.5836 - val_loss: 0.5414 - val_accuracy: 0.7134 - val_precision: 0.2820 - val_recall: 0.3033\n",
      "Epoch 20/20\n",
      "10754/10754 [==============================] - 40s 4ms/step - loss: 0.5443 - accuracy: 0.7130 - precision: 0.7799 - recall: 0.5924 - val_loss: 0.5413 - val_accuracy: 0.7125 - val_precision: 0.2964 - val_recall: 0.2855\n",
      "****Modelling Starts*****\n",
      "Epoch 1/20\n",
      "10754/10754 [==============================] - 40s 4ms/step - loss: 0.5437 - accuracy: 0.7124 - precision: 0.7832 - recall: 0.5894 - val_loss: 0.5413 - val_accuracy: 0.7139 - val_precision: 0.2783 - val_recall: 0.3078\n",
      "Epoch 2/20\n",
      "10754/10754 [==============================] - 40s 4ms/step - loss: 0.5435 - accuracy: 0.7128 - precision: 0.7822 - recall: 0.5896 - val_loss: 0.5407 - val_accuracy: 0.7138 - val_precision: 0.3026 - val_recall: 0.2821\n",
      "Epoch 3/20\n",
      "10754/10754 [==============================] - 40s 4ms/step - loss: 0.5432 - accuracy: 0.7131 - precision: 0.7825 - recall: 0.5911 - val_loss: 0.5421 - val_accuracy: 0.7137 - val_precision: 0.3099 - val_recall: 0.2761\n",
      "Epoch 4/20\n",
      "10754/10754 [==============================] - 40s 4ms/step - loss: 0.5428 - accuracy: 0.7127 - precision: 0.7806 - recall: 0.5889 - val_loss: 0.5398 - val_accuracy: 0.7155 - val_precision: 0.2868 - val_recall: 0.3000\n",
      "Epoch 5/20\n",
      "10754/10754 [==============================] - 40s 4ms/step - loss: 0.5425 - accuracy: 0.7133 - precision: 0.7806 - recall: 0.5943 - val_loss: 0.5407 - val_accuracy: 0.7145 - val_precision: 0.3063 - val_recall: 0.2795\n",
      "Epoch 6/20\n",
      "10754/10754 [==============================] - 40s 4ms/step - loss: 0.5424 - accuracy: 0.7138 - precision: 0.7805 - recall: 0.5937 - val_loss: 0.5401 - val_accuracy: 0.7145 - val_precision: 0.3026 - val_recall: 0.2828\n",
      "Epoch 7/20\n",
      "10754/10754 [==============================] - 40s 4ms/step - loss: 0.5419 - accuracy: 0.7138 - precision: 0.7823 - recall: 0.5945 - val_loss: 0.5393 - val_accuracy: 0.7156 - val_precision: 0.2907 - val_recall: 0.2962\n"
     ]
    },
    {
     "name": "stdout",
     "output_type": "stream",
     "text": [
      "Epoch 8/20\n",
      "10754/10754 [==============================] - 40s 4ms/step - loss: 0.5419 - accuracy: 0.7134 - precision: 0.7823 - recall: 0.5924 - val_loss: 0.5392 - val_accuracy: 0.7164 - val_precision: 0.2956 - val_recall: 0.2916\n",
      "Epoch 9/20\n",
      "10754/10754 [==============================] - 40s 4ms/step - loss: 0.5416 - accuracy: 0.7140 - precision: 0.7814 - recall: 0.5948 - val_loss: 0.5389 - val_accuracy: 0.7165 - val_precision: 0.2908 - val_recall: 0.2970\n",
      "Epoch 10/20\n",
      "10754/10754 [==============================] - 40s 4ms/step - loss: 0.5411 - accuracy: 0.7143 - precision: 0.7831 - recall: 0.5945 - val_loss: 0.5393 - val_accuracy: 0.7160 - val_precision: 0.2993 - val_recall: 0.2872\n",
      "Epoch 11/20\n",
      "10754/10754 [==============================] - 40s 4ms/step - loss: 0.5414 - accuracy: 0.7141 - precision: 0.7827 - recall: 0.5914 - val_loss: 0.5389 - val_accuracy: 0.7163 - val_precision: 0.2973 - val_recall: 0.2901\n",
      "Epoch 12/20\n",
      "10754/10754 [==============================] - 40s 4ms/step - loss: 0.5415 - accuracy: 0.7145 - precision: 0.7824 - recall: 0.5924 - val_loss: 0.5391 - val_accuracy: 0.7158 - val_precision: 0.2850 - val_recall: 0.3028\n",
      "Epoch 13/20\n",
      "10754/10754 [==============================] - 40s 4ms/step - loss: 0.5411 - accuracy: 0.7144 - precision: 0.7830 - recall: 0.5933 - val_loss: 0.5386 - val_accuracy: 0.7168 - val_precision: 0.2910 - val_recall: 0.2970\n",
      "Epoch 14/20\n",
      "10754/10754 [==============================] - 40s 4ms/step - loss: 0.5411 - accuracy: 0.7144 - precision: 0.7829 - recall: 0.5928 - val_loss: 0.5389 - val_accuracy: 0.7161 - val_precision: 0.2863 - val_recall: 0.3014\n",
      "Epoch 15/20\n",
      "10754/10754 [==============================] - 40s 4ms/step - loss: 0.5408 - accuracy: 0.7139 - precision: 0.7819 - recall: 0.5907 - val_loss: 0.5385 - val_accuracy: 0.7163 - val_precision: 0.2936 - val_recall: 0.2939\n",
      "Epoch 16/20\n",
      "10754/10754 [==============================] - 40s 4ms/step - loss: 0.5406 - accuracy: 0.7149 - precision: 0.7846 - recall: 0.5958 - val_loss: 0.5385 - val_accuracy: 0.7166 - val_precision: 0.2924 - val_recall: 0.2952\n",
      "Epoch 17/20\n",
      "10754/10754 [==============================] - 40s 4ms/step - loss: 0.5409 - accuracy: 0.7144 - precision: 0.7821 - recall: 0.5939 - val_loss: 0.5386 - val_accuracy: 0.7158 - val_precision: 0.2992 - val_recall: 0.2871\n",
      "Epoch 18/20\n",
      "10754/10754 [==============================] - 40s 4ms/step - loss: 0.5407 - accuracy: 0.7146 - precision: 0.7852 - recall: 0.5914 - val_loss: 0.5385 - val_accuracy: 0.7165 - val_precision: 0.2874 - val_recall: 0.3009\n",
      "Epoch 19/20\n",
      "10754/10754 [==============================] - 40s 4ms/step - loss: 0.5403 - accuracy: 0.7149 - precision: 0.7839 - recall: 0.5949 - val_loss: 0.5385 - val_accuracy: 0.7164 - val_precision: 0.2970 - val_recall: 0.2902\n",
      "Epoch 20/20\n",
      "10754/10754 [==============================] - 40s 4ms/step - loss: 0.5406 - accuracy: 0.7146 - precision: 0.7845 - recall: 0.5948 - val_loss: 0.5383 - val_accuracy: 0.7170 - val_precision: 0.2927 - val_recall: 0.2957\n",
      "****Modelling Starts*****\n",
      "Epoch 1/20\n",
      "10754/10754 [==============================] - 40s 4ms/step - loss: 0.5409 - accuracy: 0.7143 - precision: 0.7821 - recall: 0.5936 - val_loss: 0.5374 - val_accuracy: 0.7173 - val_precision: 0.2968 - val_recall: 0.2894\n",
      "Epoch 2/20\n",
      "10754/10754 [==============================] - 40s 4ms/step - loss: 0.5409 - accuracy: 0.7146 - precision: 0.7839 - recall: 0.5913 - val_loss: 0.5372 - val_accuracy: 0.7171 - val_precision: 0.2934 - val_recall: 0.2925\n",
      "Epoch 3/20\n",
      "10754/10754 [==============================] - 40s 4ms/step - loss: 0.5405 - accuracy: 0.7149 - precision: 0.7846 - recall: 0.5951 - val_loss: 0.5374 - val_accuracy: 0.7170 - val_precision: 0.2962 - val_recall: 0.2897\n",
      "Epoch 4/20\n",
      "10754/10754 [==============================] - 40s 4ms/step - loss: 0.5406 - accuracy: 0.7150 - precision: 0.7826 - recall: 0.5946 - val_loss: 0.5372 - val_accuracy: 0.7172 - val_precision: 0.2924 - val_recall: 0.2933\n",
      "Epoch 5/20\n",
      "10754/10754 [==============================] - 40s 4ms/step - loss: 0.5406 - accuracy: 0.7150 - precision: 0.7838 - recall: 0.5937 - val_loss: 0.5373 - val_accuracy: 0.7172 - val_precision: 0.2907 - val_recall: 0.2952\n",
      "Epoch 6/20\n",
      "10754/10754 [==============================] - 40s 4ms/step - loss: 0.5405 - accuracy: 0.7150 - precision: 0.7853 - recall: 0.5922 - val_loss: 0.5372 - val_accuracy: 0.7172 - val_precision: 0.2887 - val_recall: 0.2976\n",
      "Epoch 7/20\n",
      "10754/10754 [==============================] - 40s 4ms/step - loss: 0.5407 - accuracy: 0.7153 - precision: 0.7842 - recall: 0.5957 - val_loss: 0.5372 - val_accuracy: 0.7173 - val_precision: 0.2922 - val_recall: 0.2939\n",
      "Epoch 8/20\n",
      "10754/10754 [==============================] - 40s 4ms/step - loss: 0.5406 - accuracy: 0.7152 - precision: 0.7841 - recall: 0.5921 - val_loss: 0.5372 - val_accuracy: 0.7172 - val_precision: 0.2921 - val_recall: 0.2937\n",
      "Epoch 9/20\n",
      "10754/10754 [==============================] - 40s 4ms/step - loss: 0.5403 - accuracy: 0.7152 - precision: 0.7845 - recall: 0.5939 - val_loss: 0.5372 - val_accuracy: 0.7171 - val_precision: 0.2893 - val_recall: 0.2967\n",
      "Epoch 10/20\n",
      "10754/10754 [==============================] - 40s 4ms/step - loss: 0.5405 - accuracy: 0.7155 - precision: 0.7850 - recall: 0.5965 - val_loss: 0.5372 - val_accuracy: 0.7173 - val_precision: 0.2908 - val_recall: 0.2952\n",
      "Epoch 11/20\n",
      "10754/10754 [==============================] - 40s 4ms/step - loss: 0.5403 - accuracy: 0.7153 - precision: 0.7835 - recall: 0.5932 - val_loss: 0.5371 - val_accuracy: 0.7173 - val_precision: 0.2918 - val_recall: 0.2942\n",
      "Epoch 12/20\n",
      "10754/10754 [==============================] - 40s 4ms/step - loss: 0.5402 - accuracy: 0.7150 - precision: 0.7819 - recall: 0.5923 - val_loss: 0.5372 - val_accuracy: 0.7171 - val_precision: 0.2940 - val_recall: 0.2919\n",
      "Epoch 13/20\n",
      "10754/10754 [==============================] - 40s 4ms/step - loss: 0.5402 - accuracy: 0.7148 - precision: 0.7831 - recall: 0.5904 - val_loss: 0.5372 - val_accuracy: 0.7172 - val_precision: 0.2884 - val_recall: 0.2977\n",
      "Epoch 14/20\n",
      "10754/10754 [==============================] - 40s 4ms/step - loss: 0.5403 - accuracy: 0.7149 - precision: 0.7830 - recall: 0.5933 - val_loss: 0.5371 - val_accuracy: 0.7174 - val_precision: 0.2906 - val_recall: 0.2955\n",
      "Epoch 15/20\n",
      "10754/10754 [==============================] - 40s 4ms/step - loss: 0.5402 - accuracy: 0.7151 - precision: 0.7816 - recall: 0.5942 - val_loss: 0.5371 - val_accuracy: 0.7172 - val_precision: 0.2944 - val_recall: 0.2916\n",
      "Epoch 16/20\n",
      "10754/10754 [==============================] - 40s 4ms/step - loss: 0.5402 - accuracy: 0.7154 - precision: 0.7858 - recall: 0.5938 - val_loss: 0.5371 - val_accuracy: 0.7174 - val_precision: 0.2925 - val_recall: 0.2935\n",
      "Epoch 17/20\n",
      "10754/10754 [==============================] - 40s 4ms/step - loss: 0.5404 - accuracy: 0.7150 - precision: 0.7833 - recall: 0.5956 - val_loss: 0.5371 - val_accuracy: 0.7174 - val_precision: 0.2939 - val_recall: 0.2922\n",
      "Epoch 18/20\n",
      "10754/10754 [==============================] - 40s 4ms/step - loss: 0.5404 - accuracy: 0.7152 - precision: 0.7844 - recall: 0.5925 - val_loss: 0.5371 - val_accuracy: 0.7174 - val_precision: 0.2910 - val_recall: 0.2951\n",
      "Epoch 19/20\n",
      "10754/10754 [==============================] - 40s 4ms/step - loss: 0.5403 - accuracy: 0.7155 - precision: 0.7846 - recall: 0.5946 - val_loss: 0.5372 - val_accuracy: 0.7172 - val_precision: 0.2952 - val_recall: 0.2909\n",
      "Epoch 20/20\n",
      "10754/10754 [==============================] - 40s 4ms/step - loss: 0.5402 - accuracy: 0.7154 - precision: 0.7838 - recall: 0.5928 - val_loss: 0.5371 - val_accuracy: 0.7173 - val_precision: 0.2913 - val_recall: 0.2947\n",
      "****Modelling Starts*****\n",
      "Epoch 1/20\n",
      "10754/10754 [==============================] - 41s 4ms/step - loss: 0.5404 - accuracy: 0.7155 - precision: 0.7824 - recall: 0.5957 - val_loss: 0.5361 - val_accuracy: 0.7164 - val_precision: 0.2936 - val_recall: 0.2932\n",
      "Epoch 2/20\n",
      "10754/10754 [==============================] - 40s 4ms/step - loss: 0.5404 - accuracy: 0.7154 - precision: 0.7844 - recall: 0.5939 - val_loss: 0.5361 - val_accuracy: 0.7165 - val_precision: 0.2923 - val_recall: 0.2945\n",
      "Epoch 3/20\n",
      "10754/10754 [==============================] - 40s 4ms/step - loss: 0.5403 - accuracy: 0.7149 - precision: 0.7846 - recall: 0.5971 - val_loss: 0.5361 - val_accuracy: 0.7162 - val_precision: 0.2908 - val_recall: 0.2954\n",
      "Epoch 4/20\n",
      "10754/10754 [==============================] - 40s 4ms/step - loss: 0.5405 - accuracy: 0.7153 - precision: 0.7868 - recall: 0.5987 - val_loss: 0.5361 - val_accuracy: 0.7164 - val_precision: 0.2917 - val_recall: 0.2949\n",
      "Epoch 5/20\n",
      "10754/10754 [==============================] - 40s 4ms/step - loss: 0.5405 - accuracy: 0.7156 - precision: 0.7830 - recall: 0.5939 - val_loss: 0.5361 - val_accuracy: 0.7163 - val_precision: 0.2910 - val_recall: 0.2955\n",
      "Epoch 6/20\n",
      "10754/10754 [==============================] - 40s 4ms/step - loss: 0.5408 - accuracy: 0.7153 - precision: 0.7833 - recall: 0.5939 - val_loss: 0.5361 - val_accuracy: 0.7163 - val_precision: 0.2904 - val_recall: 0.2961\n",
      "Epoch 7/20\n",
      "10754/10754 [==============================] - 40s 4ms/step - loss: 0.5407 - accuracy: 0.7152 - precision: 0.7817 - recall: 0.5963 - val_loss: 0.5361 - val_accuracy: 0.7163 - val_precision: 0.2908 - val_recall: 0.2956\n",
      "Epoch 8/20\n",
      "10754/10754 [==============================] - 40s 4ms/step - loss: 0.5407 - accuracy: 0.7152 - precision: 0.7823 - recall: 0.5931 - val_loss: 0.5361 - val_accuracy: 0.7163 - val_precision: 0.2903 - val_recall: 0.2963\n",
      "Epoch 9/20\n",
      "10754/10754 [==============================] - 40s 4ms/step - loss: 0.5406 - accuracy: 0.7149 - precision: 0.7818 - recall: 0.5950 - val_loss: 0.5361 - val_accuracy: 0.7164 - val_precision: 0.2903 - val_recall: 0.2963\n",
      "Epoch 10/20\n",
      "10754/10754 [==============================] - 40s 4ms/step - loss: 0.5405 - accuracy: 0.7152 - precision: 0.7826 - recall: 0.5984 - val_loss: 0.5361 - val_accuracy: 0.7163 - val_precision: 0.2910 - val_recall: 0.2954\n",
      "Epoch 11/20\n",
      "10754/10754 [==============================] - 40s 4ms/step - loss: 0.5405 - accuracy: 0.7152 - precision: 0.7837 - recall: 0.5947 - val_loss: 0.5361 - val_accuracy: 0.7164 - val_precision: 0.2915 - val_recall: 0.2950\n",
      "Epoch 12/20\n",
      "10754/10754 [==============================] - 40s 4ms/step - loss: 0.5406 - accuracy: 0.7152 - precision: 0.7834 - recall: 0.5943 - val_loss: 0.5361 - val_accuracy: 0.7164 - val_precision: 0.2911 - val_recall: 0.2954\n",
      "Epoch 13/20\n",
      "10754/10754 [==============================] - 40s 4ms/step - loss: 0.5407 - accuracy: 0.7151 - precision: 0.7831 - recall: 0.5964 - val_loss: 0.5361 - val_accuracy: 0.7162 - val_precision: 0.2906 - val_recall: 0.2957\n",
      "Epoch 14/20\n",
      "10754/10754 [==============================] - 40s 4ms/step - loss: 0.5404 - accuracy: 0.7150 - precision: 0.7814 - recall: 0.5948 - val_loss: 0.5361 - val_accuracy: 0.7162 - val_precision: 0.2907 - val_recall: 0.2956\n",
      "Epoch 15/20\n",
      "10754/10754 [==============================] - 40s 4ms/step - loss: 0.5403 - accuracy: 0.7153 - precision: 0.7810 - recall: 0.5962 - val_loss: 0.5361 - val_accuracy: 0.7162 - val_precision: 0.2904 - val_recall: 0.2960\n",
      "Epoch 16/20\n",
      "10754/10754 [==============================] - 40s 4ms/step - loss: 0.5403 - accuracy: 0.7150 - precision: 0.7816 - recall: 0.5968 - val_loss: 0.5361 - val_accuracy: 0.7162 - val_precision: 0.2908 - val_recall: 0.2955\n",
      "Epoch 17/20\n",
      "10754/10754 [==============================] - 40s 4ms/step - loss: 0.5405 - accuracy: 0.7151 - precision: 0.7828 - recall: 0.5965 - val_loss: 0.5361 - val_accuracy: 0.7164 - val_precision: 0.2913 - val_recall: 0.2952\n",
      "Epoch 18/20\n",
      "10754/10754 [==============================] - 40s 4ms/step - loss: 0.5406 - accuracy: 0.7155 - precision: 0.7832 - recall: 0.5965 - val_loss: 0.5361 - val_accuracy: 0.7163 - val_precision: 0.2913 - val_recall: 0.2951\n",
      "Epoch 19/20\n",
      "10754/10754 [==============================] - 40s 4ms/step - loss: 0.5405 - accuracy: 0.7152 - precision: 0.7864 - recall: 0.5972 - val_loss: 0.5361 - val_accuracy: 0.7163 - val_precision: 0.2910 - val_recall: 0.2954\n",
      "Epoch 20/20\n",
      "10754/10754 [==============================] - 40s 4ms/step - loss: 0.5409 - accuracy: 0.7150 - precision: 0.7820 - recall: 0.5942 - val_loss: 0.5361 - val_accuracy: 0.7163 - val_precision: 0.2912 - val_recall: 0.2951\n",
      "****Modelling Starts*****\n",
      "Epoch 1/20\n",
      "10754/10754 [==============================] - 41s 4ms/step - loss: 0.5403 - accuracy: 0.7153 - precision: 0.7834 - recall: 0.5950 - val_loss: 0.5378 - val_accuracy: 0.7166 - val_precision: 0.2918 - val_recall: 0.2952\n",
      "Epoch 2/20\n",
      "10754/10754 [==============================] - 40s 4ms/step - loss: 0.5399 - accuracy: 0.7156 - precision: 0.7834 - recall: 0.5950 - val_loss: 0.5378 - val_accuracy: 0.7166 - val_precision: 0.2918 - val_recall: 0.2952\n",
      "Epoch 3/20\n",
      "10754/10754 [==============================] - 40s 4ms/step - loss: 0.5399 - accuracy: 0.7152 - precision: 0.7839 - recall: 0.5936 - val_loss: 0.5378 - val_accuracy: 0.7165 - val_precision: 0.2918 - val_recall: 0.2951\n",
      "Epoch 4/20\n",
      "10754/10754 [==============================] - 40s 4ms/step - loss: 0.5401 - accuracy: 0.7148 - precision: 0.7835 - recall: 0.5945 - val_loss: 0.5378 - val_accuracy: 0.7166 - val_precision: 0.2918 - val_recall: 0.2952\n",
      "Epoch 5/20\n",
      "10754/10754 [==============================] - 40s 4ms/step - loss: 0.5401 - accuracy: 0.7157 - precision: 0.7838 - recall: 0.5962 - val_loss: 0.5378 - val_accuracy: 0.7166 - val_precision: 0.2920 - val_recall: 0.2951\n",
      "Epoch 6/20\n",
      "10754/10754 [==============================] - 40s 4ms/step - loss: 0.5400 - accuracy: 0.7153 - precision: 0.7846 - recall: 0.5958 - val_loss: 0.5378 - val_accuracy: 0.7165 - val_precision: 0.2917 - val_recall: 0.2952\n",
      "Epoch 7/20\n",
      "10754/10754 [==============================] - 40s 4ms/step - loss: 0.5403 - accuracy: 0.7153 - precision: 0.7831 - recall: 0.5929 - val_loss: 0.5378 - val_accuracy: 0.7166 - val_precision: 0.2919 - val_recall: 0.2951\n",
      "Epoch 8/20\n",
      "10754/10754 [==============================] - 40s 4ms/step - loss: 0.5399 - accuracy: 0.7155 - precision: 0.7851 - recall: 0.5968 - val_loss: 0.5378 - val_accuracy: 0.7166 - val_precision: 0.2920 - val_recall: 0.2950\n",
      "Epoch 9/20\n",
      "10754/10754 [==============================] - 40s 4ms/step - loss: 0.5402 - accuracy: 0.7147 - precision: 0.7812 - recall: 0.5933 - val_loss: 0.5378 - val_accuracy: 0.7166 - val_precision: 0.2919 - val_recall: 0.2951\n",
      "Epoch 10/20\n",
      "10754/10754 [==============================] - 40s 4ms/step - loss: 0.5402 - accuracy: 0.7152 - precision: 0.7829 - recall: 0.5943 - val_loss: 0.5378 - val_accuracy: 0.7166 - val_precision: 0.2919 - val_recall: 0.2951\n",
      "Epoch 11/20\n",
      "10754/10754 [==============================] - 40s 4ms/step - loss: 0.5399 - accuracy: 0.7152 - precision: 0.7845 - recall: 0.5957 - val_loss: 0.5378 - val_accuracy: 0.7165 - val_precision: 0.2917 - val_recall: 0.2952\n",
      "Epoch 12/20\n",
      "10754/10754 [==============================] - 40s 4ms/step - loss: 0.5403 - accuracy: 0.7150 - precision: 0.7823 - recall: 0.5945 - val_loss: 0.5378 - val_accuracy: 0.7166 - val_precision: 0.2919 - val_recall: 0.2952\n",
      "Epoch 13/20\n",
      "10754/10754 [==============================] - 40s 4ms/step - loss: 0.5399 - accuracy: 0.7150 - precision: 0.7828 - recall: 0.5931 - val_loss: 0.5378 - val_accuracy: 0.7166 - val_precision: 0.2919 - val_recall: 0.2951\n",
      "Epoch 14/20\n",
      "10754/10754 [==============================] - 40s 4ms/step - loss: 0.5403 - accuracy: 0.7148 - precision: 0.7827 - recall: 0.5957 - val_loss: 0.5378 - val_accuracy: 0.7166 - val_precision: 0.2919 - val_recall: 0.2952\n",
      "Epoch 15/20\n",
      "10754/10754 [==============================] - 40s 4ms/step - loss: 0.5401 - accuracy: 0.7151 - precision: 0.7845 - recall: 0.5932 - val_loss: 0.5378 - val_accuracy: 0.7166 - val_precision: 0.2919 - val_recall: 0.2952\n",
      "Epoch 16/20\n",
      "10754/10754 [==============================] - 40s 4ms/step - loss: 0.5401 - accuracy: 0.7154 - precision: 0.7836 - recall: 0.5954 - val_loss: 0.5378 - val_accuracy: 0.7166 - val_precision: 0.2919 - val_recall: 0.2952\n",
      "Epoch 17/20\n",
      "10754/10754 [==============================] - 40s 4ms/step - loss: 0.5400 - accuracy: 0.7153 - precision: 0.7832 - recall: 0.5931 - val_loss: 0.5378 - val_accuracy: 0.7166 - val_precision: 0.2919 - val_recall: 0.2952\n",
      "Epoch 18/20\n",
      "10754/10754 [==============================] - 40s 4ms/step - loss: 0.5400 - accuracy: 0.7150 - precision: 0.7829 - recall: 0.5951 - val_loss: 0.5378 - val_accuracy: 0.7166 - val_precision: 0.2919 - val_recall: 0.2952\n"
     ]
    },
    {
     "name": "stdout",
     "output_type": "stream",
     "text": [
      "Epoch 19/20\n",
      "10754/10754 [==============================] - 40s 4ms/step - loss: 0.5402 - accuracy: 0.7150 - precision: 0.7836 - recall: 0.5955 - val_loss: 0.5378 - val_accuracy: 0.7166 - val_precision: 0.2919 - val_recall: 0.2952\n",
      "Epoch 20/20\n",
      "10754/10754 [==============================] - 40s 4ms/step - loss: 0.5400 - accuracy: 0.7153 - precision: 0.7872 - recall: 0.5989 - val_loss: 0.5378 - val_accuracy: 0.7166 - val_precision: 0.2919 - val_recall: 0.2952\n"
     ]
    }
   ],
   "source": [
    "skf = StratifiedKFold(n_splits = 5, random_state = 7, shuffle = True)\n",
    "fold = 1\n",
    "for train_index, val_index in skf.split(np.zeros(len(X_gfccs_CV)),y_gfccs_CV):\n",
    "    print(\"****Modelling Starts*****\")\n",
    "\n",
    "    X_gfccs_train_CV = X_gfccs_CV[train_index]\n",
    "    X_gfccs_test_CV = X_gfccs_CV[val_index]\n",
    "    \n",
    "    y_gfccs_train_CV = y_gfccs_CV[train_index]\n",
    "    y_gfccs_test_CV = y_gfccs_CV[val_index]\n",
    "    \n",
    "\n",
    "    #transforming the data - \n",
    "    \n",
    "#     rus = RandomUnderSampler(random_state=0)\n",
    "#     X_gfccs_train_resampled, y_gfccs_train_resampled = rus.fit_resample(X_gfccs_train_CV, y_gfccs_train_CV)\n",
    "#     print(X_train_resampled.shape, y_train_resampled.shape)\n",
    "#     print(type(X_train_resampled), type(y_train_resampled))\n",
    "    \n",
    "#     X_gfccs_train_scaled = normalizeData(X_gfccs_train_resampled)\n",
    "#     X_gfccs_test_scaled = normalizeData(X_gfccs_test_CV)\n",
    "#     X_gfccs_scaled = normalizeData(X_gfccs_CV)\n",
    "    \n",
    "    X_gfccs_train_conv1D = np.expand_dims(X_gfccs_train_CV, axis=2)\n",
    "    X_gfccs_test_conv1D = np.expand_dims(X_gfccs_test_CV, axis=2)\n",
    "    \n",
    "#     print(X_train_conv1D.shape, X_test_conv1D.shape, y_gfccs_train_CV.shape, y_gfccs_test_CV.shape)\n",
    "    \n",
    "    #model.fit(X_train, y_train, batch_size=32, epochs=20, validation_data=(X_test, y_test))\n",
    "    hist = model.fit(X_gfccs_train_conv1D, y_gfccs_train_CV, batch_size=32, epochs=20, validation_data=(X_gfccs_test_conv1D, y_gfccs_test_CV), callbacks=[tensorboard])\n",
    "#     break\n",
    "    \n",
    "    fold += 1"
   ]
  },
  {
   "cell_type": "code",
   "execution_count": 120,
   "metadata": {},
   "outputs": [],
   "source": [
    "val_acc_mean = np.mean(hist.history['val_accuracy'])\n",
    "val_precision_mean = np.mean(hist.history['val_precision'])\n",
    "val_recall_mean = np.mean(hist.history['val_recall'])"
   ]
  },
  {
   "cell_type": "code",
   "execution_count": 121,
   "metadata": {},
   "outputs": [
    {
     "name": "stdout",
     "output_type": "stream",
     "text": [
      "0.7165971249341965 0.2918633669614792 0.29516369849443436\n"
     ]
    }
   ],
   "source": [
    "print(val_acc_mean, val_precision_mean, val_recall_mean)"
   ]
  },
  {
   "cell_type": "code",
   "execution_count": null,
   "metadata": {},
   "outputs": [],
   "source": []
  },
  {
   "cell_type": "markdown",
   "metadata": {},
   "source": [
    "##### GFCCS - Testing Conv 1D Model"
   ]
  },
  {
   "cell_type": "code",
   "execution_count": 124,
   "metadata": {},
   "outputs": [
    {
     "name": "stdout",
     "output_type": "stream",
     "text": [
      "(60297, 13, 1) (60297,)\n"
     ]
    }
   ],
   "source": [
    "X_gfccs_test_conv1D = np.expand_dims(X_gfccs_test_scaled, axis=2)\n",
    "print(X_gfccs_test_conv1D.shape, y_gfccs_test.shape)"
   ]
  },
  {
   "cell_type": "code",
   "execution_count": 125,
   "metadata": {},
   "outputs": [
    {
     "name": "stdout",
     "output_type": "stream",
     "text": [
      "0:00:03.388280\n"
     ]
    }
   ],
   "source": [
    "## Validating against the validation dataset\n",
    "\n",
    "start_time = datetime.datetime.now()\n",
    "#testing the Conv1D model\n",
    "y_pred_prob = model.predict(X_gfccs_test_conv1D)\n",
    "y_pred_classes = model.predict_classes(X_gfccs_test_conv1D)\n",
    "\n",
    "end_time = datetime.datetime.now()\n",
    "total_time = end_time - start_time\n",
    "print(total_time)"
   ]
  },
  {
   "cell_type": "code",
   "execution_count": 126,
   "metadata": {},
   "outputs": [
    {
     "name": "stdout",
     "output_type": "stream",
     "text": [
      "Accuracy: 0.654145\n",
      "Precision: 0.884784\n",
      "Recall: 0.143708\n",
      "F1 score: 0.247257\n",
      "Cohens kappa: 0.153786\n",
      "ROC AUC: 0.698339\n",
      "[[36018   446]\n",
      " [20408  3425]]\n"
     ]
    }
   ],
   "source": [
    "from sklearn.metrics import accuracy_score\n",
    "from sklearn.metrics import precision_score\n",
    "from sklearn.metrics import recall_score\n",
    "from sklearn.metrics import f1_score\n",
    "from sklearn.metrics import cohen_kappa_score\n",
    "from sklearn.metrics import roc_auc_score\n",
    "from sklearn.metrics import confusion_matrix\n",
    "\n",
    "# accuracy: (tp + tn) / (p + n)\n",
    "accuracy = accuracy_score(y_gfccs_test, y_pred_classes)\n",
    "print('Accuracy: %f' % accuracy)\n",
    "\n",
    "# precision tp / (tp + fp)\n",
    "precision = precision_score(y_gfccs_test, y_pred_classes)\n",
    "print('Precision: %f' % precision)\n",
    "\n",
    "# recall: tp / (tp + fn)\n",
    "recall = recall_score(y_gfccs_test, y_pred_classes)\n",
    "print('Recall: %f' % recall)\n",
    "\n",
    "# f1: 2 tp / (2 tp + fp + fn)\n",
    "f1 = f1_score(y_gfccs_test, y_pred_classes)\n",
    "print('F1 score: %f' % f1)\n",
    " \n",
    "# kappa\n",
    "kappa = cohen_kappa_score(y_gfccs_test, y_pred_classes)\n",
    "print('Cohens kappa: %f' % kappa)\n",
    "\n",
    "# ROC AUC\n",
    "auc = roc_auc_score(y_gfccs_test, y_pred_prob)\n",
    "print('ROC AUC: %f' % auc)\n",
    "\n",
    "# confusion matrix\n",
    "matrix = confusion_matrix(y_gfccs_test, y_pred_classes)\n",
    "print(matrix)"
   ]
  },
  {
   "cell_type": "code",
   "execution_count": null,
   "metadata": {},
   "outputs": [],
   "source": []
  },
  {
   "cell_type": "markdown",
   "metadata": {},
   "source": [
    "##### GFCCS - Training SVM Linear Model"
   ]
  },
  {
   "cell_type": "code",
   "execution_count": 131,
   "metadata": {},
   "outputs": [
    {
     "name": "stdout",
     "output_type": "stream",
     "text": [
      "(80000, 13) (80000,)\n",
      "<class 'numpy.ndarray'> <class 'pandas.core.series.Series'>\n"
     ]
    }
   ],
   "source": [
    "from imblearn.under_sampling import RandomUnderSampler\n",
    "rus = RandomUnderSampler(random_state=0, sampling_strategy={\n",
    "        0: 40000,\n",
    "        1: 40000\n",
    "    })\n",
    "X_gfccs_resampled, y_gfccs_resampled = rus.fit_resample(X_gfccs_train_scaled, y_gfccs_train_resampled)\n",
    "print(X_gfccs_resampled.shape, y_gfccs_resampled.shape)\n",
    "print(type(X_gfccs_resampled), type(y_gfccs_resampled))"
   ]
  },
  {
   "cell_type": "code",
   "execution_count": 132,
   "metadata": {},
   "outputs": [
    {
     "name": "stdout",
     "output_type": "stream",
     "text": [
      " ====Start=======  SVM - 5 fold cross validation Linear Training Model (GFCCS)\n",
      " Start Time  2021-06-08 05:02:17.560164\n",
      "{'fit_time': array([104.62383223, 103.35814285, 103.34522653, 102.21927238,\n",
      "       103.48540831]), 'score_time': array([16.78720093, 16.64687395, 16.68671179, 16.49727893, 16.56502962]), 'test_accuracy': array([0.6925625, 0.6841875, 0.6914375, 0.6853125, 0.6865   ]), 'train_accuracy': array([0.68729688, 0.68876563, 0.68667188, 0.68879687, 0.68845312]), 'test_precision': array([0.76194525, 0.75532837, 0.75452883, 0.75216874, 0.75618132]), 'train_precision': array([0.75564086, 0.75725054, 0.75407256, 0.75709605, 0.75649696]), 'test_recall': array([0.560125, 0.544875, 0.5675  , 0.55275 , 0.5505  ]), 'train_recall': array([0.553625  , 0.55565625, 0.55403125, 0.55596875, 0.5558125 ])}\n",
      " ====End=======  SVM - 5 fold cross validation Linear Training Model (GFCCS)\n",
      " End Time  2021-06-08 05:17:50.865884\n",
      "SVM - 5 fold cross validation Linear Training Model (GFCCS) =====Total Time===== 0:15:33.305720\n"
     ]
    }
   ],
   "source": [
    "msg = \"SVM - 5 fold cross validation Linear Training Model (GFCCS)\"\n",
    "start_time = startTime(msg)\n",
    "\n",
    "svc=SVC(kernel='linear')\n",
    "scoring = [\"accuracy\", \"precision\", \"recall\"]\n",
    "# scores = cross_val_score(svc, X_scaled, y, cv=10, scoring=scoring) #cv is cross validation\n",
    "scores = cross_validate(svc, X_gfccs_resampled, y_gfccs_resampled, scoring=scoring, cv=5, return_train_score=True)\n",
    "print(scores)\n",
    "\n",
    "# end time\n",
    "end_time = endTime(msg)\n",
    "\n",
    "#total time\n",
    "totalTime(msg, start_time, end_time)"
   ]
  },
  {
   "cell_type": "code",
   "execution_count": 133,
   "metadata": {},
   "outputs": [
    {
     "name": "stdout",
     "output_type": "stream",
     "text": [
      "mean_test_accuracy  0.688\n",
      "mean_test_precision  0.7560305006406413\n",
      "mean_test_recall  0.55515\n"
     ]
    }
   ],
   "source": [
    "mean_test_accuracy = np.mean(scores['test_accuracy'])\n",
    "mean_test_precision = np.mean(scores['test_precision'])\n",
    "mean_test_recall = np.mean(scores['test_recall'])\n",
    "print(\"mean_test_accuracy \", mean_test_accuracy)\n",
    "print(\"mean_test_precision \", mean_test_precision)\n",
    "print(\"mean_test_recall \", mean_test_recall)"
   ]
  },
  {
   "cell_type": "markdown",
   "metadata": {},
   "source": [
    "##### GFCCS - Testing SVM Linear Model"
   ]
  },
  {
   "cell_type": "code",
   "execution_count": 31,
   "metadata": {},
   "outputs": [
    {
     "name": "stdout",
     "output_type": "stream",
     "text": [
      "1:43:01.291628\n"
     ]
    }
   ],
   "source": [
    "## fitting the svm linear model\n",
    "start_time = datetime.datetime.now()\n",
    "svc=SVC(kernel='linear')\n",
    "\n",
    "svc.fit(X_gfccs_train_scaled, y_gfccs_train_resampled)\n",
    "\n",
    "end_time = datetime.datetime.now()\n",
    "total_time = end_time - start_time\n",
    "print(total_time)"
   ]
  },
  {
   "cell_type": "code",
   "execution_count": 32,
   "metadata": {},
   "outputs": [
    {
     "name": "stdout",
     "output_type": "stream",
     "text": [
      "0:06:59.597916\n"
     ]
    }
   ],
   "source": [
    "## Validating against the validation dataset\n",
    "\n",
    "start_time = datetime.datetime.now()\n",
    "#testing the SVM model\n",
    "y_pred = svc.predict(X_gfccs_test_scaled)\n",
    "\n",
    "end_time = datetime.datetime.now()\n",
    "total_time = end_time - start_time\n",
    "print(total_time)"
   ]
  },
  {
   "cell_type": "code",
   "execution_count": 33,
   "metadata": {},
   "outputs": [
    {
     "name": "stdout",
     "output_type": "stream",
     "text": [
      "Accuracy: 0.396040\n",
      "Precision: 0.395759\n",
      "Recall: 0.999874\n",
      "F1 score: 0.567067\n",
      "Cohens kappa: 0.000552\n",
      "ROC AUC: 0.500349\n",
      "[[   30 36414]\n",
      " [    3 23850]]\n"
     ]
    }
   ],
   "source": [
    "from sklearn.metrics import accuracy_score\n",
    "from sklearn.metrics import precision_score\n",
    "from sklearn.metrics import recall_score\n",
    "from sklearn.metrics import f1_score\n",
    "from sklearn.metrics import cohen_kappa_score\n",
    "from sklearn.metrics import roc_auc_score\n",
    "from sklearn.metrics import confusion_matrix\n",
    "\n",
    "# accuracy: (tp + tn) / (p + n)\n",
    "accuracy = accuracy_score(y_gfccs_test, y_pred)\n",
    "print('Accuracy: %f' % accuracy)\n",
    "\n",
    "# precision tp / (tp + fp)\n",
    "precision = precision_score(y_gfccs_test, y_pred)\n",
    "print('Precision: %f' % precision)\n",
    "\n",
    "# recall: tp / (tp + fn)\n",
    "recall = recall_score(y_gfccs_test, y_pred)\n",
    "print('Recall: %f' % recall)\n",
    "\n",
    "# f1: 2 tp / (2 tp + fp + fn)\n",
    "f1 = f1_score(y_gfccs_test, y_pred)\n",
    "print('F1 score: %f' % f1)\n",
    " \n",
    "# kappa\n",
    "kappa = cohen_kappa_score(y_gfccs_test, y_pred)\n",
    "print('Cohens kappa: %f' % kappa)\n",
    "\n",
    "# ROC AUC\n",
    "auc = roc_auc_score(y_gfccs_test, y_pred)\n",
    "print('ROC AUC: %f' % auc)\n",
    "\n",
    "# confusion matrix\n",
    "matrix = confusion_matrix(y_gfccs_test, y_pred)\n",
    "print(matrix)\n"
   ]
  },
  {
   "cell_type": "code",
   "execution_count": null,
   "metadata": {},
   "outputs": [],
   "source": []
  },
  {
   "cell_type": "code",
   "execution_count": null,
   "metadata": {},
   "outputs": [],
   "source": []
  },
  {
   "cell_type": "markdown",
   "metadata": {},
   "source": [
    "##### GFCCS - Testing SVM RBF Model"
   ]
  },
  {
   "cell_type": "code",
   "execution_count": null,
   "metadata": {},
   "outputs": [],
   "source": [
    "msg = \"SVM - 5 fold cross validation Linear Training Model (GFCCS)\"\n",
    "start_time = startTime(msg)\n",
    "\n",
    "svc=SVC(kernel='rbf')\n",
    "scoring = [\"accuracy\", \"precision\", \"recall\"]\n",
    "# scores = cross_val_score(svc, X_scaled, y, cv=10, scoring=scoring) #cv is cross validation\n",
    "# scores = cross_validate(svc, X_gfccs_scaled, y_gfccs_resampled, scoring=scoring, cv=5, return_train_score=True)\n",
    "scores = cross_validate(svc, X_gfccs_resampled, y_gfccs_resampled, scoring=scoring, cv=5, return_train_score=True)\n",
    "\n",
    "print(scores)\n",
    "\n",
    "# end time\n",
    "end_time = endTime(msg)\n",
    "\n",
    "#total time\n",
    "totalTime(msg, start_time, end_time)"
   ]
  },
  {
   "cell_type": "code",
   "execution_count": null,
   "metadata": {},
   "outputs": [],
   "source": [
    "mean_test_accuracy = np.mean(scores['test_accuracy'])\n",
    "mean_test_precision = np.mean(scores['test_precision'])\n",
    "mean_test_recall = np.mean(scores['test_recall'])\n",
    "print(\"mean_test_accuracy \", mean_test_accuracy)\n",
    "print(\"mean_test_precision \", mean_test_precision)\n",
    "print(\"mean_test_recall \", mean_test_recall)"
   ]
  },
  {
   "cell_type": "code",
   "execution_count": 28,
   "metadata": {},
   "outputs": [
    {
     "name": "stdout",
     "output_type": "stream",
     "text": [
      "(140000, 13) (140000,)\n",
      "<class 'numpy.ndarray'> <class 'pandas.core.series.Series'>\n"
     ]
    }
   ],
   "source": [
    "from imblearn.under_sampling import RandomUnderSampler\n",
    "rus = RandomUnderSampler(random_state=0, sampling_strategy={\n",
    "        0: 70000,\n",
    "        1: 70000\n",
    "    })\n",
    "X_gfccs_resampled, y_gfccs_resampled = rus.fit_resample(X_gfccs_train_scaled, y_gfccs_train_resampled)\n",
    "print(X_gfccs_resampled.shape, y_gfccs_resampled.shape)\n",
    "print(type(X_gfccs_resampled), type(y_gfccs_resampled))"
   ]
  },
  {
   "cell_type": "code",
   "execution_count": null,
   "metadata": {},
   "outputs": [],
   "source": []
  },
  {
   "cell_type": "markdown",
   "metadata": {},
   "source": [
    "##### GFCCS - Testing SVM RBF Model"
   ]
  },
  {
   "cell_type": "code",
   "execution_count": 29,
   "metadata": {},
   "outputs": [
    {
     "name": "stdout",
     "output_type": "stream",
     "text": [
      "0:11:30.212785\n"
     ]
    }
   ],
   "source": [
    "## fitting the svm linear model\n",
    "start_time = datetime.datetime.now()\n",
    "svc=SVC(kernel='rbf')\n",
    "\n",
    "# svc.fit(X_gfccs_train_scaled, y_gfccs_train_resampled)\n",
    "svc.fit(X_gfccs_resampled, y_gfccs_resampled)\n",
    "\n",
    "\n",
    "end_time = datetime.datetime.now()\n",
    "total_time = end_time - start_time\n",
    "print(total_time)"
   ]
  },
  {
   "cell_type": "code",
   "execution_count": 30,
   "metadata": {},
   "outputs": [
    {
     "name": "stdout",
     "output_type": "stream",
     "text": [
      "(60297, 13)\n"
     ]
    }
   ],
   "source": [
    "print(X_gfccs_test_scaled.shape)"
   ]
  },
  {
   "cell_type": "code",
   "execution_count": 31,
   "metadata": {},
   "outputs": [
    {
     "name": "stdout",
     "output_type": "stream",
     "text": [
      "0:05:00.585732\n"
     ]
    }
   ],
   "source": [
    "## Validating against the validation dataset\n",
    "\n",
    "start_time = datetime.datetime.now()\n",
    "#testing the SVM model\n",
    "y_pred = svc.predict(X_gfccs_test_scaled)\n",
    "\n",
    "end_time = datetime.datetime.now()\n",
    "total_time = end_time - start_time\n",
    "print(total_time)"
   ]
  },
  {
   "cell_type": "code",
   "execution_count": 32,
   "metadata": {},
   "outputs": [
    {
     "name": "stdout",
     "output_type": "stream",
     "text": [
      "Accuracy: 0.406703\n",
      "Precision: 0.330678\n",
      "Recall: 0.479042\n",
      "F1 score: 0.391267\n",
      "Cohens kappa: -0.150637\n",
      "ROC AUC: 0.418957\n",
      "[[13026 23271]\n",
      " [12503 11497]]\n"
     ]
    }
   ],
   "source": [
    "from sklearn.metrics import accuracy_score\n",
    "from sklearn.metrics import precision_score\n",
    "from sklearn.metrics import recall_score\n",
    "from sklearn.metrics import f1_score\n",
    "from sklearn.metrics import cohen_kappa_score\n",
    "from sklearn.metrics import roc_auc_score\n",
    "from sklearn.metrics import confusion_matrix\n",
    "\n",
    "# accuracy: (tp + tn) / (p + n)\n",
    "accuracy = accuracy_score(y_gfccs_test, y_pred)\n",
    "print('Accuracy: %f' % accuracy)\n",
    "\n",
    "# precision tp / (tp + fp)\n",
    "precision = precision_score(y_gfccs_test, y_pred)\n",
    "print('Precision: %f' % precision)\n",
    "\n",
    "# recall: tp / (tp + fn)\n",
    "recall = recall_score(y_gfccs_test, y_pred)\n",
    "print('Recall: %f' % recall)\n",
    "\n",
    "# f1: 2 tp / (2 tp + fp + fn)\n",
    "f1 = f1_score(y_gfccs_test, y_pred)\n",
    "print('F1 score: %f' % f1)\n",
    " \n",
    "# kappa\n",
    "kappa = cohen_kappa_score(y_gfccs_test, y_pred)\n",
    "print('Cohens kappa: %f' % kappa)\n",
    "\n",
    "# ROC AUC\n",
    "auc = roc_auc_score(y_gfccs_test, y_pred)\n",
    "print('ROC AUC: %f' % auc)\n",
    "\n",
    "# confusion matrix\n",
    "matrix = confusion_matrix(y_gfccs_test, y_pred)\n",
    "print(matrix)\n"
   ]
  },
  {
   "cell_type": "code",
   "execution_count": 51,
   "metadata": {},
   "outputs": [
    {
     "name": "stdout",
     "output_type": "stream",
     "text": [
      " ====Start=======  SVM - Linear Training Model\n",
      " Start Time  2021-05-15 04:53:42.732455\n",
      " ====End=======  SVM - Linear Training Model\n",
      " End Time  2021-05-15 06:38:13.213737\n",
      "SVM - Linear Training Model =====Total Time===== 1:44:30.481282\n"
     ]
    }
   ],
   "source": [
    "# msg = \"SVM - Linear Training Model\"\n",
    "# start_time = startTime(msg)\n",
    "\n",
    "# #training the svc linear model\n",
    "# svclassifier = SVC(kernel='linear')\n",
    "# svclassifier.fit(X_gfccs_train_scaled, y_gfccs_train)\n",
    "\n",
    "# # end time\n",
    "# end_time = endTime(msg)\n",
    "\n",
    "# #total time\n",
    "# totalTime(msg, start_time, end_time)"
   ]
  },
  {
   "cell_type": "code",
   "execution_count": 52,
   "metadata": {},
   "outputs": [
    {
     "name": "stdout",
     "output_type": "stream",
     "text": [
      " ====Start=======  SVM - Linear Testing Model\n",
      " Start Time  2021-05-15 06:48:42.040555\n",
      " ====End=======  SVM - Linear Testing Model\n",
      " End Time  2021-05-15 07:07:42.033317\n",
      "SVM - Linear Testing Model =====Total Time===== 0:18:59.992762\n"
     ]
    }
   ],
   "source": [
    "# msg = \"SVM - Linear Testing Model\"\n",
    "# start_time = startTime(msg)\n",
    "\n",
    "# #testing the SVM model\n",
    "# y_gfccs_pred = svclassifier.predict(X_gfccs_test_scaled)\n",
    "\n",
    "# # end time\n",
    "# end_time = endTime(msg)\n",
    "\n",
    "# #total time\n",
    "# totalTime(msg, start_time, end_time)"
   ]
  },
  {
   "cell_type": "code",
   "execution_count": 53,
   "metadata": {},
   "outputs": [
    {
     "name": "stdout",
     "output_type": "stream",
     "text": [
      "Accuracy: 0.6186930250814026\n",
      "Precision: 0.9116365899191039\n",
      "Recall: 0.0409097890283576\n"
     ]
    }
   ],
   "source": [
    "# from sklearn import metrics\n",
    "\n",
    "# # Model Accuracy: how often is the classifier correct?\n",
    "# print(\"Accuracy:\",metrics.accuracy_score(y_gfccs_test, y_gfccs_pred))\n",
    "\n",
    "# # Model Precision: what percentage of positive tuples are labeled as such?\n",
    "# print(\"Precision:\",metrics.precision_score(y_gfccs_test, y_gfccs_pred))\n",
    "\n",
    "# # Model Recall: what percentage of positive tuples are labelled as such?\n",
    "# print(\"Recall:\",metrics.recall_score(y_gfccs_test, y_gfccs_pred))"
   ]
  },
  {
   "cell_type": "code",
   "execution_count": null,
   "metadata": {},
   "outputs": [],
   "source": []
  },
  {
   "cell_type": "code",
   "execution_count": 54,
   "metadata": {},
   "outputs": [
    {
     "name": "stdout",
     "output_type": "stream",
     "text": [
      " ====Start=======  SVM - RBF Training Model\n",
      " Start Time  2021-05-15 07:07:42.148446\n",
      " ====End=======  SVM - RBF Training Model\n",
      " End Time  2021-05-15 09:18:34.343725\n",
      "SVM - RBF Training Model =====Total Time===== 2:10:52.195279\n"
     ]
    }
   ],
   "source": [
    "# msg = \"SVM - RBF Training Model\"\n",
    "# start_time = startTime(msg)\n",
    "\n",
    "# #training the svc linear model\n",
    "# svclassifier = SVC(kernel='rbf')\n",
    "# svclassifier.fit(X_gfccs_train_scaled, y_gfccs_train)\n",
    "\n",
    "# # end time\n",
    "# end_time = endTime(msg)\n",
    "\n",
    "# #total time\n",
    "# totalTime(msg, start_time, end_time)"
   ]
  },
  {
   "cell_type": "code",
   "execution_count": 55,
   "metadata": {},
   "outputs": [
    {
     "name": "stdout",
     "output_type": "stream",
     "text": [
      " ====Start=======  SVM - RBF Testing Model\n",
      " Start Time  2021-05-15 09:18:34.348818\n",
      " ====End=======  SVM - RBF Testing Model\n",
      " End Time  2021-05-15 09:59:52.169928\n",
      "SVM - RBF Testing Model =====Total Time===== 0:41:17.821110\n"
     ]
    }
   ],
   "source": [
    "# msg = \"SVM - RBF Testing Model\"\n",
    "# start_time = startTime(msg)\n",
    "\n",
    "# #testing the SVM model\n",
    "# y_gfccs_pred = svclassifier.predict(X_gfccs_test_scaled)\n",
    "\n",
    "# # end time\n",
    "# end_time = endTime(msg)\n",
    "\n",
    "# #total time\n",
    "# totalTime(msg, start_time, end_time)"
   ]
  },
  {
   "cell_type": "code",
   "execution_count": 56,
   "metadata": {},
   "outputs": [
    {
     "name": "stdout",
     "output_type": "stream",
     "text": [
      "Accuracy: 0.6539407709615183\n",
      "Precision: 0.8786301829780091\n",
      "Recall: 0.14615824967537455\n"
     ]
    }
   ],
   "source": [
    "# from sklearn import metrics\n",
    "\n",
    "# # Model Accuracy: how often is the classifier correct?\n",
    "# print(\"Accuracy:\",metrics.accuracy_score(y_gfccs_test, y_gfccs_pred))\n",
    "\n",
    "# # Model Precision: what percentage of positive tuples are labeled as such?\n",
    "# print(\"Precision:\",metrics.precision_score(y_gfccs_test, y_gfccs_pred))\n",
    "\n",
    "# # Model Recall: what percentage of positive tuples are labelled as such?\n",
    "# print(\"Recall:\",metrics.recall_score(y_gfccs_test, y_gfccs_pred))"
   ]
  },
  {
   "cell_type": "code",
   "execution_count": null,
   "metadata": {},
   "outputs": [],
   "source": []
  },
  {
   "cell_type": "code",
   "execution_count": null,
   "metadata": {},
   "outputs": [],
   "source": []
  },
  {
   "cell_type": "markdown",
   "metadata": {},
   "source": [
    "##### GFCCS - Training Extra Tree Classifier"
   ]
  },
  {
   "cell_type": "code",
   "execution_count": 33,
   "metadata": {},
   "outputs": [],
   "source": [
    "seed = 7\n",
    "kfold = KFold(n_splits = 5, random_state = seed, shuffle = True)"
   ]
  },
  {
   "cell_type": "code",
   "execution_count": 34,
   "metadata": {},
   "outputs": [],
   "source": [
    "num_trees = 200\n",
    "max_features = 12"
   ]
  },
  {
   "cell_type": "code",
   "execution_count": 35,
   "metadata": {},
   "outputs": [],
   "source": [
    "model = ExtraTreesClassifier(n_estimators = num_trees, max_features = max_features)"
   ]
  },
  {
   "cell_type": "code",
   "execution_count": 40,
   "metadata": {},
   "outputs": [
    {
     "name": "stdout",
     "output_type": "stream",
     "text": [
      " ====Start=======  Extra Tree Classifier\n",
      " Start Time  2021-06-08 12:43:23.764869\n",
      " ====End=======  Extra Tree Classifier\n",
      " End Time  2021-06-08 13:00:05.600789\n",
      "Extra Tree Classifier =====Total Time===== 0:16:41.835920\n"
     ]
    }
   ],
   "source": [
    "msg = \"Extra Tree Classifier\"\n",
    "start_time = startTime(msg)\n",
    "\n",
    "scoring = [\"accuracy\", \"precision\", \"recall\"]\n",
    "# results = cross_val_score(model, X_scaled, y, cv = kfold, scoring=scoring)\n",
    "results = cross_validate(model, X_gfccs_train_scaled, y_gfccs_train_resampled, scoring=scoring, cv=kfold, return_train_score=True)\n",
    "\n",
    "# end time\n",
    "end_time = endTime(msg)\n",
    "\n",
    "#total time\n",
    "totalTime(msg, start_time, end_time)"
   ]
  },
  {
   "cell_type": "code",
   "execution_count": 42,
   "metadata": {},
   "outputs": [],
   "source": [
    "mean_test_accuracy = np.mean(results['test_accuracy'])\n",
    "mean_test_precision = np.mean(results['test_precision'])\n",
    "mean_test_recall = np.mean(results['test_recall'])"
   ]
  },
  {
   "cell_type": "code",
   "execution_count": 56,
   "metadata": {},
   "outputs": [
    {
     "name": "stdout",
     "output_type": "stream",
     "text": [
      "0.7194750000000001\n",
      "0.7634823515957063\n",
      "0.6360316513502273\n"
     ]
    }
   ],
   "source": [
    "print(mean_test_accuracy)\n",
    "print(mean_test_precision)\n",
    "print(mean_test_recall)"
   ]
  },
  {
   "cell_type": "code",
   "execution_count": null,
   "metadata": {},
   "outputs": [],
   "source": []
  },
  {
   "cell_type": "markdown",
   "metadata": {},
   "source": [
    "##### GFCCS - Testing Extra Tree Classifier"
   ]
  },
  {
   "cell_type": "code",
   "execution_count": 43,
   "metadata": {},
   "outputs": [
    {
     "name": "stdout",
     "output_type": "stream",
     "text": [
      "0:03:47.001036\n"
     ]
    }
   ],
   "source": [
    "## fitting the extra tree classifier  model\n",
    "start_time = datetime.datetime.now()\n",
    "\n",
    "model.fit(X_gfccs_train_scaled, y_gfccs_train_resampled)\n",
    "\n",
    "end_time = datetime.datetime.now()\n",
    "total_time = end_time - start_time\n",
    "print(total_time)"
   ]
  },
  {
   "cell_type": "code",
   "execution_count": 44,
   "metadata": {},
   "outputs": [
    {
     "name": "stdout",
     "output_type": "stream",
     "text": [
      "0:00:02.259183\n"
     ]
    }
   ],
   "source": [
    "## Validating against the validation dataset\n",
    "\n",
    "start_time = datetime.datetime.now()\n",
    "#testing the SVM model\n",
    "y_pred = model.predict(X_gfccs_test_scaled)\n",
    "\n",
    "end_time = datetime.datetime.now()\n",
    "total_time = end_time - start_time\n",
    "print(total_time)"
   ]
  },
  {
   "cell_type": "code",
   "execution_count": 45,
   "metadata": {},
   "outputs": [
    {
     "name": "stdout",
     "output_type": "stream",
     "text": [
      "Accuracy: 0.613298\n",
      "Precision: 0.511701\n",
      "Recall: 0.622250\n",
      "F1 score: 0.561587\n",
      "Cohens kappa: 0.221521\n",
      "ROC AUC: 0.614814\n",
      "[[22046 14251]\n",
      " [ 9066 14934]]\n"
     ]
    }
   ],
   "source": [
    "from sklearn.metrics import accuracy_score\n",
    "from sklearn.metrics import precision_score\n",
    "from sklearn.metrics import recall_score\n",
    "from sklearn.metrics import f1_score\n",
    "from sklearn.metrics import cohen_kappa_score\n",
    "from sklearn.metrics import roc_auc_score\n",
    "from sklearn.metrics import confusion_matrix\n",
    "\n",
    "# accuracy: (tp + tn) / (p + n)\n",
    "accuracy = accuracy_score(y_gfccs_test, y_pred)\n",
    "print('Accuracy: %f' % accuracy)\n",
    "\n",
    "# precision tp / (tp + fp)\n",
    "precision = precision_score(y_gfccs_test, y_pred)\n",
    "print('Precision: %f' % precision)\n",
    "\n",
    "# recall: tp / (tp + fn)\n",
    "recall = recall_score(y_gfccs_test, y_pred)\n",
    "print('Recall: %f' % recall)\n",
    "\n",
    "# f1: 2 tp / (2 tp + fp + fn)\n",
    "f1 = f1_score(y_gfccs_test, y_pred)\n",
    "print('F1 score: %f' % f1)\n",
    " \n",
    "# kappa\n",
    "kappa = cohen_kappa_score(y_gfccs_test, y_pred)\n",
    "print('Cohens kappa: %f' % kappa)\n",
    "\n",
    "# ROC AUC\n",
    "auc = roc_auc_score(y_gfccs_test, y_pred)\n",
    "print('ROC AUC: %f' % auc)\n",
    "\n",
    "# confusion matrix\n",
    "matrix = confusion_matrix(y_gfccs_test, y_pred)\n",
    "print(matrix)"
   ]
  },
  {
   "cell_type": "code",
   "execution_count": null,
   "metadata": {},
   "outputs": [],
   "source": []
  },
  {
   "cell_type": "markdown",
   "metadata": {},
   "source": [
    "##### Extracting PLP Feature Set"
   ]
  },
  {
   "cell_type": "code",
   "execution_count": 16,
   "metadata": {},
   "outputs": [],
   "source": [
    "import scipy.io.wavfile\n",
    "from spafe.features.rplp import rplp, plp\n",
    "\n",
    "def getPLP(filePath):\n",
    "    print(filePath)\n",
    "\n",
    "    # init input vars\n",
    "    num_ceps = 13\n",
    "\n",
    "    # read wav \n",
    "    fs, sig = scipy.io.wavfile.read(filePath)\n",
    "\n",
    "    # compute features\n",
    "    plps = plp(sig, fs, num_ceps)\n",
    "    rplps = rplp(sig, fs, num_ceps)\n",
    "\n",
    "    return plps, rplps"
   ]
  },
  {
   "cell_type": "code",
   "execution_count": 17,
   "metadata": {},
   "outputs": [],
   "source": [
    "def getPLPDataFrame(feature_set, category):\n",
    "    df=pd.DataFrame(data=feature_set[0:,0:],\n",
    "               index = [i for i in range(feature_set.shape[0])],\n",
    "               columns=['f'+str(i) for i in range(feature_set.shape[1])])\n",
    "#     df_T = df.T  \n",
    "    df['Category'] = category    \n",
    "    return df"
   ]
  },
  {
   "cell_type": "code",
   "execution_count": 18,
   "metadata": {},
   "outputs": [],
   "source": [
    "def getPLP_allFiles(type_of_text, parent_folder, category):\n",
    "    #destination_folder = getDir('ReadText_HC', 'ProcessedAudio')\n",
    "    destination_folder = getDir(type_of_text, parent_folder)\n",
    "#     print(destination_folder)\n",
    "    files = [f for f in listdir(destination_folder) if isfile(join(destination_folder, f))]\n",
    "    \n",
    "    df_plp_all = None\n",
    "    df_rplp_all = None\n",
    "    \n",
    "    for file in files:\n",
    "        \n",
    "        filedir = destination_folder + \"/\" + file        \n",
    "        plp, rplp = getPLP(filedir)\n",
    "        \n",
    "#         print(plp.shape)\n",
    "#         print(rplp.shape)\n",
    "        \n",
    "        #converting into dataframe\n",
    "        df_plp = getPLPDataFrame(plp, category)\n",
    "        df_rplp = getPLPDataFrame(rplp, category)\n",
    "\n",
    "        if df_plp_all is None:\n",
    "            df_plp_all = df_plp\n",
    "        else:\n",
    "            df_plp_all = df_plp_all.append(df_plp, ignore_index=True)\n",
    "            \n",
    "        if df_rplp_all is None:\n",
    "            df_rplp_all = df_rplp\n",
    "        else:\n",
    "            df_rplp_all = df_rplp_all.append(df_rplp, ignore_index=True)\n",
    "        \n",
    "#         print(\"plp shape - \", df_plp_all.shape)\n",
    "#         print(\"rplp shape - \", df_rplp_all.shape)\n",
    "        \n",
    "#     print(df_gfccs_all.shape)\n",
    "    \n",
    "    #display(df_mfccs_all)\n",
    "    return df_plp_all, df_rplp_all"
   ]
  },
  {
   "cell_type": "code",
   "execution_count": 19,
   "metadata": {},
   "outputs": [
    {
     "name": "stdout",
     "output_type": "stream",
     "text": [
      " ====Start=======  Get PLP and RPLP Details\n",
      " Start Time  2021-06-08 19:20:50.593726\n",
      "/home/akshayrauthan0806/Research - PD/ProcessedAudio/Read Text/HC/ID05_hc_0_0_0.wav\n",
      "/home/akshayrauthan0806/Research - PD/ProcessedAudio/Read Text/HC/ID35_hc_0_0_0.wav\n",
      "/home/akshayrauthan0806/Research - PD/ProcessedAudio/Read Text/HC/ID26_hc_0_0_0.wav\n",
      "/home/akshayrauthan0806/Research - PD/ProcessedAudio/Read Text/HC/ID11_hc_0_0_0.wav\n",
      "/home/akshayrauthan0806/Research - PD/ProcessedAudio/Read Text/HC/ID15_hc_0_0_0.wav\n",
      "/home/akshayrauthan0806/Research - PD/ProcessedAudio/Read Text/HC/ID14_hc_0_0_0.wav\n",
      "/home/akshayrauthan0806/Research - PD/ProcessedAudio/Read Text/HC/ID19_hc_0_0_0.wav\n",
      "/home/akshayrauthan0806/Research - PD/ProcessedAudio/Read Text/HC/ID21_hc_0_0_0.wav\n",
      "/home/akshayrauthan0806/Research - PD/ProcessedAudio/Read Text/HC/ID00_hc_0_0_0.wav\n",
      "/home/akshayrauthan0806/Research - PD/ProcessedAudio/Read Text/HC/ID36_hc_0_0_0.wav\n",
      "/home/akshayrauthan0806/Research - PD/ProcessedAudio/Read Text/HC/ID25_hc_0_0_0.wav\n",
      "/home/akshayrauthan0806/Research - PD/ProcessedAudio/Read Text/HC/ID10_hc_0_0_0.wav\n",
      "/home/akshayrauthan0806/Research - PD/ProcessedAudio/Read Text/HC/ID09_hc_0_0_0.wav\n",
      "/home/akshayrauthan0806/Research - PD/ProcessedAudio/Read Text/HC/ID08_hc_0_0_0.wav\n",
      "/home/akshayrauthan0806/Research - PD/ProcessedAudio/Read Text/HC/ID28_hc_0_0_0.wav\n",
      "/home/akshayrauthan0806/Research - PD/ProcessedAudio/Read Text/HC/ID31_hc_0_1_1.wav\n",
      "/home/akshayrauthan0806/Research - PD/ProcessedAudio/Read Text/HC/ID12_hc_0_0_0.wav\n",
      "/home/akshayrauthan0806/Research - PD/ProcessedAudio/Read Text/HC/ID03_hc_0_0_0.wav\n",
      "/home/akshayrauthan0806/Research - PD/ProcessedAudio/Read Text/HC/ID01_hc_0_0_0.wav\n",
      "/home/akshayrauthan0806/Research - PD/ProcessedAudio/Read Text/HC/ID22_hc_0_0_0.wav\n",
      "/home/akshayrauthan0806/Research - PD/ProcessedAudio/Read Text/HC/ID23_hc_0_0_0.wav\n",
      "/home/akshayrauthan0806/Research - PD/ProcessedAudio/Read Text/PD/ID17_pd_2_1_0.wav\n",
      "/home/akshayrauthan0806/Research - PD/ProcessedAudio/Read Text/PD/ID16_pd_2_0_0.wav\n",
      "/home/akshayrauthan0806/Research - PD/ProcessedAudio/Read Text/PD/ID24_pd_2_0_0.wav\n",
      "/home/akshayrauthan0806/Research - PD/ProcessedAudio/Read Text/PD/ID33_pd_3_2_2.wav\n",
      "/home/akshayrauthan0806/Research - PD/ProcessedAudio/Read Text/PD/ID20_pd_3_0_1.wav\n",
      "/home/akshayrauthan0806/Research - PD/ProcessedAudio/Read Text/PD/ID27_pd_4_1_1.wav\n",
      "/home/akshayrauthan0806/Research - PD/ProcessedAudio/Read Text/PD/ID34_pd_2_0_0.wav\n",
      "/home/akshayrauthan0806/Research - PD/ProcessedAudio/Read Text/PD/ID32_pd_3_1_1.wav\n",
      "/home/akshayrauthan0806/Research - PD/ProcessedAudio/Read Text/PD/ID02_pd_2_0_0.wav\n",
      "/home/akshayrauthan0806/Research - PD/ProcessedAudio/Read Text/PD/ID29_pd_3_1_2.wav\n",
      "/home/akshayrauthan0806/Research - PD/ProcessedAudio/Read Text/PD/ID07_pd_2_0_0.wav\n",
      "/home/akshayrauthan0806/Research - PD/ProcessedAudio/Read Text/PD/ID06_pd_3_1_1.wav\n",
      "/home/akshayrauthan0806/Research - PD/ProcessedAudio/Read Text/PD/ID30_pd_2_1_1.wav\n",
      "/home/akshayrauthan0806/Research - PD/ProcessedAudio/Read Text/PD/ID18_pd_4_3_3.wav\n",
      "/home/akshayrauthan0806/Research - PD/ProcessedAudio/Read Text/PD/ID04_pd_2_0_1.wav\n",
      "/home/akshayrauthan0806/Research - PD/ProcessedAudio/Read Text/PD/ID13_pd_3_2_2.wav\n",
      "/home/akshayrauthan0806/Research - PD/ProcessedAudio/Spontaneous/HC/ID05_hc_0_0_0.wav\n",
      "/home/akshayrauthan0806/Research - PD/ProcessedAudio/Spontaneous/HC/ID35_hc_0_0_0.wav\n",
      "/home/akshayrauthan0806/Research - PD/ProcessedAudio/Spontaneous/HC/ID26_hc_0_0_0.wav\n",
      "/home/akshayrauthan0806/Research - PD/ProcessedAudio/Spontaneous/HC/ID11_hc_0_0_0.wav\n",
      "/home/akshayrauthan0806/Research - PD/ProcessedAudio/Spontaneous/HC/ID15_hc_0_0_0.wav\n",
      "/home/akshayrauthan0806/Research - PD/ProcessedAudio/Spontaneous/HC/ID14_hc_0_0_0.wav\n",
      "/home/akshayrauthan0806/Research - PD/ProcessedAudio/Spontaneous/HC/ID19_hc_0_0_0.wav\n",
      "/home/akshayrauthan0806/Research - PD/ProcessedAudio/Spontaneous/HC/ID21_hc_0_0_0.wav\n",
      "/home/akshayrauthan0806/Research - PD/ProcessedAudio/Spontaneous/HC/ID00_hc_0_0_0.wav\n",
      "/home/akshayrauthan0806/Research - PD/ProcessedAudio/Spontaneous/HC/ID36_hc_0_0_0.wav\n",
      "/home/akshayrauthan0806/Research - PD/ProcessedAudio/Spontaneous/HC/ID25_hc_0_0_0.wav\n",
      "/home/akshayrauthan0806/Research - PD/ProcessedAudio/Spontaneous/HC/ID10_hc_0_0_0.wav\n",
      "/home/akshayrauthan0806/Research - PD/ProcessedAudio/Spontaneous/HC/ID09_hc_0_0_0.wav\n",
      "/home/akshayrauthan0806/Research - PD/ProcessedAudio/Spontaneous/HC/ID08_hc_0_0_0.wav\n",
      "/home/akshayrauthan0806/Research - PD/ProcessedAudio/Spontaneous/HC/ID28_hc_0_0_0.wav\n",
      "/home/akshayrauthan0806/Research - PD/ProcessedAudio/Spontaneous/HC/ID31_hc_0_1_1.wav\n",
      "/home/akshayrauthan0806/Research - PD/ProcessedAudio/Spontaneous/HC/ID12_hc_0_0_0.wav\n",
      "/home/akshayrauthan0806/Research - PD/ProcessedAudio/Spontaneous/HC/ID22hc_0_0_0.wav\n",
      "/home/akshayrauthan0806/Research - PD/ProcessedAudio/Spontaneous/HC/ID03_hc_0_0_0.wav\n",
      "/home/akshayrauthan0806/Research - PD/ProcessedAudio/Spontaneous/HC/ID01_hc_0_0_0.wav\n",
      "/home/akshayrauthan0806/Research - PD/ProcessedAudio/Spontaneous/HC/ID23_hc_0_0_0.wav\n",
      "/home/akshayrauthan0806/Research - PD/ProcessedAudio/Spontaneous/PD/ID17_pd_2_1_0.wav\n",
      "/home/akshayrauthan0806/Research - PD/ProcessedAudio/Spontaneous/PD/ID16_pd_2_0_0.wav\n",
      "/home/akshayrauthan0806/Research - PD/ProcessedAudio/Spontaneous/PD/ID24_pd_2_0_0.wav\n",
      "/home/akshayrauthan0806/Research - PD/ProcessedAudio/Spontaneous/PD/ID33_pd_3_2_2.wav\n",
      "/home/akshayrauthan0806/Research - PD/ProcessedAudio/Spontaneous/PD/ID20_pd_3_0_1.wav\n",
      "/home/akshayrauthan0806/Research - PD/ProcessedAudio/Spontaneous/PD/ID27_pd_4_1_1.wav\n",
      "/home/akshayrauthan0806/Research - PD/ProcessedAudio/Spontaneous/PD/ID34_pd_2_0_0.wav\n",
      "/home/akshayrauthan0806/Research - PD/ProcessedAudio/Spontaneous/PD/ID32_pd_3_1_1.wav\n",
      "/home/akshayrauthan0806/Research - PD/ProcessedAudio/Spontaneous/PD/ID02_pd_2_0_0.wav\n",
      "/home/akshayrauthan0806/Research - PD/ProcessedAudio/Spontaneous/PD/ID29_pd_3_1_2.wav\n",
      "/home/akshayrauthan0806/Research - PD/ProcessedAudio/Spontaneous/PD/ID07_pd_2_0_0.wav\n",
      "/home/akshayrauthan0806/Research - PD/ProcessedAudio/Spontaneous/PD/ID06_pd_3_1_1.wav\n",
      "/home/akshayrauthan0806/Research - PD/ProcessedAudio/Spontaneous/PD/ID30_pd_2_1_1.wav\n",
      "/home/akshayrauthan0806/Research - PD/ProcessedAudio/Spontaneous/PD/ID04_pd_2_0_1.wav\n",
      "/home/akshayrauthan0806/Research - PD/ProcessedAudio/Spontaneous/PD/ID13_pd_3_2_2.wav\n",
      " ====End=======  Get PLP and RPLP Details\n",
      " End Time  2021-06-08 19:26:09.598079\n",
      "Get PLP and RPLP Details =====Total Time===== 0:05:19.004353\n",
      "(220297, 14) (132110, 14) (143272, 14) (106504, 14)\n",
      "(220297, 14) (132110, 14) (143272, 14) (106504, 14)\n"
     ]
    }
   ],
   "source": [
    "# start_time = datetime.datetime.now()\n",
    "msg = \"Get PLP and RPLP Details\"\n",
    "start_time = startTime(msg)\n",
    "\n",
    "# getting mfccs for all the different categories\n",
    "rt_hc_plp, rt_hc_rplp = getPLP_allFiles('ReadText_HC', 'ProcessedAudio', 0)\n",
    "rt_pd_plp, rt_pd_rplp = getPLP_allFiles('ReadText_PD', 'ProcessedAudio', 1)\n",
    "sp_hc_plp, sp_hc_rplp = getPLP_allFiles('Spontaneous_HC', 'ProcessedAudio', 0)\n",
    "sp_pd_plp, sp_pd_rplp = getPLP_allFiles('Spontaneous_PD', 'ProcessedAudio', 1)\n",
    "\n",
    "# end time\n",
    "end_time = endTime(msg)\n",
    "\n",
    "#total time\n",
    "totalTime(msg, start_time, end_time)\n",
    "# print(total_time)\n",
    "print(rt_hc_plp.shape, rt_pd_plp.shape, sp_hc_plp.shape, sp_pd_plp.shape)\n",
    "print(rt_hc_rplp.shape, rt_pd_rplp.shape, sp_hc_rplp.shape, sp_pd_rplp.shape)"
   ]
  },
  {
   "cell_type": "code",
   "execution_count": 20,
   "metadata": {},
   "outputs": [
    {
     "name": "stdout",
     "output_type": "stream",
     "text": [
      "(220297, 14) (132110, 14) (143272, 14) (106504, 14)\n",
      "(602183, 14)\n"
     ]
    }
   ],
   "source": [
    "print(rt_hc_plp.shape, rt_pd_plp.shape, sp_hc_plp.shape, sp_pd_plp.shape)\n",
    "\n",
    "# appending all the gfccs for final DF for mfccs\n",
    "df_final_plp = rt_hc_plp.append(rt_pd_plp, ignore_index=True)\n",
    "df_final_plp = df_final_plp.append(sp_hc_plp, ignore_index=True)\n",
    "df_final_plp = df_final_plp.append(sp_pd_plp, ignore_index=True)\n",
    "print(df_final_plp.shape)"
   ]
  },
  {
   "cell_type": "code",
   "execution_count": 21,
   "metadata": {},
   "outputs": [
    {
     "name": "stdout",
     "output_type": "stream",
     "text": [
      "(220297, 14) (132110, 14) (143272, 14) (106504, 14)\n",
      "(602183, 14)\n"
     ]
    }
   ],
   "source": [
    "print(rt_hc_rplp.shape, rt_pd_rplp.shape, sp_hc_rplp.shape, sp_pd_rplp.shape)\n",
    "\n",
    "# appending all the gfccs for final DF for mfccs\n",
    "df_final_rplp = rt_hc_rplp.append(rt_pd_rplp, ignore_index=True)\n",
    "df_final_rplp = df_final_rplp.append(sp_hc_rplp, ignore_index=True)\n",
    "df_final_rplp = df_final_rplp.append(sp_pd_rplp, ignore_index=True)\n",
    "print(df_final_rplp.shape)"
   ]
  },
  {
   "cell_type": "code",
   "execution_count": null,
   "metadata": {},
   "outputs": [],
   "source": []
  },
  {
   "cell_type": "code",
   "execution_count": null,
   "metadata": {},
   "outputs": [],
   "source": []
  },
  {
   "cell_type": "markdown",
   "metadata": {},
   "source": [
    "###### PLP - Splitting, Balancing and Normalizing the Dataset"
   ]
  },
  {
   "cell_type": "code",
   "execution_count": 22,
   "metadata": {},
   "outputs": [],
   "source": [
    "# Splitting the data in X and Y\n",
    "X_plp = df_final_plp.drop('Category', axis=1)\n",
    "y_plp = df_final_plp['Category']"
   ]
  },
  {
   "cell_type": "code",
   "execution_count": 23,
   "metadata": {},
   "outputs": [],
   "source": [
    "X_plp_train, X_plp_test, y_plp_train, y_plp_test = train_test_split(X_plp, y_plp, test_size = 0.10)"
   ]
  },
  {
   "cell_type": "code",
   "execution_count": 24,
   "metadata": {},
   "outputs": [
    {
     "name": "stdout",
     "output_type": "stream",
     "text": [
      "(541964, 13) (60219, 13) (541964,) (60219,)\n"
     ]
    }
   ],
   "source": [
    "print(X_plp_train.shape, X_plp_test.shape, y_plp_train.shape, y_plp_test.shape)"
   ]
  },
  {
   "cell_type": "code",
   "execution_count": 25,
   "metadata": {},
   "outputs": [
    {
     "name": "stdout",
     "output_type": "stream",
     "text": [
      "Class 0: 363569\n",
      "Class 1: 238614\n",
      "Proportion: 1.52 : 1\n"
     ]
    },
    {
     "data": {
      "text/plain": [
       "Text(0, 0.5, 'Number of Data Points')"
      ]
     },
     "execution_count": 25,
     "metadata": {},
     "output_type": "execute_result"
    },
    {
     "data": {
      "image/png": "[encoded data removed]",
      "text/plain": [
       "<Figure size 432x288 with 1 Axes>"
      ]
     },
     "metadata": {
      "needs_background": "light"
     },
     "output_type": "display_data"
    }
   ],
   "source": [
    "target_count = df_final_plp.Category.value_counts()\n",
    "print('Class 0:', target_count[0])\n",
    "print('Class 1:', target_count[1])\n",
    "print('Proportion:', round(target_count[0] / target_count[1], 2), ': 1')\n",
    "\n",
    "target_count.plot(kind='bar', title='PLPs Class Imbalance');\n",
    "plt.rcParams[\"figure.dpi\"]=300\n",
    "plt.xlabel(\"Classes\")\n",
    "plt.ylabel(\"Number of Data Points\")"
   ]
  },
  {
   "cell_type": "code",
   "execution_count": 26,
   "metadata": {},
   "outputs": [
    {
     "name": "stdout",
     "output_type": "stream",
     "text": [
      "(429626, 13) (429626,)\n",
      "<class 'pandas.core.frame.DataFrame'> <class 'pandas.core.series.Series'>\n"
     ]
    }
   ],
   "source": [
    "from imblearn.under_sampling import RandomUnderSampler\n",
    "rus = RandomUnderSampler(random_state=0)\n",
    "X_plp_train_resampled, y_plp_train_resampled = rus.fit_resample(X_plp_train, y_plp_train)\n",
    "print(X_plp_train_resampled.shape, y_plp_train_resampled.shape)\n",
    "print(type(X_plp_train_resampled), type(y_plp_train_resampled))"
   ]
  },
  {
   "cell_type": "code",
   "execution_count": 27,
   "metadata": {},
   "outputs": [],
   "source": [
    "df_final_plp_resampled = X_plp_train_resampled.copy()\n",
    "df_final_plp_resampled['Category'] = y_plp_train_resampled"
   ]
  },
  {
   "cell_type": "code",
   "execution_count": 28,
   "metadata": {},
   "outputs": [
    {
     "name": "stdout",
     "output_type": "stream",
     "text": [
      "Class 0: 214813\n",
      "Class 1: 214813\n",
      "Proportion: 1.0 : 1\n"
     ]
    },
    {
     "data": {
      "image/png": "[encoded data removed]",
      "text/plain": [
       "<Figure size 1800x1200 with 1 Axes>"
      ]
     },
     "metadata": {
      "needs_background": "light"
     },
     "output_type": "display_data"
    }
   ],
   "source": [
    "target_count = df_final_plp_resampled.Category.value_counts()\n",
    "print('Class 0:', target_count[0])\n",
    "print('Class 1:', target_count[1])\n",
    "print('Proportion:', round(target_count[0] / target_count[1], 2), ': 1')\n",
    "\n",
    "target_count.plot(kind='bar', title='Count (target)');"
   ]
  },
  {
   "cell_type": "code",
   "execution_count": 31,
   "metadata": {},
   "outputs": [],
   "source": [
    "X_plp_train_resampled = np.array(X_plp_train_resampled)\n",
    "y_plp_train_resampled = np.array(y_plp_train_resampled)\n",
    "X_plp_test = np.array(X_plp_test)\n",
    "y_plp_test = np.array(y_plp_test)"
   ]
  },
  {
   "cell_type": "code",
   "execution_count": 32,
   "metadata": {},
   "outputs": [
    {
     "name": "stdout",
     "output_type": "stream",
     "text": [
      "13.688583715259533 13.112462593738554\n"
     ]
    }
   ],
   "source": [
    "print(X_plp_train_resampled.max(), X_plp_test.max())"
   ]
  },
  {
   "cell_type": "code",
   "execution_count": 33,
   "metadata": {},
   "outputs": [],
   "source": [
    "X_plp_train_scaled = normalizeData(X_plp_train_resampled)\n",
    "X_plp_test_scaled = normalizeData(X_plp_test)"
   ]
  },
  {
   "cell_type": "code",
   "execution_count": 35,
   "metadata": {},
   "outputs": [
    {
     "name": "stdout",
     "output_type": "stream",
     "text": [
      "1.0000000000000002 1.0000000000000002\n"
     ]
    }
   ],
   "source": [
    "print(X_plp_train_scaled.max(), X_plp_test_scaled.max())"
   ]
  },
  {
   "cell_type": "code",
   "execution_count": null,
   "metadata": {},
   "outputs": [],
   "source": []
  },
  {
   "cell_type": "code",
   "execution_count": null,
   "metadata": {},
   "outputs": [],
   "source": []
  },
  {
   "cell_type": "code",
   "execution_count": 36,
   "metadata": {},
   "outputs": [],
   "source": [
    "# expanding the dimensions for conv 1d model\n",
    "X_plp_train_conv1D = np.expand_dims(X_plp_train_scaled, axis=2)\n",
    "X_plp_test_conv1D = np.expand_dims(X_plp_test_scaled, axis=2)"
   ]
  },
  {
   "cell_type": "code",
   "execution_count": null,
   "metadata": {},
   "outputs": [],
   "source": []
  },
  {
   "cell_type": "markdown",
   "metadata": {},
   "source": [
    "##### PLP - Training Conv 1D"
   ]
  },
  {
   "cell_type": "code",
   "execution_count": 38,
   "metadata": {},
   "outputs": [
    {
     "name": "stdout",
     "output_type": "stream",
     "text": [
      "PLPs - Conv1D Model - 1623180370\n",
      "Model: \"sequential\"\n",
      "_________________________________________________________________\n",
      "Layer (type)                 Output Shape              Param #   \n",
      "=================================================================\n",
      "conv1d (Conv1D)              (None, 11, 128)           512       \n",
      "_________________________________________________________________\n",
      "max_pooling1d (MaxPooling1D) (None, 5, 128)            0         \n",
      "_________________________________________________________________\n",
      "conv1d_1 (Conv1D)            (None, 5, 128)            49280     \n",
      "_________________________________________________________________\n",
      "max_pooling1d_1 (MaxPooling1 (None, 2, 128)            0         \n",
      "_________________________________________________________________\n",
      "conv1d_2 (Conv1D)            (None, 2, 128)            49280     \n",
      "_________________________________________________________________\n",
      "max_pooling1d_2 (MaxPooling1 (None, 1, 128)            0         \n",
      "_________________________________________________________________\n",
      "dropout (Dropout)            (None, 1, 128)            0         \n",
      "_________________________________________________________________\n",
      "flatten (Flatten)            (None, 128)               0         \n",
      "_________________________________________________________________\n",
      "dense (Dense)                (None, 128)               16512     \n",
      "_________________________________________________________________\n",
      "dense_1 (Dense)              (None, 1)                 129       \n",
      "=================================================================\n",
      "Total params: 115,713\n",
      "Trainable params: 115,713\n",
      "Non-trainable params: 0\n",
      "_________________________________________________________________\n"
     ]
    }
   ],
   "source": [
    "import keras_metrics\n",
    "dense_layer = 1\n",
    "layer_size = 128\n",
    "conv_layer = 3\n",
    "\n",
    "NAME = \"PLPs - Conv1D Model - {}\".format(int(time.time()))\n",
    "print(NAME)\n",
    "tensorboard = TensorBoard(log_dir='./logs_dir/{}'.format(NAME))\n",
    "model = Sequential()\n",
    "model.add(Conv1D(layer_size, kernel_size=3, strides=1, padding='valid', activation='relu', input_shape=X_plp_train_conv1D.shape[1:]))\n",
    "model.add(MaxPool1D())\n",
    "\n",
    "for l in range(conv_layer-1):\n",
    "    model.add(Conv1D(layer_size, 3, padding=\"same\", activation=\"relu\"))\n",
    "    model.add(MaxPool1D())\n",
    "\n",
    "model.add(Dropout(0.4))\n",
    "\n",
    "model.add(Flatten())\n",
    "\n",
    "for d in range(dense_layer):\n",
    "    model.add(Dense(layer_size,activation=\"relu\"))\n",
    "\n",
    "model.add(Dense(1, activation=\"sigmoid\"))\n",
    "\n",
    "model.summary()\n",
    "\n",
    "lr_schedule = schedules.ExponentialDecay(\n",
    "    initial_learning_rate=0.01,\n",
    "    decay_steps=10000,\n",
    "    decay_rate=0.9)\n",
    "opt = SGD(learning_rate=lr_schedule)\n",
    "\n",
    "# opt = SGD(lr=0.01)\n",
    "model.compile(loss = \"binary_crossentropy\", optimizer = opt, metrics=['accuracy', keras_metrics.precision(), keras_metrics.recall()])"
   ]
  },
  {
   "cell_type": "code",
   "execution_count": 39,
   "metadata": {},
   "outputs": [
    {
     "name": "stdout",
     "output_type": "stream",
     "text": [
      "****Modelling Starts*****\n",
      "Epoch 1/20\n",
      "WARNING:tensorflow:`add_update` `inputs` kwarg has been deprecated. You no longer need to pass a value to `inputs` as it is being automatically inferred.\n",
      "WARNING:tensorflow:`add_update` `inputs` kwarg has been deprecated. You no longer need to pass a value to `inputs` as it is being automatically inferred.\n",
      "WARNING:tensorflow:`add_update` `inputs` kwarg has been deprecated. You no longer need to pass a value to `inputs` as it is being automatically inferred.\n",
      "WARNING:tensorflow:`add_update` `inputs` kwarg has been deprecated. You no longer need to pass a value to `inputs` as it is being automatically inferred.\n",
      "WARNING:tensorflow:`add_update` `inputs` kwarg has been deprecated. You no longer need to pass a value to `inputs` as it is being automatically inferred.\n",
      "WARNING:tensorflow:`add_update` `inputs` kwarg has been deprecated. You no longer need to pass a value to `inputs` as it is being automatically inferred.\n",
      "WARNING:tensorflow:`add_update` `inputs` kwarg has been deprecated. You no longer need to pass a value to `inputs` as it is being automatically inferred.\n",
      "WARNING:tensorflow:`add_update` `inputs` kwarg has been deprecated. You no longer need to pass a value to `inputs` as it is being automatically inferred.\n",
      "10741/10741 [==============================] - ETA: 0s - loss: 0.6915 - accuracy: 0.5275 - precision: 0.5069 - recall: 0.4897WARNING:tensorflow:`add_update` `inputs` kwarg has been deprecated. You no longer need to pass a value to `inputs` as it is being automatically inferred.\n",
      "WARNING:tensorflow:`add_update` `inputs` kwarg has been deprecated. You no longer need to pass a value to `inputs` as it is being automatically inferred.\n",
      "WARNING:tensorflow:`add_update` `inputs` kwarg has been deprecated. You no longer need to pass a value to `inputs` as it is being automatically inferred.\n",
      "WARNING:tensorflow:`add_update` `inputs` kwarg has been deprecated. You no longer need to pass a value to `inputs` as it is being automatically inferred.\n",
      "10741/10741 [==============================] - 59s 4ms/step - loss: 0.6915 - accuracy: 0.5275 - precision: 0.5069 - recall: 0.4897 - val_loss: 0.6544 - val_accuracy: 0.6139 - val_precision: 0.1966 - val_recall: 0.3318\n",
      "Epoch 2/20\n",
      "10741/10741 [==============================] - 43s 4ms/step - loss: 0.6389 - accuracy: 0.6281 - precision: 0.6211 - recall: 0.6092 - val_loss: 0.5964 - val_accuracy: 0.6696 - val_precision: 0.2229 - val_recall: 0.3473\n",
      "Epoch 3/20\n",
      "10741/10741 [==============================] - 43s 4ms/step - loss: 0.5997 - accuracy: 0.6712 - precision: 0.6866 - recall: 0.6196 - val_loss: 0.5720 - val_accuracy: 0.6941 - val_precision: 0.2746 - val_recall: 0.2841\n",
      "Epoch 4/20\n",
      "10741/10741 [==============================] - 42s 4ms/step - loss: 0.5781 - accuracy: 0.6894 - precision: 0.7121 - recall: 0.6367 - val_loss: 0.5775 - val_accuracy: 0.6900 - val_precision: 0.2214 - val_recall: 0.3949\n",
      "Epoch 5/20\n",
      "10741/10741 [==============================] - 42s 4ms/step - loss: 0.5656 - accuracy: 0.6978 - precision: 0.7173 - recall: 0.6471 - val_loss: 0.5455 - val_accuracy: 0.7125 - val_precision: 0.2792 - val_recall: 0.3054\n",
      "Epoch 6/20\n",
      "10741/10741 [==============================] - 42s 4ms/step - loss: 0.5540 - accuracy: 0.7071 - precision: 0.7308 - recall: 0.6511 - val_loss: 0.5404 - val_accuracy: 0.7207 - val_precision: 0.2640 - val_recall: 0.3412\n",
      "Epoch 7/20\n",
      "10741/10741 [==============================] - 43s 4ms/step - loss: 0.5461 - accuracy: 0.7113 - precision: 0.7323 - recall: 0.6639 - val_loss: 0.5400 - val_accuracy: 0.7163 - val_precision: 0.2416 - val_recall: 0.3800\n",
      "Epoch 8/20\n",
      "10741/10741 [==============================] - 42s 4ms/step - loss: 0.5395 - accuracy: 0.7159 - precision: 0.7393 - recall: 0.6704 - val_loss: 0.5680 - val_accuracy: 0.6928 - val_precision: 0.3287 - val_recall: 0.2367\n",
      "Epoch 9/20\n",
      "10741/10741 [==============================] - 43s 4ms/step - loss: 0.5372 - accuracy: 0.7189 - precision: 0.7420 - recall: 0.6709 - val_loss: 0.5367 - val_accuracy: 0.7181 - val_precision: 0.2406 - val_recall: 0.3866\n",
      "Epoch 10/20\n",
      "10741/10741 [==============================] - 42s 4ms/step - loss: 0.5316 - accuracy: 0.7213 - precision: 0.7424 - recall: 0.6766 - val_loss: 0.5292 - val_accuracy: 0.7227 - val_precision: 0.2965 - val_recall: 0.2996\n",
      "Epoch 11/20\n",
      "10741/10741 [==============================] - 42s 4ms/step - loss: 0.5309 - accuracy: 0.7232 - precision: 0.7438 - recall: 0.6774 - val_loss: 0.5377 - val_accuracy: 0.7199 - val_precision: 0.2447 - val_recall: 0.3782\n",
      "Epoch 12/20\n",
      "10741/10741 [==============================] - 42s 4ms/step - loss: 0.5261 - accuracy: 0.7252 - precision: 0.7467 - recall: 0.6795 - val_loss: 0.5457 - val_accuracy: 0.7112 - val_precision: 0.3207 - val_recall: 0.2647\n",
      "Epoch 13/20\n",
      "10741/10741 [==============================] - 42s 4ms/step - loss: 0.5247 - accuracy: 0.7271 - precision: 0.7508 - recall: 0.6871 - val_loss: 0.5125 - val_accuracy: 0.7348 - val_precision: 0.2789 - val_recall: 0.3375\n",
      "Epoch 14/20\n",
      "10741/10741 [==============================] - 42s 4ms/step - loss: 0.5220 - accuracy: 0.7289 - precision: 0.7497 - recall: 0.6797 - val_loss: 0.5120 - val_accuracy: 0.7370 - val_precision: 0.2708 - val_recall: 0.3537\n",
      "Epoch 15/20\n",
      "10741/10741 [==============================] - 42s 4ms/step - loss: 0.5216 - accuracy: 0.7296 - precision: 0.7527 - recall: 0.6836 - val_loss: 0.5120 - val_accuracy: 0.7356 - val_precision: 0.2843 - val_recall: 0.3328\n",
      "Epoch 16/20\n",
      "10741/10741 [==============================] - 43s 4ms/step - loss: 0.5191 - accuracy: 0.7313 - precision: 0.7509 - recall: 0.6842 - val_loss: 0.5090 - val_accuracy: 0.7370 - val_precision: 0.2747 - val_recall: 0.3476\n",
      "Epoch 17/20\n",
      "10741/10741 [==============================] - 42s 4ms/step - loss: 0.5178 - accuracy: 0.7322 - precision: 0.7521 - recall: 0.6875 - val_loss: 0.5086 - val_accuracy: 0.7376 - val_precision: 0.2913 - val_recall: 0.3256\n",
      "Epoch 18/20\n",
      "10741/10741 [==============================] - 42s 4ms/step - loss: 0.5154 - accuracy: 0.7342 - precision: 0.7586 - recall: 0.6889 - val_loss: 0.5072 - val_accuracy: 0.7384 - val_precision: 0.2823 - val_recall: 0.3383\n",
      "Epoch 19/20\n",
      "10741/10741 [==============================] - 42s 4ms/step - loss: 0.5136 - accuracy: 0.7348 - precision: 0.7581 - recall: 0.6930 - val_loss: 0.5061 - val_accuracy: 0.7386 - val_precision: 0.2748 - val_recall: 0.3496\n",
      "Epoch 20/20\n",
      "10741/10741 [==============================] - 42s 4ms/step - loss: 0.5151 - accuracy: 0.7346 - precision: 0.7565 - recall: 0.6942 - val_loss: 0.5061 - val_accuracy: 0.7401 - val_precision: 0.2645 - val_recall: 0.3688\n",
      "****Modelling Starts*****\n",
      "Epoch 1/20\n",
      "10741/10741 [==============================] - 43s 4ms/step - loss: 0.5122 - accuracy: 0.7363 - precision: 0.7557 - recall: 0.6977 - val_loss: 0.5036 - val_accuracy: 0.7420 - val_precision: 0.2767 - val_recall: 0.3513\n",
      "Epoch 2/20\n",
      "10741/10741 [==============================] - 42s 4ms/step - loss: 0.5117 - accuracy: 0.7361 - precision: 0.7573 - recall: 0.6966 - val_loss: 0.5055 - val_accuracy: 0.7403 - val_precision: 0.2670 - val_recall: 0.3644\n",
      "Epoch 3/20\n",
      "10741/10741 [==============================] - 43s 4ms/step - loss: 0.5109 - accuracy: 0.7376 - precision: 0.7599 - recall: 0.6998 - val_loss: 0.5024 - val_accuracy: 0.7415 - val_precision: 0.2799 - val_recall: 0.3468\n",
      "Epoch 4/20\n",
      "10741/10741 [==============================] - 42s 4ms/step - loss: 0.5099 - accuracy: 0.7380 - precision: 0.7570 - recall: 0.6994 - val_loss: 0.5023 - val_accuracy: 0.7423 - val_precision: 0.2742 - val_recall: 0.3559\n",
      "Epoch 5/20\n",
      "10741/10741 [==============================] - 42s 4ms/step - loss: 0.5093 - accuracy: 0.7379 - precision: 0.7595 - recall: 0.6998 - val_loss: 0.5022 - val_accuracy: 0.7421 - val_precision: 0.2818 - val_recall: 0.3449\n",
      "Epoch 6/20\n",
      "10741/10741 [==============================] - 42s 4ms/step - loss: 0.5089 - accuracy: 0.7379 - precision: 0.7582 - recall: 0.6983 - val_loss: 0.5011 - val_accuracy: 0.7430 - val_precision: 0.2800 - val_recall: 0.3485\n",
      "Epoch 7/20\n",
      "10741/10741 [==============================] - 42s 4ms/step - loss: 0.5085 - accuracy: 0.7387 - precision: 0.7584 - recall: 0.6990 - val_loss: 0.5011 - val_accuracy: 0.7431 - val_precision: 0.2745 - val_recall: 0.3557\n"
     ]
    },
    {
     "name": "stdout",
     "output_type": "stream",
     "text": [
      "Epoch 8/20\n",
      "10741/10741 [==============================] - 42s 4ms/step - loss: 0.5082 - accuracy: 0.7386 - precision: 0.7607 - recall: 0.6995 - val_loss: 0.5009 - val_accuracy: 0.7433 - val_precision: 0.2724 - val_recall: 0.3598\n",
      "Epoch 9/20\n",
      "10741/10741 [==============================] - 42s 4ms/step - loss: 0.5077 - accuracy: 0.7392 - precision: 0.7584 - recall: 0.7033 - val_loss: 0.5014 - val_accuracy: 0.7431 - val_precision: 0.2680 - val_recall: 0.3666\n",
      "Epoch 10/20\n",
      "10741/10741 [==============================] - 42s 4ms/step - loss: 0.5073 - accuracy: 0.7396 - precision: 0.7594 - recall: 0.7014 - val_loss: 0.5006 - val_accuracy: 0.7438 - val_precision: 0.2834 - val_recall: 0.3445\n",
      "Epoch 11/20\n",
      "10741/10741 [==============================] - 43s 4ms/step - loss: 0.5075 - accuracy: 0.7386 - precision: 0.7590 - recall: 0.6987 - val_loss: 0.5000 - val_accuracy: 0.7439 - val_precision: 0.2798 - val_recall: 0.3502\n",
      "Epoch 12/20\n",
      "10741/10741 [==============================] - 42s 4ms/step - loss: 0.5065 - accuracy: 0.7400 - precision: 0.7604 - recall: 0.7029 - val_loss: 0.5001 - val_accuracy: 0.7443 - val_precision: 0.2748 - val_recall: 0.3567\n",
      "Epoch 13/20\n",
      "10741/10741 [==============================] - 42s 4ms/step - loss: 0.5064 - accuracy: 0.7407 - precision: 0.7596 - recall: 0.7014 - val_loss: 0.5002 - val_accuracy: 0.7439 - val_precision: 0.2845 - val_recall: 0.3438\n",
      "Epoch 14/20\n",
      "10741/10741 [==============================] - 42s 4ms/step - loss: 0.5060 - accuracy: 0.7402 - precision: 0.7610 - recall: 0.7022 - val_loss: 0.5004 - val_accuracy: 0.7438 - val_precision: 0.2851 - val_recall: 0.3427\n",
      "Epoch 15/20\n",
      "10741/10741 [==============================] - 42s 4ms/step - loss: 0.5060 - accuracy: 0.7404 - precision: 0.7599 - recall: 0.7010 - val_loss: 0.4991 - val_accuracy: 0.7445 - val_precision: 0.2763 - val_recall: 0.3554\n",
      "Epoch 16/20\n",
      "10741/10741 [==============================] - 42s 4ms/step - loss: 0.5059 - accuracy: 0.7411 - precision: 0.7617 - recall: 0.7038 - val_loss: 0.4990 - val_accuracy: 0.7446 - val_precision: 0.2782 - val_recall: 0.3530\n",
      "Epoch 17/20\n",
      "10741/10741 [==============================] - 42s 4ms/step - loss: 0.5057 - accuracy: 0.7403 - precision: 0.7598 - recall: 0.7009 - val_loss: 0.4991 - val_accuracy: 0.7448 - val_precision: 0.2796 - val_recall: 0.3512\n",
      "Epoch 18/20\n",
      "10741/10741 [==============================] - 42s 4ms/step - loss: 0.5054 - accuracy: 0.7407 - precision: 0.7617 - recall: 0.7024 - val_loss: 0.4988 - val_accuracy: 0.7441 - val_precision: 0.2815 - val_recall: 0.3477\n",
      "Epoch 19/20\n",
      "10741/10741 [==============================] - 42s 4ms/step - loss: 0.5052 - accuracy: 0.7410 - precision: 0.7617 - recall: 0.7012 - val_loss: 0.4992 - val_accuracy: 0.7445 - val_precision: 0.2824 - val_recall: 0.3472\n",
      "Epoch 20/20\n",
      "10741/10741 [==============================] - 42s 4ms/step - loss: 0.5053 - accuracy: 0.7411 - precision: 0.7595 - recall: 0.7026 - val_loss: 0.4988 - val_accuracy: 0.7451 - val_precision: 0.2778 - val_recall: 0.3541\n",
      "****Modelling Starts*****\n",
      "Epoch 1/20\n",
      "10741/10741 [==============================] - 42s 4ms/step - loss: 0.5055 - accuracy: 0.7407 - precision: 0.7610 - recall: 0.7035 - val_loss: 0.4973 - val_accuracy: 0.7444 - val_precision: 0.2791 - val_recall: 0.3512\n",
      "Epoch 2/20\n",
      "10741/10741 [==============================] - 42s 4ms/step - loss: 0.5051 - accuracy: 0.7410 - precision: 0.7609 - recall: 0.7035 - val_loss: 0.4974 - val_accuracy: 0.7447 - val_precision: 0.2744 - val_recall: 0.3589\n",
      "Epoch 3/20\n",
      "10741/10741 [==============================] - 42s 4ms/step - loss: 0.5051 - accuracy: 0.7415 - precision: 0.7601 - recall: 0.7031 - val_loss: 0.4973 - val_accuracy: 0.7448 - val_precision: 0.2762 - val_recall: 0.3558\n",
      "Epoch 4/20\n",
      "10741/10741 [==============================] - 42s 4ms/step - loss: 0.5051 - accuracy: 0.7409 - precision: 0.7605 - recall: 0.7013 - val_loss: 0.4973 - val_accuracy: 0.7448 - val_precision: 0.2761 - val_recall: 0.3559\n",
      "Epoch 5/20\n",
      "10741/10741 [==============================] - 42s 4ms/step - loss: 0.5050 - accuracy: 0.7413 - precision: 0.7611 - recall: 0.7050 - val_loss: 0.4975 - val_accuracy: 0.7446 - val_precision: 0.2747 - val_recall: 0.3580\n",
      "Epoch 6/20\n",
      "10741/10741 [==============================] - 42s 4ms/step - loss: 0.5054 - accuracy: 0.7410 - precision: 0.7606 - recall: 0.7035 - val_loss: 0.4972 - val_accuracy: 0.7443 - val_precision: 0.2818 - val_recall: 0.3475\n",
      "Epoch 7/20\n",
      "10741/10741 [==============================] - 42s 4ms/step - loss: 0.5049 - accuracy: 0.7421 - precision: 0.7639 - recall: 0.7019 - val_loss: 0.4973 - val_accuracy: 0.7445 - val_precision: 0.2765 - val_recall: 0.3553\n",
      "Epoch 8/20\n",
      "10741/10741 [==============================] - 42s 4ms/step - loss: 0.5048 - accuracy: 0.7417 - precision: 0.7619 - recall: 0.7047 - val_loss: 0.4972 - val_accuracy: 0.7442 - val_precision: 0.2779 - val_recall: 0.3524\n",
      "Epoch 9/20\n",
      "10741/10741 [==============================] - 42s 4ms/step - loss: 0.5047 - accuracy: 0.7418 - precision: 0.7608 - recall: 0.7004 - val_loss: 0.4971 - val_accuracy: 0.7444 - val_precision: 0.2780 - val_recall: 0.3529\n",
      "Epoch 10/20\n",
      "10741/10741 [==============================] - 42s 4ms/step - loss: 0.5047 - accuracy: 0.7410 - precision: 0.7602 - recall: 0.7001 - val_loss: 0.4971 - val_accuracy: 0.7445 - val_precision: 0.2789 - val_recall: 0.3515\n",
      "Epoch 11/20\n",
      "10741/10741 [==============================] - 42s 4ms/step - loss: 0.5048 - accuracy: 0.7413 - precision: 0.7616 - recall: 0.7019 - val_loss: 0.4972 - val_accuracy: 0.7444 - val_precision: 0.2794 - val_recall: 0.3508\n",
      "Epoch 12/20\n",
      "10741/10741 [==============================] - 42s 4ms/step - loss: 0.5045 - accuracy: 0.7419 - precision: 0.7611 - recall: 0.7033 - val_loss: 0.4971 - val_accuracy: 0.7443 - val_precision: 0.2783 - val_recall: 0.3525\n",
      "Epoch 13/20\n",
      "10741/10741 [==============================] - 43s 4ms/step - loss: 0.5045 - accuracy: 0.7419 - precision: 0.7601 - recall: 0.7022 - val_loss: 0.4970 - val_accuracy: 0.7443 - val_precision: 0.2798 - val_recall: 0.3504\n",
      "Epoch 14/20\n",
      "10741/10741 [==============================] - 42s 4ms/step - loss: 0.5048 - accuracy: 0.7418 - precision: 0.7623 - recall: 0.7035 - val_loss: 0.4971 - val_accuracy: 0.7444 - val_precision: 0.2791 - val_recall: 0.3513\n",
      "Epoch 15/20\n",
      "10741/10741 [==============================] - 42s 4ms/step - loss: 0.5047 - accuracy: 0.7407 - precision: 0.7613 - recall: 0.7029 - val_loss: 0.4971 - val_accuracy: 0.7444 - val_precision: 0.2786 - val_recall: 0.3525\n",
      "Epoch 16/20\n",
      "10741/10741 [==============================] - 42s 4ms/step - loss: 0.5047 - accuracy: 0.7418 - precision: 0.7614 - recall: 0.7022 - val_loss: 0.4971 - val_accuracy: 0.7444 - val_precision: 0.2780 - val_recall: 0.3528\n",
      "Epoch 17/20\n",
      "10741/10741 [==============================] - 42s 4ms/step - loss: 0.5043 - accuracy: 0.7417 - precision: 0.7637 - recall: 0.7050 - val_loss: 0.4971 - val_accuracy: 0.7443 - val_precision: 0.2770 - val_recall: 0.3541\n",
      "Epoch 18/20\n",
      "10741/10741 [==============================] - 42s 4ms/step - loss: 0.5050 - accuracy: 0.7410 - precision: 0.7610 - recall: 0.7033 - val_loss: 0.4971 - val_accuracy: 0.7445 - val_precision: 0.2798 - val_recall: 0.3506\n",
      "Epoch 19/20\n",
      "10741/10741 [==============================] - 42s 4ms/step - loss: 0.5043 - accuracy: 0.7421 - precision: 0.7616 - recall: 0.7012 - val_loss: 0.4970 - val_accuracy: 0.7445 - val_precision: 0.2799 - val_recall: 0.3503\n",
      "Epoch 20/20\n",
      "10741/10741 [==============================] - 42s 4ms/step - loss: 0.5044 - accuracy: 0.7420 - precision: 0.7633 - recall: 0.7023 - val_loss: 0.4970 - val_accuracy: 0.7446 - val_precision: 0.2785 - val_recall: 0.3525\n",
      "****Modelling Starts*****\n",
      "Epoch 1/20\n",
      "10741/10741 [==============================] - 42s 4ms/step - loss: 0.5042 - accuracy: 0.7420 - precision: 0.7623 - recall: 0.7020 - val_loss: 0.4985 - val_accuracy: 0.7446 - val_precision: 0.2779 - val_recall: 0.3537\n",
      "Epoch 2/20\n",
      "10741/10741 [==============================] - 42s 4ms/step - loss: 0.5040 - accuracy: 0.7420 - precision: 0.7625 - recall: 0.7035 - val_loss: 0.4985 - val_accuracy: 0.7447 - val_precision: 0.2782 - val_recall: 0.3534\n",
      "Epoch 3/20\n",
      "10741/10741 [==============================] - 42s 4ms/step - loss: 0.5041 - accuracy: 0.7420 - precision: 0.7638 - recall: 0.7046 - val_loss: 0.4985 - val_accuracy: 0.7448 - val_precision: 0.2776 - val_recall: 0.3543\n",
      "Epoch 4/20\n",
      "10741/10741 [==============================] - 42s 4ms/step - loss: 0.5044 - accuracy: 0.7414 - precision: 0.7608 - recall: 0.7038 - val_loss: 0.4985 - val_accuracy: 0.7445 - val_precision: 0.2780 - val_recall: 0.3534\n",
      "Epoch 5/20\n",
      "10741/10741 [==============================] - 42s 4ms/step - loss: 0.5041 - accuracy: 0.7420 - precision: 0.7607 - recall: 0.7029 - val_loss: 0.4985 - val_accuracy: 0.7447 - val_precision: 0.2783 - val_recall: 0.3532\n",
      "Epoch 6/20\n",
      "10741/10741 [==============================] - 42s 4ms/step - loss: 0.5044 - accuracy: 0.7416 - precision: 0.7616 - recall: 0.7016 - val_loss: 0.4985 - val_accuracy: 0.7445 - val_precision: 0.2781 - val_recall: 0.3532\n",
      "Epoch 7/20\n",
      "10741/10741 [==============================] - 42s 4ms/step - loss: 0.5043 - accuracy: 0.7420 - precision: 0.7616 - recall: 0.7040 - val_loss: 0.4985 - val_accuracy: 0.7445 - val_precision: 0.2784 - val_recall: 0.3530\n",
      "Epoch 8/20\n",
      "10741/10741 [==============================] - 42s 4ms/step - loss: 0.5041 - accuracy: 0.7419 - precision: 0.7613 - recall: 0.7036 - val_loss: 0.4985 - val_accuracy: 0.7446 - val_precision: 0.2790 - val_recall: 0.3522\n",
      "Epoch 9/20\n",
      "10741/10741 [==============================] - 42s 4ms/step - loss: 0.5044 - accuracy: 0.7417 - precision: 0.7628 - recall: 0.7031 - val_loss: 0.4985 - val_accuracy: 0.7445 - val_precision: 0.2792 - val_recall: 0.3518\n",
      "Epoch 10/20\n",
      "10741/10741 [==============================] - 42s 4ms/step - loss: 0.5039 - accuracy: 0.7416 - precision: 0.7635 - recall: 0.7032 - val_loss: 0.4985 - val_accuracy: 0.7446 - val_precision: 0.2784 - val_recall: 0.3530\n",
      "Epoch 11/20\n",
      "10741/10741 [==============================] - 42s 4ms/step - loss: 0.5043 - accuracy: 0.7419 - precision: 0.7591 - recall: 0.7025 - val_loss: 0.4985 - val_accuracy: 0.7445 - val_precision: 0.2780 - val_recall: 0.3534\n",
      "Epoch 12/20\n",
      "10741/10741 [==============================] - 42s 4ms/step - loss: 0.5041 - accuracy: 0.7422 - precision: 0.7626 - recall: 0.7029 - val_loss: 0.4985 - val_accuracy: 0.7445 - val_precision: 0.2778 - val_recall: 0.3537\n",
      "Epoch 13/20\n",
      "10741/10741 [==============================] - 42s 4ms/step - loss: 0.5039 - accuracy: 0.7417 - precision: 0.7612 - recall: 0.7032 - val_loss: 0.4985 - val_accuracy: 0.7445 - val_precision: 0.2782 - val_recall: 0.3531\n",
      "Epoch 14/20\n",
      "10741/10741 [==============================] - 42s 4ms/step - loss: 0.5042 - accuracy: 0.7419 - precision: 0.7628 - recall: 0.7042 - val_loss: 0.4985 - val_accuracy: 0.7444 - val_precision: 0.2780 - val_recall: 0.3533\n",
      "Epoch 15/20\n",
      "10741/10741 [==============================] - 42s 4ms/step - loss: 0.5040 - accuracy: 0.7416 - precision: 0.7612 - recall: 0.7025 - val_loss: 0.4985 - val_accuracy: 0.7445 - val_precision: 0.2783 - val_recall: 0.3529\n",
      "Epoch 16/20\n",
      "10741/10741 [==============================] - 42s 4ms/step - loss: 0.5040 - accuracy: 0.7413 - precision: 0.7624 - recall: 0.7025 - val_loss: 0.4985 - val_accuracy: 0.7446 - val_precision: 0.2785 - val_recall: 0.3529\n",
      "Epoch 17/20\n",
      "10741/10741 [==============================] - 42s 4ms/step - loss: 0.5040 - accuracy: 0.7415 - precision: 0.7612 - recall: 0.7031 - val_loss: 0.4985 - val_accuracy: 0.7445 - val_precision: 0.2783 - val_recall: 0.3529\n",
      "Epoch 18/20\n",
      "10741/10741 [==============================] - 42s 4ms/step - loss: 0.5043 - accuracy: 0.7416 - precision: 0.7616 - recall: 0.7026 - val_loss: 0.4985 - val_accuracy: 0.7444 - val_precision: 0.2781 - val_recall: 0.3531\n",
      "Epoch 19/20\n",
      "10741/10741 [==============================] - 42s 4ms/step - loss: 0.5043 - accuracy: 0.7416 - precision: 0.7611 - recall: 0.7026 - val_loss: 0.4985 - val_accuracy: 0.7445 - val_precision: 0.2778 - val_recall: 0.3536\n",
      "Epoch 20/20\n",
      "10741/10741 [==============================] - 41s 4ms/step - loss: 0.5042 - accuracy: 0.7420 - precision: 0.7603 - recall: 0.7030 - val_loss: 0.4985 - val_accuracy: 0.7444 - val_precision: 0.2781 - val_recall: 0.3532\n",
      "****Modelling Starts*****\n",
      "Epoch 1/20\n",
      "10741/10741 [==============================] - 42s 4ms/step - loss: 0.5045 - accuracy: 0.7414 - precision: 0.7607 - recall: 0.7024 - val_loss: 0.4972 - val_accuracy: 0.7464 - val_precision: 0.2787 - val_recall: 0.3514\n",
      "Epoch 2/20\n",
      "10741/10741 [==============================] - 42s 4ms/step - loss: 0.5043 - accuracy: 0.7418 - precision: 0.7621 - recall: 0.7054 - val_loss: 0.4972 - val_accuracy: 0.7463 - val_precision: 0.2788 - val_recall: 0.3512\n",
      "Epoch 3/20\n",
      "10741/10741 [==============================] - 42s 4ms/step - loss: 0.5042 - accuracy: 0.7413 - precision: 0.7617 - recall: 0.7027 - val_loss: 0.4972 - val_accuracy: 0.7464 - val_precision: 0.2787 - val_recall: 0.3514\n",
      "Epoch 4/20\n",
      "10741/10741 [==============================] - 42s 4ms/step - loss: 0.5046 - accuracy: 0.7415 - precision: 0.7617 - recall: 0.7011 - val_loss: 0.4972 - val_accuracy: 0.7464 - val_precision: 0.2789 - val_recall: 0.3510\n",
      "Epoch 5/20\n",
      "10741/10741 [==============================] - 42s 4ms/step - loss: 0.5045 - accuracy: 0.7413 - precision: 0.7628 - recall: 0.7040 - val_loss: 0.4972 - val_accuracy: 0.7463 - val_precision: 0.2787 - val_recall: 0.3513\n",
      "Epoch 6/20\n",
      "10741/10741 [==============================] - 42s 4ms/step - loss: 0.5044 - accuracy: 0.7419 - precision: 0.7625 - recall: 0.7035 - val_loss: 0.4972 - val_accuracy: 0.7463 - val_precision: 0.2787 - val_recall: 0.3514\n",
      "Epoch 7/20\n",
      "10741/10741 [==============================] - 42s 4ms/step - loss: 0.5043 - accuracy: 0.7418 - precision: 0.7627 - recall: 0.7032 - val_loss: 0.4972 - val_accuracy: 0.7464 - val_precision: 0.2787 - val_recall: 0.3513\n",
      "Epoch 8/20\n",
      "10741/10741 [==============================] - 42s 4ms/step - loss: 0.5040 - accuracy: 0.7419 - precision: 0.7603 - recall: 0.7039 - val_loss: 0.4972 - val_accuracy: 0.7464 - val_precision: 0.2787 - val_recall: 0.3514\n",
      "Epoch 9/20\n",
      "10741/10741 [==============================] - 42s 4ms/step - loss: 0.5045 - accuracy: 0.7415 - precision: 0.7622 - recall: 0.7040 - val_loss: 0.4972 - val_accuracy: 0.7464 - val_precision: 0.2787 - val_recall: 0.3513\n",
      "Epoch 10/20\n",
      "10741/10741 [==============================] - 42s 4ms/step - loss: 0.5045 - accuracy: 0.7408 - precision: 0.7601 - recall: 0.7021 - val_loss: 0.4972 - val_accuracy: 0.7464 - val_precision: 0.2787 - val_recall: 0.3513\n",
      "Epoch 11/20\n",
      "10741/10741 [==============================] - 42s 4ms/step - loss: 0.5042 - accuracy: 0.7417 - precision: 0.7600 - recall: 0.7041 - val_loss: 0.4972 - val_accuracy: 0.7464 - val_precision: 0.2786 - val_recall: 0.3514\n",
      "Epoch 12/20\n",
      "10741/10741 [==============================] - 41s 4ms/step - loss: 0.5044 - accuracy: 0.7413 - precision: 0.7623 - recall: 0.7033 - val_loss: 0.4972 - val_accuracy: 0.7464 - val_precision: 0.2788 - val_recall: 0.3512\n",
      "Epoch 13/20\n",
      "10741/10741 [==============================] - 41s 4ms/step - loss: 0.5044 - accuracy: 0.7413 - precision: 0.7613 - recall: 0.7042 - val_loss: 0.4972 - val_accuracy: 0.7464 - val_precision: 0.2787 - val_recall: 0.3512\n",
      "Epoch 14/20\n",
      "10741/10741 [==============================] - 41s 4ms/step - loss: 0.5046 - accuracy: 0.7413 - precision: 0.7610 - recall: 0.7022 - val_loss: 0.4972 - val_accuracy: 0.7464 - val_precision: 0.2787 - val_recall: 0.3513\n",
      "Epoch 15/20\n",
      "10741/10741 [==============================] - 42s 4ms/step - loss: 0.5041 - accuracy: 0.7417 - precision: 0.7612 - recall: 0.7039 - val_loss: 0.4972 - val_accuracy: 0.7464 - val_precision: 0.2787 - val_recall: 0.3513\n",
      "Epoch 16/20\n",
      "10741/10741 [==============================] - 41s 4ms/step - loss: 0.5041 - accuracy: 0.7422 - precision: 0.7631 - recall: 0.7043 - val_loss: 0.4972 - val_accuracy: 0.7464 - val_precision: 0.2787 - val_recall: 0.3513\n",
      "Epoch 17/20\n",
      "10741/10741 [==============================] - 42s 4ms/step - loss: 0.5045 - accuracy: 0.7414 - precision: 0.7609 - recall: 0.7037 - val_loss: 0.4972 - val_accuracy: 0.7464 - val_precision: 0.2787 - val_recall: 0.3513\n",
      "Epoch 18/20\n",
      "10741/10741 [==============================] - 41s 4ms/step - loss: 0.5044 - accuracy: 0.7416 - precision: 0.7611 - recall: 0.7048 - val_loss: 0.4972 - val_accuracy: 0.7464 - val_precision: 0.2787 - val_recall: 0.3513\n"
     ]
    },
    {
     "name": "stdout",
     "output_type": "stream",
     "text": [
      "Epoch 19/20\n",
      "10741/10741 [==============================] - 41s 4ms/step - loss: 0.5044 - accuracy: 0.7416 - precision: 0.7620 - recall: 0.7038 - val_loss: 0.4972 - val_accuracy: 0.7464 - val_precision: 0.2787 - val_recall: 0.3513\n",
      "Epoch 20/20\n",
      "10741/10741 [==============================] - 41s 4ms/step - loss: 0.5042 - accuracy: 0.7415 - precision: 0.7598 - recall: 0.7043 - val_loss: 0.4972 - val_accuracy: 0.7464 - val_precision: 0.2787 - val_recall: 0.3513\n"
     ]
    }
   ],
   "source": [
    "skf = StratifiedKFold(n_splits = 5, random_state = 7, shuffle = True)\n",
    "fold = 1\n",
    "for train_index, val_index in skf.split(np.zeros(len(X_plp_train_scaled)),y_plp_train_resampled):\n",
    "    print(\"****Modelling Starts*****\")\n",
    "\n",
    "    X_plp_train_cv = X_plp_train_scaled[train_index]\n",
    "    X_plp_test_cv = X_plp_train_scaled[val_index]\n",
    "    \n",
    "    y_plp_train_cv = y_plp_train_resampled[train_index]\n",
    "    y_plp_test_cv = y_plp_train_resampled[val_index]\n",
    "    \n",
    "\n",
    "    #transforming the data - \n",
    "    \n",
    "#     rus = RandomUnderSampler(random_state=0)\n",
    "#     X_plp_train_resampled, y_plp_train_resampled = rus.fit_resample(X_plp_train_cv, y_plp_train_cv)\n",
    "# #     print(X_train_resampled.shape, y_train_resampled.shape)\n",
    "# #     print(type(X_train_resampled), type(y_train_resampled))\n",
    "    \n",
    "#     X_train_scaled = normalizeData(X_plp_train_resampled)\n",
    "#     X_test_scaled = normalizeData(X_plp_test_cv)\n",
    "#     X_scaled = normalizeData(X_plp_cv)\n",
    "    \n",
    "    X_train_conv1D = np.expand_dims(X_plp_train_cv, axis=2)\n",
    "    X_test_conv1D = np.expand_dims(X_plp_test_cv, axis=2)\n",
    "    \n",
    "#     print(X_train_conv1D.shape, X_test_conv1D.shape, y_plp_train_resampled.shape, y_plp_test_cv.shape)\n",
    "    \n",
    "    #model.fit(X_train, y_train, batch_size=32, epochs=20, validation_data=(X_test, y_test))\n",
    "    hist = model.fit(X_train_conv1D, y_plp_train_cv, batch_size=32, epochs=20, validation_data=(X_test_conv1D, y_plp_test_cv), callbacks=[tensorboard])\n",
    "#     break\n",
    "    \n",
    "    fold += 1"
   ]
  },
  {
   "cell_type": "code",
   "execution_count": 40,
   "metadata": {},
   "outputs": [
    {
     "name": "stdout",
     "output_type": "stream",
     "text": [
      "0.7463887214660645 0.2787290170788765 0.3512881055474281\n"
     ]
    }
   ],
   "source": [
    "val_acc_mean = np.mean(hist.history['val_accuracy'])\n",
    "val_precision_mean = np.mean(hist.history['val_precision'])\n",
    "val_recall_mean = np.mean(hist.history['val_recall'])\n",
    "print(val_acc_mean, val_precision_mean, val_recall_mean)"
   ]
  },
  {
   "cell_type": "code",
   "execution_count": null,
   "metadata": {},
   "outputs": [],
   "source": []
  },
  {
   "cell_type": "markdown",
   "metadata": {},
   "source": [
    "##### PLP - Testing Conv 1D"
   ]
  },
  {
   "cell_type": "code",
   "execution_count": 41,
   "metadata": {},
   "outputs": [
    {
     "name": "stdout",
     "output_type": "stream",
     "text": [
      "0:00:03.244660\n"
     ]
    }
   ],
   "source": [
    "## Validating against the validation dataset\n",
    "\n",
    "start_time = datetime.datetime.now()\n",
    "#testing the Conv1D model\n",
    "y_pred_prob = model.predict(X_plp_test_conv1D)\n",
    "y_pred_classes = model.predict_classes(X_plp_test_conv1D)\n",
    "\n",
    "end_time = datetime.datetime.now()\n",
    "total_time = end_time - start_time\n",
    "print(total_time)"
   ]
  },
  {
   "cell_type": "code",
   "execution_count": 42,
   "metadata": {},
   "outputs": [
    {
     "name": "stdout",
     "output_type": "stream",
     "text": [
      "Accuracy: 0.559724\n",
      "Precision: 0.470830\n",
      "Recall: 0.919583\n",
      "F1 score: 0.622789\n",
      "Cohens kappa: 0.209527\n",
      "ROC AUC: 0.768514\n",
      "[[11819 24599]\n",
      " [ 1914 21887]]\n"
     ]
    }
   ],
   "source": [
    "from sklearn.metrics import accuracy_score\n",
    "from sklearn.metrics import precision_score\n",
    "from sklearn.metrics import recall_score\n",
    "from sklearn.metrics import f1_score\n",
    "from sklearn.metrics import cohen_kappa_score\n",
    "from sklearn.metrics import roc_auc_score\n",
    "from sklearn.metrics import confusion_matrix\n",
    "\n",
    "# accuracy: (tp + tn) / (p + n)\n",
    "accuracy = accuracy_score(y_plp_test, y_pred_classes)\n",
    "print('Accuracy: %f' % accuracy)\n",
    "\n",
    "# precision tp / (tp + fp)\n",
    "precision = precision_score(y_plp_test, y_pred_classes)\n",
    "print('Precision: %f' % precision)\n",
    "\n",
    "# recall: tp / (tp + fn)\n",
    "recall = recall_score(y_plp_test, y_pred_classes)\n",
    "print('Recall: %f' % recall)\n",
    "\n",
    "# f1: 2 tp / (2 tp + fp + fn)\n",
    "f1 = f1_score(y_plp_test, y_pred_classes)\n",
    "print('F1 score: %f' % f1)\n",
    " \n",
    "# kappa\n",
    "kappa = cohen_kappa_score(y_plp_test, y_pred_classes)\n",
    "print('Cohens kappa: %f' % kappa)\n",
    "\n",
    "# ROC AUC\n",
    "auc = roc_auc_score(y_plp_test, y_pred_prob)\n",
    "print('ROC AUC: %f' % auc)\n",
    "\n",
    "# confusion matrix\n",
    "matrix = confusion_matrix(y_plp_test, y_pred_classes)\n",
    "print(matrix)"
   ]
  },
  {
   "cell_type": "code",
   "execution_count": null,
   "metadata": {},
   "outputs": [],
   "source": []
  },
  {
   "cell_type": "code",
   "execution_count": null,
   "metadata": {},
   "outputs": [],
   "source": []
  },
  {
   "cell_type": "markdown",
   "metadata": {},
   "source": [
    "##### PLP - Training  and Testing SVM Linear"
   ]
  },
  {
   "cell_type": "code",
   "execution_count": 45,
   "metadata": {},
   "outputs": [
    {
     "name": "stdout",
     "output_type": "stream",
     "text": [
      "(140000, 13) (140000,)\n",
      "<class 'numpy.ndarray'> <class 'numpy.ndarray'>\n"
     ]
    }
   ],
   "source": [
    "from imblearn.under_sampling import RandomUnderSampler\n",
    "rus = RandomUnderSampler(random_state=0, sampling_strategy={\n",
    "        0: 70000,\n",
    "        1: 70000\n",
    "    })\n",
    "X_plp_resampled, y_plp_resampled = rus.fit_resample(X_plp_train_scaled, y_plp_train_resampled)\n",
    "print(X_plp_resampled.shape, y_plp_resampled.shape)\n",
    "print(type(X_plp_resampled), type(y_plp_resampled))"
   ]
  },
  {
   "cell_type": "code",
   "execution_count": null,
   "metadata": {},
   "outputs": [],
   "source": []
  },
  {
   "cell_type": "code",
   "execution_count": 46,
   "metadata": {},
   "outputs": [
    {
     "name": "stdout",
     "output_type": "stream",
     "text": [
      "0:08:49.888406\n"
     ]
    }
   ],
   "source": [
    "## fitting the svm linear model\n",
    "start_time = datetime.datetime.now()\n",
    "\n",
    "svc=SVC(kernel='linear')\n",
    "\n",
    "svc.fit(X_plp_resampled, y_plp_resampled)\n",
    "\n",
    "end_time = datetime.datetime.now()\n",
    "total_time = end_time - start_time\n",
    "print(total_time)"
   ]
  },
  {
   "cell_type": "code",
   "execution_count": 47,
   "metadata": {},
   "outputs": [
    {
     "name": "stdout",
     "output_type": "stream",
     "text": [
      "0:02:21.674879\n"
     ]
    }
   ],
   "source": [
    "## Validating against the validation dataset\n",
    "\n",
    "start_time = datetime.datetime.now()\n",
    "#testing the SVM model\n",
    "y_pred = svc.predict(X_plp_test_scaled)\n",
    "\n",
    "end_time = datetime.datetime.now()\n",
    "total_time = end_time - start_time\n",
    "print(total_time)"
   ]
  },
  {
   "cell_type": "code",
   "execution_count": 49,
   "metadata": {},
   "outputs": [
    {
     "name": "stdout",
     "output_type": "stream",
     "text": [
      "Accuracy: 0.506701\n",
      "Precision: 0.440396\n",
      "Recall: 0.916558\n",
      "F1 score: 0.594933\n",
      "Cohens kappa: 0.130883\n",
      "ROC AUC: 0.577698\n",
      "[[ 8698 27720]\n",
      " [ 1986 21815]]\n"
     ]
    }
   ],
   "source": [
    "from sklearn.metrics import accuracy_score\n",
    "from sklearn.metrics import precision_score\n",
    "from sklearn.metrics import recall_score\n",
    "from sklearn.metrics import f1_score\n",
    "from sklearn.metrics import cohen_kappa_score\n",
    "from sklearn.metrics import roc_auc_score\n",
    "from sklearn.metrics import confusion_matrix\n",
    "\n",
    "# accuracy: (tp + tn) / (p + n)\n",
    "accuracy = accuracy_score(y_plp_test, y_pred)\n",
    "print('Accuracy: %f' % accuracy)\n",
    "\n",
    "# precision tp / (tp + fp)\n",
    "precision = precision_score(y_plp_test, y_pred)\n",
    "print('Precision: %f' % precision)\n",
    "\n",
    "# recall: tp / (tp + fn)\n",
    "recall = recall_score(y_plp_test, y_pred)\n",
    "print('Recall: %f' % recall)\n",
    "\n",
    "# f1: 2 tp / (2 tp + fp + fn)\n",
    "f1 = f1_score(y_plp_test, y_pred)\n",
    "print('F1 score: %f' % f1)\n",
    " \n",
    "# kappa\n",
    "kappa = cohen_kappa_score(y_plp_test, y_pred)\n",
    "print('Cohens kappa: %f' % kappa)\n",
    "\n",
    "# ROC AUC\n",
    "auc = roc_auc_score(y_plp_test, y_pred)\n",
    "print('ROC AUC: %f' % auc)\n",
    "\n",
    "# confusion matrix\n",
    "matrix = confusion_matrix(y_plp_test, y_pred)\n",
    "print(matrix)"
   ]
  },
  {
   "cell_type": "code",
   "execution_count": null,
   "metadata": {},
   "outputs": [],
   "source": []
  },
  {
   "cell_type": "code",
   "execution_count": 56,
   "metadata": {},
   "outputs": [],
   "source": [
    "# X_plp_scaled = normalizeData(X_plp_resampled)"
   ]
  },
  {
   "cell_type": "code",
   "execution_count": 57,
   "metadata": {},
   "outputs": [
    {
     "name": "stdout",
     "output_type": "stream",
     "text": [
      " ====Start=======  SVM - 5 fold cross validation Linear Training Model (GFCCS)\n",
      " Start Time  2021-05-30 12:01:36.508300\n",
      "{'fit_time': array([109.64545631, 109.38254786, 109.24196362, 110.41520596,\n",
      "       109.94017982]), 'score_time': array([17.57213473, 17.58157682, 17.51831245, 17.59816623, 17.4789803 ]), 'test_accuracy': array([0.6654375, 0.6683125, 0.667875 , 0.6718125, 0.6645625]), 'train_accuracy': array([0.6685625 , 0.66803125, 0.66796875, 0.6664375 , 0.66742188]), 'test_precision': array([0.67444313, 0.67430421, 0.67620047, 0.67988483, 0.6735205 ]), 'train_precision': array([0.67678291, 0.67656137, 0.67647252, 0.67462295, 0.67443753]), 'test_recall': array([0.639625, 0.651125, 0.64425 , 0.649375, 0.63875 ]), 'train_recall': array([0.6453125, 0.643875 , 0.643875 , 0.643    , 0.6473125])}\n",
      " ====End=======  SVM - 5 fold cross validation Linear Training Model (GFCCS)\n",
      " End Time  2021-05-30 12:18:03.190132\n",
      "SVM - 5 fold cross validation Linear Training Model (GFCCS) =====Total Time===== 0:16:26.681832\n"
     ]
    }
   ],
   "source": [
    "# msg = \"SVM - 5 fold cross validation Linear Training Model (PLP)\"\n",
    "# start_time = startTime(msg)\n",
    "\n",
    "# svc=SVC(kernel='linear')\n",
    "# scoring = [\"accuracy\", \"precision\", \"recall\"]\n",
    "# # scores = cross_val_score(svc, X_scaled, y, cv=10, scoring=scoring) #cv is cross validation\n",
    "# scores = cross_validate(svc, X_plp_scaled, y_plp_resampled, scoring=scoring, cv=5, return_train_score=True)\n",
    "# print(scores)\n",
    "\n",
    "# # end time\n",
    "# end_time = endTime(msg)\n",
    "\n",
    "# #total time\n",
    "# totalTime(msg, start_time, end_time)"
   ]
  },
  {
   "cell_type": "code",
   "execution_count": 58,
   "metadata": {},
   "outputs": [
    {
     "name": "stdout",
     "output_type": "stream",
     "text": [
      "mean_test_accuracy  0.6676\n",
      "mean_test_precision  0.6756706266499974\n",
      "mean_test_recall  0.644625\n"
     ]
    }
   ],
   "source": [
    "# mean_test_accuracy = np.mean(scores['test_accuracy'])\n",
    "# mean_test_precision = np.mean(scores['test_precision'])\n",
    "# mean_test_recall = np.mean(scores['test_recall'])\n",
    "# print(\"mean_test_accuracy \", mean_test_accuracy)\n",
    "# print(\"mean_test_precision \", mean_test_precision)\n",
    "# print(\"mean_test_recall \", mean_test_recall)"
   ]
  },
  {
   "cell_type": "code",
   "execution_count": null,
   "metadata": {},
   "outputs": [],
   "source": []
  },
  {
   "cell_type": "markdown",
   "metadata": {},
   "source": [
    "##### PLP - Training and Testing SVM RBF"
   ]
  },
  {
   "cell_type": "code",
   "execution_count": null,
   "metadata": {},
   "outputs": [],
   "source": []
  },
  {
   "cell_type": "code",
   "execution_count": null,
   "metadata": {},
   "outputs": [],
   "source": []
  },
  {
   "cell_type": "code",
   "execution_count": 50,
   "metadata": {},
   "outputs": [
    {
     "name": "stdout",
     "output_type": "stream",
     "text": [
      "0:12:04.238389\n"
     ]
    }
   ],
   "source": [
    "## fitting the svm linear model\n",
    "start_time = datetime.datetime.now()\n",
    "\n",
    "svc=SVC(kernel='rbf')\n",
    "\n",
    "svc.fit(X_plp_resampled, y_plp_resampled)\n",
    "\n",
    "end_time = datetime.datetime.now()\n",
    "total_time = end_time - start_time\n",
    "print(total_time)"
   ]
  },
  {
   "cell_type": "code",
   "execution_count": 51,
   "metadata": {},
   "outputs": [
    {
     "name": "stdout",
     "output_type": "stream",
     "text": [
      "0:04:34.404413\n"
     ]
    }
   ],
   "source": [
    "## Validating against the validation dataset\n",
    "\n",
    "start_time = datetime.datetime.now()\n",
    "#testing the SVM model\n",
    "y_pred = svc.predict(X_plp_test_scaled)\n",
    "\n",
    "end_time = datetime.datetime.now()\n",
    "total_time = end_time - start_time\n",
    "print(total_time)"
   ]
  },
  {
   "cell_type": "code",
   "execution_count": 52,
   "metadata": {},
   "outputs": [
    {
     "name": "stdout",
     "output_type": "stream",
     "text": [
      "Accuracy: 0.559325\n",
      "Precision: 0.470431\n",
      "Recall: 0.914415\n",
      "F1 score: 0.621252\n",
      "Cohens kappa: 0.207713\n",
      "ROC AUC: 0.620836\n",
      "[[11918 24500]\n",
      " [ 2037 21764]]\n"
     ]
    }
   ],
   "source": [
    "from sklearn.metrics import accuracy_score\n",
    "from sklearn.metrics import precision_score\n",
    "from sklearn.metrics import recall_score\n",
    "from sklearn.metrics import f1_score\n",
    "from sklearn.metrics import cohen_kappa_score\n",
    "from sklearn.metrics import roc_auc_score\n",
    "from sklearn.metrics import confusion_matrix\n",
    "\n",
    "# accuracy: (tp + tn) / (p + n)\n",
    "accuracy = accuracy_score(y_plp_test, y_pred)\n",
    "print('Accuracy: %f' % accuracy)\n",
    "\n",
    "# precision tp / (tp + fp)\n",
    "precision = precision_score(y_plp_test, y_pred)\n",
    "print('Precision: %f' % precision)\n",
    "\n",
    "# recall: tp / (tp + fn)\n",
    "recall = recall_score(y_plp_test, y_pred)\n",
    "print('Recall: %f' % recall)\n",
    "\n",
    "# f1: 2 tp / (2 tp + fp + fn)\n",
    "f1 = f1_score(y_plp_test, y_pred)\n",
    "print('F1 score: %f' % f1)\n",
    " \n",
    "# kappa\n",
    "kappa = cohen_kappa_score(y_plp_test, y_pred)\n",
    "print('Cohens kappa: %f' % kappa)\n",
    "\n",
    "# ROC AUC\n",
    "auc = roc_auc_score(y_plp_test, y_pred)\n",
    "print('ROC AUC: %f' % auc)\n",
    "\n",
    "# confusion matrix\n",
    "matrix = confusion_matrix(y_plp_test, y_pred)\n",
    "print(matrix)"
   ]
  },
  {
   "cell_type": "code",
   "execution_count": null,
   "metadata": {},
   "outputs": [],
   "source": []
  },
  {
   "cell_type": "code",
   "execution_count": 59,
   "metadata": {},
   "outputs": [
    {
     "name": "stdout",
     "output_type": "stream",
     "text": [
      " ====Start=======  SVM - 5 fold cross validation Linear Training Model (GFCCS)\n",
      " Start Time  2021-05-30 12:18:03.203079\n",
      "{'fit_time': array([158.01833034, 155.81704664, 155.76283073, 155.72850585,\n",
      "       153.32171774]), 'score_time': array([35.51917195, 35.45709944, 35.69684839, 35.6349349 , 35.60058832]), 'test_accuracy': array([0.7569375, 0.75275  , 0.75825  , 0.7580625, 0.7528125]), 'train_accuracy': array([0.76435937, 0.76534375, 0.76398438, 0.76434375, 0.76432813]), 'test_precision': array([0.78624147, 0.77736626, 0.78968031, 0.78693537, 0.78109798]), 'train_precision': array([0.7929697 , 0.79194746, 0.79622681, 0.79463602, 0.79378973]), 'test_recall': array([0.70575 , 0.708375, 0.704   , 0.70775 , 0.7025  ]), 'train_recall': array([0.71553125, 0.71978125, 0.7095625 , 0.7129375 , 0.7141875 ])}\n",
      " ====End=======  SVM - 5 fold cross validation Linear Training Model (GFCCS)\n",
      " End Time  2021-05-30 12:45:52.019012\n",
      "SVM - 5 fold cross validation Linear Training Model (GFCCS) =====Total Time===== 0:27:48.815933\n"
     ]
    }
   ],
   "source": [
    "# msg = \"SVM - 5 fold cross validation Linear Training Model (PLP)\"\n",
    "# start_time = startTime(msg)\n",
    "\n",
    "# svc=SVC(kernel='rbf')\n",
    "# scoring = [\"accuracy\", \"precision\", \"recall\"]\n",
    "# # scores = cross_val_score(svc, X_scaled, y, cv=10, scoring=scoring) #cv is cross validation\n",
    "# scores = cross_validate(svc, X_plp_scaled, y_plp_resampled, scoring=scoring, cv=5, return_train_score=True)\n",
    "# print(scores)\n",
    "\n",
    "# # end time\n",
    "# end_time = endTime(msg)\n",
    "\n",
    "# #total time\n",
    "# totalTime(msg, start_time, end_time)"
   ]
  },
  {
   "cell_type": "code",
   "execution_count": 60,
   "metadata": {},
   "outputs": [
    {
     "name": "stdout",
     "output_type": "stream",
     "text": [
      "mean_test_accuracy  0.7557625\n",
      "mean_test_precision  0.7842642792532551\n",
      "mean_test_recall  0.705675\n"
     ]
    }
   ],
   "source": [
    "# mean_test_accuracy = np.mean(scores['test_accuracy'])\n",
    "# mean_test_precision = np.mean(scores['test_precision'])\n",
    "# mean_test_recall = np.mean(scores['test_recall'])\n",
    "# print(\"mean_test_accuracy \", mean_test_accuracy)\n",
    "# print(\"mean_test_precision \", mean_test_precision)\n",
    "# print(\"mean_test_recall \", mean_test_recall)"
   ]
  },
  {
   "cell_type": "code",
   "execution_count": null,
   "metadata": {},
   "outputs": [],
   "source": []
  },
  {
   "cell_type": "code",
   "execution_count": null,
   "metadata": {},
   "outputs": [],
   "source": []
  },
  {
   "cell_type": "markdown",
   "metadata": {},
   "source": [
    "##### PLP - Training Extra Tree Classifier"
   ]
  },
  {
   "cell_type": "code",
   "execution_count": 53,
   "metadata": {},
   "outputs": [],
   "source": [
    "seed = 7\n",
    "kfold = KFold(n_splits = 5, random_state = seed, shuffle = True)"
   ]
  },
  {
   "cell_type": "code",
   "execution_count": 54,
   "metadata": {},
   "outputs": [],
   "source": [
    "num_trees = 200\n",
    "max_features = 12"
   ]
  },
  {
   "cell_type": "code",
   "execution_count": 55,
   "metadata": {},
   "outputs": [],
   "source": [
    "model = ExtraTreesClassifier(n_estimators = num_trees, max_features = max_features)"
   ]
  },
  {
   "cell_type": "code",
   "execution_count": 57,
   "metadata": {},
   "outputs": [
    {
     "name": "stdout",
     "output_type": "stream",
     "text": [
      " ====Start=======  Extra Tree Classifier\n",
      " Start Time  2021-06-08 21:18:17.873613\n",
      " ====End=======  Extra Tree Classifier\n",
      " End Time  2021-06-08 21:34:18.323437\n",
      "Extra Tree Classifier =====Total Time===== 0:16:00.449824\n"
     ]
    }
   ],
   "source": [
    "msg = \"Extra Tree Classifier\"\n",
    "start_time = startTime(msg)\n",
    "scoring = [\"accuracy\", \"precision\", \"recall\"]\n",
    "# results = cross_val_score(model, X_scaled, y, cv = kfold, scoring=scoring)\n",
    "results = cross_validate(model, X_plp_train_scaled, y_plp_train_resampled, scoring=scoring, cv=kfold, return_train_score=True)\n",
    "\n",
    "# print(results.mean())\n",
    "\n",
    "# end time\n",
    "end_time = endTime(msg)\n",
    "\n",
    "#total time\n",
    "totalTime(msg, start_time, end_time)"
   ]
  },
  {
   "cell_type": "code",
   "execution_count": 59,
   "metadata": {},
   "outputs": [],
   "source": [
    "mean_test_accuracy = np.mean(results['test_accuracy'])\n",
    "mean_test_precision = np.mean(results['test_precision'])\n",
    "mean_test_recall = np.mean(results['test_recall'])"
   ]
  },
  {
   "cell_type": "code",
   "execution_count": 60,
   "metadata": {},
   "outputs": [
    {
     "name": "stdout",
     "output_type": "stream",
     "text": [
      "0.8028494577524541\n",
      "0.8175502358080342\n",
      "0.7797198570208345\n"
     ]
    }
   ],
   "source": [
    "print(mean_test_accuracy)\n",
    "print(mean_test_precision)\n",
    "print(mean_test_recall)"
   ]
  },
  {
   "cell_type": "code",
   "execution_count": null,
   "metadata": {},
   "outputs": [],
   "source": []
  },
  {
   "cell_type": "markdown",
   "metadata": {},
   "source": [
    "##### PLP - Testing Extra Tree Classifier"
   ]
  },
  {
   "cell_type": "code",
   "execution_count": 62,
   "metadata": {},
   "outputs": [
    {
     "name": "stdout",
     "output_type": "stream",
     "text": [
      "0:03:41.036141\n"
     ]
    }
   ],
   "source": [
    "## fitting the extra tree classifier  model\n",
    "start_time = datetime.datetime.now()\n",
    "\n",
    "model.fit(X_plp_train_scaled, y_plp_train_resampled)\n",
    "\n",
    "end_time = datetime.datetime.now()\n",
    "total_time = end_time - start_time\n",
    "print(total_time)"
   ]
  },
  {
   "cell_type": "code",
   "execution_count": 63,
   "metadata": {},
   "outputs": [
    {
     "name": "stdout",
     "output_type": "stream",
     "text": [
      "0:00:04.190754\n"
     ]
    }
   ],
   "source": [
    "## Validating against the validation dataset\n",
    "\n",
    "start_time = datetime.datetime.now()\n",
    "#testing the SVM model\n",
    "y_pred = model.predict(X_plp_test_scaled)\n",
    "\n",
    "end_time = datetime.datetime.now()\n",
    "total_time = end_time - start_time\n",
    "print(total_time)"
   ]
  },
  {
   "cell_type": "code",
   "execution_count": 64,
   "metadata": {},
   "outputs": [
    {
     "name": "stdout",
     "output_type": "stream",
     "text": [
      "Accuracy: 0.625716\n",
      "Precision: 0.515241\n",
      "Recall: 0.896265\n",
      "F1 score: 0.654326\n",
      "Cohens kappa: 0.305969\n",
      "ROC AUC: 0.672582\n",
      "[[16348 20070]\n",
      " [ 2469 21332]]\n"
     ]
    }
   ],
   "source": [
    "from sklearn.metrics import accuracy_score\n",
    "from sklearn.metrics import precision_score\n",
    "from sklearn.metrics import recall_score\n",
    "from sklearn.metrics import f1_score\n",
    "from sklearn.metrics import cohen_kappa_score\n",
    "from sklearn.metrics import roc_auc_score\n",
    "from sklearn.metrics import confusion_matrix\n",
    "\n",
    "# accuracy: (tp + tn) / (p + n)\n",
    "accuracy = accuracy_score(y_plp_test, y_pred)\n",
    "print('Accuracy: %f' % accuracy)\n",
    "\n",
    "# precision tp / (tp + fp)\n",
    "precision = precision_score(y_plp_test, y_pred)\n",
    "print('Precision: %f' % precision)\n",
    "\n",
    "# recall: tp / (tp + fn)\n",
    "recall = recall_score(y_plp_test, y_pred)\n",
    "print('Recall: %f' % recall)\n",
    "\n",
    "# f1: 2 tp / (2 tp + fp + fn)\n",
    "f1 = f1_score(y_plp_test, y_pred)\n",
    "print('F1 score: %f' % f1)\n",
    " \n",
    "# kappa\n",
    "kappa = cohen_kappa_score(y_plp_test, y_pred)\n",
    "print('Cohens kappa: %f' % kappa)\n",
    "\n",
    "# ROC AUC\n",
    "auc = roc_auc_score(y_plp_test, y_pred)\n",
    "print('ROC AUC: %f' % auc)\n",
    "\n",
    "# confusion matrix\n",
    "matrix = confusion_matrix(y_plp_test, y_pred)\n",
    "print(matrix)"
   ]
  },
  {
   "cell_type": "code",
   "execution_count": null,
   "metadata": {},
   "outputs": [],
   "source": []
  },
  {
   "cell_type": "code",
   "execution_count": null,
   "metadata": {},
   "outputs": [],
   "source": []
  },
  {
   "cell_type": "markdown",
   "metadata": {},
   "source": [
    "##### RPLP - Splitting, Balancing and Normalizing"
   ]
  },
  {
   "cell_type": "code",
   "execution_count": 77,
   "metadata": {},
   "outputs": [],
   "source": [
    "# Splitting the data in X and Y\n",
    "X_rplp = df_final_rplp.drop('Category', axis=1)\n",
    "y_rplp = df_final_rplp['Category']"
   ]
  },
  {
   "cell_type": "code",
   "execution_count": 78,
   "metadata": {},
   "outputs": [],
   "source": [
    "X_rplp_train, X_rplp_test, y_rplp_train, y_rplp_test = train_test_split(X_rplp, y_rplp, test_size = 0.30)"
   ]
  },
  {
   "cell_type": "code",
   "execution_count": 79,
   "metadata": {},
   "outputs": [
    {
     "name": "stdout",
     "output_type": "stream",
     "text": [
      "(421528, 13) (180655, 13) (421528,) (180655,)\n"
     ]
    }
   ],
   "source": [
    "print(X_rplp_train.shape, X_rplp_test.shape, y_rplp_train.shape, y_rplp_test.shape)"
   ]
  },
  {
   "cell_type": "code",
   "execution_count": 80,
   "metadata": {},
   "outputs": [
    {
     "name": "stdout",
     "output_type": "stream",
     "text": [
      "Class 0: 363569\n",
      "Class 1: 238614\n",
      "Proportion: 1.52 : 1\n"
     ]
    },
    {
     "data": {
      "image/png": "[encoded data removed]",
      "text/plain": [
       "<Figure size 432x288 with 1 Axes>"
      ]
     },
     "metadata": {
      "needs_background": "light"
     },
     "output_type": "display_data"
    }
   ],
   "source": [
    "target_count = df_final_rplp.Category.value_counts()\n",
    "print('Class 0:', target_count[0])\n",
    "print('Class 1:', target_count[1])\n",
    "print('Proportion:', round(target_count[0] / target_count[1], 2), ': 1')\n",
    "\n",
    "target_count.plot(kind='bar', title='Count (target)');"
   ]
  },
  {
   "cell_type": "code",
   "execution_count": null,
   "metadata": {},
   "outputs": [],
   "source": []
  },
  {
   "cell_type": "code",
   "execution_count": 75,
   "metadata": {},
   "outputs": [
    {
     "name": "stdout",
     "output_type": "stream",
     "text": [
      "(80000, 13) (80000,)\n",
      "<class 'pandas.core.frame.DataFrame'> <class 'pandas.core.series.Series'>\n"
     ]
    }
   ],
   "source": [
    "from imblearn.under_sampling import RandomUnderSampler\n",
    "rus = RandomUnderSampler(random_state=0, sampling_strategy={\n",
    "        0: 40000,\n",
    "        1: 40000\n",
    "    })\n",
    "X_rplp_resampled, y_rplp_resampled = rus.fit_resample(X_rplp, y_rplp)\n",
    "print(X_rplp_resampled.shape, y_rplp_resampled.shape)\n",
    "print(type(X_rplp_resampled), type(y_rplp_resampled))"
   ]
  },
  {
   "cell_type": "code",
   "execution_count": 76,
   "metadata": {},
   "outputs": [],
   "source": [
    "X_rplp_scaled = normalizeData(X_rplp_resampled)"
   ]
  },
  {
   "cell_type": "code",
   "execution_count": 77,
   "metadata": {},
   "outputs": [
    {
     "name": "stdout",
     "output_type": "stream",
     "text": [
      " ====Start=======  SVM - 5 fold cross validation Linear Training Model (GFCCS)\n",
      " Start Time  2021-05-30 13:23:53.320487\n",
      "{'fit_time': array([123.87475443, 122.95491529, 123.24133015, 123.47197342,\n",
      "       122.81147885]), 'score_time': array([23.17909861, 22.96977186, 22.90721154, 23.00268936, 22.93012285]), 'test_accuracy': array([0.515625 , 0.5208125, 0.5175   , 0.523    , 0.5169375]), 'train_accuracy': array([0.51684375, 0.52103125, 0.522875  , 0.52101562, 0.523     ]), 'test_precision': array([0.51375743, 0.52038692, 0.51674241, 0.52143523, 0.5160526 ]), 'train_precision': array([0.51488704, 0.52040507, 0.5223375 , 0.51947977, 0.52164069]), 'test_recall': array([0.5835  , 0.53125 , 0.540125, 0.5595  , 0.5445  ]), 'train_recall': array([0.5825625 , 0.536375  , 0.53490625, 0.5604375 , 0.55440625])}\n",
      " ====End=======  SVM - 5 fold cross validation Linear Training Model (GFCCS)\n",
      " End Time  2021-05-30 13:43:45.362620\n",
      "SVM - 5 fold cross validation Linear Training Model (GFCCS) =====Total Time===== 0:19:52.042133\n"
     ]
    }
   ],
   "source": [
    "msg = \"SVM - 5 fold cross validation Linear Training Model (GFCCS)\"\n",
    "start_time = startTime(msg)\n",
    "\n",
    "svc=SVC(kernel='linear')\n",
    "scoring = [\"accuracy\", \"precision\", \"recall\"]\n",
    "# scores = cross_val_score(svc, X_scaled, y, cv=10, scoring=scoring) #cv is cross validation\n",
    "scores = cross_validate(svc, X_rplp_scaled, y_rplp_resampled, scoring=scoring, cv=5, return_train_score=True)\n",
    "print(scores)\n",
    "\n",
    "# end time\n",
    "end_time = endTime(msg)\n",
    "\n",
    "#total time\n",
    "totalTime(msg, start_time, end_time)"
   ]
  },
  {
   "cell_type": "code",
   "execution_count": 78,
   "metadata": {},
   "outputs": [
    {
     "name": "stdout",
     "output_type": "stream",
     "text": [
      "mean_test_accuracy  0.518775\n",
      "mean_test_precision  0.517674917370383\n",
      "mean_test_recall  0.5517749999999999\n"
     ]
    }
   ],
   "source": [
    "mean_test_accuracy = np.mean(scores['test_accuracy'])\n",
    "mean_test_precision = np.mean(scores['test_precision'])\n",
    "mean_test_recall = np.mean(scores['test_recall'])\n",
    "print(\"mean_test_accuracy \", mean_test_accuracy)\n",
    "print(\"mean_test_precision \", mean_test_precision)\n",
    "print(\"mean_test_recall \", mean_test_recall)"
   ]
  },
  {
   "cell_type": "code",
   "execution_count": null,
   "metadata": {},
   "outputs": [],
   "source": []
  },
  {
   "cell_type": "code",
   "execution_count": null,
   "metadata": {},
   "outputs": [
    {
     "name": "stdout",
     "output_type": "stream",
     "text": [
      " ====Start=======  SVM - 5 fold cross validation Linear Training Model (GFCCS)\n",
      " Start Time  2021-05-30 13:43:45.377187\n"
     ]
    }
   ],
   "source": [
    "msg = \"SVM - 5 fold cross validation Linear Training Model (GFCCS)\"\n",
    "start_time = startTime(msg)\n",
    "\n",
    "svc=SVC(kernel='rbf')\n",
    "scoring = [\"accuracy\", \"precision\", \"recall\"]\n",
    "# scores = cross_val_score(svc, X_scaled, y, cv=10, scoring=scoring) #cv is cross validation\n",
    "scores = cross_validate(svc, X_rplp_scaled, y_rplp_resampled, scoring=scoring, cv=5, return_train_score=True)\n",
    "print(scores)\n",
    "\n",
    "# end time\n",
    "end_time = endTime(msg)\n",
    "\n",
    "#total time\n",
    "totalTime(msg, start_time, end_time)"
   ]
  },
  {
   "cell_type": "code",
   "execution_count": null,
   "metadata": {},
   "outputs": [],
   "source": [
    "mean_test_accuracy = np.mean(scores['test_accuracy'])\n",
    "mean_test_precision = np.mean(scores['test_precision'])\n",
    "mean_test_recall = np.mean(scores['test_recall'])\n",
    "print(\"mean_test_accuracy \", mean_test_accuracy)\n",
    "print(\"mean_test_precision \", mean_test_precision)\n",
    "print(\"mean_test_recall \", mean_test_recall)"
   ]
  },
  {
   "cell_type": "code",
   "execution_count": null,
   "metadata": {},
   "outputs": [],
   "source": []
  },
  {
   "cell_type": "code",
   "execution_count": null,
   "metadata": {},
   "outputs": [],
   "source": []
  },
  {
   "cell_type": "code",
   "execution_count": 81,
   "metadata": {},
   "outputs": [],
   "source": [
    "seed = 7\n",
    "kfold = KFold(n_splits = 5, random_state = seed, shuffle = True)"
   ]
  },
  {
   "cell_type": "code",
   "execution_count": 82,
   "metadata": {},
   "outputs": [],
   "source": [
    "num_trees = 200\n",
    "max_features = 12"
   ]
  },
  {
   "cell_type": "code",
   "execution_count": 83,
   "metadata": {},
   "outputs": [],
   "source": [
    "model = ExtraTreesClassifier(n_estimators = num_trees, max_features = max_features)"
   ]
  },
  {
   "cell_type": "code",
   "execution_count": 84,
   "metadata": {},
   "outputs": [
    {
     "name": "stdout",
     "output_type": "stream",
     "text": [
      "(80000, 13) (80000,)\n",
      "<class 'pandas.core.frame.DataFrame'> <class 'pandas.core.series.Series'>\n"
     ]
    }
   ],
   "source": [
    "from imblearn.under_sampling import RandomUnderSampler\n",
    "rus = RandomUnderSampler(random_state=0, sampling_strategy={\n",
    "        0: 40000,\n",
    "        1: 40000\n",
    "    })\n",
    "X_rplp_resampled, y_rplp_resampled = rus.fit_resample(X_rplp, y_rplp)\n",
    "print(X_rplp_resampled.shape, y_rplp_resampled.shape)\n",
    "print(type(X_rplp_resampled), type(y_rplp_resampled))"
   ]
  },
  {
   "cell_type": "code",
   "execution_count": 85,
   "metadata": {},
   "outputs": [],
   "source": [
    "scaler = MinMaxScaler()\n",
    "scaler.fit(X_rplp_resampled)\n",
    "X_scaled = scaler.transform(X_rplp_resampled)"
   ]
  },
  {
   "cell_type": "code",
   "execution_count": 86,
   "metadata": {},
   "outputs": [
    {
     "name": "stdout",
     "output_type": "stream",
     "text": [
      " ====Start=======  Extra Tree Classifier\n",
      " Start Time  2021-05-30 14:26:41.742282\n",
      " ====End=======  Extra Tree Classifier\n",
      " End Time  2021-05-30 14:29:38.301989\n",
      "Extra Tree Classifier =====Total Time===== 0:02:56.559707\n"
     ]
    }
   ],
   "source": [
    "msg = \"Extra Tree Classifier\"\n",
    "start_time = startTime(msg)\n",
    "scoring = [\"accuracy\", \"precision\", \"recall\"]\n",
    "# results = cross_val_score(model, X_scaled, y, cv = kfold, scoring=scoring)\n",
    "results = cross_validate(model, X_scaled, y_rplp_resampled, scoring=scoring, cv=kfold, return_train_score=True)\n",
    "\n",
    "# print(results.mean())\n",
    "\n",
    "# end time\n",
    "end_time = endTime(msg)\n",
    "\n",
    "#total time\n",
    "totalTime(msg, start_time, end_time)"
   ]
  },
  {
   "cell_type": "code",
   "execution_count": 87,
   "metadata": {},
   "outputs": [
    {
     "name": "stdout",
     "output_type": "stream",
     "text": [
      "{'fit_time': array([30.51661325, 30.87605786, 30.82632637, 30.58109164, 30.45466542]), 'score_time': array([1.03168726, 1.02943397, 1.02597332, 1.02933025, 1.0397408 ]), 'test_accuracy': array([0.686125 , 0.694625 , 0.6886875, 0.6928125, 0.68425  ]), 'train_accuracy': array([0.999875  , 0.99979688, 0.9998125 , 0.99979688, 0.99984375]), 'test_precision': array([0.68126815, 0.68749242, 0.6844167 , 0.68694704, 0.67797426]), 'train_precision': array([0.99974992, 0.99959421, 0.99962521, 0.99959391, 0.99968749]), 'test_recall': array([0.70217012, 0.71041745, 0.69939955, 0.7085    , 0.70353264]), 'train_recall': array([1., 1., 1., 1., 1.])}\n"
     ]
    }
   ],
   "source": [
    "print(results)"
   ]
  },
  {
   "cell_type": "code",
   "execution_count": 88,
   "metadata": {},
   "outputs": [],
   "source": [
    "mean_test_accuracy = np.mean(results['test_accuracy'])\n",
    "mean_test_precision = np.mean(results['test_precision'])\n",
    "mean_test_recall = np.mean(results['test_recall'])"
   ]
  },
  {
   "cell_type": "code",
   "execution_count": 89,
   "metadata": {},
   "outputs": [
    {
     "name": "stdout",
     "output_type": "stream",
     "text": [
      "0.6893\n",
      "0.6836197120012069\n",
      "0.7048039519368208\n"
     ]
    }
   ],
   "source": [
    "print(mean_test_accuracy)\n",
    "print(mean_test_precision)\n",
    "print(mean_test_recall)"
   ]
  },
  {
   "cell_type": "code",
   "execution_count": null,
   "metadata": {},
   "outputs": [],
   "source": []
  },
  {
   "cell_type": "code",
   "execution_count": null,
   "metadata": {},
   "outputs": [],
   "source": []
  },
  {
   "cell_type": "code",
   "execution_count": 94,
   "metadata": {},
   "outputs": [
    {
     "name": "stdout",
     "output_type": "stream",
     "text": [
      "Model: \"sequential_1\"\n",
      "_________________________________________________________________\n",
      "Layer (type)                 Output Shape              Param #   \n",
      "=================================================================\n",
      "conv1d (Conv1D)              (None, 11, 128)           512       \n",
      "_________________________________________________________________\n",
      "max_pooling1d (MaxPooling1D) (None, 5, 128)            0         \n",
      "_________________________________________________________________\n",
      "conv1d_1 (Conv1D)            (None, 5, 128)            49280     \n",
      "_________________________________________________________________\n",
      "max_pooling1d_1 (MaxPooling1 (None, 2, 128)            0         \n",
      "_________________________________________________________________\n",
      "conv1d_2 (Conv1D)            (None, 2, 128)            49280     \n",
      "_________________________________________________________________\n",
      "max_pooling1d_2 (MaxPooling1 (None, 1, 128)            0         \n",
      "_________________________________________________________________\n",
      "dropout (Dropout)            (None, 1, 128)            0         \n",
      "_________________________________________________________________\n",
      "flatten (Flatten)            (None, 128)               0         \n",
      "_________________________________________________________________\n",
      "dense (Dense)                (None, 128)               16512     \n",
      "_________________________________________________________________\n",
      "dense_1 (Dense)              (None, 1)                 129       \n",
      "=================================================================\n",
      "Total params: 115,713\n",
      "Trainable params: 115,713\n",
      "Non-trainable params: 0\n",
      "_________________________________________________________________\n"
     ]
    }
   ],
   "source": [
    "import keras_metrics\n",
    "dense_layer = 1\n",
    "layer_size = 128\n",
    "conv_layer = 3\n",
    "\n",
    "model = Sequential()\n",
    "model.add(Conv1D(layer_size, kernel_size=3, strides=1, padding='valid', activation='relu', input_shape=(13, 1)))\n",
    "model.add(MaxPool1D())\n",
    "\n",
    "for l in range(conv_layer-1):\n",
    "    model.add(Conv1D(layer_size, 3, padding=\"same\", activation=\"relu\"))\n",
    "    model.add(MaxPool1D())\n",
    "\n",
    "model.add(Dropout(0.4))\n",
    "\n",
    "model.add(Flatten())\n",
    "\n",
    "for d in range(dense_layer):\n",
    "    model.add(Dense(layer_size,activation=\"relu\"))\n",
    "\n",
    "model.add(Dense(1, activation=\"sigmoid\"))\n",
    "\n",
    "model.summary()\n",
    "\n",
    "opt = SGD(lr=0.01)\n",
    "model.compile(loss = \"binary_crossentropy\", optimizer = opt, metrics=['accuracy', keras_metrics.precision(), keras_metrics.recall()])"
   ]
  },
  {
   "cell_type": "code",
   "execution_count": 95,
   "metadata": {},
   "outputs": [
    {
     "name": "stdout",
     "output_type": "stream",
     "text": [
      "(602183, 13) (602183,)\n",
      "<class 'numpy.ndarray'> <class 'numpy.ndarray'>\n"
     ]
    }
   ],
   "source": [
    "X_rplp_cv = X_rplp.copy()\n",
    "y_rplp_cv = y_rplp.copy()\n",
    "print(X_rplp_cv.shape, y_rplp_cv.shape)\n",
    "\n",
    "X_rplp_cv = np.array(X_rplp_cv)\n",
    "y_rplp_cv = np.array(y_rplp_cv)\n",
    "print(type(X_rplp_cv), type(y_rplp_cv))"
   ]
  },
  {
   "cell_type": "code",
   "execution_count": 96,
   "metadata": {},
   "outputs": [
    {
     "name": "stdout",
     "output_type": "stream",
     "text": [
      "****Modelling Starts*****\n",
      "Epoch 1/20\n",
      "WARNING:tensorflow:`add_update` `inputs` kwarg has been deprecated. You no longer need to pass a value to `inputs` as it is being automatically inferred.\n",
      "WARNING:tensorflow:`add_update` `inputs` kwarg has been deprecated. You no longer need to pass a value to `inputs` as it is being automatically inferred.\n",
      "WARNING:tensorflow:`add_update` `inputs` kwarg has been deprecated. You no longer need to pass a value to `inputs` as it is being automatically inferred.\n",
      "WARNING:tensorflow:`add_update` `inputs` kwarg has been deprecated. You no longer need to pass a value to `inputs` as it is being automatically inferred.\n"
     ]
    },
    {
     "name": "stderr",
     "output_type": "stream",
     "text": [
      "/opt/conda/lib/python3.7/site-packages/tensorflow/python/keras/engine/base_layer.py:1402: UserWarning: `layer.updates` will be removed in a future version. This property should not be used in TensorFlow 2.0, as `updates` are applied automatically.\n",
      "  warnings.warn('`layer.updates` will be removed in a future version. '\n"
     ]
    },
    {
     "name": "stdout",
     "output_type": "stream",
     "text": [
      "WARNING:tensorflow:`add_update` `inputs` kwarg has been deprecated. You no longer need to pass a value to `inputs` as it is being automatically inferred.\n",
      "WARNING:tensorflow:`add_update` `inputs` kwarg has been deprecated. You no longer need to pass a value to `inputs` as it is being automatically inferred.\n",
      "WARNING:tensorflow:`add_update` `inputs` kwarg has been deprecated. You no longer need to pass a value to `inputs` as it is being automatically inferred.\n",
      "WARNING:tensorflow:`add_update` `inputs` kwarg has been deprecated. You no longer need to pass a value to `inputs` as it is being automatically inferred.\n",
      "11931/11931 [==============================] - ETA: 0s - loss: 0.6930 - accuracy: 0.5083 - precision: 0.5068 - recall: 0.5642WARNING:tensorflow:`add_update` `inputs` kwarg has been deprecated. You no longer need to pass a value to `inputs` as it is being automatically inferred.\n",
      "WARNING:tensorflow:`add_update` `inputs` kwarg has been deprecated. You no longer need to pass a value to `inputs` as it is being automatically inferred.\n",
      "WARNING:tensorflow:`add_update` `inputs` kwarg has been deprecated. You no longer need to pass a value to `inputs` as it is being automatically inferred.\n",
      "WARNING:tensorflow:`add_update` `inputs` kwarg has been deprecated. You no longer need to pass a value to `inputs` as it is being automatically inferred.\n",
      "11931/11931 [==============================] - 62s 4ms/step - loss: 0.6930 - accuracy: 0.5083 - precision: 0.5068 - recall: 0.5642 - val_loss: 0.6920 - val_accuracy: 0.5252 - val_precision: 0.2017 - val_recall: 0.4269\n",
      "Epoch 2/20\n",
      "11931/11931 [==============================] - 48s 4ms/step - loss: 0.6911 - accuracy: 0.5330 - precision: 0.5277 - recall: 0.5830 - val_loss: 0.6919 - val_accuracy: 0.5017 - val_precision: 0.1984 - val_recall: 0.4965\n",
      "Epoch 3/20\n",
      "11931/11931 [==============================] - 48s 4ms/step - loss: 0.6846 - accuracy: 0.5525 - precision: 0.5410 - recall: 0.6060 - val_loss: 0.6565 - val_accuracy: 0.6166 - val_precision: 0.2552 - val_recall: 0.1141\n",
      "Epoch 4/20\n",
      "11931/11931 [==============================] - 48s 4ms/step - loss: 0.6769 - accuracy: 0.5713 - precision: 0.5591 - recall: 0.6490 - val_loss: 0.6746 - val_accuracy: 0.5621 - val_precision: 0.2169 - val_recall: 0.4440\n",
      "Epoch 5/20\n",
      "11931/11931 [==============================] - 47s 4ms/step - loss: 0.6690 - accuracy: 0.5895 - precision: 0.5792 - recall: 0.6632 - val_loss: 0.6460 - val_accuracy: 0.6211 - val_precision: 0.2523 - val_recall: 0.2278\n",
      "Epoch 6/20\n",
      "11931/11931 [==============================] - 47s 4ms/step - loss: 0.6642 - accuracy: 0.5974 - precision: 0.5836 - recall: 0.6596 - val_loss: 0.6483 - val_accuracy: 0.6151 - val_precision: 0.2433 - val_recall: 0.3222\n",
      "Epoch 7/20\n",
      "11931/11931 [==============================] - 47s 4ms/step - loss: 0.6585 - accuracy: 0.6059 - precision: 0.5956 - recall: 0.6708 - val_loss: 0.6444 - val_accuracy: 0.6193 - val_precision: 0.2454 - val_recall: 0.3278\n",
      "Epoch 8/20\n",
      "11931/11931 [==============================] - 47s 4ms/step - loss: 0.6544 - accuracy: 0.6113 - precision: 0.5979 - recall: 0.6694 - val_loss: 0.6374 - val_accuracy: 0.6273 - val_precision: 0.2508 - val_recall: 0.3236\n",
      "Epoch 9/20\n",
      "11931/11931 [==============================] - 47s 4ms/step - loss: 0.6502 - accuracy: 0.6155 - precision: 0.6037 - recall: 0.6737 - val_loss: 0.6308 - val_accuracy: 0.6341 - val_precision: 0.2580 - val_recall: 0.2947\n",
      "Epoch 10/20\n",
      "11931/11931 [==============================] - 48s 4ms/step - loss: 0.6479 - accuracy: 0.6182 - precision: 0.6060 - recall: 0.6666 - val_loss: 0.6273 - val_accuracy: 0.6374 - val_precision: 0.2606 - val_recall: 0.2910\n",
      "Epoch 11/20\n",
      "11931/11931 [==============================] - 47s 4ms/step - loss: 0.6446 - accuracy: 0.6216 - precision: 0.6094 - recall: 0.6860 - val_loss: 0.6257 - val_accuracy: 0.6402 - val_precision: 0.2784 - val_recall: 0.2012\n",
      "Epoch 12/20\n",
      "11931/11931 [==============================] - 47s 4ms/step - loss: 0.6411 - accuracy: 0.6246 - precision: 0.6126 - recall: 0.6831 - val_loss: 0.6288 - val_accuracy: 0.6328 - val_precision: 0.2533 - val_recall: 0.3414\n",
      "Epoch 13/20\n",
      "11931/11931 [==============================] - 47s 4ms/step - loss: 0.6404 - accuracy: 0.6271 - precision: 0.6125 - recall: 0.6804 - val_loss: 0.6198 - val_accuracy: 0.6454 - val_precision: 0.2717 - val_recall: 0.2666\n",
      "Epoch 14/20\n",
      "11931/11931 [==============================] - 47s 4ms/step - loss: 0.6386 - accuracy: 0.6293 - precision: 0.6151 - recall: 0.6835 - val_loss: 0.6341 - val_accuracy: 0.6240 - val_precision: 0.2469 - val_recall: 0.4019\n",
      "Epoch 15/20\n",
      "11931/11931 [==============================] - 47s 4ms/step - loss: 0.6354 - accuracy: 0.6324 - precision: 0.6172 - recall: 0.6816 - val_loss: 0.6182 - val_accuracy: 0.6465 - val_precision: 0.2678 - val_recall: 0.3104\n",
      "Epoch 16/20\n",
      "11931/11931 [==============================] - 47s 4ms/step - loss: 0.6338 - accuracy: 0.6349 - precision: 0.6219 - recall: 0.6866 - val_loss: 0.6195 - val_accuracy: 0.6415 - val_precision: 0.2603 - val_recall: 0.3400\n",
      "Epoch 17/20\n",
      "11931/11931 [==============================] - 47s 4ms/step - loss: 0.6306 - accuracy: 0.6384 - precision: 0.6266 - recall: 0.6954 - val_loss: 0.6315 - val_accuracy: 0.6275 - val_precision: 0.2484 - val_recall: 0.4083\n",
      "Epoch 18/20\n",
      "11931/11931 [==============================] - 47s 4ms/step - loss: 0.6290 - accuracy: 0.6381 - precision: 0.6257 - recall: 0.6848 - val_loss: 0.6200 - val_accuracy: 0.6410 - val_precision: 0.2597 - val_recall: 0.3537\n",
      "Epoch 19/20\n",
      "11931/11931 [==============================] - 47s 4ms/step - loss: 0.6273 - accuracy: 0.6408 - precision: 0.6292 - recall: 0.6881 - val_loss: 0.6249 - val_accuracy: 0.6347 - val_precision: 0.2534 - val_recall: 0.3950\n",
      "Epoch 20/20\n",
      "11931/11931 [==============================] - 47s 4ms/step - loss: 0.6259 - accuracy: 0.6420 - precision: 0.6279 - recall: 0.6889 - val_loss: 0.6087 - val_accuracy: 0.6567 - val_precision: 0.2831 - val_recall: 0.2723\n",
      "****Modelling Starts*****\n",
      "Epoch 1/20\n",
      "11931/11931 [==============================] - 47s 4ms/step - loss: 0.6262 - accuracy: 0.6411 - precision: 0.6281 - recall: 0.6826 - val_loss: 0.6305 - val_accuracy: 0.6340 - val_precision: 0.2549 - val_recall: 0.3690\n",
      "Epoch 2/20\n",
      "11931/11931 [==============================] - 47s 4ms/step - loss: 0.6234 - accuracy: 0.6440 - precision: 0.6323 - recall: 0.6869 - val_loss: 0.6846 - val_accuracy: 0.5893 - val_precision: 0.2305 - val_recall: 0.4877\n",
      "Epoch 3/20\n",
      "11931/11931 [==============================] - 47s 4ms/step - loss: 0.6210 - accuracy: 0.6463 - precision: 0.6359 - recall: 0.6852 - val_loss: 0.6625 - val_accuracy: 0.6092 - val_precision: 0.2394 - val_recall: 0.4372\n",
      "Epoch 4/20\n",
      "11931/11931 [==============================] - 47s 4ms/step - loss: 0.6190 - accuracy: 0.6488 - precision: 0.6374 - recall: 0.6870 - val_loss: 0.6507 - val_accuracy: 0.6206 - val_precision: 0.2457 - val_recall: 0.4154\n",
      "Epoch 5/20\n",
      "11931/11931 [==============================] - 47s 4ms/step - loss: 0.6172 - accuracy: 0.6498 - precision: 0.6408 - recall: 0.6816 - val_loss: 0.6637 - val_accuracy: 0.6024 - val_precision: 0.2364 - val_recall: 0.4644\n",
      "Epoch 6/20\n",
      "11931/11931 [==============================] - 47s 4ms/step - loss: 0.6151 - accuracy: 0.6521 - precision: 0.6421 - recall: 0.6823 - val_loss: 0.6501 - val_accuracy: 0.6254 - val_precision: 0.2486 - val_recall: 0.3991\n",
      "Epoch 7/20\n",
      "11931/11931 [==============================] - 47s 4ms/step - loss: 0.6143 - accuracy: 0.6522 - precision: 0.6457 - recall: 0.6844 - val_loss: 0.6514 - val_accuracy: 0.6195 - val_precision: 0.2449 - val_recall: 0.4240\n",
      "Epoch 8/20\n",
      "11931/11931 [==============================] - 46s 4ms/step - loss: 0.6123 - accuracy: 0.6555 - precision: 0.6475 - recall: 0.6849 - val_loss: 0.6723 - val_accuracy: 0.6137 - val_precision: 0.2422 - val_recall: 0.4275\n",
      "Epoch 9/20\n",
      "11931/11931 [==============================] - 46s 4ms/step - loss: 0.6110 - accuracy: 0.6568 - precision: 0.6478 - recall: 0.6880 - val_loss: 0.6745 - val_accuracy: 0.6107 - val_precision: 0.2404 - val_recall: 0.4521\n",
      "Epoch 10/20\n",
      "11931/11931 [==============================] - 46s 4ms/step - loss: 0.6096 - accuracy: 0.6571 - precision: 0.6502 - recall: 0.6882 - val_loss: 0.6738 - val_accuracy: 0.6120 - val_precision: 0.2408 - val_recall: 0.4260\n"
     ]
    },
    {
     "name": "stdout",
     "output_type": "stream",
     "text": [
      "Epoch 11/20\n",
      "11931/11931 [==============================] - 46s 4ms/step - loss: 0.6083 - accuracy: 0.6588 - precision: 0.6511 - recall: 0.6869 - val_loss: 0.6494 - val_accuracy: 0.6255 - val_precision: 0.2487 - val_recall: 0.4036\n",
      "Epoch 12/20\n",
      "11931/11931 [==============================] - 46s 4ms/step - loss: 0.6067 - accuracy: 0.6601 - precision: 0.6525 - recall: 0.6922 - val_loss: 0.7411 - val_accuracy: 0.5818 - val_precision: 0.2279 - val_recall: 0.5017\n",
      "Epoch 13/20\n",
      "11931/11931 [==============================] - 46s 4ms/step - loss: 0.6053 - accuracy: 0.6621 - precision: 0.6551 - recall: 0.6875 - val_loss: 0.6834 - val_accuracy: 0.6110 - val_precision: 0.2407 - val_recall: 0.4387\n",
      "Epoch 14/20\n",
      "11931/11931 [==============================] - 46s 4ms/step - loss: 0.6047 - accuracy: 0.6625 - precision: 0.6538 - recall: 0.6872 - val_loss: 0.7382 - val_accuracy: 0.5818 - val_precision: 0.2281 - val_recall: 0.5035\n",
      "Epoch 15/20\n",
      "11931/11931 [==============================] - 46s 4ms/step - loss: 0.6029 - accuracy: 0.6634 - precision: 0.6566 - recall: 0.6860 - val_loss: 0.6767 - val_accuracy: 0.6134 - val_precision: 0.2418 - val_recall: 0.4380\n",
      "Epoch 16/20\n",
      "11931/11931 [==============================] - 47s 4ms/step - loss: 0.6018 - accuracy: 0.6649 - precision: 0.6591 - recall: 0.6858 - val_loss: 0.7599 - val_accuracy: 0.5788 - val_precision: 0.2264 - val_recall: 0.4984\n",
      "Epoch 17/20\n",
      "11931/11931 [==============================] - 47s 4ms/step - loss: 0.6005 - accuracy: 0.6659 - precision: 0.6578 - recall: 0.6867 - val_loss: 0.7482 - val_accuracy: 0.5882 - val_precision: 0.2306 - val_recall: 0.4866\n",
      "Epoch 18/20\n",
      "11931/11931 [==============================] - 46s 4ms/step - loss: 0.5997 - accuracy: 0.6660 - precision: 0.6589 - recall: 0.6883 - val_loss: 0.7520 - val_accuracy: 0.5852 - val_precision: 0.2291 - val_recall: 0.4676\n",
      "Epoch 19/20\n",
      "11931/11931 [==============================] - 46s 4ms/step - loss: 0.5983 - accuracy: 0.6680 - precision: 0.6629 - recall: 0.6899 - val_loss: 0.7287 - val_accuracy: 0.5965 - val_precision: 0.2339 - val_recall: 0.4688\n",
      "Epoch 20/20\n",
      "11931/11931 [==============================] - 46s 4ms/step - loss: 0.5978 - accuracy: 0.6682 - precision: 0.6620 - recall: 0.6849 - val_loss: 0.6853 - val_accuracy: 0.6200 - val_precision: 0.2448 - val_recall: 0.4232\n",
      "****Modelling Starts*****\n",
      "Epoch 1/20\n",
      "11931/11931 [==============================] - 46s 4ms/step - loss: 0.6043 - accuracy: 0.6621 - precision: 0.6523 - recall: 0.6838 - val_loss: 0.6026 - val_accuracy: 0.6602 - val_precision: 0.2683 - val_recall: 0.4055\n",
      "Epoch 2/20\n",
      "11931/11931 [==============================] - 46s 4ms/step - loss: 0.6009 - accuracy: 0.6649 - precision: 0.6561 - recall: 0.6888 - val_loss: 0.5967 - val_accuracy: 0.6678 - val_precision: 0.2750 - val_recall: 0.3942\n",
      "Epoch 3/20\n",
      "11931/11931 [==============================] - 47s 4ms/step - loss: 0.5996 - accuracy: 0.6666 - precision: 0.6592 - recall: 0.6876 - val_loss: 0.5857 - val_accuracy: 0.6788 - val_precision: 0.3002 - val_recall: 0.3020\n",
      "Epoch 4/20\n",
      "11931/11931 [==============================] - 46s 4ms/step - loss: 0.5982 - accuracy: 0.6673 - precision: 0.6605 - recall: 0.6916 - val_loss: 0.5913 - val_accuracy: 0.6724 - val_precision: 0.2888 - val_recall: 0.3299\n",
      "Epoch 5/20\n",
      "11931/11931 [==============================] - 46s 4ms/step - loss: 0.5972 - accuracy: 0.6686 - precision: 0.6613 - recall: 0.6890 - val_loss: 0.5913 - val_accuracy: 0.6718 - val_precision: 0.2813 - val_recall: 0.3648\n",
      "Epoch 6/20\n",
      "11931/11931 [==============================] - 46s 4ms/step - loss: 0.5960 - accuracy: 0.6700 - precision: 0.6650 - recall: 0.6872 - val_loss: 0.5870 - val_accuracy: 0.6765 - val_precision: 0.2939 - val_recall: 0.3159\n",
      "Epoch 7/20\n",
      "11931/11931 [==============================] - 46s 4ms/step - loss: 0.5949 - accuracy: 0.6706 - precision: 0.6648 - recall: 0.6929 - val_loss: 0.5947 - val_accuracy: 0.6693 - val_precision: 0.2775 - val_recall: 0.3814\n",
      "Epoch 8/20\n",
      "11931/11931 [==============================] - 46s 4ms/step - loss: 0.5937 - accuracy: 0.6725 - precision: 0.6653 - recall: 0.6950 - val_loss: 0.5918 - val_accuracy: 0.6722 - val_precision: 0.2803 - val_recall: 0.3683\n",
      "Epoch 9/20\n",
      "11931/11931 [==============================] - 45s 4ms/step - loss: 0.5927 - accuracy: 0.6728 - precision: 0.6663 - recall: 0.6911 - val_loss: 0.5926 - val_accuracy: 0.6718 - val_precision: 0.2805 - val_recall: 0.3680\n",
      "Epoch 10/20\n",
      "11931/11931 [==============================] - 46s 4ms/step - loss: 0.5919 - accuracy: 0.6731 - precision: 0.6672 - recall: 0.6866 - val_loss: 0.5964 - val_accuracy: 0.6700 - val_precision: 0.2768 - val_recall: 0.3799\n",
      "Epoch 11/20\n",
      "11931/11931 [==============================] - 45s 4ms/step - loss: 0.5908 - accuracy: 0.6747 - precision: 0.6689 - recall: 0.6932 - val_loss: 0.5867 - val_accuracy: 0.6781 - val_precision: 0.2968 - val_recall: 0.3190\n",
      "Epoch 12/20\n",
      "11931/11931 [==============================] - 45s 4ms/step - loss: 0.5900 - accuracy: 0.6751 - precision: 0.6680 - recall: 0.6925 - val_loss: 0.5986 - val_accuracy: 0.6664 - val_precision: 0.2776 - val_recall: 0.3657\n",
      "Epoch 13/20\n",
      "11931/11931 [==============================] - 45s 4ms/step - loss: 0.5888 - accuracy: 0.6765 - precision: 0.6707 - recall: 0.6917 - val_loss: 0.5810 - val_accuracy: 0.6810 - val_precision: 0.2913 - val_recall: 0.3508\n",
      "Epoch 14/20\n",
      "11931/11931 [==============================] - 45s 4ms/step - loss: 0.5882 - accuracy: 0.6764 - precision: 0.6700 - recall: 0.6935 - val_loss: 0.5964 - val_accuracy: 0.6659 - val_precision: 0.2753 - val_recall: 0.3826\n",
      "Epoch 15/20\n",
      "11931/11931 [==============================] - 45s 4ms/step - loss: 0.5873 - accuracy: 0.6780 - precision: 0.6733 - recall: 0.6959 - val_loss: 0.6005 - val_accuracy: 0.6642 - val_precision: 0.2696 - val_recall: 0.4273\n",
      "Epoch 16/20\n",
      "11931/11931 [==============================] - 45s 4ms/step - loss: 0.5865 - accuracy: 0.6770 - precision: 0.6712 - recall: 0.6950 - val_loss: 0.5961 - val_accuracy: 0.6684 - val_precision: 0.2809 - val_recall: 0.3540\n",
      "Epoch 17/20\n",
      "11931/11931 [==============================] - 45s 4ms/step - loss: 0.5859 - accuracy: 0.6783 - precision: 0.6732 - recall: 0.6952 - val_loss: 0.5961 - val_accuracy: 0.6686 - val_precision: 0.2799 - val_recall: 0.3676\n",
      "Epoch 18/20\n",
      "11931/11931 [==============================] - 44s 4ms/step - loss: 0.5849 - accuracy: 0.6791 - precision: 0.6738 - recall: 0.6949 - val_loss: 0.5999 - val_accuracy: 0.6666 - val_precision: 0.2732 - val_recall: 0.4055\n",
      "Epoch 19/20\n",
      "11931/11931 [==============================] - 44s 4ms/step - loss: 0.5846 - accuracy: 0.6803 - precision: 0.6740 - recall: 0.6931 - val_loss: 0.5966 - val_accuracy: 0.6664 - val_precision: 0.2758 - val_recall: 0.3809\n",
      "Epoch 20/20\n",
      "11931/11931 [==============================] - 44s 4ms/step - loss: 0.5833 - accuracy: 0.6801 - precision: 0.6762 - recall: 0.6955 - val_loss: 0.5909 - val_accuracy: 0.6743 - val_precision: 0.2863 - val_recall: 0.3520\n",
      "****Modelling Starts*****\n",
      "Epoch 1/20\n",
      "11931/11931 [==============================] - 44s 4ms/step - loss: 0.5898 - accuracy: 0.6745 - precision: 0.6675 - recall: 0.6909 - val_loss: 0.6833 - val_accuracy: 0.6187 - val_precision: 0.2421 - val_recall: 0.4446\n",
      "Epoch 2/20\n",
      "11931/11931 [==============================] - 44s 4ms/step - loss: 0.5878 - accuracy: 0.6766 - precision: 0.6714 - recall: 0.6951 - val_loss: 0.7409 - val_accuracy: 0.6004 - val_precision: 0.2334 - val_recall: 0.4626\n",
      "Epoch 3/20\n",
      "11931/11931 [==============================] - 44s 4ms/step - loss: 0.5863 - accuracy: 0.6786 - precision: 0.6735 - recall: 0.6962 - val_loss: 0.7444 - val_accuracy: 0.5950 - val_precision: 0.2307 - val_recall: 0.4715\n",
      "Epoch 4/20\n",
      "11931/11931 [==============================] - 45s 4ms/step - loss: 0.5845 - accuracy: 0.6791 - precision: 0.6745 - recall: 0.6955 - val_loss: 0.7571 - val_accuracy: 0.5891 - val_precision: 0.2294 - val_recall: 0.5003\n",
      "Epoch 5/20\n",
      "11931/11931 [==============================] - 44s 4ms/step - loss: 0.5841 - accuracy: 0.6799 - precision: 0.6731 - recall: 0.6952 - val_loss: 0.6959 - val_accuracy: 0.6143 - val_precision: 0.2403 - val_recall: 0.4289\n",
      "Epoch 6/20\n",
      "11931/11931 [==============================] - 44s 4ms/step - loss: 0.5831 - accuracy: 0.6803 - precision: 0.6757 - recall: 0.6907 - val_loss: 0.6984 - val_accuracy: 0.6194 - val_precision: 0.2430 - val_recall: 0.4257\n",
      "Epoch 7/20\n",
      "11931/11931 [==============================] - 44s 4ms/step - loss: 0.5818 - accuracy: 0.6816 - precision: 0.6750 - recall: 0.6994 - val_loss: 0.7639 - val_accuracy: 0.5893 - val_precision: 0.2289 - val_recall: 0.4873\n",
      "Epoch 8/20\n",
      "11931/11931 [==============================] - 44s 4ms/step - loss: 0.5817 - accuracy: 0.6822 - precision: 0.6774 - recall: 0.6984 - val_loss: 0.7490 - val_accuracy: 0.5980 - val_precision: 0.2327 - val_recall: 0.4609\n",
      "Epoch 9/20\n",
      "11931/11931 [==============================] - 44s 4ms/step - loss: 0.5806 - accuracy: 0.6828 - precision: 0.6787 - recall: 0.6981 - val_loss: 0.7653 - val_accuracy: 0.5893 - val_precision: 0.2286 - val_recall: 0.4735\n",
      "Epoch 10/20\n",
      "11931/11931 [==============================] - 44s 4ms/step - loss: 0.5794 - accuracy: 0.6835 - precision: 0.6786 - recall: 0.6976 - val_loss: 0.7389 - val_accuracy: 0.6016 - val_precision: 0.2340 - val_recall: 0.4471\n",
      "Epoch 11/20\n",
      "11931/11931 [==============================] - 44s 4ms/step - loss: 0.5787 - accuracy: 0.6846 - precision: 0.6801 - recall: 0.7009 - val_loss: 0.7669 - val_accuracy: 0.5895 - val_precision: 0.2291 - val_recall: 0.4692\n",
      "Epoch 12/20\n",
      "11931/11931 [==============================] - 43s 4ms/step - loss: 0.5780 - accuracy: 0.6849 - precision: 0.6811 - recall: 0.7001 - val_loss: 0.7465 - val_accuracy: 0.5948 - val_precision: 0.2313 - val_recall: 0.4737\n",
      "Epoch 13/20\n",
      "11931/11931 [==============================] - 44s 4ms/step - loss: 0.5776 - accuracy: 0.6853 - precision: 0.6800 - recall: 0.7017 - val_loss: 0.7896 - val_accuracy: 0.5868 - val_precision: 0.2279 - val_recall: 0.4832\n",
      "Epoch 14/20\n",
      "11931/11931 [==============================] - 44s 4ms/step - loss: 0.5765 - accuracy: 0.6860 - precision: 0.6817 - recall: 0.6969 - val_loss: 0.8341 - val_accuracy: 0.5669 - val_precision: 0.2208 - val_recall: 0.5161\n",
      "Epoch 15/20\n",
      "11931/11931 [==============================] - 43s 4ms/step - loss: 0.5759 - accuracy: 0.6868 - precision: 0.6827 - recall: 0.7029 - val_loss: 0.7844 - val_accuracy: 0.5853 - val_precision: 0.2271 - val_recall: 0.4792\n",
      "Epoch 16/20\n",
      "11931/11931 [==============================] - 44s 4ms/step - loss: 0.5757 - accuracy: 0.6870 - precision: 0.6829 - recall: 0.7004 - val_loss: 0.7420 - val_accuracy: 0.5991 - val_precision: 0.2330 - val_recall: 0.4565\n",
      "Epoch 17/20\n",
      "11931/11931 [==============================] - 44s 4ms/step - loss: 0.5746 - accuracy: 0.6877 - precision: 0.6833 - recall: 0.6958 - val_loss: 0.7638 - val_accuracy: 0.5975 - val_precision: 0.2324 - val_recall: 0.4519\n",
      "Epoch 18/20\n",
      "11931/11931 [==============================] - 44s 4ms/step - loss: 0.5731 - accuracy: 0.6890 - precision: 0.6856 - recall: 0.7009 - val_loss: 0.8184 - val_accuracy: 0.5716 - val_precision: 0.2221 - val_recall: 0.4948\n",
      "Epoch 19/20\n",
      "11931/11931 [==============================] - 44s 4ms/step - loss: 0.5731 - accuracy: 0.6886 - precision: 0.6850 - recall: 0.6993 - val_loss: 0.7556 - val_accuracy: 0.5961 - val_precision: 0.2316 - val_recall: 0.4608\n",
      "Epoch 20/20\n",
      "11931/11931 [==============================] - 44s 4ms/step - loss: 0.5725 - accuracy: 0.6896 - precision: 0.6859 - recall: 0.7023 - val_loss: 0.8145 - val_accuracy: 0.5784 - val_precision: 0.2247 - val_recall: 0.4916\n",
      "****Modelling Starts*****\n",
      "Epoch 1/20\n",
      "11931/11931 [==============================] - 44s 4ms/step - loss: 0.5834 - accuracy: 0.6802 - precision: 0.6726 - recall: 0.6927 - val_loss: 0.6100 - val_accuracy: 0.6610 - val_precision: 0.2691 - val_recall: 0.4120\n",
      "Epoch 2/20\n",
      "11931/11931 [==============================] - 43s 4ms/step - loss: 0.5789 - accuracy: 0.6836 - precision: 0.6805 - recall: 0.6927 - val_loss: 0.6210 - val_accuracy: 0.6536 - val_precision: 0.2638 - val_recall: 0.4360\n",
      "Epoch 3/20\n",
      "11931/11931 [==============================] - 44s 4ms/step - loss: 0.5763 - accuracy: 0.6863 - precision: 0.6829 - recall: 0.6990 - val_loss: 0.6284 - val_accuracy: 0.6460 - val_precision: 0.2585 - val_recall: 0.4566\n",
      "Epoch 4/20\n",
      "11931/11931 [==============================] - 43s 4ms/step - loss: 0.5750 - accuracy: 0.6872 - precision: 0.6837 - recall: 0.7007 - val_loss: 0.6355 - val_accuracy: 0.6440 - val_precision: 0.2577 - val_recall: 0.4357\n",
      "Epoch 5/20\n",
      "11931/11931 [==============================] - 44s 4ms/step - loss: 0.5741 - accuracy: 0.6881 - precision: 0.6845 - recall: 0.7008 - val_loss: 0.6168 - val_accuracy: 0.6562 - val_precision: 0.2668 - val_recall: 0.4213\n",
      "Epoch 6/20\n",
      "11931/11931 [==============================] - 44s 4ms/step - loss: 0.5727 - accuracy: 0.6888 - precision: 0.6848 - recall: 0.7001 - val_loss: 0.6261 - val_accuracy: 0.6531 - val_precision: 0.2635 - val_recall: 0.4135\n",
      "Epoch 7/20\n",
      "11931/11931 [==============================] - 43s 4ms/step - loss: 0.5717 - accuracy: 0.6897 - precision: 0.6867 - recall: 0.6998 - val_loss: 0.6226 - val_accuracy: 0.6509 - val_precision: 0.2622 - val_recall: 0.4255\n",
      "Epoch 8/20\n",
      "11931/11931 [==============================] - 44s 4ms/step - loss: 0.5708 - accuracy: 0.6910 - precision: 0.6884 - recall: 0.7051 - val_loss: 0.6261 - val_accuracy: 0.6516 - val_precision: 0.2624 - val_recall: 0.4263\n",
      "Epoch 9/20\n",
      "11931/11931 [==============================] - 43s 4ms/step - loss: 0.5704 - accuracy: 0.6909 - precision: 0.6883 - recall: 0.6997 - val_loss: 0.6400 - val_accuracy: 0.6425 - val_precision: 0.2560 - val_recall: 0.4482\n",
      "Epoch 10/20\n",
      "11931/11931 [==============================] - 43s 4ms/step - loss: 0.5697 - accuracy: 0.6915 - precision: 0.6881 - recall: 0.7042 - val_loss: 0.6372 - val_accuracy: 0.6385 - val_precision: 0.2542 - val_recall: 0.4467\n",
      "Epoch 11/20\n",
      "11931/11931 [==============================] - 44s 4ms/step - loss: 0.5681 - accuracy: 0.6931 - precision: 0.6895 - recall: 0.7032 - val_loss: 0.6582 - val_accuracy: 0.6344 - val_precision: 0.2521 - val_recall: 0.4449\n",
      "Epoch 12/20\n",
      "11931/11931 [==============================] - 44s 4ms/step - loss: 0.5681 - accuracy: 0.6924 - precision: 0.6907 - recall: 0.7005 - val_loss: 0.6481 - val_accuracy: 0.6387 - val_precision: 0.2549 - val_recall: 0.4491\n",
      "Epoch 13/20\n",
      "11931/11931 [==============================] - 43s 4ms/step - loss: 0.5670 - accuracy: 0.6942 - precision: 0.6924 - recall: 0.7062 - val_loss: 0.6370 - val_accuracy: 0.6448 - val_precision: 0.2586 - val_recall: 0.4235\n",
      "Epoch 14/20\n",
      "11931/11931 [==============================] - 44s 4ms/step - loss: 0.5666 - accuracy: 0.6944 - precision: 0.6909 - recall: 0.7082 - val_loss: 0.6810 - val_accuracy: 0.6191 - val_precision: 0.2437 - val_recall: 0.4829\n",
      "Epoch 15/20\n",
      "11931/11931 [==============================] - 44s 4ms/step - loss: 0.5665 - accuracy: 0.6938 - precision: 0.6916 - recall: 0.7016 - val_loss: 0.6306 - val_accuracy: 0.6509 - val_precision: 0.2627 - val_recall: 0.4051\n",
      "Epoch 16/20\n",
      "11931/11931 [==============================] - 44s 4ms/step - loss: 0.5657 - accuracy: 0.6949 - precision: 0.6909 - recall: 0.7076 - val_loss: 0.6371 - val_accuracy: 0.6418 - val_precision: 0.2566 - val_recall: 0.4382\n",
      "Epoch 17/20\n",
      "11931/11931 [==============================] - 43s 4ms/step - loss: 0.5651 - accuracy: 0.6950 - precision: 0.6913 - recall: 0.7041 - val_loss: 0.6348 - val_accuracy: 0.6437 - val_precision: 0.2572 - val_recall: 0.4173\n",
      "Epoch 18/20\n",
      "11931/11931 [==============================] - 44s 4ms/step - loss: 0.5641 - accuracy: 0.6961 - precision: 0.6930 - recall: 0.7045 - val_loss: 0.6503 - val_accuracy: 0.6378 - val_precision: 0.2539 - val_recall: 0.4567\n",
      "Epoch 19/20\n",
      "11931/11931 [==============================] - 44s 4ms/step - loss: 0.5637 - accuracy: 0.6972 - precision: 0.6952 - recall: 0.7104 - val_loss: 0.6461 - val_accuracy: 0.6370 - val_precision: 0.2531 - val_recall: 0.4509\n",
      "Epoch 20/20\n",
      "11931/11931 [==============================] - 43s 4ms/step - loss: 0.5629 - accuracy: 0.6973 - precision: 0.6920 - recall: 0.7114 - val_loss: 0.6543 - val_accuracy: 0.6315 - val_precision: 0.2501 - val_recall: 0.4654\n"
     ]
    }
   ],
   "source": [
    "skf = StratifiedKFold(n_splits = 5, random_state = 7, shuffle = True)\n",
    "fold = 1\n",
    "for train_index, val_index in skf.split(np.zeros(len(X_rplp_cv)),y_rplp_cv):\n",
    "    print(\"****Modelling Starts*****\")\n",
    "\n",
    "    X_rplp_train_cv = X_rplp_cv[train_index]\n",
    "    X_rplp_test_cv = X_rplp_cv[val_index]\n",
    "    \n",
    "    y_rplp_train_cv = y_rplp_cv[train_index]\n",
    "    y_rplp_test_cv = y_rplp_cv[val_index]\n",
    "    \n",
    "\n",
    "    #transforming the data - \n",
    "    \n",
    "    rus = RandomUnderSampler(random_state=0)\n",
    "    X_rplp_train_resampled, y_rplp_train_resampled = rus.fit_resample(X_rplp_train_cv, y_rplp_train_cv)\n",
    "#     print(X_train_resampled.shape, y_train_resampled.shape)\n",
    "#     print(type(X_train_resampled), type(y_train_resampled))\n",
    "    \n",
    "    X_train_scaled = normalizeData(X_rplp_train_resampled)\n",
    "    X_test_scaled = normalizeData(X_rplp_test_cv)\n",
    "    X_scaled = normalizeData(X_rplp_cv)\n",
    "    \n",
    "    X_train_conv1D = np.expand_dims(X_train_scaled, axis=2)\n",
    "    X_test_conv1D = np.expand_dims(X_test_scaled, axis=2)\n",
    "    \n",
    "#     print(X_train_conv1D.shape, X_test_conv1D.shape, y_plp_train_resampled.shape, y_plp_test_cv.shape)\n",
    "    \n",
    "    #model.fit(X_train, y_train, batch_size=32, epochs=20, validation_data=(X_test, y_test))\n",
    "    hist = model.fit(X_train_conv1D, y_rplp_train_resampled, batch_size=32, epochs=20, validation_data=(X_test_conv1D, y_rplp_test_cv))\n",
    "#     break\n",
    "    \n",
    "    fold += 1"
   ]
  },
  {
   "cell_type": "code",
   "execution_count": 97,
   "metadata": {},
   "outputs": [
    {
     "name": "stdout",
     "output_type": "stream",
     "text": [
      "0.6438473492860795 0.2578481823205948 0.4377807155251503\n"
     ]
    }
   ],
   "source": [
    "val_acc_mean = np.mean(hist.history['val_accuracy'])\n",
    "val_precision_mean = np.mean(hist.history['val_precision'])\n",
    "val_recall_mean = np.mean(hist.history['val_recall'])\n",
    "print(val_acc_mean, val_precision_mean, val_recall_mean)"
   ]
  }
 ],
 "metadata": {
  "kernelspec": {
   "display_name": "Python 3",
   "language": "python",
   "name": "python3"
  },
  "language_info": {
   "codemirror_mode": {
    "name": "ipython",
    "version": 3
   },
   "file_extension": ".py",
   "mimetype": "text/x-python",
   "name": "python",
   "nbconvert_exporter": "python",
   "pygments_lexer": "ipython3",
   "version": "3.7.10"
  }
 },
 "nbformat": 4,
 "nbformat_minor": 4
}
